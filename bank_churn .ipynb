{
 "cells": [
  {
   "cell_type": "code",
   "execution_count": 45,
   "metadata": {},
   "outputs": [
    {
     "name": "stdout",
     "output_type": "stream",
     "text": [
      "<class 'pandas.core.frame.DataFrame'>\n",
      "Int64Index: 1000 entries, 0 to 999\n",
      "Data columns (total 10 columns):\n",
      " #   Column           Non-Null Count  Dtype  \n",
      "---  ------           --------------  -----  \n",
      " 0   CreditScore      1000 non-null   int64  \n",
      " 1   Gender           1000 non-null   object \n",
      " 2   Age              1000 non-null   int64  \n",
      " 3   Tenure           1000 non-null   int64  \n",
      " 4   Balance          1000 non-null   float64\n",
      " 5   NumOfProducts    1000 non-null   int64  \n",
      " 6   HasCard          1000 non-null   int64  \n",
      " 7   IsActive         1000 non-null   int64  \n",
      " 8   EstimatedSalary  1000 non-null   float64\n",
      " 9   Exit             1000 non-null   int64  \n",
      "dtypes: float64(2), int64(7), object(1)\n",
      "memory usage: 85.9+ KB\n",
      "\n",
      "shape of df => (1000, 10)\n",
      "df has null values ? => False\n"
     ]
    }
   ],
   "source": [
    "import pandas as p\n",
    "import numpy as np\n",
    "import plotly as py\n",
    "import sklearn as sk\n",
    "from sklearn import svm\n",
    "from sklearn.preprocessing import StandardScaler\n",
    "from sklearn.model_selection import train_test_split,cross_val_score,GridSearchCV,validation_curve,StratifiedKFold\n",
    "from sklearn.metrics import confusion_matrix,roc_curve,precision_score,precision_recall_curve,auc,recall_score,plot_precision_recall_curve\n",
    "import plotly.express as px\n",
    "import plotly.io as pio\n",
    "import plotly.graph_objects as go\n",
    "import chart_studio.tools as tls\n",
    "\n",
    "df=p.read_csv('bank_churning_dataset.csv',index_col=0)\n",
    "\n",
    "df.info()\n",
    "print('\\nshape of df =>',df.shape)\n",
    "print('df has null values ? =>',df.isnull().values.any())\n",
    "\n"
   ]
  },
  {
   "cell_type": "code",
   "execution_count": 46,
   "metadata": {},
   "outputs": [
    {
     "data": {
      "text/html": [
       "<div>\n",
       "<style scoped>\n",
       "    .dataframe tbody tr th:only-of-type {\n",
       "        vertical-align: middle;\n",
       "    }\n",
       "\n",
       "    .dataframe tbody tr th {\n",
       "        vertical-align: top;\n",
       "    }\n",
       "\n",
       "    .dataframe thead th {\n",
       "        text-align: right;\n",
       "    }\n",
       "</style>\n",
       "<table border=\"1\" class=\"dataframe\">\n",
       "  <thead>\n",
       "    <tr style=\"text-align: right;\">\n",
       "      <th></th>\n",
       "      <th>CreditScore</th>\n",
       "      <th>Gender</th>\n",
       "      <th>Age</th>\n",
       "      <th>Tenure</th>\n",
       "      <th>Balance</th>\n",
       "      <th>NumOfProducts</th>\n",
       "      <th>HasCard</th>\n",
       "      <th>IsActive</th>\n",
       "      <th>EstimatedSalary</th>\n",
       "      <th>Exit</th>\n",
       "    </tr>\n",
       "  </thead>\n",
       "  <tbody>\n",
       "    <tr>\n",
       "      <th>0</th>\n",
       "      <td>619</td>\n",
       "      <td>Female</td>\n",
       "      <td>42</td>\n",
       "      <td>2</td>\n",
       "      <td>0.00</td>\n",
       "      <td>1</td>\n",
       "      <td>1</td>\n",
       "      <td>1</td>\n",
       "      <td>101348.88</td>\n",
       "      <td>1</td>\n",
       "    </tr>\n",
       "    <tr>\n",
       "      <th>1</th>\n",
       "      <td>608</td>\n",
       "      <td>Female</td>\n",
       "      <td>41</td>\n",
       "      <td>1</td>\n",
       "      <td>83807.86</td>\n",
       "      <td>1</td>\n",
       "      <td>0</td>\n",
       "      <td>1</td>\n",
       "      <td>112542.58</td>\n",
       "      <td>0</td>\n",
       "    </tr>\n",
       "    <tr>\n",
       "      <th>2</th>\n",
       "      <td>502</td>\n",
       "      <td>Female</td>\n",
       "      <td>42</td>\n",
       "      <td>8</td>\n",
       "      <td>159660.80</td>\n",
       "      <td>3</td>\n",
       "      <td>1</td>\n",
       "      <td>0</td>\n",
       "      <td>113931.57</td>\n",
       "      <td>1</td>\n",
       "    </tr>\n",
       "    <tr>\n",
       "      <th>3</th>\n",
       "      <td>699</td>\n",
       "      <td>Female</td>\n",
       "      <td>39</td>\n",
       "      <td>1</td>\n",
       "      <td>0.00</td>\n",
       "      <td>2</td>\n",
       "      <td>0</td>\n",
       "      <td>0</td>\n",
       "      <td>93826.63</td>\n",
       "      <td>0</td>\n",
       "    </tr>\n",
       "    <tr>\n",
       "      <th>4</th>\n",
       "      <td>850</td>\n",
       "      <td>Female</td>\n",
       "      <td>43</td>\n",
       "      <td>2</td>\n",
       "      <td>125510.82</td>\n",
       "      <td>1</td>\n",
       "      <td>1</td>\n",
       "      <td>1</td>\n",
       "      <td>79084.10</td>\n",
       "      <td>0</td>\n",
       "    </tr>\n",
       "  </tbody>\n",
       "</table>\n",
       "</div>"
      ],
      "text/plain": [
       "   CreditScore  Gender  Age  Tenure    Balance  NumOfProducts  HasCard  \\\n",
       "0          619  Female   42       2       0.00              1        1   \n",
       "1          608  Female   41       1   83807.86              1        0   \n",
       "2          502  Female   42       8  159660.80              3        1   \n",
       "3          699  Female   39       1       0.00              2        0   \n",
       "4          850  Female   43       2  125510.82              1        1   \n",
       "\n",
       "   IsActive  EstimatedSalary  Exit  \n",
       "0         1        101348.88     1  \n",
       "1         1        112542.58     0  \n",
       "2         0        113931.57     1  \n",
       "3         0         93826.63     0  \n",
       "4         1         79084.10     0  "
      ]
     },
     "execution_count": 46,
     "metadata": {},
     "output_type": "execute_result"
    }
   ],
   "source": [
    "df.head()\n"
   ]
  },
  {
   "cell_type": "code",
   "execution_count": 47,
   "metadata": {},
   "outputs": [
    {
     "data": {
      "application/vnd.plotly.v1+json": {
       "config": {
        "plotlyServerURL": "https://plotly.com"
       },
       "data": [
        {
         "coloraxis": "coloraxis",
         "hovertemplate": "x: %{x}<br>y: %{y}<br>color: %{z}<extra></extra>",
         "type": "heatmap",
         "x": [
          "CreditScore",
          "Age",
          "Tenure",
          "Balance",
          "NumOfProducts",
          "HasCard",
          "IsActive",
          "EstimatedSalary",
          "Exit"
         ],
         "y": [
          "CreditScore",
          "Age",
          "Tenure",
          "Balance",
          "NumOfProducts",
          "HasCard",
          "IsActive",
          "EstimatedSalary",
          "Exit"
         ],
         "z": [
          [
           1,
           -0.03171757233894527,
           -0.010517163894356283,
           0.05769563171012833,
           -0.0040782402563097914,
           0.001395055393335786,
           0.03618530971288208,
           0.013437999642581659,
           -0.06477632812910859
          ],
          [
           -0.03171757233894527,
           1,
           -0.05495015382731792,
           -0.014981303753791548,
           -0.05601682343900042,
           -0.026709819048235484,
           0.1178805800716161,
           0.014976306004990574,
           0.29606936208302836
          ],
          [
           -0.010517163894356283,
           -0.05495015382731792,
           1,
           -0.04183616614555675,
           0.06808658472976127,
           0.04307768668579469,
           -0.055773677930325026,
           0.02078472238496803,
           -0.060601922396444775
          ],
          [
           0.05769563171012833,
           -0.014981303753791548,
           -0.04183616614555675,
           1,
           -0.32297875461627273,
           0.016855171001143726,
           -0.022176476420973836,
           -0.028980805848336653,
           0.09823299742342767
          ],
          [
           -0.0040782402563097914,
           -0.05601682343900042,
           0.06808658472976127,
           -0.32297875461627273,
           1,
           -0.004099276952454421,
           0.030584555398576307,
           0.03879207566753399,
           -0.05664405839021643
          ],
          [
           0.001395055393335786,
           -0.026709819048235484,
           0.04307768668579469,
           0.016855171001143726,
           -0.004099276952454421,
           1,
           -0.021131083902463436,
           -0.07723596386343426,
           0.0031933742670679963
          ],
          [
           0.03618530971288208,
           0.1178805800716161,
           -0.055773677930325026,
           -0.022176476420973836,
           0.030584555398576307,
           -0.021131083902463436,
           1,
           0.013601110092423336,
           -0.2126364216223609
          ],
          [
           0.013437999642581659,
           0.014976306004990574,
           0.02078472238496803,
           -0.028980805848336653,
           0.03879207566753399,
           -0.07723596386343426,
           0.013601110092423336,
           1,
           -0.011813656601131274
          ],
          [
           -0.06477632812910859,
           0.29606936208302836,
           -0.060601922396444775,
           0.09823299742342767,
           -0.05664405839021643,
           0.0031933742670679963,
           -0.2126364216223609,
           -0.011813656601131274,
           1
          ]
         ]
        }
       ],
       "layout": {
        "coloraxis": {
         "colorscale": [
          [
           0,
           "#0d0887"
          ],
          [
           0.1111111111111111,
           "#46039f"
          ],
          [
           0.2222222222222222,
           "#7201a8"
          ],
          [
           0.3333333333333333,
           "#9c179e"
          ],
          [
           0.4444444444444444,
           "#bd3786"
          ],
          [
           0.5555555555555556,
           "#d8576b"
          ],
          [
           0.6666666666666666,
           "#ed7953"
          ],
          [
           0.7777777777777778,
           "#fb9f3a"
          ],
          [
           0.8888888888888888,
           "#fdca26"
          ],
          [
           1,
           "#f0f921"
          ]
         ]
        },
        "margin": {
         "t": 60
        },
        "template": {
         "data": {
          "bar": [
           {
            "error_x": {
             "color": "#2a3f5f"
            },
            "error_y": {
             "color": "#2a3f5f"
            },
            "marker": {
             "line": {
              "color": "#E5ECF6",
              "width": 0.5
             }
            },
            "type": "bar"
           }
          ],
          "barpolar": [
           {
            "marker": {
             "line": {
              "color": "#E5ECF6",
              "width": 0.5
             }
            },
            "type": "barpolar"
           }
          ],
          "carpet": [
           {
            "aaxis": {
             "endlinecolor": "#2a3f5f",
             "gridcolor": "white",
             "linecolor": "white",
             "minorgridcolor": "white",
             "startlinecolor": "#2a3f5f"
            },
            "baxis": {
             "endlinecolor": "#2a3f5f",
             "gridcolor": "white",
             "linecolor": "white",
             "minorgridcolor": "white",
             "startlinecolor": "#2a3f5f"
            },
            "type": "carpet"
           }
          ],
          "choropleth": [
           {
            "colorbar": {
             "outlinewidth": 0,
             "ticks": ""
            },
            "type": "choropleth"
           }
          ],
          "contour": [
           {
            "colorbar": {
             "outlinewidth": 0,
             "ticks": ""
            },
            "colorscale": [
             [
              0,
              "#0d0887"
             ],
             [
              0.1111111111111111,
              "#46039f"
             ],
             [
              0.2222222222222222,
              "#7201a8"
             ],
             [
              0.3333333333333333,
              "#9c179e"
             ],
             [
              0.4444444444444444,
              "#bd3786"
             ],
             [
              0.5555555555555556,
              "#d8576b"
             ],
             [
              0.6666666666666666,
              "#ed7953"
             ],
             [
              0.7777777777777778,
              "#fb9f3a"
             ],
             [
              0.8888888888888888,
              "#fdca26"
             ],
             [
              1,
              "#f0f921"
             ]
            ],
            "type": "contour"
           }
          ],
          "contourcarpet": [
           {
            "colorbar": {
             "outlinewidth": 0,
             "ticks": ""
            },
            "type": "contourcarpet"
           }
          ],
          "heatmap": [
           {
            "colorbar": {
             "outlinewidth": 0,
             "ticks": ""
            },
            "colorscale": [
             [
              0,
              "#0d0887"
             ],
             [
              0.1111111111111111,
              "#46039f"
             ],
             [
              0.2222222222222222,
              "#7201a8"
             ],
             [
              0.3333333333333333,
              "#9c179e"
             ],
             [
              0.4444444444444444,
              "#bd3786"
             ],
             [
              0.5555555555555556,
              "#d8576b"
             ],
             [
              0.6666666666666666,
              "#ed7953"
             ],
             [
              0.7777777777777778,
              "#fb9f3a"
             ],
             [
              0.8888888888888888,
              "#fdca26"
             ],
             [
              1,
              "#f0f921"
             ]
            ],
            "type": "heatmap"
           }
          ],
          "heatmapgl": [
           {
            "colorbar": {
             "outlinewidth": 0,
             "ticks": ""
            },
            "colorscale": [
             [
              0,
              "#0d0887"
             ],
             [
              0.1111111111111111,
              "#46039f"
             ],
             [
              0.2222222222222222,
              "#7201a8"
             ],
             [
              0.3333333333333333,
              "#9c179e"
             ],
             [
              0.4444444444444444,
              "#bd3786"
             ],
             [
              0.5555555555555556,
              "#d8576b"
             ],
             [
              0.6666666666666666,
              "#ed7953"
             ],
             [
              0.7777777777777778,
              "#fb9f3a"
             ],
             [
              0.8888888888888888,
              "#fdca26"
             ],
             [
              1,
              "#f0f921"
             ]
            ],
            "type": "heatmapgl"
           }
          ],
          "histogram": [
           {
            "marker": {
             "colorbar": {
              "outlinewidth": 0,
              "ticks": ""
             }
            },
            "type": "histogram"
           }
          ],
          "histogram2d": [
           {
            "colorbar": {
             "outlinewidth": 0,
             "ticks": ""
            },
            "colorscale": [
             [
              0,
              "#0d0887"
             ],
             [
              0.1111111111111111,
              "#46039f"
             ],
             [
              0.2222222222222222,
              "#7201a8"
             ],
             [
              0.3333333333333333,
              "#9c179e"
             ],
             [
              0.4444444444444444,
              "#bd3786"
             ],
             [
              0.5555555555555556,
              "#d8576b"
             ],
             [
              0.6666666666666666,
              "#ed7953"
             ],
             [
              0.7777777777777778,
              "#fb9f3a"
             ],
             [
              0.8888888888888888,
              "#fdca26"
             ],
             [
              1,
              "#f0f921"
             ]
            ],
            "type": "histogram2d"
           }
          ],
          "histogram2dcontour": [
           {
            "colorbar": {
             "outlinewidth": 0,
             "ticks": ""
            },
            "colorscale": [
             [
              0,
              "#0d0887"
             ],
             [
              0.1111111111111111,
              "#46039f"
             ],
             [
              0.2222222222222222,
              "#7201a8"
             ],
             [
              0.3333333333333333,
              "#9c179e"
             ],
             [
              0.4444444444444444,
              "#bd3786"
             ],
             [
              0.5555555555555556,
              "#d8576b"
             ],
             [
              0.6666666666666666,
              "#ed7953"
             ],
             [
              0.7777777777777778,
              "#fb9f3a"
             ],
             [
              0.8888888888888888,
              "#fdca26"
             ],
             [
              1,
              "#f0f921"
             ]
            ],
            "type": "histogram2dcontour"
           }
          ],
          "mesh3d": [
           {
            "colorbar": {
             "outlinewidth": 0,
             "ticks": ""
            },
            "type": "mesh3d"
           }
          ],
          "parcoords": [
           {
            "line": {
             "colorbar": {
              "outlinewidth": 0,
              "ticks": ""
             }
            },
            "type": "parcoords"
           }
          ],
          "pie": [
           {
            "automargin": true,
            "type": "pie"
           }
          ],
          "scatter": [
           {
            "marker": {
             "colorbar": {
              "outlinewidth": 0,
              "ticks": ""
             }
            },
            "type": "scatter"
           }
          ],
          "scatter3d": [
           {
            "line": {
             "colorbar": {
              "outlinewidth": 0,
              "ticks": ""
             }
            },
            "marker": {
             "colorbar": {
              "outlinewidth": 0,
              "ticks": ""
             }
            },
            "type": "scatter3d"
           }
          ],
          "scattercarpet": [
           {
            "marker": {
             "colorbar": {
              "outlinewidth": 0,
              "ticks": ""
             }
            },
            "type": "scattercarpet"
           }
          ],
          "scattergeo": [
           {
            "marker": {
             "colorbar": {
              "outlinewidth": 0,
              "ticks": ""
             }
            },
            "type": "scattergeo"
           }
          ],
          "scattergl": [
           {
            "marker": {
             "colorbar": {
              "outlinewidth": 0,
              "ticks": ""
             }
            },
            "type": "scattergl"
           }
          ],
          "scattermapbox": [
           {
            "marker": {
             "colorbar": {
              "outlinewidth": 0,
              "ticks": ""
             }
            },
            "type": "scattermapbox"
           }
          ],
          "scatterpolar": [
           {
            "marker": {
             "colorbar": {
              "outlinewidth": 0,
              "ticks": ""
             }
            },
            "type": "scatterpolar"
           }
          ],
          "scatterpolargl": [
           {
            "marker": {
             "colorbar": {
              "outlinewidth": 0,
              "ticks": ""
             }
            },
            "type": "scatterpolargl"
           }
          ],
          "scatterternary": [
           {
            "marker": {
             "colorbar": {
              "outlinewidth": 0,
              "ticks": ""
             }
            },
            "type": "scatterternary"
           }
          ],
          "surface": [
           {
            "colorbar": {
             "outlinewidth": 0,
             "ticks": ""
            },
            "colorscale": [
             [
              0,
              "#0d0887"
             ],
             [
              0.1111111111111111,
              "#46039f"
             ],
             [
              0.2222222222222222,
              "#7201a8"
             ],
             [
              0.3333333333333333,
              "#9c179e"
             ],
             [
              0.4444444444444444,
              "#bd3786"
             ],
             [
              0.5555555555555556,
              "#d8576b"
             ],
             [
              0.6666666666666666,
              "#ed7953"
             ],
             [
              0.7777777777777778,
              "#fb9f3a"
             ],
             [
              0.8888888888888888,
              "#fdca26"
             ],
             [
              1,
              "#f0f921"
             ]
            ],
            "type": "surface"
           }
          ],
          "table": [
           {
            "cells": {
             "fill": {
              "color": "#EBF0F8"
             },
             "line": {
              "color": "white"
             }
            },
            "header": {
             "fill": {
              "color": "#C8D4E3"
             },
             "line": {
              "color": "white"
             }
            },
            "type": "table"
           }
          ]
         },
         "layout": {
          "annotationdefaults": {
           "arrowcolor": "#2a3f5f",
           "arrowhead": 0,
           "arrowwidth": 1
          },
          "coloraxis": {
           "colorbar": {
            "outlinewidth": 0,
            "ticks": ""
           }
          },
          "colorscale": {
           "diverging": [
            [
             0,
             "#8e0152"
            ],
            [
             0.1,
             "#c51b7d"
            ],
            [
             0.2,
             "#de77ae"
            ],
            [
             0.3,
             "#f1b6da"
            ],
            [
             0.4,
             "#fde0ef"
            ],
            [
             0.5,
             "#f7f7f7"
            ],
            [
             0.6,
             "#e6f5d0"
            ],
            [
             0.7,
             "#b8e186"
            ],
            [
             0.8,
             "#7fbc41"
            ],
            [
             0.9,
             "#4d9221"
            ],
            [
             1,
             "#276419"
            ]
           ],
           "sequential": [
            [
             0,
             "#0d0887"
            ],
            [
             0.1111111111111111,
             "#46039f"
            ],
            [
             0.2222222222222222,
             "#7201a8"
            ],
            [
             0.3333333333333333,
             "#9c179e"
            ],
            [
             0.4444444444444444,
             "#bd3786"
            ],
            [
             0.5555555555555556,
             "#d8576b"
            ],
            [
             0.6666666666666666,
             "#ed7953"
            ],
            [
             0.7777777777777778,
             "#fb9f3a"
            ],
            [
             0.8888888888888888,
             "#fdca26"
            ],
            [
             1,
             "#f0f921"
            ]
           ],
           "sequentialminus": [
            [
             0,
             "#0d0887"
            ],
            [
             0.1111111111111111,
             "#46039f"
            ],
            [
             0.2222222222222222,
             "#7201a8"
            ],
            [
             0.3333333333333333,
             "#9c179e"
            ],
            [
             0.4444444444444444,
             "#bd3786"
            ],
            [
             0.5555555555555556,
             "#d8576b"
            ],
            [
             0.6666666666666666,
             "#ed7953"
            ],
            [
             0.7777777777777778,
             "#fb9f3a"
            ],
            [
             0.8888888888888888,
             "#fdca26"
            ],
            [
             1,
             "#f0f921"
            ]
           ]
          },
          "colorway": [
           "#636efa",
           "#EF553B",
           "#00cc96",
           "#ab63fa",
           "#FFA15A",
           "#19d3f3",
           "#FF6692",
           "#B6E880",
           "#FF97FF",
           "#FECB52"
          ],
          "font": {
           "color": "#2a3f5f"
          },
          "geo": {
           "bgcolor": "white",
           "lakecolor": "white",
           "landcolor": "#E5ECF6",
           "showlakes": true,
           "showland": true,
           "subunitcolor": "white"
          },
          "hoverlabel": {
           "align": "left"
          },
          "hovermode": "closest",
          "mapbox": {
           "style": "light"
          },
          "paper_bgcolor": "white",
          "plot_bgcolor": "#E5ECF6",
          "polar": {
           "angularaxis": {
            "gridcolor": "white",
            "linecolor": "white",
            "ticks": ""
           },
           "bgcolor": "#E5ECF6",
           "radialaxis": {
            "gridcolor": "white",
            "linecolor": "white",
            "ticks": ""
           }
          },
          "scene": {
           "xaxis": {
            "backgroundcolor": "#E5ECF6",
            "gridcolor": "white",
            "gridwidth": 2,
            "linecolor": "white",
            "showbackground": true,
            "ticks": "",
            "zerolinecolor": "white"
           },
           "yaxis": {
            "backgroundcolor": "#E5ECF6",
            "gridcolor": "white",
            "gridwidth": 2,
            "linecolor": "white",
            "showbackground": true,
            "ticks": "",
            "zerolinecolor": "white"
           },
           "zaxis": {
            "backgroundcolor": "#E5ECF6",
            "gridcolor": "white",
            "gridwidth": 2,
            "linecolor": "white",
            "showbackground": true,
            "ticks": "",
            "zerolinecolor": "white"
           }
          },
          "shapedefaults": {
           "line": {
            "color": "#2a3f5f"
           }
          },
          "ternary": {
           "aaxis": {
            "gridcolor": "white",
            "linecolor": "white",
            "ticks": ""
           },
           "baxis": {
            "gridcolor": "white",
            "linecolor": "white",
            "ticks": ""
           },
           "bgcolor": "#E5ECF6",
           "caxis": {
            "gridcolor": "white",
            "linecolor": "white",
            "ticks": ""
           }
          },
          "title": {
           "x": 0.05
          },
          "xaxis": {
           "automargin": true,
           "gridcolor": "white",
           "linecolor": "white",
           "ticks": "",
           "title": {
            "standoff": 15
           },
           "zerolinecolor": "white",
           "zerolinewidth": 2
          },
          "yaxis": {
           "automargin": true,
           "gridcolor": "white",
           "linecolor": "white",
           "ticks": "",
           "title": {
            "standoff": 15
           },
           "zerolinecolor": "white",
           "zerolinewidth": 2
          }
         }
        },
        "xaxis": {
         "constrain": "domain",
         "scaleanchor": "y"
        },
        "yaxis": {
         "autorange": "reversed",
         "constrain": "domain"
        }
       }
      },
      "text/html": [
       "<div>\n",
       "        \n",
       "        \n",
       "            <div id=\"6ba6dfe5-1e62-45ca-918e-cf80199b2106\" class=\"plotly-graph-div\" style=\"height:525px; width:100%;\"></div>\n",
       "            <script type=\"text/javascript\">\n",
       "                require([\"plotly\"], function(Plotly) {\n",
       "                    window.PLOTLYENV=window.PLOTLYENV || {};\n",
       "                    \n",
       "                if (document.getElementById(\"6ba6dfe5-1e62-45ca-918e-cf80199b2106\")) {\n",
       "                    Plotly.newPlot(\n",
       "                        '6ba6dfe5-1e62-45ca-918e-cf80199b2106',\n",
       "                        [{\"coloraxis\": \"coloraxis\", \"hovertemplate\": \"x: %{x}<br>y: %{y}<br>color: %{z}<extra></extra>\", \"type\": \"heatmap\", \"x\": [\"CreditScore\", \"Age\", \"Tenure\", \"Balance\", \"NumOfProducts\", \"HasCard\", \"IsActive\", \"EstimatedSalary\", \"Exit\"], \"y\": [\"CreditScore\", \"Age\", \"Tenure\", \"Balance\", \"NumOfProducts\", \"HasCard\", \"IsActive\", \"EstimatedSalary\", \"Exit\"], \"z\": [[1.0, -0.03171757233894527, -0.010517163894356283, 0.05769563171012833, -0.0040782402563097914, 0.001395055393335786, 0.03618530971288208, 0.013437999642581659, -0.06477632812910859], [-0.03171757233894527, 1.0, -0.05495015382731792, -0.014981303753791548, -0.05601682343900042, -0.026709819048235484, 0.1178805800716161, 0.014976306004990574, 0.29606936208302836], [-0.010517163894356283, -0.05495015382731792, 1.0, -0.04183616614555675, 0.06808658472976127, 0.04307768668579469, -0.055773677930325026, 0.02078472238496803, -0.060601922396444775], [0.05769563171012833, -0.014981303753791548, -0.04183616614555675, 1.0, -0.32297875461627273, 0.016855171001143726, -0.022176476420973836, -0.028980805848336653, 0.09823299742342767], [-0.0040782402563097914, -0.05601682343900042, 0.06808658472976127, -0.32297875461627273, 1.0, -0.004099276952454421, 0.030584555398576307, 0.03879207566753399, -0.05664405839021643], [0.001395055393335786, -0.026709819048235484, 0.04307768668579469, 0.016855171001143726, -0.004099276952454421, 1.0, -0.021131083902463436, -0.07723596386343426, 0.0031933742670679963], [0.03618530971288208, 0.1178805800716161, -0.055773677930325026, -0.022176476420973836, 0.030584555398576307, -0.021131083902463436, 1.0, 0.013601110092423336, -0.2126364216223609], [0.013437999642581659, 0.014976306004990574, 0.02078472238496803, -0.028980805848336653, 0.03879207566753399, -0.07723596386343426, 0.013601110092423336, 1.0, -0.011813656601131274], [-0.06477632812910859, 0.29606936208302836, -0.060601922396444775, 0.09823299742342767, -0.05664405839021643, 0.0031933742670679963, -0.2126364216223609, -0.011813656601131274, 1.0]]}],\n",
       "                        {\"coloraxis\": {\"colorscale\": [[0.0, \"#0d0887\"], [0.1111111111111111, \"#46039f\"], [0.2222222222222222, \"#7201a8\"], [0.3333333333333333, \"#9c179e\"], [0.4444444444444444, \"#bd3786\"], [0.5555555555555556, \"#d8576b\"], [0.6666666666666666, \"#ed7953\"], [0.7777777777777778, \"#fb9f3a\"], [0.8888888888888888, \"#fdca26\"], [1.0, \"#f0f921\"]]}, \"margin\": {\"t\": 60}, \"template\": {\"data\": {\"bar\": [{\"error_x\": {\"color\": \"#2a3f5f\"}, \"error_y\": {\"color\": \"#2a3f5f\"}, \"marker\": {\"line\": {\"color\": \"#E5ECF6\", \"width\": 0.5}}, \"type\": \"bar\"}], \"barpolar\": [{\"marker\": {\"line\": {\"color\": \"#E5ECF6\", \"width\": 0.5}}, \"type\": \"barpolar\"}], \"carpet\": [{\"aaxis\": {\"endlinecolor\": \"#2a3f5f\", \"gridcolor\": \"white\", \"linecolor\": \"white\", \"minorgridcolor\": \"white\", \"startlinecolor\": \"#2a3f5f\"}, \"baxis\": {\"endlinecolor\": \"#2a3f5f\", \"gridcolor\": \"white\", \"linecolor\": \"white\", \"minorgridcolor\": \"white\", \"startlinecolor\": \"#2a3f5f\"}, \"type\": \"carpet\"}], \"choropleth\": [{\"colorbar\": {\"outlinewidth\": 0, \"ticks\": \"\"}, \"type\": \"choropleth\"}], \"contour\": [{\"colorbar\": {\"outlinewidth\": 0, \"ticks\": \"\"}, \"colorscale\": [[0.0, \"#0d0887\"], [0.1111111111111111, \"#46039f\"], [0.2222222222222222, \"#7201a8\"], [0.3333333333333333, \"#9c179e\"], [0.4444444444444444, \"#bd3786\"], [0.5555555555555556, \"#d8576b\"], [0.6666666666666666, \"#ed7953\"], [0.7777777777777778, \"#fb9f3a\"], [0.8888888888888888, \"#fdca26\"], [1.0, \"#f0f921\"]], \"type\": \"contour\"}], \"contourcarpet\": [{\"colorbar\": {\"outlinewidth\": 0, \"ticks\": \"\"}, \"type\": \"contourcarpet\"}], \"heatmap\": [{\"colorbar\": {\"outlinewidth\": 0, \"ticks\": \"\"}, \"colorscale\": [[0.0, \"#0d0887\"], [0.1111111111111111, \"#46039f\"], [0.2222222222222222, \"#7201a8\"], [0.3333333333333333, \"#9c179e\"], [0.4444444444444444, \"#bd3786\"], [0.5555555555555556, \"#d8576b\"], [0.6666666666666666, \"#ed7953\"], [0.7777777777777778, \"#fb9f3a\"], [0.8888888888888888, \"#fdca26\"], [1.0, \"#f0f921\"]], \"type\": \"heatmap\"}], \"heatmapgl\": [{\"colorbar\": {\"outlinewidth\": 0, \"ticks\": \"\"}, \"colorscale\": [[0.0, \"#0d0887\"], [0.1111111111111111, \"#46039f\"], [0.2222222222222222, \"#7201a8\"], [0.3333333333333333, \"#9c179e\"], [0.4444444444444444, \"#bd3786\"], [0.5555555555555556, \"#d8576b\"], [0.6666666666666666, \"#ed7953\"], [0.7777777777777778, \"#fb9f3a\"], [0.8888888888888888, \"#fdca26\"], [1.0, \"#f0f921\"]], \"type\": \"heatmapgl\"}], \"histogram\": [{\"marker\": {\"colorbar\": {\"outlinewidth\": 0, \"ticks\": \"\"}}, \"type\": \"histogram\"}], \"histogram2d\": [{\"colorbar\": {\"outlinewidth\": 0, \"ticks\": \"\"}, \"colorscale\": [[0.0, \"#0d0887\"], [0.1111111111111111, \"#46039f\"], [0.2222222222222222, \"#7201a8\"], [0.3333333333333333, \"#9c179e\"], [0.4444444444444444, \"#bd3786\"], [0.5555555555555556, \"#d8576b\"], [0.6666666666666666, \"#ed7953\"], [0.7777777777777778, \"#fb9f3a\"], [0.8888888888888888, \"#fdca26\"], [1.0, \"#f0f921\"]], \"type\": \"histogram2d\"}], \"histogram2dcontour\": [{\"colorbar\": {\"outlinewidth\": 0, \"ticks\": \"\"}, \"colorscale\": [[0.0, \"#0d0887\"], [0.1111111111111111, \"#46039f\"], [0.2222222222222222, \"#7201a8\"], [0.3333333333333333, \"#9c179e\"], [0.4444444444444444, \"#bd3786\"], [0.5555555555555556, \"#d8576b\"], [0.6666666666666666, \"#ed7953\"], [0.7777777777777778, \"#fb9f3a\"], [0.8888888888888888, \"#fdca26\"], [1.0, \"#f0f921\"]], \"type\": \"histogram2dcontour\"}], \"mesh3d\": [{\"colorbar\": {\"outlinewidth\": 0, \"ticks\": \"\"}, \"type\": \"mesh3d\"}], \"parcoords\": [{\"line\": {\"colorbar\": {\"outlinewidth\": 0, \"ticks\": \"\"}}, \"type\": \"parcoords\"}], \"pie\": [{\"automargin\": true, \"type\": \"pie\"}], \"scatter\": [{\"marker\": {\"colorbar\": {\"outlinewidth\": 0, \"ticks\": \"\"}}, \"type\": \"scatter\"}], \"scatter3d\": [{\"line\": {\"colorbar\": {\"outlinewidth\": 0, \"ticks\": \"\"}}, \"marker\": {\"colorbar\": {\"outlinewidth\": 0, \"ticks\": \"\"}}, \"type\": \"scatter3d\"}], \"scattercarpet\": [{\"marker\": {\"colorbar\": {\"outlinewidth\": 0, \"ticks\": \"\"}}, \"type\": \"scattercarpet\"}], \"scattergeo\": [{\"marker\": {\"colorbar\": {\"outlinewidth\": 0, \"ticks\": \"\"}}, \"type\": \"scattergeo\"}], \"scattergl\": [{\"marker\": {\"colorbar\": {\"outlinewidth\": 0, \"ticks\": \"\"}}, \"type\": \"scattergl\"}], \"scattermapbox\": [{\"marker\": {\"colorbar\": {\"outlinewidth\": 0, \"ticks\": \"\"}}, \"type\": \"scattermapbox\"}], \"scatterpolar\": [{\"marker\": {\"colorbar\": {\"outlinewidth\": 0, \"ticks\": \"\"}}, \"type\": \"scatterpolar\"}], \"scatterpolargl\": [{\"marker\": {\"colorbar\": {\"outlinewidth\": 0, \"ticks\": \"\"}}, \"type\": \"scatterpolargl\"}], \"scatterternary\": [{\"marker\": {\"colorbar\": {\"outlinewidth\": 0, \"ticks\": \"\"}}, \"type\": \"scatterternary\"}], \"surface\": [{\"colorbar\": {\"outlinewidth\": 0, \"ticks\": \"\"}, \"colorscale\": [[0.0, \"#0d0887\"], [0.1111111111111111, \"#46039f\"], [0.2222222222222222, \"#7201a8\"], [0.3333333333333333, \"#9c179e\"], [0.4444444444444444, \"#bd3786\"], [0.5555555555555556, \"#d8576b\"], [0.6666666666666666, \"#ed7953\"], [0.7777777777777778, \"#fb9f3a\"], [0.8888888888888888, \"#fdca26\"], [1.0, \"#f0f921\"]], \"type\": \"surface\"}], \"table\": [{\"cells\": {\"fill\": {\"color\": \"#EBF0F8\"}, \"line\": {\"color\": \"white\"}}, \"header\": {\"fill\": {\"color\": \"#C8D4E3\"}, \"line\": {\"color\": \"white\"}}, \"type\": \"table\"}]}, \"layout\": {\"annotationdefaults\": {\"arrowcolor\": \"#2a3f5f\", \"arrowhead\": 0, \"arrowwidth\": 1}, \"coloraxis\": {\"colorbar\": {\"outlinewidth\": 0, \"ticks\": \"\"}}, \"colorscale\": {\"diverging\": [[0, \"#8e0152\"], [0.1, \"#c51b7d\"], [0.2, \"#de77ae\"], [0.3, \"#f1b6da\"], [0.4, \"#fde0ef\"], [0.5, \"#f7f7f7\"], [0.6, \"#e6f5d0\"], [0.7, \"#b8e186\"], [0.8, \"#7fbc41\"], [0.9, \"#4d9221\"], [1, \"#276419\"]], \"sequential\": [[0.0, \"#0d0887\"], [0.1111111111111111, \"#46039f\"], [0.2222222222222222, \"#7201a8\"], [0.3333333333333333, \"#9c179e\"], [0.4444444444444444, \"#bd3786\"], [0.5555555555555556, \"#d8576b\"], [0.6666666666666666, \"#ed7953\"], [0.7777777777777778, \"#fb9f3a\"], [0.8888888888888888, \"#fdca26\"], [1.0, \"#f0f921\"]], \"sequentialminus\": [[0.0, \"#0d0887\"], [0.1111111111111111, \"#46039f\"], [0.2222222222222222, \"#7201a8\"], [0.3333333333333333, \"#9c179e\"], [0.4444444444444444, \"#bd3786\"], [0.5555555555555556, \"#d8576b\"], [0.6666666666666666, \"#ed7953\"], [0.7777777777777778, \"#fb9f3a\"], [0.8888888888888888, \"#fdca26\"], [1.0, \"#f0f921\"]]}, \"colorway\": [\"#636efa\", \"#EF553B\", \"#00cc96\", \"#ab63fa\", \"#FFA15A\", \"#19d3f3\", \"#FF6692\", \"#B6E880\", \"#FF97FF\", \"#FECB52\"], \"font\": {\"color\": \"#2a3f5f\"}, \"geo\": {\"bgcolor\": \"white\", \"lakecolor\": \"white\", \"landcolor\": \"#E5ECF6\", \"showlakes\": true, \"showland\": true, \"subunitcolor\": \"white\"}, \"hoverlabel\": {\"align\": \"left\"}, \"hovermode\": \"closest\", \"mapbox\": {\"style\": \"light\"}, \"paper_bgcolor\": \"white\", \"plot_bgcolor\": \"#E5ECF6\", \"polar\": {\"angularaxis\": {\"gridcolor\": \"white\", \"linecolor\": \"white\", \"ticks\": \"\"}, \"bgcolor\": \"#E5ECF6\", \"radialaxis\": {\"gridcolor\": \"white\", \"linecolor\": \"white\", \"ticks\": \"\"}}, \"scene\": {\"xaxis\": {\"backgroundcolor\": \"#E5ECF6\", \"gridcolor\": \"white\", \"gridwidth\": 2, \"linecolor\": \"white\", \"showbackground\": true, \"ticks\": \"\", \"zerolinecolor\": \"white\"}, \"yaxis\": {\"backgroundcolor\": \"#E5ECF6\", \"gridcolor\": \"white\", \"gridwidth\": 2, \"linecolor\": \"white\", \"showbackground\": true, \"ticks\": \"\", \"zerolinecolor\": \"white\"}, \"zaxis\": {\"backgroundcolor\": \"#E5ECF6\", \"gridcolor\": \"white\", \"gridwidth\": 2, \"linecolor\": \"white\", \"showbackground\": true, \"ticks\": \"\", \"zerolinecolor\": \"white\"}}, \"shapedefaults\": {\"line\": {\"color\": \"#2a3f5f\"}}, \"ternary\": {\"aaxis\": {\"gridcolor\": \"white\", \"linecolor\": \"white\", \"ticks\": \"\"}, \"baxis\": {\"gridcolor\": \"white\", \"linecolor\": \"white\", \"ticks\": \"\"}, \"bgcolor\": \"#E5ECF6\", \"caxis\": {\"gridcolor\": \"white\", \"linecolor\": \"white\", \"ticks\": \"\"}}, \"title\": {\"x\": 0.05}, \"xaxis\": {\"automargin\": true, \"gridcolor\": \"white\", \"linecolor\": \"white\", \"ticks\": \"\", \"title\": {\"standoff\": 15}, \"zerolinecolor\": \"white\", \"zerolinewidth\": 2}, \"yaxis\": {\"automargin\": true, \"gridcolor\": \"white\", \"linecolor\": \"white\", \"ticks\": \"\", \"title\": {\"standoff\": 15}, \"zerolinecolor\": \"white\", \"zerolinewidth\": 2}}}, \"xaxis\": {\"constrain\": \"domain\", \"scaleanchor\": \"y\"}, \"yaxis\": {\"autorange\": \"reversed\", \"constrain\": \"domain\"}},\n",
       "                        {\"responsive\": true}\n",
       "                    ).then(function(){\n",
       "                            \n",
       "var gd = document.getElementById('6ba6dfe5-1e62-45ca-918e-cf80199b2106');\n",
       "var x = new MutationObserver(function (mutations, observer) {{\n",
       "        var display = window.getComputedStyle(gd).display;\n",
       "        if (!display || display === 'none') {{\n",
       "            console.log([gd, 'removed!']);\n",
       "            Plotly.purge(gd);\n",
       "            observer.disconnect();\n",
       "        }}\n",
       "}});\n",
       "\n",
       "// Listen for the removal of the full notebook cells\n",
       "var notebookContainer = gd.closest('#notebook-container');\n",
       "if (notebookContainer) {{\n",
       "    x.observe(notebookContainer, {childList: true});\n",
       "}}\n",
       "\n",
       "// Listen for the clearing of the current output cell\n",
       "var outputEl = gd.closest('.output');\n",
       "if (outputEl) {{\n",
       "    x.observe(outputEl, {childList: true});\n",
       "}}\n",
       "\n",
       "                        })\n",
       "                };\n",
       "                });\n",
       "            </script>\n",
       "        </div>"
      ]
     },
     "metadata": {},
     "output_type": "display_data"
    }
   ],
   "source": [
    "data=df.corr()\n",
    "fig= px.imshow(data,x=data.columns,y=data.columns)\n",
    "fig.show()\n"
   ]
  },
  {
   "cell_type": "code",
   "execution_count": 48,
   "metadata": {},
   "outputs": [
    {
     "data": {
      "application/vnd.plotly.v1+json": {
       "config": {
        "plotlyServerURL": "https://plotly.com"
       },
       "data": [
        {
         "labels": [
          "Exits",
          "Remaining"
         ],
         "pull": [
          0,
          0.1
         ],
         "type": "pie",
         "values": [
          204,
          796
         ]
        }
       ],
       "layout": {
        "template": {
         "data": {
          "bar": [
           {
            "error_x": {
             "color": "#2a3f5f"
            },
            "error_y": {
             "color": "#2a3f5f"
            },
            "marker": {
             "line": {
              "color": "#E5ECF6",
              "width": 0.5
             }
            },
            "type": "bar"
           }
          ],
          "barpolar": [
           {
            "marker": {
             "line": {
              "color": "#E5ECF6",
              "width": 0.5
             }
            },
            "type": "barpolar"
           }
          ],
          "carpet": [
           {
            "aaxis": {
             "endlinecolor": "#2a3f5f",
             "gridcolor": "white",
             "linecolor": "white",
             "minorgridcolor": "white",
             "startlinecolor": "#2a3f5f"
            },
            "baxis": {
             "endlinecolor": "#2a3f5f",
             "gridcolor": "white",
             "linecolor": "white",
             "minorgridcolor": "white",
             "startlinecolor": "#2a3f5f"
            },
            "type": "carpet"
           }
          ],
          "choropleth": [
           {
            "colorbar": {
             "outlinewidth": 0,
             "ticks": ""
            },
            "type": "choropleth"
           }
          ],
          "contour": [
           {
            "colorbar": {
             "outlinewidth": 0,
             "ticks": ""
            },
            "colorscale": [
             [
              0,
              "#0d0887"
             ],
             [
              0.1111111111111111,
              "#46039f"
             ],
             [
              0.2222222222222222,
              "#7201a8"
             ],
             [
              0.3333333333333333,
              "#9c179e"
             ],
             [
              0.4444444444444444,
              "#bd3786"
             ],
             [
              0.5555555555555556,
              "#d8576b"
             ],
             [
              0.6666666666666666,
              "#ed7953"
             ],
             [
              0.7777777777777778,
              "#fb9f3a"
             ],
             [
              0.8888888888888888,
              "#fdca26"
             ],
             [
              1,
              "#f0f921"
             ]
            ],
            "type": "contour"
           }
          ],
          "contourcarpet": [
           {
            "colorbar": {
             "outlinewidth": 0,
             "ticks": ""
            },
            "type": "contourcarpet"
           }
          ],
          "heatmap": [
           {
            "colorbar": {
             "outlinewidth": 0,
             "ticks": ""
            },
            "colorscale": [
             [
              0,
              "#0d0887"
             ],
             [
              0.1111111111111111,
              "#46039f"
             ],
             [
              0.2222222222222222,
              "#7201a8"
             ],
             [
              0.3333333333333333,
              "#9c179e"
             ],
             [
              0.4444444444444444,
              "#bd3786"
             ],
             [
              0.5555555555555556,
              "#d8576b"
             ],
             [
              0.6666666666666666,
              "#ed7953"
             ],
             [
              0.7777777777777778,
              "#fb9f3a"
             ],
             [
              0.8888888888888888,
              "#fdca26"
             ],
             [
              1,
              "#f0f921"
             ]
            ],
            "type": "heatmap"
           }
          ],
          "heatmapgl": [
           {
            "colorbar": {
             "outlinewidth": 0,
             "ticks": ""
            },
            "colorscale": [
             [
              0,
              "#0d0887"
             ],
             [
              0.1111111111111111,
              "#46039f"
             ],
             [
              0.2222222222222222,
              "#7201a8"
             ],
             [
              0.3333333333333333,
              "#9c179e"
             ],
             [
              0.4444444444444444,
              "#bd3786"
             ],
             [
              0.5555555555555556,
              "#d8576b"
             ],
             [
              0.6666666666666666,
              "#ed7953"
             ],
             [
              0.7777777777777778,
              "#fb9f3a"
             ],
             [
              0.8888888888888888,
              "#fdca26"
             ],
             [
              1,
              "#f0f921"
             ]
            ],
            "type": "heatmapgl"
           }
          ],
          "histogram": [
           {
            "marker": {
             "colorbar": {
              "outlinewidth": 0,
              "ticks": ""
             }
            },
            "type": "histogram"
           }
          ],
          "histogram2d": [
           {
            "colorbar": {
             "outlinewidth": 0,
             "ticks": ""
            },
            "colorscale": [
             [
              0,
              "#0d0887"
             ],
             [
              0.1111111111111111,
              "#46039f"
             ],
             [
              0.2222222222222222,
              "#7201a8"
             ],
             [
              0.3333333333333333,
              "#9c179e"
             ],
             [
              0.4444444444444444,
              "#bd3786"
             ],
             [
              0.5555555555555556,
              "#d8576b"
             ],
             [
              0.6666666666666666,
              "#ed7953"
             ],
             [
              0.7777777777777778,
              "#fb9f3a"
             ],
             [
              0.8888888888888888,
              "#fdca26"
             ],
             [
              1,
              "#f0f921"
             ]
            ],
            "type": "histogram2d"
           }
          ],
          "histogram2dcontour": [
           {
            "colorbar": {
             "outlinewidth": 0,
             "ticks": ""
            },
            "colorscale": [
             [
              0,
              "#0d0887"
             ],
             [
              0.1111111111111111,
              "#46039f"
             ],
             [
              0.2222222222222222,
              "#7201a8"
             ],
             [
              0.3333333333333333,
              "#9c179e"
             ],
             [
              0.4444444444444444,
              "#bd3786"
             ],
             [
              0.5555555555555556,
              "#d8576b"
             ],
             [
              0.6666666666666666,
              "#ed7953"
             ],
             [
              0.7777777777777778,
              "#fb9f3a"
             ],
             [
              0.8888888888888888,
              "#fdca26"
             ],
             [
              1,
              "#f0f921"
             ]
            ],
            "type": "histogram2dcontour"
           }
          ],
          "mesh3d": [
           {
            "colorbar": {
             "outlinewidth": 0,
             "ticks": ""
            },
            "type": "mesh3d"
           }
          ],
          "parcoords": [
           {
            "line": {
             "colorbar": {
              "outlinewidth": 0,
              "ticks": ""
             }
            },
            "type": "parcoords"
           }
          ],
          "pie": [
           {
            "automargin": true,
            "type": "pie"
           }
          ],
          "scatter": [
           {
            "marker": {
             "colorbar": {
              "outlinewidth": 0,
              "ticks": ""
             }
            },
            "type": "scatter"
           }
          ],
          "scatter3d": [
           {
            "line": {
             "colorbar": {
              "outlinewidth": 0,
              "ticks": ""
             }
            },
            "marker": {
             "colorbar": {
              "outlinewidth": 0,
              "ticks": ""
             }
            },
            "type": "scatter3d"
           }
          ],
          "scattercarpet": [
           {
            "marker": {
             "colorbar": {
              "outlinewidth": 0,
              "ticks": ""
             }
            },
            "type": "scattercarpet"
           }
          ],
          "scattergeo": [
           {
            "marker": {
             "colorbar": {
              "outlinewidth": 0,
              "ticks": ""
             }
            },
            "type": "scattergeo"
           }
          ],
          "scattergl": [
           {
            "marker": {
             "colorbar": {
              "outlinewidth": 0,
              "ticks": ""
             }
            },
            "type": "scattergl"
           }
          ],
          "scattermapbox": [
           {
            "marker": {
             "colorbar": {
              "outlinewidth": 0,
              "ticks": ""
             }
            },
            "type": "scattermapbox"
           }
          ],
          "scatterpolar": [
           {
            "marker": {
             "colorbar": {
              "outlinewidth": 0,
              "ticks": ""
             }
            },
            "type": "scatterpolar"
           }
          ],
          "scatterpolargl": [
           {
            "marker": {
             "colorbar": {
              "outlinewidth": 0,
              "ticks": ""
             }
            },
            "type": "scatterpolargl"
           }
          ],
          "scatterternary": [
           {
            "marker": {
             "colorbar": {
              "outlinewidth": 0,
              "ticks": ""
             }
            },
            "type": "scatterternary"
           }
          ],
          "surface": [
           {
            "colorbar": {
             "outlinewidth": 0,
             "ticks": ""
            },
            "colorscale": [
             [
              0,
              "#0d0887"
             ],
             [
              0.1111111111111111,
              "#46039f"
             ],
             [
              0.2222222222222222,
              "#7201a8"
             ],
             [
              0.3333333333333333,
              "#9c179e"
             ],
             [
              0.4444444444444444,
              "#bd3786"
             ],
             [
              0.5555555555555556,
              "#d8576b"
             ],
             [
              0.6666666666666666,
              "#ed7953"
             ],
             [
              0.7777777777777778,
              "#fb9f3a"
             ],
             [
              0.8888888888888888,
              "#fdca26"
             ],
             [
              1,
              "#f0f921"
             ]
            ],
            "type": "surface"
           }
          ],
          "table": [
           {
            "cells": {
             "fill": {
              "color": "#EBF0F8"
             },
             "line": {
              "color": "white"
             }
            },
            "header": {
             "fill": {
              "color": "#C8D4E3"
             },
             "line": {
              "color": "white"
             }
            },
            "type": "table"
           }
          ]
         },
         "layout": {
          "annotationdefaults": {
           "arrowcolor": "#2a3f5f",
           "arrowhead": 0,
           "arrowwidth": 1
          },
          "coloraxis": {
           "colorbar": {
            "outlinewidth": 0,
            "ticks": ""
           }
          },
          "colorscale": {
           "diverging": [
            [
             0,
             "#8e0152"
            ],
            [
             0.1,
             "#c51b7d"
            ],
            [
             0.2,
             "#de77ae"
            ],
            [
             0.3,
             "#f1b6da"
            ],
            [
             0.4,
             "#fde0ef"
            ],
            [
             0.5,
             "#f7f7f7"
            ],
            [
             0.6,
             "#e6f5d0"
            ],
            [
             0.7,
             "#b8e186"
            ],
            [
             0.8,
             "#7fbc41"
            ],
            [
             0.9,
             "#4d9221"
            ],
            [
             1,
             "#276419"
            ]
           ],
           "sequential": [
            [
             0,
             "#0d0887"
            ],
            [
             0.1111111111111111,
             "#46039f"
            ],
            [
             0.2222222222222222,
             "#7201a8"
            ],
            [
             0.3333333333333333,
             "#9c179e"
            ],
            [
             0.4444444444444444,
             "#bd3786"
            ],
            [
             0.5555555555555556,
             "#d8576b"
            ],
            [
             0.6666666666666666,
             "#ed7953"
            ],
            [
             0.7777777777777778,
             "#fb9f3a"
            ],
            [
             0.8888888888888888,
             "#fdca26"
            ],
            [
             1,
             "#f0f921"
            ]
           ],
           "sequentialminus": [
            [
             0,
             "#0d0887"
            ],
            [
             0.1111111111111111,
             "#46039f"
            ],
            [
             0.2222222222222222,
             "#7201a8"
            ],
            [
             0.3333333333333333,
             "#9c179e"
            ],
            [
             0.4444444444444444,
             "#bd3786"
            ],
            [
             0.5555555555555556,
             "#d8576b"
            ],
            [
             0.6666666666666666,
             "#ed7953"
            ],
            [
             0.7777777777777778,
             "#fb9f3a"
            ],
            [
             0.8888888888888888,
             "#fdca26"
            ],
            [
             1,
             "#f0f921"
            ]
           ]
          },
          "colorway": [
           "#636efa",
           "#EF553B",
           "#00cc96",
           "#ab63fa",
           "#FFA15A",
           "#19d3f3",
           "#FF6692",
           "#B6E880",
           "#FF97FF",
           "#FECB52"
          ],
          "font": {
           "color": "#2a3f5f"
          },
          "geo": {
           "bgcolor": "white",
           "lakecolor": "white",
           "landcolor": "#E5ECF6",
           "showlakes": true,
           "showland": true,
           "subunitcolor": "white"
          },
          "hoverlabel": {
           "align": "left"
          },
          "hovermode": "closest",
          "mapbox": {
           "style": "light"
          },
          "paper_bgcolor": "white",
          "plot_bgcolor": "#E5ECF6",
          "polar": {
           "angularaxis": {
            "gridcolor": "white",
            "linecolor": "white",
            "ticks": ""
           },
           "bgcolor": "#E5ECF6",
           "radialaxis": {
            "gridcolor": "white",
            "linecolor": "white",
            "ticks": ""
           }
          },
          "scene": {
           "xaxis": {
            "backgroundcolor": "#E5ECF6",
            "gridcolor": "white",
            "gridwidth": 2,
            "linecolor": "white",
            "showbackground": true,
            "ticks": "",
            "zerolinecolor": "white"
           },
           "yaxis": {
            "backgroundcolor": "#E5ECF6",
            "gridcolor": "white",
            "gridwidth": 2,
            "linecolor": "white",
            "showbackground": true,
            "ticks": "",
            "zerolinecolor": "white"
           },
           "zaxis": {
            "backgroundcolor": "#E5ECF6",
            "gridcolor": "white",
            "gridwidth": 2,
            "linecolor": "white",
            "showbackground": true,
            "ticks": "",
            "zerolinecolor": "white"
           }
          },
          "shapedefaults": {
           "line": {
            "color": "#2a3f5f"
           }
          },
          "ternary": {
           "aaxis": {
            "gridcolor": "white",
            "linecolor": "white",
            "ticks": ""
           },
           "baxis": {
            "gridcolor": "white",
            "linecolor": "white",
            "ticks": ""
           },
           "bgcolor": "#E5ECF6",
           "caxis": {
            "gridcolor": "white",
            "linecolor": "white",
            "ticks": ""
           }
          },
          "title": {
           "x": 0.05
          },
          "xaxis": {
           "automargin": true,
           "gridcolor": "white",
           "linecolor": "white",
           "ticks": "",
           "title": {
            "standoff": 15
           },
           "zerolinecolor": "white",
           "zerolinewidth": 2
          },
          "yaxis": {
           "automargin": true,
           "gridcolor": "white",
           "linecolor": "white",
           "ticks": "",
           "title": {
            "standoff": 15
           },
           "zerolinecolor": "white",
           "zerolinewidth": 2
          }
         }
        }
       }
      },
      "text/html": [
       "<div>\n",
       "        \n",
       "        \n",
       "            <div id=\"67f0aad7-7672-4ac7-b91b-d3855f2e15c3\" class=\"plotly-graph-div\" style=\"height:525px; width:100%;\"></div>\n",
       "            <script type=\"text/javascript\">\n",
       "                require([\"plotly\"], function(Plotly) {\n",
       "                    window.PLOTLYENV=window.PLOTLYENV || {};\n",
       "                    \n",
       "                if (document.getElementById(\"67f0aad7-7672-4ac7-b91b-d3855f2e15c3\")) {\n",
       "                    Plotly.newPlot(\n",
       "                        '67f0aad7-7672-4ac7-b91b-d3855f2e15c3',\n",
       "                        [{\"labels\": [\"Exits\", \"Remaining\"], \"pull\": [0, 0.1], \"type\": \"pie\", \"values\": [204, 796]}],\n",
       "                        {\"template\": {\"data\": {\"bar\": [{\"error_x\": {\"color\": \"#2a3f5f\"}, \"error_y\": {\"color\": \"#2a3f5f\"}, \"marker\": {\"line\": {\"color\": \"#E5ECF6\", \"width\": 0.5}}, \"type\": \"bar\"}], \"barpolar\": [{\"marker\": {\"line\": {\"color\": \"#E5ECF6\", \"width\": 0.5}}, \"type\": \"barpolar\"}], \"carpet\": [{\"aaxis\": {\"endlinecolor\": \"#2a3f5f\", \"gridcolor\": \"white\", \"linecolor\": \"white\", \"minorgridcolor\": \"white\", \"startlinecolor\": \"#2a3f5f\"}, \"baxis\": {\"endlinecolor\": \"#2a3f5f\", \"gridcolor\": \"white\", \"linecolor\": \"white\", \"minorgridcolor\": \"white\", \"startlinecolor\": \"#2a3f5f\"}, \"type\": \"carpet\"}], \"choropleth\": [{\"colorbar\": {\"outlinewidth\": 0, \"ticks\": \"\"}, \"type\": \"choropleth\"}], \"contour\": [{\"colorbar\": {\"outlinewidth\": 0, \"ticks\": \"\"}, \"colorscale\": [[0.0, \"#0d0887\"], [0.1111111111111111, \"#46039f\"], [0.2222222222222222, \"#7201a8\"], [0.3333333333333333, \"#9c179e\"], [0.4444444444444444, \"#bd3786\"], [0.5555555555555556, \"#d8576b\"], [0.6666666666666666, \"#ed7953\"], [0.7777777777777778, \"#fb9f3a\"], [0.8888888888888888, \"#fdca26\"], [1.0, \"#f0f921\"]], \"type\": \"contour\"}], \"contourcarpet\": [{\"colorbar\": {\"outlinewidth\": 0, \"ticks\": \"\"}, \"type\": \"contourcarpet\"}], \"heatmap\": [{\"colorbar\": {\"outlinewidth\": 0, \"ticks\": \"\"}, \"colorscale\": [[0.0, \"#0d0887\"], [0.1111111111111111, \"#46039f\"], [0.2222222222222222, \"#7201a8\"], [0.3333333333333333, \"#9c179e\"], [0.4444444444444444, \"#bd3786\"], [0.5555555555555556, \"#d8576b\"], [0.6666666666666666, \"#ed7953\"], [0.7777777777777778, \"#fb9f3a\"], [0.8888888888888888, \"#fdca26\"], [1.0, \"#f0f921\"]], \"type\": \"heatmap\"}], \"heatmapgl\": [{\"colorbar\": {\"outlinewidth\": 0, \"ticks\": \"\"}, \"colorscale\": [[0.0, \"#0d0887\"], [0.1111111111111111, \"#46039f\"], [0.2222222222222222, \"#7201a8\"], [0.3333333333333333, \"#9c179e\"], [0.4444444444444444, \"#bd3786\"], [0.5555555555555556, \"#d8576b\"], [0.6666666666666666, \"#ed7953\"], [0.7777777777777778, \"#fb9f3a\"], [0.8888888888888888, \"#fdca26\"], [1.0, \"#f0f921\"]], \"type\": \"heatmapgl\"}], \"histogram\": [{\"marker\": {\"colorbar\": {\"outlinewidth\": 0, \"ticks\": \"\"}}, \"type\": \"histogram\"}], \"histogram2d\": [{\"colorbar\": {\"outlinewidth\": 0, \"ticks\": \"\"}, \"colorscale\": [[0.0, \"#0d0887\"], [0.1111111111111111, \"#46039f\"], [0.2222222222222222, \"#7201a8\"], [0.3333333333333333, \"#9c179e\"], [0.4444444444444444, \"#bd3786\"], [0.5555555555555556, \"#d8576b\"], [0.6666666666666666, \"#ed7953\"], [0.7777777777777778, \"#fb9f3a\"], [0.8888888888888888, \"#fdca26\"], [1.0, \"#f0f921\"]], \"type\": \"histogram2d\"}], \"histogram2dcontour\": [{\"colorbar\": {\"outlinewidth\": 0, \"ticks\": \"\"}, \"colorscale\": [[0.0, \"#0d0887\"], [0.1111111111111111, \"#46039f\"], [0.2222222222222222, \"#7201a8\"], [0.3333333333333333, \"#9c179e\"], [0.4444444444444444, \"#bd3786\"], [0.5555555555555556, \"#d8576b\"], [0.6666666666666666, \"#ed7953\"], [0.7777777777777778, \"#fb9f3a\"], [0.8888888888888888, \"#fdca26\"], [1.0, \"#f0f921\"]], \"type\": \"histogram2dcontour\"}], \"mesh3d\": [{\"colorbar\": {\"outlinewidth\": 0, \"ticks\": \"\"}, \"type\": \"mesh3d\"}], \"parcoords\": [{\"line\": {\"colorbar\": {\"outlinewidth\": 0, \"ticks\": \"\"}}, \"type\": \"parcoords\"}], \"pie\": [{\"automargin\": true, \"type\": \"pie\"}], \"scatter\": [{\"marker\": {\"colorbar\": {\"outlinewidth\": 0, \"ticks\": \"\"}}, \"type\": \"scatter\"}], \"scatter3d\": [{\"line\": {\"colorbar\": {\"outlinewidth\": 0, \"ticks\": \"\"}}, \"marker\": {\"colorbar\": {\"outlinewidth\": 0, \"ticks\": \"\"}}, \"type\": \"scatter3d\"}], \"scattercarpet\": [{\"marker\": {\"colorbar\": {\"outlinewidth\": 0, \"ticks\": \"\"}}, \"type\": \"scattercarpet\"}], \"scattergeo\": [{\"marker\": {\"colorbar\": {\"outlinewidth\": 0, \"ticks\": \"\"}}, \"type\": \"scattergeo\"}], \"scattergl\": [{\"marker\": {\"colorbar\": {\"outlinewidth\": 0, \"ticks\": \"\"}}, \"type\": \"scattergl\"}], \"scattermapbox\": [{\"marker\": {\"colorbar\": {\"outlinewidth\": 0, \"ticks\": \"\"}}, \"type\": \"scattermapbox\"}], \"scatterpolar\": [{\"marker\": {\"colorbar\": {\"outlinewidth\": 0, \"ticks\": \"\"}}, \"type\": \"scatterpolar\"}], \"scatterpolargl\": [{\"marker\": {\"colorbar\": {\"outlinewidth\": 0, \"ticks\": \"\"}}, \"type\": \"scatterpolargl\"}], \"scatterternary\": [{\"marker\": {\"colorbar\": {\"outlinewidth\": 0, \"ticks\": \"\"}}, \"type\": \"scatterternary\"}], \"surface\": [{\"colorbar\": {\"outlinewidth\": 0, \"ticks\": \"\"}, \"colorscale\": [[0.0, \"#0d0887\"], [0.1111111111111111, \"#46039f\"], [0.2222222222222222, \"#7201a8\"], [0.3333333333333333, \"#9c179e\"], [0.4444444444444444, \"#bd3786\"], [0.5555555555555556, \"#d8576b\"], [0.6666666666666666, \"#ed7953\"], [0.7777777777777778, \"#fb9f3a\"], [0.8888888888888888, \"#fdca26\"], [1.0, \"#f0f921\"]], \"type\": \"surface\"}], \"table\": [{\"cells\": {\"fill\": {\"color\": \"#EBF0F8\"}, \"line\": {\"color\": \"white\"}}, \"header\": {\"fill\": {\"color\": \"#C8D4E3\"}, \"line\": {\"color\": \"white\"}}, \"type\": \"table\"}]}, \"layout\": {\"annotationdefaults\": {\"arrowcolor\": \"#2a3f5f\", \"arrowhead\": 0, \"arrowwidth\": 1}, \"coloraxis\": {\"colorbar\": {\"outlinewidth\": 0, \"ticks\": \"\"}}, \"colorscale\": {\"diverging\": [[0, \"#8e0152\"], [0.1, \"#c51b7d\"], [0.2, \"#de77ae\"], [0.3, \"#f1b6da\"], [0.4, \"#fde0ef\"], [0.5, \"#f7f7f7\"], [0.6, \"#e6f5d0\"], [0.7, \"#b8e186\"], [0.8, \"#7fbc41\"], [0.9, \"#4d9221\"], [1, \"#276419\"]], \"sequential\": [[0.0, \"#0d0887\"], [0.1111111111111111, \"#46039f\"], [0.2222222222222222, \"#7201a8\"], [0.3333333333333333, \"#9c179e\"], [0.4444444444444444, \"#bd3786\"], [0.5555555555555556, \"#d8576b\"], [0.6666666666666666, \"#ed7953\"], [0.7777777777777778, \"#fb9f3a\"], [0.8888888888888888, \"#fdca26\"], [1.0, \"#f0f921\"]], \"sequentialminus\": [[0.0, \"#0d0887\"], [0.1111111111111111, \"#46039f\"], [0.2222222222222222, \"#7201a8\"], [0.3333333333333333, \"#9c179e\"], [0.4444444444444444, \"#bd3786\"], [0.5555555555555556, \"#d8576b\"], [0.6666666666666666, \"#ed7953\"], [0.7777777777777778, \"#fb9f3a\"], [0.8888888888888888, \"#fdca26\"], [1.0, \"#f0f921\"]]}, \"colorway\": [\"#636efa\", \"#EF553B\", \"#00cc96\", \"#ab63fa\", \"#FFA15A\", \"#19d3f3\", \"#FF6692\", \"#B6E880\", \"#FF97FF\", \"#FECB52\"], \"font\": {\"color\": \"#2a3f5f\"}, \"geo\": {\"bgcolor\": \"white\", \"lakecolor\": \"white\", \"landcolor\": \"#E5ECF6\", \"showlakes\": true, \"showland\": true, \"subunitcolor\": \"white\"}, \"hoverlabel\": {\"align\": \"left\"}, \"hovermode\": \"closest\", \"mapbox\": {\"style\": \"light\"}, \"paper_bgcolor\": \"white\", \"plot_bgcolor\": \"#E5ECF6\", \"polar\": {\"angularaxis\": {\"gridcolor\": \"white\", \"linecolor\": \"white\", \"ticks\": \"\"}, \"bgcolor\": \"#E5ECF6\", \"radialaxis\": {\"gridcolor\": \"white\", \"linecolor\": \"white\", \"ticks\": \"\"}}, \"scene\": {\"xaxis\": {\"backgroundcolor\": \"#E5ECF6\", \"gridcolor\": \"white\", \"gridwidth\": 2, \"linecolor\": \"white\", \"showbackground\": true, \"ticks\": \"\", \"zerolinecolor\": \"white\"}, \"yaxis\": {\"backgroundcolor\": \"#E5ECF6\", \"gridcolor\": \"white\", \"gridwidth\": 2, \"linecolor\": \"white\", \"showbackground\": true, \"ticks\": \"\", \"zerolinecolor\": \"white\"}, \"zaxis\": {\"backgroundcolor\": \"#E5ECF6\", \"gridcolor\": \"white\", \"gridwidth\": 2, \"linecolor\": \"white\", \"showbackground\": true, \"ticks\": \"\", \"zerolinecolor\": \"white\"}}, \"shapedefaults\": {\"line\": {\"color\": \"#2a3f5f\"}}, \"ternary\": {\"aaxis\": {\"gridcolor\": \"white\", \"linecolor\": \"white\", \"ticks\": \"\"}, \"baxis\": {\"gridcolor\": \"white\", \"linecolor\": \"white\", \"ticks\": \"\"}, \"bgcolor\": \"#E5ECF6\", \"caxis\": {\"gridcolor\": \"white\", \"linecolor\": \"white\", \"ticks\": \"\"}}, \"title\": {\"x\": 0.05}, \"xaxis\": {\"automargin\": true, \"gridcolor\": \"white\", \"linecolor\": \"white\", \"ticks\": \"\", \"title\": {\"standoff\": 15}, \"zerolinecolor\": \"white\", \"zerolinewidth\": 2}, \"yaxis\": {\"automargin\": true, \"gridcolor\": \"white\", \"linecolor\": \"white\", \"ticks\": \"\", \"title\": {\"standoff\": 15}, \"zerolinecolor\": \"white\", \"zerolinewidth\": 2}}}},\n",
       "                        {\"responsive\": true}\n",
       "                    ).then(function(){\n",
       "                            \n",
       "var gd = document.getElementById('67f0aad7-7672-4ac7-b91b-d3855f2e15c3');\n",
       "var x = new MutationObserver(function (mutations, observer) {{\n",
       "        var display = window.getComputedStyle(gd).display;\n",
       "        if (!display || display === 'none') {{\n",
       "            console.log([gd, 'removed!']);\n",
       "            Plotly.purge(gd);\n",
       "            observer.disconnect();\n",
       "        }}\n",
       "}});\n",
       "\n",
       "// Listen for the removal of the full notebook cells\n",
       "var notebookContainer = gd.closest('#notebook-container');\n",
       "if (notebookContainer) {{\n",
       "    x.observe(notebookContainer, {childList: true});\n",
       "}}\n",
       "\n",
       "// Listen for the clearing of the current output cell\n",
       "var outputEl = gd.closest('.output');\n",
       "if (outputEl) {{\n",
       "    x.observe(outputEl, {childList: true});\n",
       "}}\n",
       "\n",
       "                        })\n",
       "                };\n",
       "                });\n",
       "            </script>\n",
       "        </div>"
      ]
     },
     "metadata": {},
     "output_type": "display_data"
    }
   ],
   "source": [
    "labels = ['Exits','Remaining']\n",
    "values = [df['Exit'].sum(),1000-df['Exit'].sum()]\n",
    "\n",
    "fig = go.Figure(data=[go.Pie(labels=labels, values=values, pull=[0,0.1])])\n",
    "fig.show()\n",
    "\n"
   ]
  },
  {
   "cell_type": "code",
   "execution_count": 49,
   "metadata": {},
   "outputs": [
    {
     "data": {
      "application/vnd.plotly.v1+json": {
       "config": {
        "plotlyServerURL": "https://plotly.com"
       },
       "data": [
        {
         "alignmentgroup": "True",
         "box": {
          "visible": true
         },
         "customdata": [
          [
           619,
           "Female",
           42,
           2,
           0,
           1,
           1,
           1,
           101348.88,
           1
          ],
          [
           608,
           "Female",
           41,
           1,
           83807.86,
           1,
           0,
           1,
           112542.58,
           0
          ],
          [
           850,
           "Female",
           43,
           2,
           125510.82,
           1,
           1,
           1,
           79084.1,
           0
          ],
          [
           822,
           "Male",
           50,
           7,
           0,
           2,
           1,
           1,
           10062.8,
           0
          ],
          [
           501,
           "Male",
           44,
           4,
           142051.07,
           2,
           0,
           1,
           74940.5,
           0
          ],
          [
           684,
           "Male",
           27,
           2,
           134603.88,
           1,
           1,
           1,
           71725.73,
           0
          ],
          [
           635,
           "Female",
           35,
           7,
           0,
           2,
           1,
           1,
           65951.65,
           0
          ],
          [
           616,
           "Male",
           45,
           3,
           143129.41,
           2,
           0,
           1,
           64327.26,
           0
          ],
          [
           549,
           "Female",
           24,
           9,
           0,
           2,
           1,
           1,
           14406.41,
           0
          ],
          [
           726,
           "Female",
           24,
           6,
           0,
           2,
           1,
           1,
           54724.03,
           0
          ],
          [
           732,
           "Male",
           41,
           8,
           0,
           2,
           1,
           1,
           170886.17,
           0
          ],
          [
           669,
           "Male",
           46,
           3,
           0,
           2,
           0,
           1,
           8487.75,
           0
          ],
          [
           846,
           "Female",
           38,
           5,
           0,
           1,
           1,
           1,
           187616.16,
           0
          ],
          [
           577,
           "Male",
           25,
           3,
           0,
           2,
           0,
           1,
           124508.29,
           0
          ],
          [
           756,
           "Male",
           36,
           2,
           136815.64,
           1,
           1,
           1,
           170041.95,
           0
          ],
          [
           574,
           "Female",
           43,
           3,
           141349.43,
           1,
           1,
           1,
           100187.43,
           0
          ],
          [
           411,
           "Male",
           29,
           0,
           59697.17,
           2,
           1,
           1,
           53483.21,
           0
          ],
          [
           533,
           "Male",
           36,
           7,
           85311.7,
           1,
           0,
           1,
           156731.91,
           0
          ],
          [
           520,
           "Female",
           42,
           6,
           0,
           2,
           1,
           1,
           34410.55,
           0
          ],
          [
           722,
           "Female",
           29,
           9,
           0,
           2,
           1,
           1,
           142033.07,
           0
          ],
          [
           490,
           "Male",
           31,
           3,
           145260.23,
           1,
           0,
           1,
           114066.77,
           0
          ],
          [
           804,
           "Male",
           33,
           7,
           76548.6,
           1,
           0,
           1,
           98453.45,
           0
          ],
          [
           850,
           "Male",
           36,
           7,
           0,
           1,
           1,
           1,
           40812.9,
           0
          ],
          [
           582,
           "Male",
           41,
           6,
           70349.48,
           2,
           0,
           1,
           178074.04,
           0
          ],
          [
           556,
           "Female",
           61,
           2,
           117419.35,
           1,
           1,
           1,
           94153.83,
           0
          ],
          [
           660,
           "Female",
           61,
           5,
           155931.11,
           1,
           1,
           1,
           158338.39,
           0
          ],
          [
           776,
           "Female",
           32,
           4,
           109421.13,
           2,
           1,
           1,
           126517.46,
           0
          ],
          [
           829,
           "Female",
           27,
           9,
           112045.67,
           1,
           1,
           1,
           119708.21,
           1
          ],
          [
           637,
           "Female",
           39,
           9,
           137843.8,
           1,
           1,
           1,
           117622.8,
           1
          ],
          [
           550,
           "Male",
           38,
           2,
           103391.38,
           1,
           0,
           1,
           90878.13,
           0
          ],
          [
           619,
           "Male",
           43,
           1,
           125211.92,
           1,
           1,
           1,
           113410.49,
           0
          ],
          [
           614,
           "Male",
           51,
           4,
           40685.92,
           1,
           1,
           1,
           46775.28,
           0
          ],
          [
           684,
           "Male",
           56,
           8,
           78707.16,
           1,
           1,
           1,
           99398.36,
           0
          ],
          [
           603,
           "Male",
           26,
           4,
           109166.37,
           1,
           1,
           1,
           92840.67,
           0
          ],
          [
           751,
           "Female",
           36,
           6,
           169831.46,
           2,
           1,
           1,
           27758.36,
           0
          ],
          [
           735,
           "Male",
           43,
           10,
           123180.01,
           2,
           1,
           1,
           196673.28,
           0
          ],
          [
           661,
           "Female",
           35,
           5,
           150725.53,
           2,
           0,
           1,
           113656.85,
           0
          ],
          [
           657,
           "Female",
           37,
           0,
           163607.18,
           1,
           0,
           1,
           44203.55,
           0
          ],
          [
           604,
           "Female",
           25,
           5,
           157780.84,
           2,
           1,
           1,
           58426.81,
           0
          ],
          [
           519,
           "Male",
           36,
           9,
           0,
           2,
           0,
           1,
           145562.4,
           0
          ],
          [
           664,
           "Male",
           55,
           8,
           0,
           2,
           1,
           1,
           139161.64,
           0
          ],
          [
           678,
           "Female",
           32,
           9,
           0,
           1,
           1,
           1,
           148210.64,
           0
          ],
          [
           757,
           "Male",
           33,
           5,
           77253.22,
           1,
           0,
           1,
           194239.63,
           0
          ],
          [
           506,
           "Female",
           34,
           4,
           90307.62,
           1,
           1,
           1,
           159235.29,
           0
          ],
          [
           652,
           "Female",
           75,
           10,
           0,
           2,
           1,
           1,
           114675.75,
           0
          ],
          [
           635,
           "Female",
           28,
           3,
           81623.67,
           2,
           1,
           1,
           156791.36,
           0
          ],
          [
           647,
           "Female",
           44,
           5,
           0,
           3,
           1,
           1,
           174205.22,
           1
          ],
          [
           769,
           "Male",
           29,
           8,
           0,
           2,
           1,
           1,
           172290.61,
           0
          ],
          [
           730,
           "Male",
           42,
           4,
           0,
           2,
           0,
           1,
           85982.47,
           0
          ],
          [
           515,
           "Male",
           35,
           10,
           176273.95,
           1,
           0,
           1,
           121277.78,
           0
          ],
          [
           773,
           "Male",
           41,
           9,
           102827.44,
           1,
           0,
           1,
           64595.25,
           0
          ],
          [
           814,
           "Male",
           29,
           8,
           97086.4,
           2,
           1,
           1,
           197276.13,
           0
          ],
          [
           665,
           "Female",
           40,
           6,
           0,
           1,
           1,
           1,
           161848.03,
           0
          ],
          [
           670,
           "Female",
           65,
           1,
           0,
           1,
           1,
           1,
           177655.68,
           1
          ],
          [
           622,
           "Female",
           46,
           4,
           107073.27,
           2,
           1,
           1,
           30984.59,
           1
          ],
          [
           582,
           "Male",
           32,
           1,
           88938.62,
           1,
           1,
           1,
           10054.53,
           0
          ],
          [
           785,
           "Female",
           36,
           2,
           99806.85,
           1,
           0,
           1,
           36976.52,
           0
          ],
          [
           685,
           "Male",
           30,
           3,
           90536.81,
           1,
           0,
           1,
           63082.88,
           0
          ],
          [
           675,
           "Male",
           36,
           9,
           106190.55,
           1,
           0,
           1,
           22994.32,
           0
          ],
          [
           721,
           "Male",
           28,
           9,
           154475.54,
           2,
           0,
           1,
           101300.94,
           1
          ],
          [
           628,
           "Female",
           30,
           9,
           132351.29,
           2,
           1,
           1,
           74169.13,
           0
          ],
          [
           684,
           "Female",
           48,
           10,
           126384.42,
           1,
           1,
           1,
           198129.36,
           0
          ],
          [
           549,
           "Female",
           52,
           1,
           0,
           1,
           0,
           1,
           8636.05,
           1
          ],
          [
           758,
           "Female",
           34,
           3,
           0,
           2,
           1,
           1,
           124226.16,
           0
          ],
          [
           795,
           "Female",
           33,
           9,
           130862.43,
           1,
           1,
           1,
           114935.21,
           0
          ],
          [
           687,
           "Male",
           38,
           9,
           122570.87,
           1,
           1,
           1,
           35608.88,
           0
          ],
          [
           686,
           "Male",
           25,
           1,
           0,
           2,
           0,
           1,
           16459.37,
           0
          ],
          [
           789,
           "Male",
           39,
           7,
           124828.46,
           2,
           1,
           1,
           124411.08,
           0
          ],
          [
           589,
           "Female",
           50,
           5,
           144895.05,
           2,
           1,
           1,
           34941.23,
           0
          ],
          [
           461,
           "Female",
           34,
           5,
           63663.93,
           1,
           0,
           1,
           167784.28,
           0
          ],
          [
           637,
           "Male",
           40,
           2,
           133463.1,
           1,
           0,
           1,
           93165.34,
           0
          ],
          [
           579,
           "Female",
           35,
           1,
           129490.36,
           2,
           0,
           1,
           8590.83,
           1
          ],
          [
           663,
           "Male",
           34,
           7,
           0,
           2,
           1,
           1,
           180427.24,
           0
          ],
          [
           682,
           "Female",
           43,
           5,
           125851.93,
           1,
           1,
           1,
           193318.33,
           0
          ],
          [
           485,
           "Female",
           21,
           5,
           113157.22,
           1,
           1,
           1,
           54141.5,
           0
          ],
          [
           416,
           "Male",
           32,
           0,
           0,
           2,
           0,
           1,
           878.87,
           0
          ],
          [
           614,
           "Female",
           43,
           6,
           0,
           2,
           1,
           1,
           109041.53,
           0
          ],
          [
           586,
           "Female",
           28,
           2,
           0,
           2,
           1,
           1,
           92067.35,
           0
          ],
          [
           646,
           "Female",
           73,
           6,
           97259.25,
           1,
           0,
           1,
           104719.66,
           0
          ],
          [
           717,
           "Female",
           22,
           6,
           101060.25,
           1,
           0,
           1,
           84699.56,
           0
          ],
          [
           721,
           "Female",
           36,
           2,
           0,
           2,
           1,
           1,
           106977.8,
           0
          ],
          [
           660,
           "Male",
           31,
           9,
           125189.75,
           2,
           1,
           1,
           139874.43,
           0
          ],
          [
           512,
           "Male",
           40,
           5,
           0,
           2,
           1,
           1,
           146457.83,
           0
          ],
          [
           484,
           "Female",
           35,
           7,
           133868.21,
           1,
           1,
           1,
           27286.1,
           0
          ],
          [
           510,
           "Female",
           30,
           0,
           0,
           2,
           1,
           1,
           130553.47,
           0
          ],
          [
           597,
           "Female",
           40,
           8,
           101993.12,
           1,
           0,
           1,
           94774.12,
           0
          ],
          [
           850,
           "Female",
           45,
           2,
           122311.21,
           1,
           1,
           1,
           19482.5,
           0
          ],
          [
           510,
           "Male",
           65,
           2,
           0,
           2,
           1,
           1,
           48071.61,
           0
          ],
          [
           636,
           "Male",
           42,
           2,
           0,
           2,
           1,
           1,
           55470.78,
           0
          ],
          [
           804,
           "Female",
           50,
           4,
           0,
           1,
           1,
           1,
           8546.87,
           1
          ],
          [
           525,
           "Female",
           37,
           0,
           0,
           1,
           0,
           1,
           131521.72,
           0
          ],
          [
           616,
           "Male",
           30,
           5,
           0,
           2,
           0,
           1,
           196108.51,
           0
          ],
          [
           807,
           "Male",
           35,
           3,
           174790.15,
           1,
           1,
           1,
           600.36,
           0
          ],
          [
           616,
           "Female",
           32,
           6,
           0,
           2,
           1,
           1,
           43001.46,
           0
          ],
          [
           721,
           "Male",
           37,
           3,
           107720.64,
           1,
           1,
           1,
           158591.12,
           0
          ],
          [
           501,
           "Male",
           57,
           10,
           0,
           2,
           1,
           1,
           47847.19,
           0
          ],
          [
           850,
           "Male",
           30,
           2,
           141040.01,
           1,
           1,
           1,
           5978.2,
           0
          ],
          [
           759,
           "Male",
           42,
           4,
           105420.18,
           1,
           0,
           1,
           121409.06,
           0
          ],
          [
           516,
           "Male",
           50,
           5,
           0,
           1,
           0,
           1,
           146145.93,
           1
          ],
          [
           711,
           "Female",
           38,
           2,
           129022.06,
           2,
           1,
           1,
           14374.86,
           1
          ],
          [
           550,
           "Male",
           37,
           3,
           0,
           1,
           1,
           1,
           179670.31,
           0
          ],
          [
           618,
           "Male",
           34,
           5,
           134954.53,
           1,
           1,
           1,
           151954.39,
           0
          ],
          [
           671,
           "Male",
           45,
           2,
           106376.85,
           1,
           0,
           1,
           158264.62,
           0
          ],
          [
           603,
           "Male",
           31,
           8,
           0,
           2,
           1,
           1,
           169915.02,
           0
          ],
          [
           676,
           "Female",
           34,
           1,
           63095.01,
           1,
           1,
           1,
           40645.81,
           0
          ],
          [
           668,
           "Male",
           47,
           7,
           106854.21,
           1,
           0,
           1,
           157959.02,
           1
          ],
          [
           592,
           "Male",
           54,
           8,
           0,
           1,
           1,
           1,
           28737.71,
           1
          ],
          [
           726,
           "Female",
           31,
           9,
           114722.05,
           2,
           1,
           1,
           98178.57,
           0
          ],
          [
           514,
           "Male",
           30,
           7,
           0,
           1,
           0,
           1,
           125010.24,
           0
          ],
          [
           567,
           "Male",
           42,
           2,
           0,
           2,
           1,
           1,
           167984.61,
           0
          ],
          [
           671,
           "Male",
           45,
           6,
           99564.22,
           1,
           1,
           1,
           108872.45,
           1
          ],
          [
           694,
           "Female",
           30,
           9,
           0,
           2,
           1,
           1,
           26960.31,
           0
          ],
          [
           547,
           "Female",
           39,
           6,
           74596.15,
           3,
           1,
           1,
           85746.52,
           1
          ],
          [
           673,
           "Male",
           72,
           1,
           0,
           2,
           0,
           1,
           111981.19,
           0
          ],
          [
           512,
           "Female",
           37,
           1,
           0,
           2,
           0,
           1,
           156105.03,
           0
          ],
          [
           767,
           "Male",
           20,
           3,
           119714.25,
           2,
           0,
           1,
           150135.38,
           0
          ],
          [
           585,
           "Female",
           67,
           5,
           113978.97,
           2,
           0,
           1,
           93146.11,
           0
          ],
          [
           712,
           "Female",
           29,
           2,
           0,
           1,
           1,
           1,
           144375,
           0
          ],
          [
           703,
           "Male",
           28,
           2,
           81173.83,
           2,
           0,
           1,
           162812.16,
           0
          ],
          [
           703,
           "Male",
           37,
           8,
           105961.68,
           2,
           0,
           1,
           74158.8,
           0
          ],
          [
           659,
           "Male",
           67,
           6,
           117411.6,
           1,
           1,
           1,
           45071.09,
           1
          ],
          [
           545,
           "Female",
           26,
           1,
           0,
           2,
           1,
           1,
           199638.56,
           0
          ],
          [
           634,
           "Male",
           24,
           8,
           103097.85,
           1,
           1,
           1,
           157577.29,
           0
          ],
          [
           587,
           "Female",
           34,
           1,
           0,
           2,
           1,
           1,
           97932.68,
           0
          ],
          [
           681,
           "Female",
           79,
           0,
           0,
           2,
           0,
           1,
           170968.99,
           0
          ],
          [
           544,
           "Male",
           37,
           2,
           79731.91,
           1,
           1,
           1,
           57558.95,
           0
          ],
          [
           766,
           "Male",
           41,
           0,
           0,
           2,
           0,
           1,
           34283.23,
           0
          ],
          [
           727,
           "Male",
           34,
           10,
           0,
           2,
           1,
           1,
           198637.34,
           0
          ],
          [
           693,
           "Female",
           30,
           6,
           127992.25,
           1,
           1,
           1,
           50457.2,
           0
          ],
          [
           850,
           "Male",
           38,
           3,
           54901.01,
           1,
           1,
           1,
           140075.55,
           0
          ],
          [
           732,
           "Male",
           42,
           9,
           108748.08,
           2,
           1,
           1,
           65323.11,
           0
          ],
          [
           682,
           "Female",
           26,
           0,
           110654.02,
           1,
           0,
           1,
           111879.21,
           0
          ],
          [
           738,
           "Male",
           31,
           9,
           79019.8,
           1,
           1,
           1,
           18606.23,
           0
          ],
          [
           498,
           "Male",
           34,
           2,
           0,
           2,
           1,
           1,
           148528.24,
           0
          ],
          [
           650,
           "Male",
           41,
           9,
           0,
           2,
           0,
           1,
           191599.67,
           0
          ],
          [
           811,
           "Female",
           34,
           1,
           149297.19,
           2,
           1,
           1,
           186339.74,
           0
          ],
          [
           712,
           "Male",
           28,
           4,
           145605.44,
           1,
           0,
           1,
           93883.53,
           0
          ],
          [
           706,
           "Female",
           37,
           7,
           0,
           2,
           1,
           1,
           110899.3,
           0
          ],
          [
           756,
           "Male",
           62,
           3,
           0,
           1,
           1,
           1,
           11199.04,
           1
          ],
          [
           646,
           "Male",
           35,
           6,
           84026.86,
           1,
           0,
           1,
           164255.69,
           0
          ],
          [
           782,
           "Male",
           39,
           8,
           0,
           2,
           1,
           1,
           33949.67,
           0
          ],
          [
           775,
           "Male",
           29,
           10,
           0,
           2,
           1,
           1,
           68143.93,
           0
          ],
          [
           479,
           "Male",
           35,
           4,
           138718.92,
           1,
           1,
           1,
           47251.79,
           1
          ],
          [
           807,
           "Male",
           42,
           7,
           118274.71,
           1,
           1,
           1,
           25885.72,
           0
          ],
          [
           799,
           "Female",
           22,
           8,
           174185.98,
           2,
           0,
           1,
           192633.85,
           0
          ],
          [
           744,
           "Female",
           26,
           5,
           166297.89,
           1,
           1,
           1,
           181694.44,
           0
          ],
          [
           703,
           "Male",
           42,
           9,
           63227,
           1,
           0,
           1,
           137316.32,
           0
          ],
          [
           681,
           "Male",
           38,
           3,
           0,
           2,
           1,
           1,
           112491.96,
           0
          ],
          [
           714,
           "Female",
           31,
           4,
           125169.26,
           1,
           1,
           1,
           106636.89,
           0
          ],
          [
           511,
           "Male",
           58,
           0,
           149117.31,
           1,
           1,
           1,
           162599.51,
           0
          ],
          [
           627,
           "Male",
           33,
           5,
           0,
           2,
           1,
           1,
           103737.82,
           0
          ],
          [
           712,
           "Female",
           33,
           6,
           0,
           2,
           1,
           1,
           190686.16,
           0
          ],
          [
           667,
           "Male",
           31,
           1,
           119266.69,
           1,
           1,
           1,
           28257.63,
           0
          ],
          [
           731,
           "Male",
           43,
           2,
           0,
           1,
           1,
           1,
           170034.95,
           1
          ],
          [
           652,
           "Female",
           80,
           4,
           0,
           2,
           1,
           1,
           188603.07,
           0
          ],
          [
           744,
           "Male",
           36,
           2,
           153804.44,
           1,
           1,
           1,
           87213.33,
           0
          ],
          [
           706,
           "Male",
           42,
           9,
           0,
           2,
           1,
           1,
           28714.34,
           0
          ],
          [
           525,
           "Female",
           57,
           2,
           145965.33,
           1,
           1,
           1,
           64448.36,
           0
          ],
          [
           680,
           "Female",
           30,
           8,
           141441.75,
           1,
           1,
           1,
           16278.97,
           0
          ],
          [
           671,
           "Male",
           35,
           1,
           144848.74,
           1,
           1,
           1,
           179012.3,
           0
          ],
          [
           664,
           "Male",
           26,
           7,
           116244.14,
           2,
           1,
           1,
           95145.14,
           0
          ],
          [
           656,
           "Male",
           50,
           7,
           0,
           2,
           0,
           1,
           72143.44,
           0
          ],
          [
           663,
           "Male",
           44,
           2,
           117028.6,
           2,
           0,
           1,
           144680.18,
           0
          ],
          [
           659,
           "Female",
           32,
           3,
           150923.74,
           2,
           0,
           1,
           174652.51,
           0
          ],
          [
           642,
           "Female",
           40,
           6,
           129502.49,
           2,
           0,
           1,
           86099.23,
           1
          ],
          [
           545,
           "Female",
           47,
           5,
           0,
           2,
           1,
           1,
           38970.14,
           0
          ],
          [
           643,
           "Male",
           59,
           3,
           170331.37,
           1,
           1,
           1,
           32171.79,
           0
          ],
          [
           654,
           "Female",
           32,
           1,
           114510.85,
           1,
           1,
           1,
           126143.23,
           0
          ],
          [
           582,
           "Male",
           39,
           5,
           0,
           2,
           1,
           1,
           129892.93,
           0
          ],
          [
           659,
           "Male",
           32,
           3,
           107594.11,
           2,
           1,
           1,
           102416.84,
           0
          ],
          [
           762,
           "Male",
           39,
           2,
           81273.13,
           1,
           1,
           1,
           18719.67,
           0
          ],
          [
           670,
           "Male",
           25,
           6,
           0,
           2,
           1,
           1,
           78358.94,
           0
          ],
          [
           613,
           "Female",
           45,
           1,
           187841.99,
           2,
           1,
           1,
           147224.27,
           0
          ],
          [
           850,
           "Female",
           57,
           8,
           126776.3,
           2,
           1,
           1,
           132298.49,
           0
          ],
          [
           737,
           "Male",
           41,
           1,
           101960.74,
           1,
           1,
           1,
           123547.28,
           0
          ],
          [
           520,
           "Male",
           58,
           3,
           0,
           2,
           0,
           1,
           32790.02,
           0
          ],
          [
           706,
           "Male",
           28,
           3,
           0,
           2,
           0,
           1,
           181543.67,
           0
          ],
          [
           643,
           "Female",
           45,
           2,
           150842.93,
           1,
           0,
           1,
           2319.96,
           1
          ],
          [
           648,
           "Female",
           50,
           9,
           102535.57,
           1,
           1,
           1,
           189543.19,
           0
          ],
          [
           640,
           "Male",
           68,
           9,
           0,
           2,
           1,
           1,
           199493.38,
           0
          ],
          [
           628,
           "Female",
           33,
           3,
           0,
           1,
           1,
           1,
           188193.25,
           0
          ],
          [
           460,
           "Female",
           35,
           8,
           102742.91,
           2,
           1,
           1,
           189339.6,
           0
          ],
          [
           636,
           "Male",
           34,
           2,
           40105.51,
           2,
           0,
           1,
           53512.16,
           0
          ],
          [
           801,
           "Male",
           42,
           4,
           141947.67,
           1,
           1,
           1,
           10598.29,
           0
          ],
          [
           640,
           "Female",
           75,
           1,
           106307.91,
           2,
           0,
           1,
           113428.77,
           0
          ],
          [
           611,
           "Male",
           31,
           0,
           107884.81,
           2,
           1,
           1,
           183487.98,
           0
          ],
          [
           802,
           "Male",
           31,
           1,
           125013.72,
           1,
           1,
           1,
           187658.09,
           0
          ],
          [
           717,
           "Male",
           35,
           7,
           58469.37,
           2,
           1,
           1,
           172459.39,
           0
          ],
          [
           769,
           "Female",
           39,
           8,
           0,
           1,
           0,
           1,
           21016,
           0
          ],
          [
           745,
           "Male",
           45,
           10,
           117231.63,
           3,
           1,
           1,
           122381.02,
           1
          ],
          [
           483,
           "Female",
           50,
           9,
           0,
           2,
           1,
           1,
           111020.24,
           0
          ],
          [
           492,
           "Female",
           30,
           10,
           77168.87,
           2,
           0,
           1,
           146700.22,
           0
          ],
          [
           560,
           "Female",
           66,
           9,
           0,
           1,
           1,
           1,
           15928.49,
           0
          ],
          [
           730,
           "Male",
           62,
           2,
           0,
           2,
           1,
           1,
           186489.95,
           0
          ],
          [
           709,
           "Female",
           45,
           2,
           0,
           2,
           0,
           1,
           162922.65,
           0
          ],
          [
           712,
           "Female",
           29,
           7,
           147199.07,
           1,
           1,
           1,
           84932.4,
           0
          ],
          [
           752,
           "Male",
           38,
           3,
           183102.29,
           1,
           1,
           1,
           71557.12,
           0
          ],
          [
           594,
           "Female",
           24,
           0,
           97378.54,
           1,
           1,
           1,
           71405.17,
           0
          ],
          [
           645,
           "Female",
           37,
           2,
           136925.09,
           2,
           0,
           1,
           153400.24,
           0
          ],
          [
           557,
           "Male",
           33,
           3,
           54503.55,
           1,
           1,
           1,
           371.05,
           0
          ],
          [
           701,
           "Female",
           39,
           9,
           0,
           2,
           0,
           1,
           145894.9,
           0
          ],
          [
           593,
           "Female",
           38,
           4,
           129499.42,
           1,
           1,
           1,
           154071.27,
           0
          ],
          [
           751,
           "Male",
           52,
           8,
           0,
           2,
           0,
           1,
           179291.85,
           0
          ],
          [
           443,
           "Male",
           36,
           6,
           70438.01,
           2,
           0,
           1,
           56937.43,
           0
          ],
          [
           685,
           "Male",
           23,
           8,
           0,
           2,
           1,
           1,
           112239.03,
           0
          ],
          [
           668,
           "Male",
           37,
           10,
           152958.29,
           2,
           1,
           1,
           159585.61,
           0
          ],
          [
           850,
           "Male",
           38,
           1,
           0,
           2,
           1,
           1,
           80006.65,
           0
          ],
          [
           745,
           "Female",
           31,
           3,
           124328.84,
           1,
           1,
           1,
           140451.52,
           0
          ],
          [
           693,
           "Female",
           41,
           9,
           181461.48,
           3,
           1,
           1,
           187929.43,
           1
          ],
          [
           556,
           "Female",
           39,
           9,
           89588.35,
           1,
           1,
           1,
           94898.1,
           0
          ],
          [
           702,
           "Male",
           45,
           0,
           80793.58,
           1,
           1,
           1,
           27474.81,
           0
          ],
          [
           619,
           "Male",
           57,
           3,
           137946.39,
           1,
           1,
           1,
           72467.99,
           1
          ],
          [
           724,
           "Male",
           41,
           2,
           127892.57,
           2,
           0,
           1,
           199645.45,
           0
          ],
          [
           762,
           "Female",
           51,
           3,
           99286.98,
           1,
           0,
           1,
           85578.63,
           0
          ],
          [
           464,
           "Female",
           42,
           3,
           85679.25,
           1,
           1,
           1,
           164104.74,
           0
          ],
          [
           534,
           "Female",
           34,
           7,
           121551.58,
           2,
           1,
           1,
           70179,
           0
          ],
          [
           745,
           "Male",
           46,
           2,
           122220.19,
           1,
           1,
           1,
           118024.1,
           0
          ],
          [
           748,
           "Female",
           26,
           1,
           77780.29,
           1,
           0,
           1,
           183049.41,
           0
          ],
          [
           501,
           "Male",
           40,
           4,
           125832.2,
           1,
           1,
           1,
           100433.83,
           0
          ],
          [
           850,
           "Male",
           40,
           9,
           0,
           2,
           0,
           1,
           119232.33,
           0
          ],
          [
           758,
           "Female",
           39,
           6,
           127357.76,
           1,
           0,
           1,
           56577,
           0
          ],
          [
           733,
           "Male",
           33,
           3,
           0,
           1,
           1,
           1,
           7666.73,
           0
          ],
          [
           514,
           "Male",
           43,
           1,
           95556.31,
           1,
           0,
           1,
           199273.98,
           1
          ],
          [
           637,
           "Male",
           37,
           8,
           0,
           1,
           1,
           1,
           186062.36,
           0
          ],
          [
           468,
           "Male",
           29,
           1,
           111681.98,
           2,
           1,
           1,
           195711.16,
           0
          ],
          [
           662,
           "Female",
           32,
           4,
           133950.37,
           1,
           1,
           1,
           48725.68,
           1
          ],
          [
           818,
           "Male",
           26,
           4,
           0,
           2,
           1,
           1,
           167036.94,
           0
          ],
          [
           850,
           "Female",
           32,
           9,
           0,
           2,
           1,
           1,
           18924.92,
           0
          ],
          [
           753,
           "Male",
           35,
           3,
           0,
           2,
           1,
           1,
           184843.77,
           0
          ],
          [
           631,
           "Male",
           27,
           10,
           134169.62,
           1,
           1,
           1,
           176730.02,
           0
          ],
          [
           605,
           "Female",
           31,
           1,
           117992.59,
           1,
           1,
           1,
           183598.77,
           0
          ],
          [
           569,
           "Male",
           38,
           7,
           0,
           1,
           1,
           1,
           108469.2,
           0
          ],
          [
           658,
           "Male",
           29,
           4,
           80262.6,
           1,
           1,
           1,
           20612.82,
           0
          ],
          [
           788,
           "Male",
           34,
           6,
           156478.62,
           1,
           0,
           1,
           181196.76,
           0
          ],
          [
           730,
           "Female",
           35,
           0,
           155470.55,
           1,
           1,
           1,
           53718.28,
           0
          ],
          [
           542,
           "Male",
           39,
           3,
           135096.77,
           1,
           1,
           1,
           14353.43,
           1
          ],
          [
           692,
           "Male",
           30,
           2,
           0,
           2,
           0,
           1,
           130486.57,
           0
          ],
          [
           714,
           "Female",
           55,
           9,
           180075.22,
           1,
           1,
           1,
           100127.71,
           0
          ],
          [
           591,
           "Male",
           29,
           1,
           97541.24,
           1,
           1,
           1,
           196356.17,
           0
          ],
          [
           710,
           "Female",
           41,
           2,
           156067.05,
           1,
           1,
           1,
           9983.88,
           0
          ],
          [
           639,
           "Female",
           38,
           4,
           81550.94,
           2,
           0,
           1,
           118974.77,
           0
          ],
          [
           765,
           "Male",
           36,
           8,
           92310.54,
           2,
           1,
           1,
           72924.56,
           0
          ],
          [
           806,
           "Male",
           40,
           5,
           80613.93,
           1,
           1,
           1,
           142838.64,
           0
          ],
          [
           757,
           "Male",
           26,
           8,
           121581.56,
           2,
           1,
           1,
           127059.04,
           0
          ],
          [
           570,
           "Female",
           58,
           8,
           0,
           1,
           0,
           1,
           116503.92,
           1
          ],
          [
           555,
           "Male",
           32,
           4,
           0,
           2,
           1,
           1,
           54405.79,
           0
          ],
          [
           692,
           "Male",
           54,
           5,
           0,
           2,
           1,
           1,
           88721.84,
           0
          ],
          [
           638,
           "Male",
           44,
           9,
           77637.35,
           2,
           1,
           1,
           111346.22,
           0
          ],
          [
           733,
           "Male",
           22,
           5,
           0,
           2,
           1,
           1,
           117202.19,
           0
          ],
          [
           599,
           "Female",
           37,
           2,
           0,
           2,
           1,
           1,
           143739.29,
           0
          ],
          [
           524,
           "Female",
           31,
           10,
           67238.98,
           2,
           1,
           1,
           161811.23,
           0
          ],
          [
           734,
           "Male",
           34,
           6,
           133598.4,
           1,
           1,
           1,
           13107.24,
           0
          ],
          [
           605,
           "Female",
           51,
           3,
           136188.78,
           1,
           1,
           1,
           67110.59,
           1
          ],
          [
           468,
           "Female",
           56,
           10,
           0,
           3,
           0,
           1,
           62256.87,
           1
          ],
          [
           698,
           "Male",
           48,
           4,
           101238.24,
           2,
           0,
           1,
           177815.87,
           1
          ],
          [
           707,
           "Male",
           58,
           6,
           89685.92,
           1,
           0,
           1,
           126471.13,
           0
          ],
          [
           850,
           "Male",
           56,
           7,
           131317.48,
           1,
           1,
           1,
           119175.45,
           0
          ],
          [
           527,
           "Male",
           37,
           5,
           93722.73,
           2,
           1,
           1,
           139093.73,
           0
          ],
          [
           696,
           "Male",
           32,
           8,
           101160.99,
           1,
           1,
           1,
           115916.55,
           0
          ],
          [
           776,
           "Female",
           31,
           2,
           0,
           2,
           1,
           1,
           112349.51,
           0
          ],
          [
           701,
           "Male",
           43,
           2,
           0,
           2,
           1,
           1,
           165303.79,
           0
          ],
          [
           673,
           "Male",
           30,
           1,
           64097.75,
           1,
           1,
           1,
           77783.35,
           0
          ],
          [
           519,
           "Female",
           57,
           2,
           119035.35,
           2,
           1,
           1,
           29871.79,
           0
          ],
          [
           702,
           "Female",
           26,
           4,
           135219.57,
           1,
           0,
           1,
           59747.63,
           0
          ],
          [
           729,
           "Male",
           32,
           6,
           93694.42,
           1,
           1,
           1,
           79919.13,
           0
          ],
          [
           564,
           "Female",
           62,
           5,
           114931.35,
           3,
           0,
           1,
           18260.98,
           1
          ],
          [
           833,
           "Male",
           37,
           8,
           151226.18,
           2,
           1,
           1,
           136129.49,
           0
          ],
          [
           622,
           "Male",
           26,
           9,
           0,
           2,
           1,
           1,
           153237.59,
           0
          ],
          [
           597,
           "Female",
           42,
           4,
           64740.12,
           1,
           1,
           1,
           106841.12,
           0
          ],
          [
           504,
           "Female",
           49,
           7,
           0,
           3,
           0,
           1,
           87822.14,
           1
          ],
          [
           508,
           "Male",
           49,
           7,
           122451.46,
           2,
           1,
           1,
           75808.1,
           0
          ],
          [
           749,
           "Male",
           24,
           1,
           0,
           3,
           1,
           1,
           47911.03,
           0
          ],
          [
           674,
           "Male",
           47,
           6,
           106901.94,
           1,
           1,
           1,
           2079.2,
           1
          ],
          [
           590,
           "Female",
           51,
           3,
           154962.99,
           3,
           0,
           1,
           191932.27,
           1
          ],
          [
           741,
           "Male",
           53,
           3,
           0,
           2,
           1,
           1,
           38913.68,
           0
          ],
          [
           850,
           "Female",
           70,
           5,
           0,
           1,
           1,
           1,
           705.18,
           0
          ],
          [
           584,
           "Female",
           29,
           7,
           105204.01,
           1,
           0,
           1,
           138490.03,
           0
          ],
          [
           650,
           "Male",
           61,
           1,
           152968.73,
           1,
           0,
           1,
           82970.69,
           0
          ],
          [
           607,
           "Male",
           36,
           8,
           158261.68,
           1,
           1,
           1,
           76744.72,
           0
          ],
          [
           689,
           "Female",
           38,
           6,
           121021.05,
           1,
           1,
           1,
           12182.15,
           0
          ],
          [
           543,
           "Male",
           36,
           4,
           0,
           2,
           1,
           1,
           141210.5,
           0
          ],
          [
           687,
           "Female",
           63,
           1,
           137715.66,
           1,
           1,
           1,
           37938.74,
           0
          ],
          [
           737,
           "Male",
           31,
           5,
           121192.22,
           2,
           1,
           1,
           74890.58,
           0
          ],
          [
           761,
           "Male",
           31,
           7,
           0,
           3,
           1,
           1,
           166698.18,
           0
          ],
          [
           601,
           "Male",
           44,
           1,
           100486.18,
           2,
           1,
           1,
           62678.53,
           0
          ],
          [
           648,
           "Female",
           49,
           10,
           0,
           2,
           1,
           1,
           159835.78,
           1
          ],
          [
           848,
           "Male",
           40,
           3,
           110929.96,
           1,
           1,
           1,
           30876.84,
           0
          ],
          [
           546,
           "Female",
           27,
           8,
           0,
           2,
           1,
           1,
           14858.1,
           0
          ],
          [
           755,
           "Male",
           30,
           4,
           123217.66,
           2,
           0,
           1,
           144183.1,
           0
          ],
          [
           701,
           "Male",
           39,
           2,
           0,
           2,
           1,
           1,
           82526.92,
           0
          ],
          [
           607,
           "Female",
           33,
           2,
           108431.87,
           2,
           0,
           1,
           109291.39,
           1
          ],
          [
           586,
           "Female",
           57,
           3,
           0,
           2,
           0,
           1,
           6057.81,
           0
          ],
          [
           725,
           "Male",
           44,
           5,
           0,
           1,
           1,
           1,
           117356.14,
           0
          ],
          [
           713,
           "Female",
           38,
           7,
           144606.22,
           1,
           1,
           1,
           56594.36,
           1
          ],
          [
           666,
           "Female",
           34,
           9,
           115897.12,
           1,
           1,
           1,
           25095.03,
           0
          ],
          [
           779,
           "Female",
           26,
           4,
           174318.13,
           2,
           0,
           1,
           38296.21,
           0
          ],
          [
           646,
           "Male",
           39,
           9,
           111574.41,
           1,
           1,
           1,
           30838.51,
           0
          ],
          [
           484,
           "Female",
           34,
           4,
           148249.54,
           1,
           0,
           1,
           33738.27,
           0
          ],
          [
           601,
           "Female",
           43,
           8,
           0,
           3,
           0,
           1,
           110916.15,
           1
          ],
          [
           762,
           "Female",
           26,
           7,
           123709.46,
           2,
           1,
           1,
           169654.57,
           0
          ],
          [
           687,
           "Female",
           72,
           9,
           0,
           1,
           0,
           1,
           69829.4,
           0
          ],
          [
           702,
           "Male",
           37,
           10,
           150525.8,
           1,
           1,
           1,
           94728.49,
           0
          ],
          [
           601,
           "Male",
           29,
           9,
           0,
           1,
           1,
           1,
           80393.27,
           0
          ],
          [
           699,
           "Male",
           53,
           4,
           0,
           2,
           0,
           1,
           111307.98,
           0
          ],
          [
           699,
           "Male",
           35,
           5,
           0,
           2,
           1,
           1,
           78397.24,
           0
          ],
          [
           605,
           "Female",
           64,
           2,
           129555.7,
           1,
           1,
           1,
           13601.79,
           0
          ],
          [
           667,
           "Male",
           38,
           1,
           87202.38,
           1,
           1,
           1,
           77866.91,
           0
          ],
          [
           688,
           "Male",
           26,
           8,
           146133.39,
           1,
           1,
           1,
           175296.76,
           0
          ],
          [
           546,
           "Male",
           42,
           7,
           139070.51,
           1,
           1,
           1,
           86945,
           0
          ],
          [
           673,
           "Female",
           37,
           8,
           0,
           2,
           1,
           1,
           183318.79,
           0
          ],
          [
           656,
           "Female",
           40,
           10,
           167878.5,
           1,
           0,
           1,
           151887.16,
           0
          ],
          [
           535,
           "Female",
           53,
           5,
           141616.55,
           2,
           1,
           1,
           75888.65,
           0
          ],
          [
           678,
           "Male",
           36,
           3,
           145747.67,
           2,
           0,
           1,
           89566.74,
           0
          ],
          [
           477,
           "Female",
           48,
           2,
           129120.64,
           1,
           0,
           1,
           26475.79,
           0
          ],
          [
           427,
           "Male",
           29,
           1,
           141325.56,
           1,
           1,
           1,
           93839.3,
           0
          ],
          [
           649,
           "Male",
           47,
           1,
           0,
           2,
           1,
           1,
           145593.85,
           0
          ],
          [
           540,
           "Male",
           44,
           3,
           164113.04,
           2,
           1,
           1,
           12120.79,
           0
          ],
          [
           682,
           "Male",
           48,
           1,
           138778.15,
           1,
           0,
           1,
           168840.23,
           0
          ],
          [
           744,
           "Female",
           43,
           10,
           147832.15,
           1,
           0,
           1,
           24234.11,
           0
          ],
          [
           583,
           "Female",
           27,
           1,
           125406.58,
           1,
           1,
           1,
           110784.42,
           0
          ],
          [
           752,
           "Female",
           30,
           3,
           0,
           2,
           1,
           1,
           104991.28,
           0
          ],
          [
           652,
           "Male",
           38,
           6,
           0,
           2,
           1,
           1,
           145700.22,
           0
          ],
          [
           629,
           "Female",
           49,
           4,
           0,
           2,
           1,
           1,
           196335.48,
           0
          ],
          [
           720,
           "Male",
           52,
           7,
           0,
           1,
           1,
           1,
           14781.12,
           0
          ],
          [
           459,
           "Male",
           48,
           4,
           133994.52,
           1,
           1,
           1,
           19287.06,
           1
          ],
          [
           729,
           "Male",
           31,
           8,
           164870.81,
           2,
           1,
           1,
           9567.39,
           0
          ],
          [
           498,
           "Male",
           25,
           8,
           121702.73,
           1,
           1,
           1,
           132210.49,
           0
          ],
          [
           549,
           "Male",
           25,
           6,
           193858.2,
           1,
           0,
           1,
           21600.11,
           0
          ],
          [
           601,
           "Female",
           54,
           1,
           131039.97,
           2,
           1,
           1,
           199661.5,
           0
          ],
          [
           544,
           "Male",
           64,
           9,
           113829.45,
           1,
           1,
           1,
           124341.49,
           0
          ],
          [
           632,
           "Female",
           41,
           3,
           81877.38,
           1,
           1,
           1,
           33642.21,
           0
          ],
          [
           694,
           "Male",
           57,
           8,
           116326.07,
           1,
           1,
           1,
           117704.65,
           0
          ],
          [
           678,
           "Male",
           31,
           2,
           0,
           2,
           1,
           1,
           58803.28,
           0
          ],
          [
           695,
           "Male",
           46,
           4,
           0,
           2,
           1,
           1,
           137537.22,
           0
          ],
          [
           661,
           "Female",
           41,
           1,
           0,
           2,
           0,
           1,
           131300.68,
           0
          ],
          [
           661,
           "Male",
           33,
           9,
           0,
           2,
           1,
           1,
           84174.81,
           0
          ],
          [
           559,
           "Female",
           31,
           3,
           127070.73,
           1,
           0,
           1,
           160941.78,
           0
          ],
          [
           503,
           "Male",
           29,
           3,
           0,
           2,
           1,
           1,
           143954.99,
           0
          ],
          [
           695,
           "Male",
           46,
           3,
           122549.64,
           1,
           1,
           1,
           56297.85,
           0
          ],
          [
           640,
           "Female",
           42,
           5,
           176099.13,
           1,
           1,
           1,
           8404.73,
           0
          ],
          [
           667,
           "Male",
           42,
           9,
           0,
           2,
           0,
           1,
           58137.42,
           0
          ],
          [
           640,
           "Female",
           32,
           6,
           118879.35,
           2,
           1,
           1,
           19131.71,
           0
          ],
          [
           529,
           "Male",
           35,
           5,
           0,
           2,
           1,
           1,
           187288.5,
           0
          ],
          [
           563,
           "Female",
           39,
           5,
           0,
           2,
           1,
           1,
           17603.81,
           0
          ],
          [
           739,
           "Male",
           45,
           7,
           102703.62,
           1,
           0,
           1,
           147802.94,
           1
          ],
          [
           788,
           "Female",
           70,
           1,
           0,
           2,
           1,
           1,
           41610.62,
           0
          ],
          [
           482,
           "Male",
           55,
           5,
           97318.25,
           1,
           0,
           1,
           78416.14,
           0
          ],
          [
           591,
           "Male",
           58,
           5,
           128468.69,
           1,
           0,
           1,
           137254.55,
           0
          ],
          [
           651,
           "Female",
           41,
           4,
           133432.59,
           1,
           0,
           1,
           151303.48,
           0
          ],
          [
           715,
           "Female",
           31,
           2,
           112212.14,
           2,
           1,
           1,
           181600.72,
           0
          ],
          [
           589,
           "Male",
           34,
           6,
           0,
           2,
           1,
           1,
           177896.92,
           0
          ],
          [
           796,
           "Female",
           45,
           2,
           109730.22,
           1,
           1,
           1,
           123882.73,
           0
          ],
          [
           664,
           "Male",
           57,
           6,
           0,
           2,
           1,
           1,
           15304.08,
           0
          ],
          [
           445,
           "Male",
           62,
           1,
           64119.38,
           1,
           1,
           1,
           76569.64,
           1
          ],
          [
           543,
           "Female",
           57,
           1,
           106138.33,
           2,
           1,
           1,
           120657.32,
           1
          ],
          [
           746,
           "Male",
           36,
           2,
           0,
           2,
           1,
           1,
           16436.56,
           0
          ],
          [
           742,
           "Male",
           33,
           0,
           181656.51,
           1,
           1,
           1,
           107667.91,
           0
          ],
          [
           594,
           "Female",
           49,
           2,
           126615.94,
           2,
           0,
           1,
           123214.74,
           0
          ],
          [
           574,
           "Male",
           36,
           1,
           0,
           2,
           0,
           1,
           71709.12,
           0
          ],
          [
           659,
           "Male",
           36,
           2,
           76190.48,
           2,
           1,
           1,
           149066.14,
           0
          ],
          [
           626,
           "Male",
           35,
           4,
           88109.81,
           1,
           1,
           1,
           32825.5,
           0
          ],
          [
           580,
           "Female",
           35,
           8,
           0,
           2,
           0,
           1,
           10357.03,
           0
          ],
          [
           621,
           "Female",
           43,
           5,
           0,
           1,
           1,
           1,
           47578.45,
           0
          ],
          [
           672,
           "Female",
           56,
           2,
           209767.31,
           2,
           1,
           1,
           150694.42,
           1
          ],
          [
           459,
           "Female",
           42,
           6,
           129634.25,
           2,
           1,
           1,
           177683.02,
           1
          ],
          [
           694,
           "Male",
           36,
           3,
           97530.25,
           1,
           1,
           1,
           117140.41,
           0
          ],
          [
           787,
           "Female",
           42,
           10,
           145988.65,
           2,
           1,
           1,
           79510.37,
           0
          ],
          [
           580,
           "Male",
           37,
           9,
           0,
           2,
           0,
           1,
           77108.66,
           0
          ],
          [
           711,
           "Female",
           25,
           7,
           0,
           3,
           1,
           1,
           9679.28,
           0
          ],
          [
           591,
           "Male",
           24,
           6,
           147360,
           1,
           1,
           1,
           25310.82,
           0
          ],
          [
           545,
           "Female",
           60,
           7,
           128981.07,
           1,
           0,
           1,
           176924.21,
           1
          ],
          [
           497,
           "Male",
           47,
           6,
           0,
           1,
           1,
           1,
           90055.08,
           0
          ],
          [
           816,
           "Male",
           67,
           6,
           151858.98,
           1,
           1,
           1,
           72814.31,
           0
          ],
          [
           525,
           "Male",
           36,
           2,
           114628.4,
           1,
           0,
           1,
           168290.06,
           0
          ],
          [
           618,
           "Female",
           24,
           7,
           128736.39,
           1,
           0,
           1,
           37147.61,
           0
          ],
          [
           546,
           "Male",
           24,
           8,
           156325.38,
           1,
           1,
           1,
           125381.02,
           0
          ],
          [
           635,
           "Male",
           29,
           7,
           105405.97,
           1,
           1,
           1,
           149853.89,
           0
          ],
          [
           650,
           "Male",
           60,
           8,
           0,
           2,
           1,
           1,
           102925.76,
           0
          ],
          [
           606,
           "Male",
           40,
           5,
           0,
           2,
           1,
           1,
           70899.27,
           0
          ],
          [
           727,
           "Male",
           38,
           2,
           62276.99,
           1,
           1,
           1,
           59280.79,
           0
          ],
          [
           460,
           "Male",
           46,
           4,
           127559.97,
           2,
           1,
           1,
           126952.5,
           0
          ],
          [
           649,
           "Male",
           41,
           0,
           0,
           2,
           0,
           1,
           130567.02,
           0
          ],
          [
           490,
           "Female",
           35,
           7,
           107749.03,
           1,
           1,
           1,
           3937.37,
           0
          ],
          [
           736,
           "Female",
           28,
           2,
           0,
           2,
           1,
           1,
           117431.1,
           0
          ],
          [
           664,
           "Male",
           58,
           5,
           98668.18,
           1,
           1,
           1,
           60887.58,
           0
          ],
          [
           710,
           "Male",
           43,
           2,
           140080.32,
           3,
           1,
           1,
           157908.19,
           1
          ],
          [
           700,
           "Female",
           82,
           2,
           0,
           2,
           0,
           1,
           182055.36,
           0
          ],
          [
           531,
           "Female",
           63,
           1,
           114715.71,
           1,
           0,
           1,
           24506.95,
           1
          ],
          [
           589,
           "Male",
           32,
           2,
           0,
           2,
           0,
           1,
           9468.64,
           0
          ],
          [
           648,
           "Male",
           33,
           7,
           134944,
           1,
           1,
           1,
           117036.38,
           0
          ],
          [
           754,
           "Male",
           28,
           8,
           0,
           2,
           1,
           1,
           52615.62,
           0
          ],
          [
           774,
           "Female",
           28,
           1,
           71264.02,
           2,
           0,
           1,
           68759.57,
           0
          ],
          [
           517,
           "Male",
           41,
           2,
           0,
           2,
           0,
           1,
           75937.47,
           0
          ],
          [
           747,
           "Male",
           58,
           7,
           116313.57,
           1,
           1,
           1,
           190696.35,
           1
          ],
          [
           792,
           "Male",
           36,
           5,
           92140.15,
           1,
           0,
           1,
           67468.67,
           0
          ],
          [
           688,
           "Male",
           26,
           1,
           0,
           2,
           1,
           1,
           104435.94,
           0
          ],
          [
           714,
           "Male",
           42,
           2,
           177640.09,
           1,
           0,
           1,
           47166.55,
           0
          ],
          [
           704,
           "Male",
           48,
           8,
           167997.6,
           1,
           1,
           1,
           173498.45,
           0
          ],
          [
           698,
           "Male",
           36,
           2,
           82275.35,
           2,
           1,
           1,
           93249.26,
           0
          ],
          [
           611,
           "Male",
           49,
           3,
           0,
           2,
           1,
           1,
           142917.54,
           0
          ],
          [
           743,
           "Female",
           34,
           1,
           131736.88,
           1,
           1,
           1,
           108543.21,
           0
          ],
          [
           702,
           "Female",
           46,
           9,
           98444.19,
           1,
           0,
           1,
           109563.28,
           0
          ],
          [
           683,
           "Female",
           35,
           6,
           187530.66,
           2,
           1,
           1,
           37976.36,
           0
          ],
          [
           601,
           "Female",
           42,
           9,
           133636.16,
           1,
           0,
           1,
           103315.74,
           0
          ],
          [
           605,
           "Male",
           52,
           7,
           0,
           2,
           1,
           1,
           173952.5,
           0
          ],
          [
           671,
           "Female",
           44,
           0,
           84745.03,
           2,
           0,
           1,
           34673.98,
           0
          ],
          [
           614,
           "Female",
           31,
           7,
           120599.38,
           2,
           1,
           1,
           46163.44,
           0
          ],
          [
           511,
           "Female",
           29,
           9,
           0,
           2,
           0,
           1,
           140676.98,
           0
          ],
          [
           850,
           "Male",
           39,
           4,
           127771.35,
           2,
           0,
           1,
           151738.54,
           0
          ],
          [
           628,
           "Male",
           69,
           5,
           0,
           2,
           1,
           1,
           181964.6,
           0
          ],
          [
           598,
           "Male",
           53,
           10,
           167772.96,
           1,
           1,
           1,
           136886.86,
           0
          ],
          [
           681,
           "Male",
           65,
           7,
           134714.7,
           2,
           0,
           1,
           190419.81,
           0
          ],
          [
           516,
           "Female",
           33,
           3,
           0,
           2,
           1,
           1,
           58685.59,
           0
          ],
          [
           421,
           "Male",
           28,
           8,
           122384.22,
           3,
           1,
           1,
           89017.38,
           1
          ],
          [
           497,
           "Male",
           27,
           9,
           75263.16,
           1,
           1,
           1,
           164825.04,
           0
          ],
          [
           732,
           "Female",
           69,
           9,
           137453.43,
           1,
           0,
           1,
           110932.24,
           1
          ],
          [
           464,
           "Male",
           33,
           8,
           164284.72,
           2,
           1,
           1,
           3710.34,
           0
          ],
          [
           680,
           "Female",
           47,
           5,
           0,
           2,
           1,
           1,
           179843.33,
           0
          ],
          [
           758,
           "Male",
           56,
           1,
           0,
           2,
           1,
           1,
           10643.38,
           0
          ],
          [
           630,
           "Female",
           31,
           2,
           112373.49,
           2,
           1,
           1,
           131167.98,
           0
          ],
          [
           684,
           "Female",
           34,
           6,
           0,
           2,
           1,
           1,
           130928.22,
           0
          ],
          [
           708,
           "Female",
           41,
           5,
           0,
           1,
           0,
           1,
           157003.99,
           0
          ],
          [
           732,
           "Female",
           29,
           1,
           154333.82,
           1,
           1,
           1,
           138527.56,
           0
          ],
          [
           634,
           "Male",
           37,
           3,
           111432.77,
           2,
           1,
           1,
           167032.49,
           0
          ],
          [
           694,
           "Female",
           37,
           3,
           0,
           2,
           1,
           1,
           147012.22,
           0
          ],
          [
           686,
           "Female",
           56,
           5,
           111642.08,
           1,
           1,
           1,
           80553.87,
           0
          ],
          [
           553,
           "Female",
           48,
           3,
           0,
           1,
           0,
           1,
           30730.95,
           1
          ],
          [
           660,
           "Male",
           35,
           8,
           58641.43,
           1,
           0,
           1,
           198674.08,
           0
          ],
          [
           611,
           "Male",
           51,
           1,
           122874.74,
           1,
           1,
           1,
           149648.45,
           0
          ],
          [
           705,
           "Male",
           25,
           0,
           97544.29,
           1,
           0,
           1,
           59887.15,
           0
          ],
          [
           511,
           "Female",
           41,
           8,
           153895.65,
           1,
           1,
           1,
           39087.42,
           0
          ],
          [
           653,
           "Female",
           43,
           6,
           0,
           2,
           1,
           1,
           7330.59,
           0
          ],
          [
           675,
           "Female",
           57,
           8,
           0,
           2,
           0,
           1,
           95463.29,
           0
          ],
          [
           741,
           "Male",
           39,
           7,
           143637.58,
           2,
           0,
           1,
           174227.66,
           0
          ],
          [
           456,
           "Male",
           32,
           9,
           147506.25,
           1,
           1,
           1,
           135399.21,
           0
          ],
          [
           725,
           "Male",
           41,
           7,
           113980.21,
           1,
           1,
           1,
           116704.25,
           0
          ],
          [
           717,
           "Male",
           53,
           6,
           0,
           2,
           0,
           1,
           97614.87,
           0
          ],
          [
           678,
           "Female",
           25,
           10,
           76968.12,
           2,
           0,
           1,
           131501.72,
           0
          ],
          [
           545,
           "Male",
           38,
           1,
           88293.13,
           2,
           1,
           1,
           24302.95,
           0
          ],
          [
           435,
           "Male",
           36,
           4,
           0,
           1,
           1,
           1,
           197015.2,
           0
          ],
          [
           535,
           "Female",
           40,
           8,
           0,
           1,
           1,
           1,
           27689.77,
           0
          ],
          [
           722,
           "Female",
           35,
           2,
           163943.89,
           2,
           1,
           1,
           15068.18,
           0
          ],
          [
           645,
           "Female",
           38,
           5,
           101430.3,
           2,
           0,
           1,
           4400.32,
           0
          ],
          [
           502,
           "Female",
           32,
           1,
           173340.83,
           1,
           0,
           1,
           122763.95,
           0
          ],
          [
           652,
           "Female",
           42,
           4,
           0,
           2,
           1,
           1,
           38152.01,
           0
          ],
          [
           518,
           "Female",
           45,
           9,
           105525.65,
           2,
           1,
           1,
           73418.29,
           0
          ],
          [
           515,
           "Male",
           65,
           7,
           92113.61,
           1,
           1,
           1,
           142548.33,
           0
          ],
          [
           521,
           "Male",
           25,
           7,
           0,
           2,
           1,
           1,
           157878.67,
           0
          ],
          [
           585,
           "Male",
           42,
           2,
           0,
           2,
           1,
           1,
           18657.77,
           0
          ],
          [
           733,
           "Male",
           74,
           3,
           106545.53,
           1,
           1,
           1,
           134589.58,
           0
          ],
          [
           542,
           "Female",
           43,
           8,
           145618.37,
           1,
           0,
           1,
           10350.74,
           0
          ],
          [
           435,
           "Male",
           32,
           2,
           57017.06,
           2,
           1,
           1,
           5907.11,
           0
          ],
          [
           703,
           "Female",
           51,
           3,
           0,
           3,
           1,
           1,
           77294.56,
           1
          ],
          [
           728,
           "Male",
           32,
           5,
           61825.5,
           1,
           1,
           1,
           156124.93,
           0
          ],
          [
           643,
           "Male",
           36,
           7,
           161064.64,
           2,
           0,
           1,
           84294.82,
           0
          ],
          [
           645,
           "Female",
           48,
           7,
           90612.34,
           1,
           1,
           1,
           149139.13,
           0
          ],
          [
           672,
           "Female",
           45,
           9,
           0,
           1,
           1,
           1,
           92027.69,
           1
          ],
          [
           685,
           "Male",
           33,
           6,
           174912.72,
           1,
           1,
           1,
           43932.54,
           0
          ],
          [
           685,
           "Male",
           31,
           10,
           135213.71,
           1,
           1,
           1,
           125777.28,
           0
          ],
          [
           604,
           "Male",
           36,
           6,
           116229.85,
           2,
           1,
           1,
           79633.38,
           0
          ],
          [
           648,
           "Female",
           53,
           6,
           111201.41,
           1,
           1,
           1,
           121542.29,
           0
          ],
          [
           569,
           "Male",
           35,
           10,
           124525.52,
           1,
           1,
           1,
           193793.78,
           0
          ],
          [
           475,
           "Male",
           39,
           6,
           0,
           1,
           1,
           1,
           56999.9,
           1
          ],
          [
           646,
           "Female",
           45,
           3,
           47134.75,
           1,
           1,
           1,
           57236.44,
           0
          ],
          [
           729,
           "Male",
           44,
           5,
           0,
           2,
           0,
           1,
           9200.54,
           0
          ],
          [
           572,
           "Female",
           19,
           1,
           138657.08,
           1,
           1,
           1,
           16161.82,
           0
          ],
          [
           785,
           "Female",
           34,
           9,
           70302.48,
           1,
           1,
           1,
           68600.36,
           0
          ],
          [
           714,
           "Female",
           36,
           1,
           101609.01,
           2,
           1,
           1,
           447.73,
           0
          ],
          [
           738,
           "Male",
           35,
           3,
           0,
           1,
           1,
           1,
           15650.73,
           0
          ],
          [
           639,
           "Male",
           38,
           5,
           130170.82,
           1,
           1,
           1,
           149599.62,
           0
          ],
          [
           520,
           "Male",
           61,
           8,
           133802.29,
           2,
           1,
           1,
           90304.01,
           0
          ],
          [
           564,
           "Male",
           41,
           9,
           103522.75,
           2,
           1,
           1,
           34338.21,
           0
          ],
          [
           512,
           "Male",
           36,
           1,
           0,
           1,
           0,
           1,
           135482.26,
           1
          ],
          [
           592,
           "Male",
           37,
           9,
           0,
           3,
           1,
           1,
           10656.89,
           0
          ],
          [
           619,
           "Female",
           38,
           3,
           0,
           2,
           0,
           1,
           116467.35,
           0
          ],
          [
           775,
           "Male",
           52,
           8,
           109922.61,
           1,
           1,
           1,
           96823.32,
           1
          ],
          [
           850,
           "Female",
           44,
           5,
           128605.32,
           1,
           0,
           1,
           171096.2,
           0
          ],
          [
           577,
           "Female",
           37,
           4,
           0,
           1,
           1,
           1,
           79881.39,
           0
          ],
          [
           710,
           "Male",
           35,
           1,
           106518.52,
           1,
           1,
           1,
           127951.81,
           0
          ],
          [
           697,
           "Female",
           25,
           5,
           82931.85,
           2,
           1,
           1,
           128373.88,
           0
          ],
          [
           715,
           "Female",
           38,
           5,
           118590.41,
           1,
           1,
           1,
           5684.17,
           1
          ],
          [
           659,
           "Male",
           67,
           4,
           145981.87,
           1,
           1,
           1,
           131043.2,
           0
          ],
          [
           635,
           "Female",
           48,
           8,
           130796.33,
           2,
           1,
           1,
           43250.3,
           0
          ],
          [
           571,
           "Female",
           66,
           9,
           111577.01,
           1,
           0,
           1,
           189271.9,
           0
          ],
          [
           694,
           "Male",
           39,
           0,
           107042.74,
           1,
           1,
           1,
           102284.2,
           0
          ],
          [
           665,
           "Female",
           42,
           2,
           156371.61,
           2,
           0,
           1,
           156774.94,
           1
          ],
          [
           807,
           "Female",
           43,
           0,
           0,
           2,
           0,
           1,
           85523.24,
           0
          ],
          [
           771,
           "Female",
           67,
           8,
           0,
           2,
           1,
           1,
           51219.8,
           0
          ],
          [
           629,
           "Female",
           37,
           6,
           129101.3,
           1,
           1,
           1,
           23971.33,
           0
          ],
          [
           850,
           "Female",
           31,
           1,
           108822.4,
           1,
           1,
           1,
           132173.31,
           0
          ],
          [
           642,
           "Male",
           32,
           7,
           100433.8,
           1,
           1,
           1,
           39768.59,
           0
          ],
          [
           683,
           "Female",
           43,
           4,
           115888.04,
           1,
           1,
           1,
           117349.19,
           1
          ],
          [
           663,
           "Female",
           42,
           5,
           124626.07,
           1,
           1,
           1,
           78004.5,
           0
          ],
          [
           563,
           "Female",
           34,
           6,
           139810.34,
           1,
           1,
           1,
           152417.79,
           0
          ],
          [
           649,
           "Male",
           70,
           9,
           116854.71,
           2,
           0,
           1,
           107125.79,
           0
          ],
          [
           638,
           "Female",
           48,
           10,
           138333.03,
           1,
           1,
           1,
           47679.14,
           0
          ],
          [
           723,
           "Male",
           25,
           3,
           0,
           2,
           1,
           1,
           134509.47,
           0
          ],
          [
           750,
           "Female",
           38,
           7,
           97257.41,
           2,
           0,
           1,
           179883.04,
           0
          ],
          [
           750,
           "Female",
           36,
           8,
           112940.07,
           1,
           0,
           1,
           9855.81,
           0
          ],
          [
           668,
           "Male",
           32,
           7,
           0,
           2,
           1,
           1,
           777.37,
           0
          ],
          [
           773,
           "Male",
           25,
           1,
           124532.78,
           2,
           0,
           1,
           11723.57,
           0
          ],
          [
           551,
           "Male",
           31,
           9,
           82293.82,
           2,
           1,
           1,
           91565.25,
           0
          ],
          [
           659,
           "Male",
           31,
           7,
           149620.88,
           2,
           1,
           1,
           104533.51,
           0
          ],
          [
           615,
           "Female",
           35,
           2,
           97440.02,
           2,
           1,
           1,
           139816.1,
           0
          ],
          [
           752,
           "Female",
           42,
           3,
           65046.08,
           2,
           0,
           1,
           140139.28,
           0
          ],
          [
           610,
           "Male",
           29,
           9,
           0,
           3,
           0,
           1,
           83912.24,
           0
          ],
          [
           811,
           "Male",
           44,
           3,
           0,
           2,
           0,
           1,
           78439.73,
           0
          ],
          [
           587,
           "Male",
           62,
           7,
           121286.27,
           1,
           0,
           1,
           6776.92,
           0
          ],
          [
           811,
           "Female",
           28,
           4,
           167738.82,
           2,
           1,
           1,
           9903.42,
           0
          ]
         ],
         "hovertemplate": "IsActive=%{customdata[7]}<br>Exit=%{customdata[9]}<br>Age=%{customdata[2]}<br>CreditScore=%{customdata[0]}<br>Gender=%{customdata[1]}<br>Tenure=%{customdata[3]}<br>Balance=%{customdata[4]}<br>NumOfProducts=%{customdata[5]}<br>HasCard=%{customdata[6]}<br>EstimatedSalary=%{customdata[8]}<extra></extra>",
         "legendgroup": "1",
         "marker": {
          "color": "#636efa"
         },
         "name": "1",
         "offsetgroup": "1",
         "orientation": "v",
         "points": "all",
         "scalegroup": "True",
         "showlegend": true,
         "type": "violin",
         "x": [
          1,
          0,
          0,
          0,
          0,
          0,
          0,
          0,
          0,
          0,
          0,
          0,
          0,
          0,
          0,
          0,
          0,
          0,
          0,
          0,
          0,
          0,
          0,
          0,
          0,
          0,
          0,
          1,
          1,
          0,
          0,
          0,
          0,
          0,
          0,
          0,
          0,
          0,
          0,
          0,
          0,
          0,
          0,
          0,
          0,
          0,
          1,
          0,
          0,
          0,
          0,
          0,
          0,
          1,
          1,
          0,
          0,
          0,
          0,
          1,
          0,
          0,
          1,
          0,
          0,
          0,
          0,
          0,
          0,
          0,
          0,
          1,
          0,
          0,
          0,
          0,
          0,
          0,
          0,
          0,
          0,
          0,
          0,
          0,
          0,
          0,
          0,
          0,
          0,
          1,
          0,
          0,
          0,
          0,
          0,
          0,
          0,
          0,
          1,
          1,
          0,
          0,
          0,
          0,
          0,
          1,
          1,
          0,
          0,
          0,
          1,
          0,
          1,
          0,
          0,
          0,
          0,
          0,
          0,
          0,
          1,
          0,
          0,
          0,
          0,
          0,
          0,
          0,
          0,
          0,
          0,
          0,
          0,
          0,
          0,
          0,
          0,
          0,
          1,
          0,
          0,
          0,
          1,
          0,
          0,
          0,
          0,
          0,
          0,
          0,
          0,
          0,
          0,
          1,
          0,
          0,
          0,
          0,
          0,
          0,
          0,
          0,
          0,
          0,
          1,
          0,
          0,
          0,
          0,
          0,
          0,
          0,
          0,
          0,
          0,
          0,
          0,
          1,
          0,
          0,
          0,
          0,
          0,
          0,
          0,
          0,
          0,
          0,
          0,
          1,
          0,
          0,
          0,
          0,
          0,
          0,
          0,
          0,
          0,
          0,
          0,
          0,
          0,
          0,
          0,
          0,
          0,
          0,
          1,
          0,
          0,
          1,
          0,
          0,
          0,
          0,
          0,
          0,
          0,
          0,
          0,
          0,
          1,
          0,
          0,
          1,
          0,
          0,
          0,
          0,
          0,
          0,
          0,
          0,
          0,
          1,
          0,
          0,
          0,
          0,
          0,
          0,
          0,
          0,
          1,
          0,
          0,
          0,
          0,
          0,
          0,
          0,
          1,
          1,
          1,
          0,
          0,
          0,
          0,
          0,
          0,
          0,
          0,
          0,
          0,
          1,
          0,
          0,
          0,
          1,
          0,
          0,
          1,
          1,
          0,
          0,
          0,
          0,
          0,
          0,
          0,
          0,
          0,
          0,
          0,
          1,
          0,
          0,
          0,
          0,
          1,
          0,
          0,
          1,
          0,
          0,
          0,
          0,
          1,
          0,
          0,
          0,
          0,
          0,
          0,
          0,
          0,
          0,
          0,
          0,
          0,
          0,
          0,
          0,
          0,
          0,
          0,
          0,
          0,
          0,
          0,
          0,
          0,
          0,
          1,
          0,
          0,
          0,
          0,
          0,
          0,
          0,
          0,
          0,
          0,
          0,
          0,
          0,
          0,
          0,
          0,
          0,
          0,
          0,
          1,
          0,
          0,
          0,
          0,
          0,
          0,
          0,
          0,
          1,
          1,
          0,
          0,
          0,
          0,
          0,
          0,
          0,
          0,
          1,
          1,
          0,
          0,
          0,
          0,
          0,
          1,
          0,
          0,
          0,
          0,
          0,
          0,
          0,
          0,
          0,
          0,
          0,
          0,
          0,
          0,
          1,
          0,
          1,
          0,
          0,
          0,
          0,
          0,
          1,
          0,
          0,
          0,
          0,
          0,
          0,
          0,
          0,
          0,
          0,
          0,
          0,
          0,
          0,
          0,
          0,
          0,
          0,
          0,
          1,
          0,
          1,
          0,
          0,
          0,
          0,
          0,
          0,
          0,
          0,
          0,
          0,
          1,
          0,
          0,
          0,
          0,
          0,
          0,
          0,
          0,
          0,
          0,
          0,
          0,
          0,
          0,
          0,
          0,
          0,
          0,
          0,
          0,
          0,
          0,
          0,
          0,
          0,
          1,
          0,
          0,
          0,
          1,
          0,
          0,
          0,
          0,
          0,
          1,
          0,
          0,
          0,
          0,
          0,
          0,
          0,
          0,
          0,
          1,
          0,
          0,
          1,
          0,
          0,
          0,
          0,
          1,
          0,
          0,
          0,
          0,
          1,
          0,
          0,
          0,
          0,
          0,
          1,
          0,
          0,
          0,
          0,
          0,
          0,
          0,
          0,
          0,
          0,
          0,
          0,
          0,
          0,
          0,
          0,
          0
         ],
         "x0": " ",
         "xaxis": "x",
         "y": [
          42,
          41,
          43,
          50,
          44,
          27,
          35,
          45,
          24,
          24,
          41,
          46,
          38,
          25,
          36,
          43,
          29,
          36,
          42,
          29,
          31,
          33,
          36,
          41,
          61,
          61,
          32,
          27,
          39,
          38,
          43,
          51,
          56,
          26,
          36,
          43,
          35,
          37,
          25,
          36,
          55,
          32,
          33,
          34,
          75,
          28,
          44,
          29,
          42,
          35,
          41,
          29,
          40,
          65,
          46,
          32,
          36,
          30,
          36,
          28,
          30,
          48,
          52,
          34,
          33,
          38,
          25,
          39,
          50,
          34,
          40,
          35,
          34,
          43,
          21,
          32,
          43,
          28,
          73,
          22,
          36,
          31,
          40,
          35,
          30,
          40,
          45,
          65,
          42,
          50,
          37,
          30,
          35,
          32,
          37,
          57,
          30,
          42,
          50,
          38,
          37,
          34,
          45,
          31,
          34,
          47,
          54,
          31,
          30,
          42,
          45,
          30,
          39,
          72,
          37,
          20,
          67,
          29,
          28,
          37,
          67,
          26,
          24,
          34,
          79,
          37,
          41,
          34,
          30,
          38,
          42,
          26,
          31,
          34,
          41,
          34,
          28,
          37,
          62,
          35,
          39,
          29,
          35,
          42,
          22,
          26,
          42,
          38,
          31,
          58,
          33,
          33,
          31,
          43,
          80,
          36,
          42,
          57,
          30,
          35,
          26,
          50,
          44,
          32,
          40,
          47,
          59,
          32,
          39,
          32,
          39,
          25,
          45,
          57,
          41,
          58,
          28,
          45,
          50,
          68,
          33,
          35,
          34,
          42,
          75,
          31,
          31,
          35,
          39,
          45,
          50,
          30,
          66,
          62,
          45,
          29,
          38,
          24,
          37,
          33,
          39,
          38,
          52,
          36,
          23,
          37,
          38,
          31,
          41,
          39,
          45,
          57,
          41,
          51,
          42,
          34,
          46,
          26,
          40,
          40,
          39,
          33,
          43,
          37,
          29,
          32,
          26,
          32,
          35,
          27,
          31,
          38,
          29,
          34,
          35,
          39,
          30,
          55,
          29,
          41,
          38,
          36,
          40,
          26,
          58,
          32,
          54,
          44,
          22,
          37,
          31,
          34,
          51,
          56,
          48,
          58,
          56,
          37,
          32,
          31,
          43,
          30,
          57,
          26,
          32,
          62,
          37,
          26,
          42,
          49,
          49,
          24,
          47,
          51,
          53,
          70,
          29,
          61,
          36,
          38,
          36,
          63,
          31,
          31,
          44,
          49,
          40,
          27,
          30,
          39,
          33,
          57,
          44,
          38,
          34,
          26,
          39,
          34,
          43,
          26,
          72,
          37,
          29,
          53,
          35,
          64,
          38,
          26,
          42,
          37,
          40,
          53,
          36,
          48,
          29,
          47,
          44,
          48,
          43,
          27,
          30,
          38,
          49,
          52,
          48,
          31,
          25,
          25,
          54,
          64,
          41,
          57,
          31,
          46,
          41,
          33,
          31,
          29,
          46,
          42,
          42,
          32,
          35,
          39,
          45,
          70,
          55,
          58,
          41,
          31,
          34,
          45,
          57,
          62,
          57,
          36,
          33,
          49,
          36,
          36,
          35,
          35,
          43,
          56,
          42,
          36,
          42,
          37,
          25,
          24,
          60,
          47,
          67,
          36,
          24,
          24,
          29,
          60,
          40,
          38,
          46,
          41,
          35,
          28,
          58,
          43,
          82,
          63,
          32,
          33,
          28,
          28,
          41,
          58,
          36,
          26,
          42,
          48,
          36,
          49,
          34,
          46,
          35,
          42,
          52,
          44,
          31,
          29,
          39,
          69,
          53,
          65,
          33,
          28,
          27,
          69,
          33,
          47,
          56,
          31,
          34,
          41,
          29,
          37,
          37,
          56,
          48,
          35,
          51,
          25,
          41,
          43,
          57,
          39,
          32,
          41,
          53,
          25,
          38,
          36,
          40,
          35,
          38,
          32,
          42,
          45,
          65,
          25,
          42,
          74,
          43,
          32,
          51,
          32,
          36,
          48,
          45,
          33,
          31,
          36,
          53,
          35,
          39,
          45,
          44,
          19,
          34,
          36,
          35,
          38,
          61,
          41,
          36,
          37,
          38,
          52,
          44,
          37,
          35,
          25,
          38,
          67,
          48,
          66,
          39,
          42,
          43,
          67,
          37,
          31,
          32,
          43,
          42,
          34,
          70,
          48,
          25,
          38,
          36,
          32,
          25,
          31,
          31,
          35,
          42,
          29,
          44,
          62,
          28
         ],
         "y0": " ",
         "yaxis": "y"
        },
        {
         "alignmentgroup": "True",
         "box": {
          "visible": true
         },
         "customdata": [
          [
           502,
           "Female",
           42,
           8,
           159660.8,
           3,
           1,
           0,
           113931.57,
           1
          ],
          [
           699,
           "Female",
           39,
           1,
           0,
           2,
           0,
           0,
           93826.63,
           0
          ],
          [
           645,
           "Male",
           44,
           8,
           113755.78,
           2,
           1,
           0,
           149756.71,
           1
          ],
          [
           376,
           "Female",
           29,
           4,
           115046.74,
           4,
           1,
           0,
           119346.88,
           1
          ],
          [
           528,
           "Male",
           31,
           6,
           102016.72,
           2,
           0,
           0,
           80181.12,
           0
          ],
          [
           497,
           "Male",
           24,
           3,
           0,
           2,
           1,
           0,
           76390.01,
           0
          ],
          [
           476,
           "Female",
           34,
           10,
           0,
           2,
           1,
           0,
           26260.98,
           0
          ],
          [
           549,
           "Female",
           25,
           5,
           0,
           2,
           0,
           0,
           190857.79,
           0
          ],
          [
           653,
           "Male",
           58,
           1,
           132602.88,
           1,
           1,
           0,
           5097.67,
           1
          ],
          [
           587,
           "Male",
           45,
           6,
           0,
           1,
           0,
           0,
           158684.81,
           0
          ],
          [
           636,
           "Female",
           32,
           8,
           0,
           2,
           1,
           0,
           138555.46,
           0
          ],
          [
           510,
           "Female",
           38,
           4,
           0,
           1,
           1,
           0,
           118913.53,
           1
          ],
          [
           571,
           "Male",
           44,
           9,
           0,
           2,
           0,
           0,
           38433.35,
           0
          ],
          [
           591,
           "Female",
           39,
           3,
           0,
           3,
           1,
           0,
           140469.38,
           1
          ],
          [
           553,
           "Male",
           41,
           9,
           110112.54,
           2,
           0,
           0,
           81898.81,
           0
          ],
          [
           475,
           "Female",
           45,
           0,
           134264.04,
           1,
           1,
           0,
           27822.99,
           1
          ],
          [
           472,
           "Male",
           40,
           4,
           0,
           1,
           1,
           0,
           70154.22,
           0
          ],
          [
           465,
           "Female",
           51,
           8,
           122522.32,
           1,
           0,
           0,
           181297.65,
           1
          ],
          [
           834,
           "Female",
           49,
           2,
           131394.56,
           1,
           0,
           0,
           194365.76,
           1
          ],
          [
           776,
           "Female",
           37,
           2,
           103769.22,
           2,
           1,
           0,
           194099.12,
           0
          ],
          [
           698,
           "Male",
           44,
           10,
           116363.37,
           2,
           1,
           0,
           198059.16,
           0
          ],
          [
           585,
           "Male",
           36,
           5,
           146050.97,
           2,
           0,
           0,
           86424.57,
           0
          ],
          [
           788,
           "Female",
           33,
           5,
           0,
           2,
           0,
           0,
           116978.19,
           0
          ],
          [
           655,
           "Male",
           41,
           8,
           125561.97,
           1,
           0,
           0,
           164040.94,
           1
          ],
          [
           601,
           "Male",
           42,
           1,
           98495.72,
           1,
           1,
           0,
           40014.76,
           1
          ],
          [
           656,
           "Male",
           45,
           5,
           127864.4,
           1,
           1,
           0,
           87107.57,
           0
          ],
          [
           725,
           "Male",
           19,
           0,
           75888.2,
           1,
           0,
           0,
           45613.75,
           0
          ],
          [
           511,
           "Female",
           66,
           4,
           0,
           1,
           1,
           0,
           1643.11,
           1
          ],
          [
           742,
           "Male",
           35,
           5,
           136857,
           1,
           0,
           0,
           84509.57,
           0
          ],
          [
           687,
           "Female",
           27,
           9,
           152328.88,
           2,
           0,
           0,
           126494.82,
           0
          ],
          [
           555,
           "Male",
           33,
           1,
           56084.69,
           2,
           0,
           0,
           178798.13,
           0
          ],
          [
           581,
           "Female",
           34,
           1,
           101633.04,
           1,
           1,
           0,
           110431.51,
           0
          ],
          [
           675,
           "Female",
           21,
           8,
           98373.26,
           1,
           1,
           0,
           18203,
           0
          ],
          [
           738,
           "Male",
           58,
           2,
           133745.44,
           4,
           1,
           0,
           28373.86,
           1
          ],
          [
           813,
           "Male",
           29,
           6,
           0,
           1,
           1,
           0,
           33953.87,
           0
          ],
          [
           735,
           "Female",
           21,
           1,
           178718.19,
           2,
           1,
           0,
           22388,
           0
          ],
          [
           416,
           "Female",
           41,
           10,
           122189.66,
           2,
           1,
           0,
           98301.61,
           0
          ],
          [
           665,
           "Female",
           34,
           1,
           96645.54,
           2,
           0,
           0,
           171413.66,
           0
          ],
          [
           777,
           "Female",
           32,
           2,
           0,
           1,
           1,
           0,
           136458.19,
           1
          ],
          [
           543,
           "Female",
           36,
           3,
           0,
           2,
           0,
           0,
           26019.59,
           0
          ],
          [
           493,
           "Female",
           46,
           4,
           0,
           2,
           1,
           0,
           1907.66,
           0
          ],
          [
           750,
           "Male",
           22,
           3,
           121681.82,
           1,
           1,
           0,
           128643.35,
           1
          ],
          [
           729,
           "Male",
           30,
           9,
           0,
           2,
           1,
           0,
           151869.35,
           0
          ],
          [
           646,
           "Female",
           46,
           4,
           0,
           3,
           1,
           0,
           93251.42,
           1
          ],
          [
           808,
           "Male",
           45,
           7,
           118626.55,
           2,
           1,
           0,
           147132.46,
           0
          ],
          [
           524,
           "Female",
           36,
           10,
           0,
           2,
           1,
           0,
           109614.57,
           0
          ],
          [
           710,
           "Male",
           22,
           8,
           0,
           2,
           0,
           0,
           99645.04,
           0
          ],
          [
           413,
           "Male",
           34,
           9,
           0,
           2,
           0,
           0,
           6534.18,
           0
          ],
          [
           623,
           "Female",
           44,
           6,
           0,
           2,
           0,
           0,
           167162.43,
           0
          ],
          [
           738,
           "Male",
           31,
           9,
           82674.15,
           1,
           1,
           0,
           41970.72,
           0
          ],
          [
           528,
           "Male",
           36,
           7,
           0,
           2,
           1,
           0,
           60536.56,
           0
          ],
          [
           605,
           "Male",
           33,
           5,
           150092.8,
           1,
           0,
           0,
           71862.79,
           0
          ],
          [
           479,
           "Male",
           35,
           9,
           92833.89,
           1,
           1,
           0,
           99449.86,
           1
          ],
          [
           538,
           "Male",
           39,
           7,
           108055.1,
           2,
           1,
           0,
           27231.26,
           0
          ],
          [
           562,
           "Male",
           42,
           2,
           100238.35,
           1,
           0,
           0,
           86797.41,
           0
          ],
          [
           668,
           "Female",
           37,
           6,
           167864.4,
           1,
           1,
           0,
           115638.29,
           0
          ],
          [
           506,
           "Female",
           41,
           1,
           0,
           2,
           1,
           0,
           31766.3,
           0
          ],
          [
           524,
           "Female",
           31,
           8,
           107818.63,
           1,
           1,
           0,
           199725.39,
           1
          ],
          [
           699,
           "Male",
           34,
           4,
           185173.81,
           2,
           1,
           0,
           120834.48,
           0
          ],
          [
           828,
           "Male",
           34,
           8,
           129433.34,
           2,
           0,
           0,
           38131.77,
           0
          ],
          [
           674,
           "Male",
           39,
           6,
           120193.42,
           1,
           0,
           0,
           100130.95,
           0
          ],
          [
           656,
           "Female",
           39,
           6,
           0,
           2,
           1,
           0,
           141069.88,
           0
          ],
          [
           625,
           "Female",
           28,
           3,
           0,
           1,
           0,
           0,
           183646.41,
           0
          ],
          [
           432,
           "Male",
           42,
           9,
           152603.45,
           1,
           1,
           0,
           110265.24,
           1
          ],
          [
           625,
           "Male",
           56,
           0,
           148507.24,
           1,
           1,
           0,
           46824.08,
           1
          ],
          [
           828,
           "Female",
           41,
           7,
           0,
           2,
           1,
           0,
           171378.77,
           0
          ],
          [
           770,
           "Male",
           24,
           9,
           101827.07,
           1,
           1,
           0,
           167256.35,
           0
          ],
          [
           584,
           "Female",
           48,
           2,
           213146.2,
           1,
           1,
           0,
           75161.25,
           1
          ],
          [
           756,
           "Male",
           44,
           10,
           137452.09,
           1,
           1,
           0,
           189543.9,
           0
          ],
          [
           793,
           "Male",
           52,
           2,
           0,
           1,
           1,
           0,
           159123.82,
           1
          ],
          [
           691,
           "Female",
           31,
           5,
           40915.55,
           1,
           1,
           0,
           126213.84,
           1
          ],
          [
           635,
           "Female",
           29,
           8,
           138296.94,
           2,
           1,
           0,
           141075.51,
           0
          ],
          [
           650,
           "Male",
           37,
           5,
           106967.18,
           1,
           0,
           0,
           24495.03,
           0
          ],
          [
           735,
           "Male",
           44,
           9,
           120681.63,
           1,
           1,
           0,
           74836.34,
           0
          ],
          [
           754,
           "Female",
           32,
           7,
           0,
           2,
           1,
           0,
           89520.75,
           0
          ],
          [
           535,
           "Female",
           48,
           9,
           0,
           1,
           1,
           0,
           149892.79,
           1
          ],
          [
           716,
           "Male",
           42,
           8,
           0,
           2,
           1,
           0,
           180800.42,
           0
          ],
          [
           539,
           "Male",
           37,
           2,
           127609.59,
           1,
           1,
           0,
           98646.22,
           0
          ],
          [
           706,
           "Male",
           57,
           7,
           0,
           1,
           1,
           0,
           17941.16,
           1
          ],
          [
           758,
           "Female",
           33,
           7,
           0,
           2,
           0,
           0,
           82996.47,
           0
          ],
          [
           631,
           "Female",
           33,
           4,
           123246.7,
           1,
           0,
           0,
           112687.57,
           0
          ],
          [
           684,
           "Male",
           30,
           2,
           0,
           2,
           1,
           0,
           83473.82,
           0
          ],
          [
           800,
           "Female",
           49,
           7,
           108007.36,
           1,
           0,
           0,
           47125.11,
           0
          ],
          [
           683,
           "Male",
           29,
           0,
           133702.89,
           1,
           1,
           0,
           55582.54,
           1
          ],
          [
           704,
           "Female",
           24,
           7,
           113034.22,
           1,
           1,
           0,
           162503.48,
           1
          ],
          [
           615,
           "Female",
           41,
           9,
           109013.23,
           1,
           1,
           0,
           196499.96,
           0
          ],
          [
           667,
           "Female",
           39,
           2,
           0,
           2,
           1,
           0,
           40721.24,
           1
          ],
          [
           682,
           "Male",
           24,
           9,
           57929.81,
           2,
           0,
           0,
           53134.3,
           0
          ],
          [
           484,
           "Female",
           29,
           4,
           130114.39,
           1,
           1,
           0,
           164017.89,
           0
          ],
          [
           628,
           "Male",
           27,
           5,
           95826.49,
           2,
           1,
           0,
           155996.96,
           0
          ],
          [
           480,
           "Male",
           44,
           10,
           129608.57,
           1,
           1,
           0,
           5472.7,
           1
          ],
          [
           578,
           "Male",
           30,
           4,
           169462.09,
           1,
           1,
           0,
           112187.11,
           0
          ],
          [
           606,
           "Male",
           36,
           5,
           190479.48,
           2,
           0,
           0,
           179351.89,
           0
          ],
          [
           754,
           "Female",
           55,
           3,
           161608.81,
           1,
           1,
           0,
           8080.85,
           1
          ],
          [
           778,
           "Female",
           45,
           1,
           162150.42,
           2,
           1,
           0,
           174531.27,
           0
          ],
          [
           514,
           "Male",
           32,
           8,
           0,
           2,
           1,
           0,
           95857.18,
           0
          ],
          [
           730,
           "Female",
           39,
           1,
           99010.67,
           1,
           1,
           0,
           194945.8,
           0
          ],
          [
           687,
           "Female",
           34,
           7,
           111388.18,
           2,
           1,
           0,
           148564.76,
           0
          ],
          [
           715,
           "Female",
           41,
           8,
           56214.85,
           2,
           0,
           0,
           92982.61,
           1
          ],
          [
           512,
           "Female",
           36,
           3,
           84327.77,
           2,
           1,
           0,
           17675.36,
           0
          ],
          [
           479,
           "Male",
           40,
           1,
           0,
           2,
           0,
           0,
           114996.43,
           0
          ],
          [
           601,
           "Male",
           32,
           8,
           93012.89,
           1,
           1,
           0,
           86957.42,
           0
          ],
          [
           580,
           "Male",
           29,
           9,
           61710.44,
           2,
           1,
           0,
           128077.8,
           0
          ],
          [
           521,
           "Male",
           35,
           6,
           96423.84,
           1,
           1,
           0,
           10488.44,
           0
          ],
          [
           512,
           "Male",
           33,
           3,
           176666.62,
           1,
           1,
           0,
           94670.77,
           0
          ],
          [
           608,
           "Female",
           41,
           3,
           89763.84,
           1,
           0,
           0,
           199304.74,
           1
          ],
          [
           643,
           "Male",
           45,
           5,
           0,
           1,
           1,
           0,
           142513.5,
           1
          ],
          [
           689,
           "Male",
           33,
           2,
           161814.64,
           2,
           1,
           0,
           169381.9,
           0
          ],
          [
           620,
           "Female",
           41,
           9,
           0,
           2,
           0,
           0,
           88852.47,
           0
          ],
          [
           572,
           "Male",
           26,
           4,
           118287.01,
           2,
           0,
           0,
           60427.3,
           0
          ],
          [
           695,
           "Male",
           46,
           7,
           49512.55,
           1,
           1,
           0,
           133007.34,
           0
          ],
          [
           730,
           "Female",
           33,
           9,
           0,
           2,
           0,
           0,
           176576.62,
           0
          ],
          [
           807,
           "Male",
           43,
           1,
           105799.32,
           2,
           1,
           0,
           34888.04,
           1
          ],
          [
           850,
           "Male",
           33,
           10,
           0,
           1,
           1,
           0,
           4861.72,
           1
          ],
          [
           670,
           "Male",
           37,
           4,
           170557.91,
           2,
           1,
           0,
           198252.88,
           0
          ],
          [
           751,
           "Male",
           50,
           2,
           96888.39,
           1,
           1,
           0,
           77206.25,
           1
          ],
          [
           594,
           "Female",
           29,
           3,
           130830.22,
           1,
           1,
           0,
           61048.53,
           0
          ],
          [
           610,
           "Male",
           40,
           0,
           0,
           2,
           1,
           0,
           62232.6,
           0
          ],
          [
           763,
           "Male",
           42,
           6,
           100160.75,
           1,
           1,
           0,
           33462.94,
           1
          ],
          [
           539,
           "Female",
           43,
           3,
           116220.5,
           3,
           1,
           0,
           55803.96,
           1
          ],
          [
           668,
           "Female",
           46,
           2,
           0,
           3,
           1,
           0,
           89048.46,
           1
          ],
          [
           662,
           "Male",
           38,
           4,
           0,
           2,
           1,
           0,
           136259.65,
           0
          ],
          [
           725,
           "Female",
           39,
           5,
           116803.8,
           1,
           1,
           0,
           124052.97,
           0
          ],
          [
           523,
           "Male",
           34,
           7,
           0,
           2,
           1,
           0,
           62030.06,
           0
          ],
          [
           635,
           "Female",
           40,
           10,
           123497.58,
           1,
           1,
           0,
           131953.23,
           1
          ],
          [
           772,
           "Male",
           26,
           7,
           152400.51,
           2,
           1,
           0,
           79414,
           0
          ],
          [
           739,
           "Male",
           54,
           8,
           126418.14,
           1,
           1,
           0,
           134420.75,
           1
          ],
          [
           771,
           "Female",
           36,
           5,
           77846.9,
           1,
           0,
           0,
           99805.99,
           0
          ],
          [
           696,
           "Male",
           28,
           8,
           0,
           1,
           0,
           0,
           176713.47,
           0
          ],
          [
           671,
           "Female",
           34,
           6,
           37266.67,
           2,
           0,
           0,
           156917.12,
           0
          ],
          [
           726,
           "Female",
           48,
           6,
           99906.19,
           1,
           1,
           0,
           64323.24,
           0
          ],
          [
           557,
           "Female",
           32,
           6,
           184686.41,
           2,
           1,
           0,
           14956.44,
           0
          ],
          [
           531,
           "Female",
           36,
           9,
           99240.51,
           1,
           1,
           0,
           123137.01,
           0
          ],
          [
           651,
           "Male",
           36,
           7,
           0,
           2,
           1,
           0,
           13898.31,
           0
          ],
          [
           549,
           "Female",
           39,
           7,
           0,
           1,
           0,
           0,
           81259.25,
           1
          ],
          [
           791,
           "Female",
           35,
           7,
           52436.2,
           1,
           1,
           0,
           161051.75,
           0
          ],
          [
           733,
           "Male",
           34,
           3,
           100337.96,
           3,
           1,
           0,
           48559.19,
           1
          ],
          [
           707,
           "Male",
           30,
           8,
           0,
           2,
           1,
           0,
           33159.37,
           0
          ],
          [
           777,
           "Female",
           53,
           10,
           0,
           2,
           1,
           0,
           189992.97,
           0
          ],
          [
           714,
           "Male",
           46,
           1,
           0,
           1,
           1,
           0,
           152167.79,
           1
          ],
          [
           675,
           "Male",
           40,
           7,
           113208.86,
           2,
           1,
           0,
           34577.36,
           0
          ],
          [
           602,
           "Male",
           29,
           5,
           103907.28,
           1,
           1,
           0,
           161229.84,
           0
          ],
          [
           475,
           "Female",
           32,
           8,
           119023.28,
           1,
           1,
           0,
           100816.29,
           0
          ],
          [
           588,
           "Male",
           34,
           10,
           0,
           2,
           1,
           0,
           79078.91,
           0
          ],
          [
           747,
           "Female",
           41,
           5,
           94521.17,
           2,
           1,
           0,
           194926.86,
           0
          ],
          [
           583,
           "Male",
           27,
           7,
           0,
           2,
           1,
           0,
           51285.49,
           0
          ],
          [
           750,
           "Female",
           34,
           9,
           112822.26,
           1,
           0,
           0,
           150401.53,
           1
          ],
          [
           773,
           "Male",
           25,
           2,
           135903.33,
           1,
           1,
           0,
           73656.38,
           0
          ],
          [
           687,
           "Female",
           44,
           7,
           0,
           3,
           1,
           0,
           155853.52,
           1
          ],
          [
           694,
           "Female",
           31,
           10,
           0,
           2,
           1,
           0,
           160990.27,
           0
          ],
          [
           616,
           "Female",
           36,
           6,
           132311.71,
           1,
           0,
           0,
           15462.84,
           0
          ],
          [
           687,
           "Male",
           35,
           8,
           0,
           2,
           1,
           0,
           10334.05,
           0
          ],
          [
           553,
           "Male",
           33,
           4,
           118082.89,
           1,
           0,
           0,
           94440.45,
           0
          ],
          [
           629,
           "Male",
           35,
           7,
           156847.29,
           2,
           1,
           0,
           31824.29,
           0
          ],
          [
           614,
           "Male",
           50,
           4,
           137104.47,
           1,
           1,
           0,
           127166.49,
           1
          ],
          [
           438,
           "Male",
           31,
           8,
           78398.69,
           1,
           1,
           0,
           44937.01,
           0
          ],
          [
           729,
           "Male",
           30,
           6,
           63669.42,
           1,
           1,
           0,
           145111.37,
           0
          ],
          [
           642,
           "Male",
           38,
           3,
           0,
           2,
           0,
           0,
           171463.83,
           0
          ],
          [
           806,
           "Female",
           59,
           0,
           135296.33,
           1,
           1,
           0,
           182822.5,
           0
          ],
          [
           474,
           "Male",
           37,
           3,
           0,
           2,
           0,
           0,
           57175.32,
           0
          ],
          [
           559,
           "Male",
           49,
           2,
           147069.78,
           1,
           1,
           0,
           120540.83,
           1
          ],
          [
           628,
           "Female",
           22,
           3,
           0,
           1,
           1,
           0,
           85426.28,
           0
          ],
          [
           429,
           "Male",
           24,
           4,
           95741.75,
           1,
           1,
           0,
           46170.75,
           0
          ],
          [
           749,
           "Male",
           40,
           1,
           139290.41,
           1,
           1,
           0,
           182855.42,
           1
          ],
          [
           763,
           "Female",
           31,
           4,
           0,
           2,
           0,
           0,
           50404.72,
           0
          ],
          [
           734,
           "Male",
           30,
           3,
           0,
           2,
           1,
           0,
           107640.25,
           0
          ],
          [
           716,
           "Male",
           35,
           4,
           144428.87,
           1,
           1,
           0,
           134132.65,
           0
          ],
          [
           594,
           "Male",
           35,
           2,
           0,
           2,
           1,
           0,
           103480.69,
           0
          ],
          [
           644,
           "Female",
           46,
           9,
           95441.27,
           1,
           1,
           0,
           108761.05,
           1
          ],
          [
           667,
           "Female",
           40,
           1,
           146502.07,
           1,
           1,
           0,
           19162.89,
           0
          ],
          [
           584,
           "Female",
           30,
           8,
           112013.81,
           1,
           1,
           0,
           177772.03,
           1
          ],
          [
           626,
           "Female",
           37,
           6,
           108269.37,
           1,
           1,
           0,
           5597.94,
           0
          ],
          [
           485,
           "Male",
           29,
           7,
           182123.79,
           1,
           1,
           0,
           116828.51,
           1
          ],
          [
           649,
           "Male",
           33,
           2,
           0,
           2,
           1,
           0,
           2010.98,
           0
          ],
          [
           805,
           "Female",
           39,
           5,
           165272.13,
           1,
           1,
           0,
           14109.85,
           1
          ],
          [
           716,
           "Female",
           39,
           10,
           115301.31,
           1,
           1,
           0,
           43527.4,
           1
          ],
          [
           659,
           "Male",
           31,
           4,
           118342.26,
           1,
           0,
           0,
           161574.19,
           0
          ],
          [
           543,
           "Male",
           22,
           8,
           0,
           2,
           0,
           0,
           127587.22,
           0
          ],
          [
           718,
           "Female",
           25,
           7,
           0,
           2,
           1,
           0,
           30380.12,
           0
          ],
          [
           840,
           "Female",
           43,
           7,
           0,
           2,
           1,
           0,
           90908.95,
           0
          ],
          [
           630,
           "Female",
           34,
           9,
           106937.05,
           2,
           1,
           0,
           138275.01,
           0
          ],
          [
           568,
           "Female",
           32,
           7,
           169399.6,
           1,
           1,
           0,
           61936.22,
           0
          ],
          [
           539,
           "Male",
           30,
           0,
           0,
           2,
           1,
           0,
           160979.66,
           0
          ],
          [
           522,
           "Male",
           34,
           9,
           126436.29,
           1,
           1,
           0,
           174248.52,
           1
          ],
          [
           443,
           "Female",
           29,
           9,
           99027.61,
           2,
           1,
           0,
           10940.4,
           0
          ],
          [
           540,
           "Female",
           42,
           9,
           87271.41,
           2,
           1,
           0,
           172572.64,
           0
          ],
          [
           593,
           "Female",
           29,
           2,
           152265.43,
           1,
           1,
           0,
           34004.44,
           0
          ],
          [
           572,
           "Male",
           35,
           4,
           152390.26,
           1,
           1,
           0,
           128123.66,
           0
          ],
          [
           629,
           "Female",
           30,
           2,
           34013.63,
           1,
           1,
           0,
           19570.63,
           0
          ],
          [
           687,
           "Female",
           39,
           2,
           0,
           3,
           0,
           0,
           188150.6,
           1
          ],
          [
           690,
           "Male",
           36,
           7,
           101583.11,
           2,
           1,
           0,
           123775.15,
           0
          ],
          [
           709,
           "Male",
           28,
           8,
           124695.72,
           2,
           1,
           0,
           145251.35,
           0
          ],
          [
           705,
           "Male",
           44,
           3,
           105934.96,
           1,
           1,
           0,
           82463.69,
           0
          ],
          [
           611,
           "Male",
           46,
           6,
           0,
           2,
           1,
           0,
           45886.33,
           0
          ],
          [
           544,
           "Female",
           21,
           10,
           161525.96,
           2,
           1,
           0,
           9262.77,
           0
          ],
          [
           648,
           "Male",
           46,
           9,
           127209,
           2,
           1,
           0,
           77405.95,
           1
          ],
          [
           556,
           "Male",
           38,
           8,
           0,
           2,
           0,
           0,
           417.41,
           1
          ],
          [
           547,
           "Male",
           32,
           8,
           155726.85,
           1,
           1,
           0,
           67789.99,
           0
          ],
          [
           616,
           "Female",
           66,
           1,
           135842.41,
           1,
           1,
           0,
           183840.51,
           1
          ],
          [
           605,
           "Male",
           52,
           1,
           63349.75,
           1,
           1,
           0,
           108887.44,
           0
          ],
          [
           718,
           "Male",
           36,
           9,
           0,
           1,
           1,
           0,
           45909.87,
           0
          ],
          [
           538,
           "Female",
           49,
           9,
           141434.04,
           1,
           0,
           0,
           173779.25,
           1
          ],
          [
           611,
           "Female",
           37,
           4,
           0,
           2,
           1,
           0,
           125696.26,
           0
          ],
          [
           537,
           "Female",
           41,
           3,
           138306.34,
           1,
           1,
           0,
           106761.47,
           0
          ],
          [
           709,
           "Male",
           23,
           10,
           0,
           2,
           0,
           0,
           129590.18,
           0
          ],
          [
           795,
           "Male",
           35,
           8,
           0,
           2,
           1,
           0,
           167155.36,
           0
          ],
          [
           626,
           "Male",
           26,
           8,
           0,
           2,
           0,
           0,
           191420.71,
           0
          ],
          [
           487,
           "Female",
           61,
           5,
           110368.03,
           1,
           0,
           0,
           11384.45,
           1
          ],
          [
           643,
           "Female",
           46,
           6,
           0,
           2,
           0,
           0,
           106781.59,
           0
          ],
          [
           605,
           "Female",
           28,
           6,
           0,
           2,
           0,
           0,
           159508.52,
           0
          ],
          [
           756,
           "Female",
           60,
           3,
           115924.89,
           1,
           1,
           0,
           93524.19,
           1
          ],
          [
           586,
           "Female",
           38,
           2,
           0,
           2,
           1,
           0,
           87168.46,
           0
          ],
          [
           535,
           "Male",
           40,
           7,
           111756.5,
           1,
           1,
           0,
           8128.32,
           1
          ],
          [
           678,
           "Female",
           35,
           4,
           0,
           1,
           1,
           0,
           125518.32,
           0
          ],
          [
           596,
           "Male",
           39,
           9,
           0,
           1,
           1,
           0,
           48963.59,
           0
          ],
          [
           648,
           "Male",
           26,
           9,
           162923.85,
           1,
           1,
           0,
           98368.24,
           0
          ],
          [
           492,
           "Male",
           39,
           10,
           124576.65,
           2,
           1,
           0,
           148584.61,
           0
          ],
          [
           486,
           "Female",
           40,
           9,
           71340.09,
           1,
           1,
           0,
           76192.21,
           0
          ],
          [
           568,
           "Male",
           40,
           1,
           99282.63,
           1,
           0,
           0,
           134600.94,
           1
          ],
          [
           548,
           "Female",
           33,
           0,
           101084.36,
           1,
           1,
           0,
           42749.85,
           0
          ],
          [
           545,
           "Female",
           37,
           8,
           114754.08,
           1,
           1,
           0,
           136050.44,
           1
          ],
          [
           683,
           "Male",
           33,
           8,
           0,
           1,
           0,
           0,
           73564.44,
           0
          ],
          [
           627,
           "Female",
           30,
           4,
           79871.02,
           2,
           1,
           0,
           129826.89,
           0
          ],
          [
           516,
           "Male",
           35,
           10,
           104088.59,
           2,
           0,
           0,
           119666,
           0
          ],
          [
           800,
           "Female",
           38,
           2,
           168190.33,
           2,
           1,
           0,
           68052.08,
           0
          ],
          [
           626,
           "Female",
           35,
           3,
           0,
           1,
           0,
           0,
           80190.36,
           0
          ],
          [
           790,
           "Female",
           31,
           9,
           0,
           2,
           1,
           0,
           84126.75,
           0
          ],
          [
           553,
           "Male",
           47,
           3,
           116528.15,
           1,
           0,
           0,
           145704.19,
           1
          ],
          [
           722,
           "Male",
           37,
           2,
           0,
           1,
           0,
           0,
           120906.83,
           0
          ],
          [
           675,
           "Female",
           38,
           6,
           68065.8,
           1,
           0,
           0,
           138777,
           1
          ],
          [
           778,
           "Female",
           47,
           6,
           127299.34,
           2,
           1,
           0,
           124694.99,
           0
          ],
          [
           494,
           "Female",
           38,
           7,
           174937.64,
           1,
           1,
           0,
           40084.32,
           0
          ],
          [
           592,
           "Male",
           31,
           7,
           110071.1,
           1,
           0,
           0,
           43921.36,
           0
          ],
          [
           590,
           "Female",
           44,
           3,
           139432.37,
           1,
           1,
           0,
           62222.81,
           0
          ],
          [
           506,
           "Male",
           36,
           5,
           0,
           2,
           1,
           0,
           164253.35,
           0
          ],
          [
           711,
           "Male",
           38,
           3,
           0,
           2,
           1,
           0,
           68487.51,
           0
          ],
          [
           539,
           "Male",
           39,
           3,
           0,
           2,
           1,
           0,
           36692.17,
           0
          ],
          [
           509,
           "Female",
           25,
           3,
           108738.71,
           2,
           1,
           0,
           106920.57,
           0
          ],
          [
           608,
           "Male",
           33,
           9,
           89968.69,
           1,
           1,
           0,
           68777.26,
           0
          ],
          [
           816,
           "Female",
           38,
           5,
           130878.75,
           3,
           1,
           0,
           71905.77,
           1
          ],
          [
           536,
           "Male",
           35,
           8,
           0,
           2,
           1,
           0,
           64833.28,
           0
          ],
          [
           703,
           "Male",
           37,
           1,
           149762.08,
           1,
           1,
           0,
           20629.4,
           1
          ],
          [
           774,
           "Male",
           26,
           2,
           93844.69,
           1,
           1,
           0,
           28415.36,
           0
          ],
          [
           785,
           "Male",
           28,
           8,
           0,
           2,
           1,
           0,
           77231.27,
           0
          ],
          [
           571,
           "Female",
           33,
           1,
           0,
           2,
           1,
           0,
           102750.7,
           0
          ],
          [
           621,
           "Male",
           46,
           6,
           141078.37,
           1,
           0,
           0,
           34580.8,
           1
          ],
          [
           611,
           "Female",
           40,
           8,
           100812.33,
           2,
           1,
           0,
           147358.27,
           0
          ],
          [
           525,
           "Female",
           23,
           5,
           0,
           2,
           1,
           0,
           160249.1,
           0
          ],
          [
           798,
           "Male",
           37,
           8,
           0,
           3,
           0,
           0,
           110783.28,
           0
          ],
          [
           486,
           "Male",
           37,
           9,
           115217.99,
           2,
           1,
           0,
           144995.33,
           0
          ],
          [
           615,
           "Male",
           61,
           9,
           0,
           2,
           1,
           0,
           150227.85,
           1
          ],
          [
           641,
           "Male",
           37,
           7,
           0,
           2,
           1,
           0,
           75248.3,
           0
          ],
          [
           531,
           "Female",
           47,
           6,
           0,
           1,
           0,
           0,
           194998.34,
           1
          ],
          [
           673,
           "Female",
           38,
           2,
           170061.92,
           2,
           0,
           0,
           134901.34,
           1
          ],
          [
           622,
           "Female",
           32,
           6,
           169089.38,
           2,
           1,
           0,
           101057.95,
           0
          ],
          [
           774,
           "Male",
           60,
           5,
           85891.55,
           1,
           1,
           0,
           74135.48,
           1
          ],
          [
           543,
           "Female",
           41,
           4,
           0,
           1,
           0,
           0,
           194902.16,
           0
          ],
          [
           584,
           "Male",
           31,
           5,
           0,
           2,
           1,
           0,
           31474.27,
           0
          ],
          [
           691,
           "Male",
           30,
           7,
           116927.89,
           1,
           1,
           0,
           21198.39,
           0
          ],
          [
           684,
           "Female",
           40,
           6,
           137326.65,
           1,
           1,
           0,
           186976.6,
           0
          ],
          [
           632,
           "Female",
           38,
           6,
           86569.76,
           2,
           1,
           0,
           98090.91,
           0
          ],
          [
           735,
           "Male",
           34,
           5,
           0,
           2,
           0,
           0,
           71095.41,
           0
          ],
          [
           793,
           "Male",
           38,
           9,
           0,
           2,
           1,
           0,
           88225.02,
           0
          ],
          [
           779,
           "Male",
           37,
           7,
           120092.52,
           2,
           1,
           0,
           135925.72,
           0
          ],
          [
           850,
           "Female",
           35,
           1,
           211774.31,
           1,
           1,
           0,
           188574.12,
           1
          ],
          [
           661,
           "Male",
           48,
           3,
           120320.54,
           1,
           0,
           0,
           96463.25,
           0
          ],
          [
           610,
           "Male",
           26,
           8,
           0,
           2,
           1,
           0,
           166031.08,
           0
          ],
          [
           572,
           "Female",
           48,
           3,
           152827.99,
           1,
           1,
           0,
           38411.79,
           1
          ],
          [
           543,
           "Male",
           35,
           10,
           59408.63,
           1,
           1,
           0,
           76773.53,
           0
          ],
          [
           550,
           "Female",
           40,
           7,
           114354.95,
           1,
           1,
           0,
           54018.93,
           0
          ],
          [
           608,
           "Male",
           59,
           1,
           0,
           1,
           1,
           0,
           70649.64,
           1
          ],
          [
           639,
           "Male",
           35,
           10,
           128173.9,
           2,
           1,
           0,
           59093.39,
           0
          ],
          [
           686,
           "Male",
           34,
           9,
           0,
           2,
           1,
           0,
           127569.8,
           0
          ],
          [
           745,
           "Female",
           28,
           1,
           111071.36,
           1,
           1,
           0,
           73275.96,
           1
          ],
          [
           721,
           "Male",
           51,
           0,
           169312.13,
           1,
           1,
           0,
           109078.35,
           1
          ],
          [
           842,
           "Female",
           44,
           2,
           112652.08,
           2,
           1,
           0,
           126644.98,
           0
          ],
          [
           587,
           "Male",
           38,
           0,
           0,
           2,
           1,
           0,
           47414.15,
           0
          ],
          [
           479,
           "Female",
           30,
           7,
           143964.36,
           2,
           1,
           0,
           41879.99,
           0
          ],
          [
           721,
           "Female",
           36,
           3,
           65253.07,
           2,
           1,
           0,
           28737.78,
           0
          ],
          [
           685,
           "Female",
           25,
           10,
           128509.63,
           1,
           1,
           0,
           121562.33,
           0
          ],
          [
           417,
           "Male",
           34,
           7,
           0,
           2,
           1,
           0,
           55003.79,
           0
          ],
          [
           574,
           "Male",
           33,
           3,
           129834.67,
           1,
           1,
           0,
           193131.42,
           0
          ],
          [
           587,
           "Male",
           40,
           5,
           138241.9,
           2,
           1,
           0,
           159418.1,
           0
          ],
          [
           598,
           "Male",
           41,
           3,
           91536.93,
           1,
           1,
           0,
           191468.78,
           1
          ],
          [
           509,
           "Female",
           46,
           1,
           0,
           1,
           1,
           0,
           71244.59,
           1
          ],
          [
           438,
           "Female",
           54,
           2,
           0,
           1,
           0,
           0,
           191763.07,
           1
          ],
          [
           651,
           "Male",
           45,
           1,
           0,
           1,
           1,
           0,
           67740.08,
           1
          ],
          [
           745,
           "Male",
           35,
           9,
           92566.53,
           2,
           1,
           0,
           161519.77,
           0
          ],
          [
           439,
           "Female",
           32,
           3,
           138901.61,
           1,
           1,
           0,
           75685.97,
           0
          ],
          [
           593,
           "Female",
           41,
           6,
           0,
           1,
           1,
           0,
           65170.66,
           0
          ],
          [
           701,
           "Male",
           36,
           8,
           0,
           2,
           1,
           0,
           169161.46,
           0
          ],
          [
           547,
           "Female",
           30,
           9,
           72392.41,
           1,
           1,
           0,
           77077.14,
           0
          ],
          [
           647,
           "Female",
           51,
           1,
           119741.77,
           2,
           0,
           0,
           54954.51,
           1
          ],
          [
           760,
           "Female",
           51,
           2,
           100946.71,
           1,
           0,
           0,
           179614.8,
           1
          ],
          [
           621,
           "Male",
           53,
           9,
           170491.84,
           1,
           1,
           0,
           35588.07,
           1
          ],
          [
           526,
           "Male",
           36,
           1,
           0,
           1,
           1,
           0,
           160696.72,
           0
          ],
          [
           519,
           "Female",
           47,
           6,
           157296.02,
           2,
           0,
           0,
           147278.43,
           1
          ],
          [
           700,
           "Male",
           38,
           8,
           134811.3,
           1,
           1,
           0,
           1299.75,
           0
          ],
          [
           630,
           "Male",
           32,
           4,
           82034,
           1,
           0,
           0,
           146326.45,
           0
          ],
          [
           611,
           "Female",
           41,
           2,
           114206.84,
           1,
           1,
           0,
           164061.6,
           0
          ],
          [
           685,
           "Male",
           43,
           9,
           0,
           2,
           1,
           0,
           107811.28,
           0
          ],
          [
           683,
           "Female",
           57,
           5,
           162448.69,
           1,
           0,
           0,
           9221.78,
           1
          ],
          [
           566,
           "Male",
           30,
           5,
           0,
           1,
           1,
           0,
           54926.51,
           1
          ],
          [
           584,
           "Male",
           28,
           10,
           0,
           2,
           1,
           0,
           19834.32,
           0
          ],
          [
           698,
           "Female",
           51,
           2,
           111018.98,
           1,
           1,
           0,
           86410.28,
           0
          ],
          [
           495,
           "Male",
           30,
           10,
           129755.99,
           1,
           0,
           0,
           172749.65,
           0
          ],
          [
           650,
           "Female",
           27,
           6,
           0,
           2,
           1,
           0,
           1002.39,
           0
          ],
          [
           727,
           "Female",
           31,
           0,
           0,
           1,
           1,
           0,
           121751.04,
           1
          ],
          [
           754,
           "Male",
           39,
           6,
           170184.99,
           2,
           1,
           0,
           89593.26,
           0
          ],
          [
           612,
           "Female",
           62,
           8,
           140745.33,
           1,
           1,
           0,
           193437.89,
           1
          ],
          [
           593,
           "Male",
           35,
           9,
           114193.24,
           1,
           1,
           0,
           71154.1,
           0
          ],
          [
           850,
           "Male",
           35,
           7,
           110349.82,
           1,
           0,
           0,
           126355.8,
           0
          ],
          [
           752,
           "Male",
           49,
           2,
           78653.84,
           1,
           1,
           0,
           7698.6,
           0
          ],
          [
           799,
           "Female",
           28,
           3,
           142253.65,
           1,
           1,
           0,
           45042.56,
           0
          ],
          [
           589,
           "Female",
           61,
           1,
           0,
           1,
           1,
           0,
           61108.56,
           1
          ],
          [
           583,
           "Female",
           54,
           6,
           115988.86,
           1,
           1,
           0,
           57553.98,
           1
          ],
          [
           839,
           "Female",
           33,
           10,
           75592.43,
           1,
           1,
           0,
           62674.42,
           0
          ],
          [
           850,
           "Male",
           31,
           6,
           67996.23,
           2,
           0,
           0,
           50129.87,
           1
          ],
          [
           696,
           "Female",
           51,
           5,
           0,
           2,
           1,
           0,
           55022.43,
           0
          ],
          [
           660,
           "Female",
           33,
           1,
           0,
           2,
           0,
           0,
           117834.91,
           0
          ],
          [
           785,
           "Female",
           36,
           4,
           135438.4,
           1,
           0,
           0,
           190627.01,
           0
          ],
          [
           752,
           "Male",
           48,
           5,
           116060.08,
           1,
           1,
           0,
           156618.38,
           1
          ],
          [
           706,
           "Female",
           29,
           5,
           112564.62,
           1,
           1,
           0,
           42334.38,
           0
          ],
          [
           660,
           "Female",
           39,
           5,
           135134.99,
           1,
           1,
           0,
           173683,
           1
          ],
          [
           819,
           "Female",
           39,
           9,
           133102.92,
           1,
           1,
           0,
           27046.46,
           1
          ],
          [
           673,
           "Female",
           34,
           8,
           42157.08,
           1,
           1,
           0,
           20598.59,
           1
          ],
          [
           578,
           "Male",
           38,
           7,
           82259.29,
           1,
           1,
           0,
           8996.97,
           0
          ],
          [
           438,
           "Female",
           36,
           4,
           0,
           2,
           1,
           0,
           64420.5,
           0
          ],
          [
           668,
           "Male",
           42,
           3,
           150461.07,
           1,
           1,
           0,
           108139.23,
           0
          ],
          [
           751,
           "Female",
           30,
           6,
           0,
           2,
           1,
           0,
           15766.1,
           0
          ],
          [
           624,
           "Female",
           48,
           3,
           122388.38,
           2,
           0,
           0,
           30020.09,
           0
          ],
          [
           642,
           "Male",
           26,
           0,
           0,
           1,
           0,
           0,
           47472.68,
           0
          ],
          [
           593,
           "Female",
           38,
           4,
           88736.44,
           2,
           1,
           0,
           67020.03,
           0
          ],
          [
           684,
           "Female",
           38,
           3,
           0,
           2,
           1,
           0,
           44255.65,
           0
          ],
          [
           749,
           "Female",
           40,
           8,
           141782.57,
           2,
           0,
           0,
           86333.63,
           0
          ],
          [
           583,
           "Male",
           24,
           9,
           135125.28,
           1,
           0,
           0,
           89801.9,
           0
          ],
          [
           661,
           "Male",
           42,
           2,
           178820.91,
           1,
           0,
           0,
           29358.57,
           1
          ],
          [
           769,
           "Female",
           45,
           5,
           126674.81,
           1,
           1,
           0,
           124118.71,
           1
          ],
          [
           625,
           "Female",
           51,
           7,
           136294.97,
           1,
           1,
           0,
           38867.46,
           1
          ],
          [
           641,
           "Female",
           36,
           5,
           66392.64,
           1,
           1,
           0,
           31106.67,
           0
          ],
          [
           716,
           "Male",
           27,
           1,
           122552.34,
           2,
           1,
           0,
           67611.36,
           0
          ],
          [
           767,
           "Male",
           43,
           1,
           76408.85,
           2,
           1,
           0,
           77837.63,
           0
          ],
          [
           745,
           "Male",
           36,
           8,
           145071.24,
           1,
           0,
           0,
           6078.46,
           0
          ],
          [
           750,
           "Female",
           32,
           5,
           0,
           2,
           1,
           0,
           95611.47,
           0
          ],
          [
           669,
           "Male",
           30,
           7,
           95128.86,
           1,
           0,
           0,
           19799.26,
           0
          ],
          [
           750,
           "Male",
           40,
           5,
           168286.81,
           3,
           1,
           0,
           20451.99,
           1
          ],
          [
           620,
           "Male",
           42,
           4,
           0,
           2,
           1,
           0,
           6232.31,
           0
          ],
          [
           686,
           "Female",
           34,
           3,
           123971.51,
           2,
           1,
           0,
           147794.63,
           0
          ],
          [
           540,
           "Male",
           48,
           0,
           148116.48,
           1,
           0,
           0,
           116973.48,
           0
          ],
          [
           634,
           "Male",
           35,
           6,
           116269.01,
           1,
           1,
           0,
           129964.94,
           0
          ],
          [
           632,
           "Male",
           38,
           1,
           120599.21,
           1,
           1,
           0,
           92816.86,
           0
          ],
          [
           501,
           "Female",
           41,
           3,
           144260.5,
           1,
           1,
           0,
           172114.67,
           0
          ],
          [
           650,
           "Female",
           25,
           3,
           86605.5,
           3,
           1,
           0,
           16649.31,
           1
          ],
          [
           786,
           "Male",
           34,
           9,
           0,
           2,
           1,
           0,
           144517.19,
           0
          ],
          [
           554,
           "Female",
           37,
           4,
           58629.97,
           1,
           0,
           0,
           182038.6,
           0
          ],
          [
           701,
           "Female",
           42,
           5,
           0,
           2,
           0,
           0,
           24210.56,
           0
          ],
          [
           474,
           "Male",
           45,
           10,
           0,
           2,
           0,
           0,
           172175.9,
           0
          ],
          [
           669,
           "Male",
           23,
           1,
           0,
           2,
           0,
           0,
           66088.83,
           0
          ],
          [
           776,
           "Female",
           38,
           2,
           169824.46,
           1,
           1,
           0,
           169291.7,
           0
          ],
          [
           673,
           "Female",
           40,
           5,
           137494.28,
           1,
           1,
           0,
           81753.92,
           0
          ],
          [
           499,
           "Female",
           57,
           1,
           0,
           1,
           0,
           0,
           131372.38,
           1
          ],
          [
           769,
           "Female",
           25,
           10,
           0,
           2,
           0,
           0,
           187925.75,
           0
          ],
          [
           657,
           "Male",
           31,
           3,
           125167.02,
           1,
           0,
           0,
           98820.39,
           0
          ],
          [
           738,
           "Male",
           43,
           9,
           121152.05,
           2,
           1,
           0,
           64166.7,
           1
          ],
          [
           725,
           "Male",
           46,
           6,
           0,
           2,
           1,
           0,
           161767.38,
           0
          ],
          [
           692,
           "Female",
           28,
           8,
           95059.02,
           2,
           1,
           0,
           44420.18,
           0
          ],
          [
           611,
           "Female",
           49,
           2,
           88915.37,
           3,
           0,
           0,
           161435.02,
           1
          ],
          [
           844,
           "Male",
           18,
           2,
           160980.03,
           1,
           0,
           0,
           145936.28,
           0
          ],
          [
           450,
           "Female",
           46,
           5,
           177619.71,
           1,
           1,
           0,
           54227.06,
           0
          ],
          [
           758,
           "Female",
           47,
           9,
           95523.16,
           1,
           1,
           0,
           73294.48,
           0
          ],
          [
           815,
           "Male",
           37,
           2,
           110777.26,
           2,
           1,
           0,
           2383.59,
           0
          ],
          [
           838,
           "Female",
           39,
           5,
           166733.92,
           2,
           1,
           0,
           14279.44,
           0
          ],
          [
           803,
           "Male",
           31,
           9,
           157120.86,
           2,
           1,
           0,
           141300.53,
           0
          ],
          [
           664,
           "Female",
           36,
           2,
           127160.78,
           2,
           1,
           0,
           78140.75,
           0
          ],
          [
           633,
           "Female",
           37,
           9,
           156091.97,
           1,
           1,
           0,
           72008.61,
           0
          ],
          [
           600,
           "Female",
           43,
           5,
           134022.06,
           1,
           1,
           0,
           194764.83,
           0
          ],
          [
           693,
           "Female",
           35,
           5,
           124151.09,
           1,
           1,
           0,
           88705.14,
           1
          ],
          [
           663,
           "Female",
           36,
           6,
           77253.5,
           1,
           0,
           0,
           35817.97,
           1
          ],
          [
           742,
           "Female",
           21,
           1,
           114292.48,
           1,
           1,
           0,
           31520.4,
           0
          ],
          [
           710,
           "Female",
           27,
           2,
           135277.96,
           1,
           1,
           0,
           142200.15,
           0
          ],
          [
           720,
           "Male",
           60,
           9,
           115920.62,
           2,
           0,
           0,
           157552.08,
           1
          ],
          [
           684,
           "Male",
           41,
           2,
           119782.72,
           2,
           0,
           0,
           120284.67,
           0
          ],
          [
           742,
           "Female",
           36,
           2,
           129748.54,
           2,
           0,
           0,
           47271.61,
           1
          ],
          [
           717,
           "Male",
           31,
           4,
           129722.57,
           1,
           0,
           0,
           41176.6,
           0
          ],
          [
           767,
           "Male",
           36,
           3,
           139180.2,
           1,
           0,
           0,
           123880.19,
           0
          ],
          [
           636,
           "Male",
           49,
           6,
           113599.74,
           2,
           1,
           0,
           158887.09,
           1
          ],
          [
           622,
           "Female",
           58,
           7,
           116922.25,
           1,
           1,
           0,
           120415.61,
           1
          ],
          [
           692,
           "Male",
           28,
           9,
           118945.09,
           1,
           0,
           0,
           16064.25,
           1
          ],
          [
           679,
           "Female",
           35,
           8,
           119182.73,
           1,
           0,
           0,
           121210.09,
           0
          ],
          [
           639,
           "Male",
           27,
           8,
           0,
           2,
           1,
           0,
           192247.35,
           0
          ],
          [
           571,
           "Female",
           35,
           8,
           0,
           2,
           0,
           0,
           84569.13,
           0
          ],
          [
           562,
           "Female",
           35,
           0,
           0,
           2,
           1,
           0,
           119899.52,
           0
          ],
          [
           850,
           "Female",
           48,
           6,
           111962.99,
           1,
           1,
           0,
           111755.8,
           0
          ],
          [
           654,
           "Male",
           29,
           1,
           0,
           1,
           1,
           0,
           180345.44,
           0
          ],
          [
           761,
           "Male",
           36,
           8,
           108239.11,
           2,
           0,
           0,
           99444.02,
           0
          ],
          [
           488,
           "Male",
           32,
           3,
           114540.38,
           1,
           1,
           0,
           92568.07,
           0
          ],
          [
           790,
           "Female",
           46,
           9,
           0,
           1,
           0,
           0,
           14679.81,
           1
          ],
          [
           793,
           "Female",
           33,
           0,
           0,
           1,
           0,
           0,
           175544.02,
           0
          ],
          [
           657,
           "Female",
           37,
           6,
           95845.6,
           1,
           1,
           0,
           122218.23,
           0
          ],
          [
           618,
           "Female",
           35,
           10,
           0,
           2,
           1,
           0,
           180439.75,
           0
          ],
          [
           700,
           "Female",
           26,
           2,
           0,
           2,
           0,
           0,
           50051.42,
           0
          ],
          [
           745,
           "Male",
           25,
           5,
           157993.15,
           2,
           1,
           0,
           146041.45,
           0
          ],
          [
           696,
           "Male",
           29,
           8,
           0,
           2,
           1,
           0,
           191166.09,
           0
          ],
          [
           580,
           "Female",
           42,
           2,
           123331.36,
           1,
           0,
           0,
           103516.08,
           1
          ],
          [
           720,
           "Female",
           43,
           6,
           137824.03,
           2,
           1,
           0,
           172557.77,
           0
          ],
          [
           659,
           "Male",
           36,
           4,
           132578.92,
           2,
           1,
           0,
           84320.94,
           0
          ],
          [
           841,
           "Female",
           36,
           5,
           156021.31,
           1,
           0,
           0,
           122662.98,
           0
          ],
          [
           642,
           "Male",
           34,
           8,
           0,
           1,
           1,
           0,
           72085.1,
           0
          ],
          [
           600,
           "Male",
           36,
           4,
           0,
           2,
           1,
           0,
           143635.36,
           0
          ],
          [
           577,
           "Female",
           39,
           10,
           0,
           2,
           1,
           0,
           10553.31,
           0
          ],
          [
           633,
           "Female",
           30,
           6,
           0,
           2,
           0,
           0,
           41642.29,
           0
          ],
          [
           559,
           "Male",
           34,
           2,
           137390.11,
           2,
           1,
           0,
           9677,
           0
          ],
          [
           507,
           "Male",
           36,
           4,
           83543.37,
           1,
           0,
           0,
           140134.43,
           0
          ],
          [
           732,
           "Male",
           50,
           6,
           145338.76,
           1,
           0,
           0,
           91936.1,
           1
          ],
          [
           818,
           "Female",
           31,
           1,
           186796.37,
           1,
           0,
           0,
           178252.63,
           0
          ],
          [
           773,
           "Female",
           41,
           5,
           0,
           1,
           1,
           0,
           28266.9,
           1
          ],
          [
           640,
           "Male",
           44,
           3,
           137148.68,
           1,
           1,
           0,
           92381.01,
           0
          ],
          [
           505,
           "Male",
           49,
           7,
           80001.23,
           1,
           0,
           0,
           135180.11,
           0
          ],
          [
           714,
           "Male",
           21,
           6,
           86402.52,
           2,
           0,
           0,
           27330.59,
           0
          ],
          [
           468,
           "Female",
           42,
           5,
           0,
           2,
           1,
           0,
           125305.34,
           0
          ],
          [
           646,
           "Male",
           46,
           1,
           170826.55,
           2,
           1,
           0,
           45041.32,
           0
          ],
          [
           667,
           "Female",
           48,
           1,
           97133.92,
           2,
           0,
           0,
           113316.77,
           1
          ],
          [
           523,
           "Male",
           32,
           4,
           0,
           2,
           1,
           0,
           167848.02,
           0
          ],
          [
           567,
           "Female",
           49,
           5,
           134956.02,
           1,
           1,
           0,
           93953.84,
           1
          ],
          [
           598,
           "Male",
           64,
           1,
           0,
           2,
           1,
           0,
           195635.3,
           1
          ],
          [
           667,
           "Male",
           43,
           8,
           190227.46,
           1,
           1,
           0,
           97508.04,
           1
          ],
          [
           548,
           "Female",
           32,
           2,
           172448.77,
           1,
           1,
           0,
           188083.77,
           1
          ],
          [
           594,
           "Male",
           38,
           4,
           0,
           2,
           0,
           0,
           186884.04,
           0
          ],
          [
           636,
           "Female",
           48,
           1,
           170833.46,
           1,
           1,
           0,
           110510.28,
           1
          ],
          [
           603,
           "Male",
           44,
           6,
           108122.39,
           2,
           1,
           0,
           108488.33,
           1
          ],
          [
           629,
           "Female",
           45,
           7,
           129818.39,
           3,
           1,
           0,
           9217.55,
           1
          ],
          [
           561,
           "Male",
           28,
           7,
           0,
           2,
           1,
           0,
           7797.01,
           0
          ],
          [
           501,
           "Female",
           39,
           9,
           117301.66,
           1,
           0,
           0,
           182025.95,
           0
          ],
          [
           574,
           "Female",
           33,
           3,
           134348.57,
           1,
           1,
           0,
           63163.99,
           0
          ],
          [
           749,
           "Female",
           60,
           6,
           0,
           1,
           1,
           0,
           17978.68,
           1
          ],
          [
           679,
           "Female",
           43,
           4,
           0,
           3,
           1,
           0,
           115136.51,
           1
          ],
          [
           565,
           "Male",
           36,
           6,
           106192.1,
           1,
           1,
           0,
           149575.59,
           0
          ],
          [
           643,
           "Female",
           45,
           4,
           45144.43,
           1,
           1,
           0,
           60917.24,
           1
          ],
          [
           739,
           "Male",
           38,
           0,
           128366.44,
           1,
           1,
           0,
           12796.43,
           0
          ],
          [
           788,
           "Male",
           37,
           8,
           141541.25,
           1,
           0,
           0,
           66013.27,
           0
          ],
          [
           577,
           "Male",
           42,
           9,
           0,
           1,
           1,
           0,
           74077.91,
           0
          ],
          [
           728,
           "Female",
           35,
           8,
           125884.95,
           2,
           1,
           0,
           54359.02,
           1
          ],
          [
           718,
           "Male",
           35,
           8,
           0,
           2,
           1,
           0,
           94820.85,
           0
          ],
          [
           621,
           "Female",
           40,
           6,
           0,
           1,
           1,
           0,
           155155.25,
           0
          ],
          [
           523,
           "Female",
           40,
           2,
           102967.41,
           1,
           1,
           0,
           128702.1,
           1
          ],
          [
           657,
           "Male",
           25,
           2,
           171770.55,
           1,
           1,
           0,
           22745.5,
           0
          ],
          [
           727,
           "Male",
           40,
           1,
           93051.64,
           2,
           1,
           0,
           71865.31,
           1
          ],
          [
           568,
           "Male",
           28,
           5,
           145105.64,
           2,
           1,
           0,
           185489.11,
           0
          ],
          [
           599,
           "Male",
           58,
           4,
           0,
           1,
           0,
           0,
           176407.15,
           1
          ],
          [
           516,
           "Female",
           46,
           1,
           104947.72,
           1,
           1,
           0,
           115789.25,
           1
          ],
          [
           806,
           "Male",
           25,
           7,
           0,
           2,
           1,
           0,
           18461.9,
           0
          ],
          [
           545,
           "Female",
           32,
           4,
           0,
           1,
           1,
           0,
           94739.2,
           0
          ],
          [
           756,
           "Male",
           27,
           1,
           131899,
           1,
           1,
           0,
           93302.29,
           0
          ],
          [
           596,
           "Male",
           47,
           6,
           0,
           1,
           1,
           0,
           74835.65,
           0
          ],
          [
           784,
           "Male",
           35,
           3,
           0,
           2,
           0,
           0,
           81483.64,
           0
          ],
          [
           552,
           "Male",
           45,
           9,
           0,
           2,
           1,
           0,
           26752.56,
           0
          ],
          [
           609,
           "Male",
           61,
           1,
           0,
           1,
           1,
           0,
           22447.85,
           1
          ],
          [
           555,
           "Male",
           51,
           5,
           0,
           3,
           1,
           0,
           189122.89,
           1
          ],
          [
           764,
           "Female",
           24,
           7,
           106234.02,
           1,
           0,
           0,
           115676.38,
           0
          ],
          [
           661,
           "Male",
           39,
           6,
           132628.98,
           1,
           0,
           0,
           38812.67,
           0
          ],
          [
           708,
           "Female",
           42,
           8,
           192390.52,
           2,
           1,
           0,
           823.36,
           0
          ],
          [
           724,
           "Female",
           37,
           10,
           68598.56,
           1,
           1,
           0,
           157862.82,
           0
          ],
          [
           696,
           "Female",
           31,
           8,
           0,
           2,
           0,
           0,
           191074.11,
           0
          ],
          [
           376,
           "Female",
           46,
           6,
           0,
           1,
           1,
           0,
           157333.69,
           1
          ],
          [
           675,
           "Female",
           29,
           8,
           121326.42,
           1,
           1,
           0,
           133457.52,
           0
          ],
          [
           745,
           "Male",
           36,
           8,
           67226.37,
           1,
           1,
           0,
           130789.6,
           0
          ],
          [
           599,
           "Female",
           39,
           4,
           0,
           1,
           1,
           0,
           194273.2,
           1
          ],
          [
           684,
           "Female",
           48,
           3,
           73309.38,
           1,
           0,
           0,
           21228.34,
           1
          ],
          [
           789,
           "Male",
           33,
           8,
           151607.56,
           1,
           1,
           0,
           4389.4,
           0
          ],
          [
           706,
           "Female",
           44,
           4,
           129605.99,
           1,
           0,
           0,
           69865.49,
           0
          ],
          [
           531,
           "Male",
           27,
           8,
           132576.25,
           1,
           0,
           0,
           7222.92,
           0
          ],
          [
           685,
           "Male",
           35,
           4,
           137948.51,
           1,
           1,
           0,
           113639.64,
           0
          ],
          [
           529,
           "Male",
           63,
           4,
           96134.11,
           3,
           1,
           0,
           108732.96,
           1
          ],
          [
           637,
           "Female",
           34,
           9,
           0,
           2,
           0,
           0,
           26057.08,
           0
          ],
          [
           544,
           "Male",
           37,
           3,
           84496.71,
           1,
           0,
           0,
           79972.09,
           0
          ],
          [
           635,
           "Male",
           43,
           5,
           78992.75,
           2,
           0,
           0,
           153265.31,
           0
          ],
          [
           730,
           "Male",
           34,
           5,
           122453.37,
           2,
           1,
           0,
           138882.98,
           0
          ],
          [
           586,
           "Female",
           43,
           8,
           132558.26,
           1,
           1,
           0,
           67046.83,
           1
          ],
          [
           520,
           "Female",
           38,
           4,
           0,
           2,
           1,
           0,
           56388.63,
           0
          ],
          [
           652,
           "Female",
           48,
           8,
           133297.24,
           1,
           1,
           0,
           77764.37,
           0
          ],
          [
           550,
           "Female",
           46,
           7,
           0,
           2,
           1,
           0,
           130590.35,
           0
          ],
          [
           594,
           "Male",
           27,
           0,
           197041.8,
           1,
           0,
           0,
           151912.49,
           0
          ],
          [
           749,
           "Female",
           44,
           0,
           71497.79,
           2,
           0,
           0,
           151083.8,
           0
          ],
          [
           614,
           "Female",
           35,
           6,
           128100.28,
           1,
           0,
           0,
           69454.24,
           1
          ],
          [
           566,
           "Male",
           36,
           1,
           142120.91,
           1,
           1,
           0,
           79616.37,
           0
          ],
          [
           569,
           "Male",
           34,
           0,
           151839.26,
           1,
           1,
           0,
           102299.81,
           1
          ],
          [
           722,
           "Female",
           49,
           3,
           168197.66,
           1,
           1,
           0,
           140765.57,
           1
          ],
          [
           655,
           "Male",
           37,
           5,
           93147,
           2,
           1,
           0,
           66214.13,
           0
          ],
          [
           661,
           "Female",
           28,
           7,
           95357.49,
           1,
           0,
           0,
           102297.15,
           0
          ],
          [
           838,
           "Male",
           43,
           9,
           123105.88,
           2,
           1,
           0,
           145765.83,
           0
          ],
          [
           759,
           "Female",
           38,
           1,
           104091.29,
           1,
           0,
           0,
           91561.91,
           0
          ]
         ],
         "hovertemplate": "IsActive=%{customdata[7]}<br>Exit=%{customdata[9]}<br>Age=%{customdata[2]}<br>CreditScore=%{customdata[0]}<br>Gender=%{customdata[1]}<br>Tenure=%{customdata[3]}<br>Balance=%{customdata[4]}<br>NumOfProducts=%{customdata[5]}<br>HasCard=%{customdata[6]}<br>EstimatedSalary=%{customdata[8]}<extra></extra>",
         "legendgroup": "0",
         "marker": {
          "color": "#EF553B"
         },
         "name": "0",
         "offsetgroup": "0",
         "orientation": "v",
         "points": "all",
         "scalegroup": "True",
         "showlegend": true,
         "type": "violin",
         "x": [
          1,
          0,
          1,
          1,
          0,
          0,
          0,
          0,
          1,
          0,
          0,
          1,
          0,
          1,
          0,
          1,
          0,
          1,
          1,
          0,
          0,
          0,
          0,
          1,
          1,
          0,
          0,
          1,
          0,
          0,
          0,
          0,
          0,
          1,
          0,
          0,
          0,
          0,
          1,
          0,
          0,
          1,
          0,
          1,
          0,
          0,
          0,
          0,
          0,
          0,
          0,
          0,
          1,
          0,
          0,
          0,
          0,
          1,
          0,
          0,
          0,
          0,
          0,
          1,
          1,
          0,
          0,
          1,
          0,
          1,
          1,
          0,
          0,
          0,
          0,
          1,
          0,
          0,
          1,
          0,
          0,
          0,
          0,
          1,
          1,
          0,
          1,
          0,
          0,
          0,
          1,
          0,
          0,
          1,
          0,
          0,
          0,
          0,
          1,
          0,
          0,
          0,
          0,
          0,
          0,
          1,
          1,
          0,
          0,
          0,
          0,
          0,
          1,
          1,
          0,
          1,
          0,
          0,
          1,
          1,
          1,
          0,
          0,
          0,
          1,
          0,
          1,
          0,
          0,
          0,
          0,
          0,
          0,
          0,
          1,
          0,
          1,
          0,
          0,
          1,
          0,
          0,
          0,
          0,
          0,
          0,
          1,
          0,
          1,
          0,
          0,
          0,
          0,
          0,
          1,
          0,
          0,
          0,
          0,
          0,
          1,
          0,
          0,
          1,
          0,
          0,
          0,
          0,
          1,
          0,
          1,
          0,
          1,
          0,
          1,
          1,
          0,
          0,
          0,
          0,
          0,
          0,
          0,
          1,
          0,
          0,
          0,
          0,
          0,
          1,
          0,
          0,
          0,
          0,
          0,
          1,
          1,
          0,
          1,
          0,
          0,
          1,
          0,
          0,
          0,
          0,
          0,
          1,
          0,
          0,
          1,
          0,
          1,
          0,
          0,
          0,
          0,
          0,
          1,
          0,
          1,
          0,
          0,
          0,
          0,
          0,
          0,
          1,
          0,
          1,
          0,
          0,
          0,
          0,
          0,
          0,
          0,
          0,
          0,
          1,
          0,
          1,
          0,
          0,
          0,
          1,
          0,
          0,
          0,
          0,
          1,
          0,
          1,
          1,
          0,
          1,
          0,
          0,
          0,
          0,
          0,
          0,
          0,
          0,
          1,
          0,
          0,
          1,
          0,
          0,
          1,
          0,
          0,
          1,
          1,
          0,
          0,
          0,
          0,
          0,
          0,
          0,
          0,
          1,
          1,
          1,
          1,
          0,
          0,
          0,
          0,
          0,
          1,
          1,
          1,
          0,
          1,
          0,
          0,
          0,
          0,
          1,
          1,
          0,
          0,
          0,
          0,
          1,
          0,
          1,
          0,
          0,
          0,
          0,
          1,
          1,
          0,
          1,
          0,
          0,
          0,
          1,
          0,
          1,
          1,
          1,
          0,
          0,
          0,
          0,
          0,
          0,
          0,
          0,
          0,
          0,
          1,
          1,
          1,
          0,
          0,
          0,
          0,
          0,
          0,
          1,
          0,
          0,
          0,
          0,
          0,
          0,
          1,
          0,
          0,
          0,
          0,
          0,
          0,
          0,
          1,
          0,
          0,
          1,
          0,
          0,
          1,
          0,
          0,
          0,
          0,
          0,
          0,
          0,
          0,
          0,
          1,
          1,
          0,
          0,
          1,
          0,
          1,
          0,
          0,
          1,
          1,
          1,
          0,
          0,
          0,
          0,
          0,
          0,
          0,
          0,
          1,
          0,
          0,
          0,
          0,
          0,
          0,
          1,
          0,
          0,
          0,
          0,
          0,
          0,
          0,
          0,
          0,
          1,
          0,
          1,
          0,
          0,
          0,
          0,
          0,
          1,
          0,
          1,
          1,
          1,
          1,
          0,
          1,
          1,
          1,
          0,
          0,
          0,
          1,
          1,
          0,
          1,
          0,
          0,
          0,
          1,
          0,
          0,
          1,
          0,
          1,
          0,
          1,
          1,
          0,
          0,
          0,
          0,
          0,
          0,
          1,
          1,
          0,
          0,
          0,
          0,
          0,
          1,
          0,
          0,
          1,
          1,
          0,
          0,
          0,
          0,
          1,
          0,
          0,
          0,
          0,
          1,
          0,
          0,
          0,
          0,
          0,
          1,
          0,
          1,
          1,
          0,
          0,
          0,
          0
         ],
         "x0": " ",
         "xaxis": "x",
         "y": [
          42,
          39,
          44,
          29,
          31,
          24,
          34,
          25,
          58,
          45,
          32,
          38,
          44,
          39,
          41,
          45,
          40,
          51,
          49,
          37,
          44,
          36,
          33,
          41,
          42,
          45,
          19,
          66,
          35,
          27,
          33,
          34,
          21,
          58,
          29,
          21,
          41,
          34,
          32,
          36,
          46,
          22,
          30,
          46,
          45,
          36,
          22,
          34,
          44,
          31,
          36,
          33,
          35,
          39,
          42,
          37,
          41,
          31,
          34,
          34,
          39,
          39,
          28,
          42,
          56,
          41,
          24,
          48,
          44,
          52,
          31,
          29,
          37,
          44,
          32,
          48,
          42,
          37,
          57,
          33,
          33,
          30,
          49,
          29,
          24,
          41,
          39,
          24,
          29,
          27,
          44,
          30,
          36,
          55,
          45,
          32,
          39,
          34,
          41,
          36,
          40,
          32,
          29,
          35,
          33,
          41,
          45,
          33,
          41,
          26,
          46,
          33,
          43,
          33,
          37,
          50,
          29,
          40,
          42,
          43,
          46,
          38,
          39,
          34,
          40,
          26,
          54,
          36,
          28,
          34,
          48,
          32,
          36,
          36,
          39,
          35,
          34,
          30,
          53,
          46,
          40,
          29,
          32,
          34,
          41,
          27,
          34,
          25,
          44,
          31,
          36,
          35,
          33,
          35,
          50,
          31,
          30,
          38,
          59,
          37,
          49,
          22,
          24,
          40,
          31,
          30,
          35,
          35,
          46,
          40,
          30,
          37,
          29,
          33,
          39,
          39,
          31,
          22,
          25,
          43,
          34,
          32,
          30,
          34,
          29,
          42,
          29,
          35,
          30,
          39,
          36,
          28,
          44,
          46,
          21,
          46,
          38,
          32,
          66,
          52,
          36,
          49,
          37,
          41,
          23,
          35,
          26,
          61,
          46,
          28,
          60,
          38,
          40,
          35,
          39,
          26,
          39,
          40,
          40,
          33,
          37,
          33,
          30,
          35,
          38,
          35,
          31,
          47,
          37,
          38,
          47,
          38,
          31,
          44,
          36,
          38,
          39,
          25,
          33,
          38,
          35,
          37,
          26,
          28,
          33,
          46,
          40,
          23,
          37,
          37,
          61,
          37,
          47,
          38,
          32,
          60,
          41,
          31,
          30,
          40,
          38,
          34,
          38,
          37,
          35,
          48,
          26,
          48,
          35,
          40,
          59,
          35,
          34,
          28,
          51,
          44,
          38,
          30,
          36,
          25,
          34,
          33,
          40,
          41,
          46,
          54,
          45,
          35,
          32,
          41,
          36,
          30,
          51,
          51,
          53,
          36,
          47,
          38,
          32,
          41,
          43,
          57,
          30,
          28,
          51,
          30,
          27,
          31,
          39,
          62,
          35,
          35,
          49,
          28,
          61,
          54,
          33,
          31,
          51,
          33,
          36,
          48,
          29,
          39,
          39,
          34,
          38,
          36,
          42,
          30,
          48,
          26,
          38,
          38,
          40,
          24,
          42,
          45,
          51,
          36,
          27,
          43,
          36,
          32,
          30,
          40,
          42,
          34,
          48,
          35,
          38,
          41,
          25,
          34,
          37,
          42,
          45,
          23,
          38,
          40,
          57,
          25,
          31,
          43,
          46,
          28,
          49,
          18,
          46,
          47,
          37,
          39,
          31,
          36,
          37,
          43,
          35,
          36,
          21,
          27,
          60,
          41,
          36,
          31,
          36,
          49,
          58,
          28,
          35,
          27,
          35,
          35,
          48,
          29,
          36,
          32,
          46,
          33,
          37,
          35,
          26,
          25,
          29,
          42,
          43,
          36,
          36,
          34,
          36,
          39,
          30,
          34,
          36,
          50,
          31,
          41,
          44,
          49,
          21,
          42,
          46,
          48,
          32,
          49,
          64,
          43,
          32,
          38,
          48,
          44,
          45,
          28,
          39,
          33,
          60,
          43,
          36,
          45,
          38,
          37,
          42,
          35,
          35,
          40,
          40,
          25,
          40,
          28,
          58,
          46,
          25,
          32,
          27,
          47,
          35,
          45,
          61,
          51,
          24,
          39,
          42,
          37,
          31,
          46,
          29,
          36,
          39,
          48,
          33,
          44,
          27,
          35,
          63,
          34,
          37,
          43,
          34,
          43,
          38,
          48,
          46,
          27,
          44,
          35,
          36,
          34,
          49,
          37,
          28,
          43,
          38
         ],
         "y0": " ",
         "yaxis": "y"
        }
       ],
       "layout": {
        "legend": {
         "title": {
          "text": "IsActive"
         },
         "tracegroupgap": 0
        },
        "margin": {
         "t": 60
        },
        "template": {
         "data": {
          "bar": [
           {
            "error_x": {
             "color": "#2a3f5f"
            },
            "error_y": {
             "color": "#2a3f5f"
            },
            "marker": {
             "line": {
              "color": "#E5ECF6",
              "width": 0.5
             }
            },
            "type": "bar"
           }
          ],
          "barpolar": [
           {
            "marker": {
             "line": {
              "color": "#E5ECF6",
              "width": 0.5
             }
            },
            "type": "barpolar"
           }
          ],
          "carpet": [
           {
            "aaxis": {
             "endlinecolor": "#2a3f5f",
             "gridcolor": "white",
             "linecolor": "white",
             "minorgridcolor": "white",
             "startlinecolor": "#2a3f5f"
            },
            "baxis": {
             "endlinecolor": "#2a3f5f",
             "gridcolor": "white",
             "linecolor": "white",
             "minorgridcolor": "white",
             "startlinecolor": "#2a3f5f"
            },
            "type": "carpet"
           }
          ],
          "choropleth": [
           {
            "colorbar": {
             "outlinewidth": 0,
             "ticks": ""
            },
            "type": "choropleth"
           }
          ],
          "contour": [
           {
            "colorbar": {
             "outlinewidth": 0,
             "ticks": ""
            },
            "colorscale": [
             [
              0,
              "#0d0887"
             ],
             [
              0.1111111111111111,
              "#46039f"
             ],
             [
              0.2222222222222222,
              "#7201a8"
             ],
             [
              0.3333333333333333,
              "#9c179e"
             ],
             [
              0.4444444444444444,
              "#bd3786"
             ],
             [
              0.5555555555555556,
              "#d8576b"
             ],
             [
              0.6666666666666666,
              "#ed7953"
             ],
             [
              0.7777777777777778,
              "#fb9f3a"
             ],
             [
              0.8888888888888888,
              "#fdca26"
             ],
             [
              1,
              "#f0f921"
             ]
            ],
            "type": "contour"
           }
          ],
          "contourcarpet": [
           {
            "colorbar": {
             "outlinewidth": 0,
             "ticks": ""
            },
            "type": "contourcarpet"
           }
          ],
          "heatmap": [
           {
            "colorbar": {
             "outlinewidth": 0,
             "ticks": ""
            },
            "colorscale": [
             [
              0,
              "#0d0887"
             ],
             [
              0.1111111111111111,
              "#46039f"
             ],
             [
              0.2222222222222222,
              "#7201a8"
             ],
             [
              0.3333333333333333,
              "#9c179e"
             ],
             [
              0.4444444444444444,
              "#bd3786"
             ],
             [
              0.5555555555555556,
              "#d8576b"
             ],
             [
              0.6666666666666666,
              "#ed7953"
             ],
             [
              0.7777777777777778,
              "#fb9f3a"
             ],
             [
              0.8888888888888888,
              "#fdca26"
             ],
             [
              1,
              "#f0f921"
             ]
            ],
            "type": "heatmap"
           }
          ],
          "heatmapgl": [
           {
            "colorbar": {
             "outlinewidth": 0,
             "ticks": ""
            },
            "colorscale": [
             [
              0,
              "#0d0887"
             ],
             [
              0.1111111111111111,
              "#46039f"
             ],
             [
              0.2222222222222222,
              "#7201a8"
             ],
             [
              0.3333333333333333,
              "#9c179e"
             ],
             [
              0.4444444444444444,
              "#bd3786"
             ],
             [
              0.5555555555555556,
              "#d8576b"
             ],
             [
              0.6666666666666666,
              "#ed7953"
             ],
             [
              0.7777777777777778,
              "#fb9f3a"
             ],
             [
              0.8888888888888888,
              "#fdca26"
             ],
             [
              1,
              "#f0f921"
             ]
            ],
            "type": "heatmapgl"
           }
          ],
          "histogram": [
           {
            "marker": {
             "colorbar": {
              "outlinewidth": 0,
              "ticks": ""
             }
            },
            "type": "histogram"
           }
          ],
          "histogram2d": [
           {
            "colorbar": {
             "outlinewidth": 0,
             "ticks": ""
            },
            "colorscale": [
             [
              0,
              "#0d0887"
             ],
             [
              0.1111111111111111,
              "#46039f"
             ],
             [
              0.2222222222222222,
              "#7201a8"
             ],
             [
              0.3333333333333333,
              "#9c179e"
             ],
             [
              0.4444444444444444,
              "#bd3786"
             ],
             [
              0.5555555555555556,
              "#d8576b"
             ],
             [
              0.6666666666666666,
              "#ed7953"
             ],
             [
              0.7777777777777778,
              "#fb9f3a"
             ],
             [
              0.8888888888888888,
              "#fdca26"
             ],
             [
              1,
              "#f0f921"
             ]
            ],
            "type": "histogram2d"
           }
          ],
          "histogram2dcontour": [
           {
            "colorbar": {
             "outlinewidth": 0,
             "ticks": ""
            },
            "colorscale": [
             [
              0,
              "#0d0887"
             ],
             [
              0.1111111111111111,
              "#46039f"
             ],
             [
              0.2222222222222222,
              "#7201a8"
             ],
             [
              0.3333333333333333,
              "#9c179e"
             ],
             [
              0.4444444444444444,
              "#bd3786"
             ],
             [
              0.5555555555555556,
              "#d8576b"
             ],
             [
              0.6666666666666666,
              "#ed7953"
             ],
             [
              0.7777777777777778,
              "#fb9f3a"
             ],
             [
              0.8888888888888888,
              "#fdca26"
             ],
             [
              1,
              "#f0f921"
             ]
            ],
            "type": "histogram2dcontour"
           }
          ],
          "mesh3d": [
           {
            "colorbar": {
             "outlinewidth": 0,
             "ticks": ""
            },
            "type": "mesh3d"
           }
          ],
          "parcoords": [
           {
            "line": {
             "colorbar": {
              "outlinewidth": 0,
              "ticks": ""
             }
            },
            "type": "parcoords"
           }
          ],
          "pie": [
           {
            "automargin": true,
            "type": "pie"
           }
          ],
          "scatter": [
           {
            "marker": {
             "colorbar": {
              "outlinewidth": 0,
              "ticks": ""
             }
            },
            "type": "scatter"
           }
          ],
          "scatter3d": [
           {
            "line": {
             "colorbar": {
              "outlinewidth": 0,
              "ticks": ""
             }
            },
            "marker": {
             "colorbar": {
              "outlinewidth": 0,
              "ticks": ""
             }
            },
            "type": "scatter3d"
           }
          ],
          "scattercarpet": [
           {
            "marker": {
             "colorbar": {
              "outlinewidth": 0,
              "ticks": ""
             }
            },
            "type": "scattercarpet"
           }
          ],
          "scattergeo": [
           {
            "marker": {
             "colorbar": {
              "outlinewidth": 0,
              "ticks": ""
             }
            },
            "type": "scattergeo"
           }
          ],
          "scattergl": [
           {
            "marker": {
             "colorbar": {
              "outlinewidth": 0,
              "ticks": ""
             }
            },
            "type": "scattergl"
           }
          ],
          "scattermapbox": [
           {
            "marker": {
             "colorbar": {
              "outlinewidth": 0,
              "ticks": ""
             }
            },
            "type": "scattermapbox"
           }
          ],
          "scatterpolar": [
           {
            "marker": {
             "colorbar": {
              "outlinewidth": 0,
              "ticks": ""
             }
            },
            "type": "scatterpolar"
           }
          ],
          "scatterpolargl": [
           {
            "marker": {
             "colorbar": {
              "outlinewidth": 0,
              "ticks": ""
             }
            },
            "type": "scatterpolargl"
           }
          ],
          "scatterternary": [
           {
            "marker": {
             "colorbar": {
              "outlinewidth": 0,
              "ticks": ""
             }
            },
            "type": "scatterternary"
           }
          ],
          "surface": [
           {
            "colorbar": {
             "outlinewidth": 0,
             "ticks": ""
            },
            "colorscale": [
             [
              0,
              "#0d0887"
             ],
             [
              0.1111111111111111,
              "#46039f"
             ],
             [
              0.2222222222222222,
              "#7201a8"
             ],
             [
              0.3333333333333333,
              "#9c179e"
             ],
             [
              0.4444444444444444,
              "#bd3786"
             ],
             [
              0.5555555555555556,
              "#d8576b"
             ],
             [
              0.6666666666666666,
              "#ed7953"
             ],
             [
              0.7777777777777778,
              "#fb9f3a"
             ],
             [
              0.8888888888888888,
              "#fdca26"
             ],
             [
              1,
              "#f0f921"
             ]
            ],
            "type": "surface"
           }
          ],
          "table": [
           {
            "cells": {
             "fill": {
              "color": "#EBF0F8"
             },
             "line": {
              "color": "white"
             }
            },
            "header": {
             "fill": {
              "color": "#C8D4E3"
             },
             "line": {
              "color": "white"
             }
            },
            "type": "table"
           }
          ]
         },
         "layout": {
          "annotationdefaults": {
           "arrowcolor": "#2a3f5f",
           "arrowhead": 0,
           "arrowwidth": 1
          },
          "coloraxis": {
           "colorbar": {
            "outlinewidth": 0,
            "ticks": ""
           }
          },
          "colorscale": {
           "diverging": [
            [
             0,
             "#8e0152"
            ],
            [
             0.1,
             "#c51b7d"
            ],
            [
             0.2,
             "#de77ae"
            ],
            [
             0.3,
             "#f1b6da"
            ],
            [
             0.4,
             "#fde0ef"
            ],
            [
             0.5,
             "#f7f7f7"
            ],
            [
             0.6,
             "#e6f5d0"
            ],
            [
             0.7,
             "#b8e186"
            ],
            [
             0.8,
             "#7fbc41"
            ],
            [
             0.9,
             "#4d9221"
            ],
            [
             1,
             "#276419"
            ]
           ],
           "sequential": [
            [
             0,
             "#0d0887"
            ],
            [
             0.1111111111111111,
             "#46039f"
            ],
            [
             0.2222222222222222,
             "#7201a8"
            ],
            [
             0.3333333333333333,
             "#9c179e"
            ],
            [
             0.4444444444444444,
             "#bd3786"
            ],
            [
             0.5555555555555556,
             "#d8576b"
            ],
            [
             0.6666666666666666,
             "#ed7953"
            ],
            [
             0.7777777777777778,
             "#fb9f3a"
            ],
            [
             0.8888888888888888,
             "#fdca26"
            ],
            [
             1,
             "#f0f921"
            ]
           ],
           "sequentialminus": [
            [
             0,
             "#0d0887"
            ],
            [
             0.1111111111111111,
             "#46039f"
            ],
            [
             0.2222222222222222,
             "#7201a8"
            ],
            [
             0.3333333333333333,
             "#9c179e"
            ],
            [
             0.4444444444444444,
             "#bd3786"
            ],
            [
             0.5555555555555556,
             "#d8576b"
            ],
            [
             0.6666666666666666,
             "#ed7953"
            ],
            [
             0.7777777777777778,
             "#fb9f3a"
            ],
            [
             0.8888888888888888,
             "#fdca26"
            ],
            [
             1,
             "#f0f921"
            ]
           ]
          },
          "colorway": [
           "#636efa",
           "#EF553B",
           "#00cc96",
           "#ab63fa",
           "#FFA15A",
           "#19d3f3",
           "#FF6692",
           "#B6E880",
           "#FF97FF",
           "#FECB52"
          ],
          "font": {
           "color": "#2a3f5f"
          },
          "geo": {
           "bgcolor": "white",
           "lakecolor": "white",
           "landcolor": "#E5ECF6",
           "showlakes": true,
           "showland": true,
           "subunitcolor": "white"
          },
          "hoverlabel": {
           "align": "left"
          },
          "hovermode": "closest",
          "mapbox": {
           "style": "light"
          },
          "paper_bgcolor": "white",
          "plot_bgcolor": "#E5ECF6",
          "polar": {
           "angularaxis": {
            "gridcolor": "white",
            "linecolor": "white",
            "ticks": ""
           },
           "bgcolor": "#E5ECF6",
           "radialaxis": {
            "gridcolor": "white",
            "linecolor": "white",
            "ticks": ""
           }
          },
          "scene": {
           "xaxis": {
            "backgroundcolor": "#E5ECF6",
            "gridcolor": "white",
            "gridwidth": 2,
            "linecolor": "white",
            "showbackground": true,
            "ticks": "",
            "zerolinecolor": "white"
           },
           "yaxis": {
            "backgroundcolor": "#E5ECF6",
            "gridcolor": "white",
            "gridwidth": 2,
            "linecolor": "white",
            "showbackground": true,
            "ticks": "",
            "zerolinecolor": "white"
           },
           "zaxis": {
            "backgroundcolor": "#E5ECF6",
            "gridcolor": "white",
            "gridwidth": 2,
            "linecolor": "white",
            "showbackground": true,
            "ticks": "",
            "zerolinecolor": "white"
           }
          },
          "shapedefaults": {
           "line": {
            "color": "#2a3f5f"
           }
          },
          "ternary": {
           "aaxis": {
            "gridcolor": "white",
            "linecolor": "white",
            "ticks": ""
           },
           "baxis": {
            "gridcolor": "white",
            "linecolor": "white",
            "ticks": ""
           },
           "bgcolor": "#E5ECF6",
           "caxis": {
            "gridcolor": "white",
            "linecolor": "white",
            "ticks": ""
           }
          },
          "title": {
           "x": 0.05
          },
          "xaxis": {
           "automargin": true,
           "gridcolor": "white",
           "linecolor": "white",
           "ticks": "",
           "title": {
            "standoff": 15
           },
           "zerolinecolor": "white",
           "zerolinewidth": 2
          },
          "yaxis": {
           "automargin": true,
           "gridcolor": "white",
           "linecolor": "white",
           "ticks": "",
           "title": {
            "standoff": 15
           },
           "zerolinecolor": "white",
           "zerolinewidth": 2
          }
         }
        },
        "violinmode": "group",
        "xaxis": {
         "anchor": "y",
         "domain": [
          0,
          1
         ],
         "title": {
          "text": "Exit"
         }
        },
        "yaxis": {
         "anchor": "x",
         "domain": [
          0,
          1
         ],
         "title": {
          "text": "Age"
         }
        }
       }
      },
      "text/html": [
       "<div>\n",
       "        \n",
       "        \n",
       "            <div id=\"6ed99b13-d436-45aa-a5de-481b040901b5\" class=\"plotly-graph-div\" style=\"height:525px; width:100%;\"></div>\n",
       "            <script type=\"text/javascript\">\n",
       "                require([\"plotly\"], function(Plotly) {\n",
       "                    window.PLOTLYENV=window.PLOTLYENV || {};\n",
       "                    \n",
       "                if (document.getElementById(\"6ed99b13-d436-45aa-a5de-481b040901b5\")) {\n",
       "                    Plotly.newPlot(\n",
       "                        '6ed99b13-d436-45aa-a5de-481b040901b5',\n",
       "                        [{\"alignmentgroup\": \"True\", \"box\": {\"visible\": true}, \"customdata\": [[619, \"Female\", 42, 2, 0.0, 1, 1, 1, 101348.88, 1], [608, \"Female\", 41, 1, 83807.86, 1, 0, 1, 112542.58, 0], [850, \"Female\", 43, 2, 125510.82, 1, 1, 1, 79084.1, 0], [822, \"Male\", 50, 7, 0.0, 2, 1, 1, 10062.8, 0], [501, \"Male\", 44, 4, 142051.07, 2, 0, 1, 74940.5, 0], [684, \"Male\", 27, 2, 134603.88, 1, 1, 1, 71725.73, 0], [635, \"Female\", 35, 7, 0.0, 2, 1, 1, 65951.65, 0], [616, \"Male\", 45, 3, 143129.41, 2, 0, 1, 64327.26, 0], [549, \"Female\", 24, 9, 0.0, 2, 1, 1, 14406.41, 0], [726, \"Female\", 24, 6, 0.0, 2, 1, 1, 54724.03, 0], [732, \"Male\", 41, 8, 0.0, 2, 1, 1, 170886.17, 0], [669, \"Male\", 46, 3, 0.0, 2, 0, 1, 8487.75, 0], [846, \"Female\", 38, 5, 0.0, 1, 1, 1, 187616.16, 0], [577, \"Male\", 25, 3, 0.0, 2, 0, 1, 124508.29, 0], [756, \"Male\", 36, 2, 136815.64, 1, 1, 1, 170041.95, 0], [574, \"Female\", 43, 3, 141349.43, 1, 1, 1, 100187.43, 0], [411, \"Male\", 29, 0, 59697.17, 2, 1, 1, 53483.21, 0], [533, \"Male\", 36, 7, 85311.7, 1, 0, 1, 156731.91, 0], [520, \"Female\", 42, 6, 0.0, 2, 1, 1, 34410.55, 0], [722, \"Female\", 29, 9, 0.0, 2, 1, 1, 142033.07, 0], [490, \"Male\", 31, 3, 145260.23, 1, 0, 1, 114066.77, 0], [804, \"Male\", 33, 7, 76548.6, 1, 0, 1, 98453.45, 0], [850, \"Male\", 36, 7, 0.0, 1, 1, 1, 40812.9, 0], [582, \"Male\", 41, 6, 70349.48, 2, 0, 1, 178074.04, 0], [556, \"Female\", 61, 2, 117419.35, 1, 1, 1, 94153.83, 0], [660, \"Female\", 61, 5, 155931.11, 1, 1, 1, 158338.39, 0], [776, \"Female\", 32, 4, 109421.13, 2, 1, 1, 126517.46, 0], [829, \"Female\", 27, 9, 112045.67, 1, 1, 1, 119708.21, 1], [637, \"Female\", 39, 9, 137843.8, 1, 1, 1, 117622.8, 1], [550, \"Male\", 38, 2, 103391.38, 1, 0, 1, 90878.13, 0], [619, \"Male\", 43, 1, 125211.92, 1, 1, 1, 113410.49, 0], [614, \"Male\", 51, 4, 40685.92, 1, 1, 1, 46775.28, 0], [684, \"Male\", 56, 8, 78707.16, 1, 1, 1, 99398.36, 0], [603, \"Male\", 26, 4, 109166.37, 1, 1, 1, 92840.67, 0], [751, \"Female\", 36, 6, 169831.46, 2, 1, 1, 27758.36, 0], [735, \"Male\", 43, 10, 123180.01, 2, 1, 1, 196673.28, 0], [661, \"Female\", 35, 5, 150725.53, 2, 0, 1, 113656.85, 0], [657, \"Female\", 37, 0, 163607.18, 1, 0, 1, 44203.55, 0], [604, \"Female\", 25, 5, 157780.84, 2, 1, 1, 58426.81, 0], [519, \"Male\", 36, 9, 0.0, 2, 0, 1, 145562.4, 0], [664, \"Male\", 55, 8, 0.0, 2, 1, 1, 139161.64, 0], [678, \"Female\", 32, 9, 0.0, 1, 1, 1, 148210.64, 0], [757, \"Male\", 33, 5, 77253.22, 1, 0, 1, 194239.63, 0], [506, \"Female\", 34, 4, 90307.62, 1, 1, 1, 159235.29, 0], [652, \"Female\", 75, 10, 0.0, 2, 1, 1, 114675.75, 0], [635, \"Female\", 28, 3, 81623.67, 2, 1, 1, 156791.36, 0], [647, \"Female\", 44, 5, 0.0, 3, 1, 1, 174205.22, 1], [769, \"Male\", 29, 8, 0.0, 2, 1, 1, 172290.61, 0], [730, \"Male\", 42, 4, 0.0, 2, 0, 1, 85982.47, 0], [515, \"Male\", 35, 10, 176273.95, 1, 0, 1, 121277.78, 0], [773, \"Male\", 41, 9, 102827.44, 1, 0, 1, 64595.25, 0], [814, \"Male\", 29, 8, 97086.4, 2, 1, 1, 197276.13, 0], [665, \"Female\", 40, 6, 0.0, 1, 1, 1, 161848.03, 0], [670, \"Female\", 65, 1, 0.0, 1, 1, 1, 177655.68, 1], [622, \"Female\", 46, 4, 107073.27, 2, 1, 1, 30984.59, 1], [582, \"Male\", 32, 1, 88938.62, 1, 1, 1, 10054.53, 0], [785, \"Female\", 36, 2, 99806.85, 1, 0, 1, 36976.52, 0], [685, \"Male\", 30, 3, 90536.81, 1, 0, 1, 63082.88, 0], [675, \"Male\", 36, 9, 106190.55, 1, 0, 1, 22994.32, 0], [721, \"Male\", 28, 9, 154475.54, 2, 0, 1, 101300.94, 1], [628, \"Female\", 30, 9, 132351.29, 2, 1, 1, 74169.13, 0], [684, \"Female\", 48, 10, 126384.42, 1, 1, 1, 198129.36, 0], [549, \"Female\", 52, 1, 0.0, 1, 0, 1, 8636.05, 1], [758, \"Female\", 34, 3, 0.0, 2, 1, 1, 124226.16, 0], [795, \"Female\", 33, 9, 130862.43, 1, 1, 1, 114935.21, 0], [687, \"Male\", 38, 9, 122570.87, 1, 1, 1, 35608.88, 0], [686, \"Male\", 25, 1, 0.0, 2, 0, 1, 16459.37, 0], [789, \"Male\", 39, 7, 124828.46, 2, 1, 1, 124411.08, 0], [589, \"Female\", 50, 5, 144895.05, 2, 1, 1, 34941.23, 0], [461, \"Female\", 34, 5, 63663.93, 1, 0, 1, 167784.28, 0], [637, \"Male\", 40, 2, 133463.1, 1, 0, 1, 93165.34, 0], [579, \"Female\", 35, 1, 129490.36, 2, 0, 1, 8590.83, 1], [663, \"Male\", 34, 7, 0.0, 2, 1, 1, 180427.24, 0], [682, \"Female\", 43, 5, 125851.93, 1, 1, 1, 193318.33, 0], [485, \"Female\", 21, 5, 113157.22, 1, 1, 1, 54141.5, 0], [416, \"Male\", 32, 0, 0.0, 2, 0, 1, 878.87, 0], [614, \"Female\", 43, 6, 0.0, 2, 1, 1, 109041.53, 0], [586, \"Female\", 28, 2, 0.0, 2, 1, 1, 92067.35, 0], [646, \"Female\", 73, 6, 97259.25, 1, 0, 1, 104719.66, 0], [717, \"Female\", 22, 6, 101060.25, 1, 0, 1, 84699.56, 0], [721, \"Female\", 36, 2, 0.0, 2, 1, 1, 106977.8, 0], [660, \"Male\", 31, 9, 125189.75, 2, 1, 1, 139874.43, 0], [512, \"Male\", 40, 5, 0.0, 2, 1, 1, 146457.83, 0], [484, \"Female\", 35, 7, 133868.21, 1, 1, 1, 27286.1, 0], [510, \"Female\", 30, 0, 0.0, 2, 1, 1, 130553.47, 0], [597, \"Female\", 40, 8, 101993.12, 1, 0, 1, 94774.12, 0], [850, \"Female\", 45, 2, 122311.21, 1, 1, 1, 19482.5, 0], [510, \"Male\", 65, 2, 0.0, 2, 1, 1, 48071.61, 0], [636, \"Male\", 42, 2, 0.0, 2, 1, 1, 55470.78, 0], [804, \"Female\", 50, 4, 0.0, 1, 1, 1, 8546.87, 1], [525, \"Female\", 37, 0, 0.0, 1, 0, 1, 131521.72, 0], [616, \"Male\", 30, 5, 0.0, 2, 0, 1, 196108.51, 0], [807, \"Male\", 35, 3, 174790.15, 1, 1, 1, 600.36, 0], [616, \"Female\", 32, 6, 0.0, 2, 1, 1, 43001.46, 0], [721, \"Male\", 37, 3, 107720.64, 1, 1, 1, 158591.12, 0], [501, \"Male\", 57, 10, 0.0, 2, 1, 1, 47847.19, 0], [850, \"Male\", 30, 2, 141040.01, 1, 1, 1, 5978.2, 0], [759, \"Male\", 42, 4, 105420.18, 1, 0, 1, 121409.06, 0], [516, \"Male\", 50, 5, 0.0, 1, 0, 1, 146145.93, 1], [711, \"Female\", 38, 2, 129022.06, 2, 1, 1, 14374.86, 1], [550, \"Male\", 37, 3, 0.0, 1, 1, 1, 179670.31, 0], [618, \"Male\", 34, 5, 134954.53, 1, 1, 1, 151954.39, 0], [671, \"Male\", 45, 2, 106376.85, 1, 0, 1, 158264.62, 0], [603, \"Male\", 31, 8, 0.0, 2, 1, 1, 169915.02, 0], [676, \"Female\", 34, 1, 63095.01, 1, 1, 1, 40645.81, 0], [668, \"Male\", 47, 7, 106854.21, 1, 0, 1, 157959.02, 1], [592, \"Male\", 54, 8, 0.0, 1, 1, 1, 28737.71, 1], [726, \"Female\", 31, 9, 114722.05, 2, 1, 1, 98178.57, 0], [514, \"Male\", 30, 7, 0.0, 1, 0, 1, 125010.24, 0], [567, \"Male\", 42, 2, 0.0, 2, 1, 1, 167984.61, 0], [671, \"Male\", 45, 6, 99564.22, 1, 1, 1, 108872.45, 1], [694, \"Female\", 30, 9, 0.0, 2, 1, 1, 26960.31, 0], [547, \"Female\", 39, 6, 74596.15, 3, 1, 1, 85746.52, 1], [673, \"Male\", 72, 1, 0.0, 2, 0, 1, 111981.19, 0], [512, \"Female\", 37, 1, 0.0, 2, 0, 1, 156105.03, 0], [767, \"Male\", 20, 3, 119714.25, 2, 0, 1, 150135.38, 0], [585, \"Female\", 67, 5, 113978.97, 2, 0, 1, 93146.11, 0], [712, \"Female\", 29, 2, 0.0, 1, 1, 1, 144375.0, 0], [703, \"Male\", 28, 2, 81173.83, 2, 0, 1, 162812.16, 0], [703, \"Male\", 37, 8, 105961.68, 2, 0, 1, 74158.8, 0], [659, \"Male\", 67, 6, 117411.6, 1, 1, 1, 45071.09, 1], [545, \"Female\", 26, 1, 0.0, 2, 1, 1, 199638.56, 0], [634, \"Male\", 24, 8, 103097.85, 1, 1, 1, 157577.29, 0], [587, \"Female\", 34, 1, 0.0, 2, 1, 1, 97932.68, 0], [681, \"Female\", 79, 0, 0.0, 2, 0, 1, 170968.99, 0], [544, \"Male\", 37, 2, 79731.91, 1, 1, 1, 57558.95, 0], [766, \"Male\", 41, 0, 0.0, 2, 0, 1, 34283.23, 0], [727, \"Male\", 34, 10, 0.0, 2, 1, 1, 198637.34, 0], [693, \"Female\", 30, 6, 127992.25, 1, 1, 1, 50457.2, 0], [850, \"Male\", 38, 3, 54901.01, 1, 1, 1, 140075.55, 0], [732, \"Male\", 42, 9, 108748.08, 2, 1, 1, 65323.11, 0], [682, \"Female\", 26, 0, 110654.02, 1, 0, 1, 111879.21, 0], [738, \"Male\", 31, 9, 79019.8, 1, 1, 1, 18606.23, 0], [498, \"Male\", 34, 2, 0.0, 2, 1, 1, 148528.24, 0], [650, \"Male\", 41, 9, 0.0, 2, 0, 1, 191599.67, 0], [811, \"Female\", 34, 1, 149297.19, 2, 1, 1, 186339.74, 0], [712, \"Male\", 28, 4, 145605.44, 1, 0, 1, 93883.53, 0], [706, \"Female\", 37, 7, 0.0, 2, 1, 1, 110899.3, 0], [756, \"Male\", 62, 3, 0.0, 1, 1, 1, 11199.04, 1], [646, \"Male\", 35, 6, 84026.86, 1, 0, 1, 164255.69, 0], [782, \"Male\", 39, 8, 0.0, 2, 1, 1, 33949.67, 0], [775, \"Male\", 29, 10, 0.0, 2, 1, 1, 68143.93, 0], [479, \"Male\", 35, 4, 138718.92, 1, 1, 1, 47251.79, 1], [807, \"Male\", 42, 7, 118274.71, 1, 1, 1, 25885.72, 0], [799, \"Female\", 22, 8, 174185.98, 2, 0, 1, 192633.85, 0], [744, \"Female\", 26, 5, 166297.89, 1, 1, 1, 181694.44, 0], [703, \"Male\", 42, 9, 63227.0, 1, 0, 1, 137316.32, 0], [681, \"Male\", 38, 3, 0.0, 2, 1, 1, 112491.96, 0], [714, \"Female\", 31, 4, 125169.26, 1, 1, 1, 106636.89, 0], [511, \"Male\", 58, 0, 149117.31, 1, 1, 1, 162599.51, 0], [627, \"Male\", 33, 5, 0.0, 2, 1, 1, 103737.82, 0], [712, \"Female\", 33, 6, 0.0, 2, 1, 1, 190686.16, 0], [667, \"Male\", 31, 1, 119266.69, 1, 1, 1, 28257.63, 0], [731, \"Male\", 43, 2, 0.0, 1, 1, 1, 170034.95, 1], [652, \"Female\", 80, 4, 0.0, 2, 1, 1, 188603.07, 0], [744, \"Male\", 36, 2, 153804.44, 1, 1, 1, 87213.33, 0], [706, \"Male\", 42, 9, 0.0, 2, 1, 1, 28714.34, 0], [525, \"Female\", 57, 2, 145965.33, 1, 1, 1, 64448.36, 0], [680, \"Female\", 30, 8, 141441.75, 1, 1, 1, 16278.97, 0], [671, \"Male\", 35, 1, 144848.74, 1, 1, 1, 179012.3, 0], [664, \"Male\", 26, 7, 116244.14, 2, 1, 1, 95145.14, 0], [656, \"Male\", 50, 7, 0.0, 2, 0, 1, 72143.44, 0], [663, \"Male\", 44, 2, 117028.6, 2, 0, 1, 144680.18, 0], [659, \"Female\", 32, 3, 150923.74, 2, 0, 1, 174652.51, 0], [642, \"Female\", 40, 6, 129502.49, 2, 0, 1, 86099.23, 1], [545, \"Female\", 47, 5, 0.0, 2, 1, 1, 38970.14, 0], [643, \"Male\", 59, 3, 170331.37, 1, 1, 1, 32171.79, 0], [654, \"Female\", 32, 1, 114510.85, 1, 1, 1, 126143.23, 0], [582, \"Male\", 39, 5, 0.0, 2, 1, 1, 129892.93, 0], [659, \"Male\", 32, 3, 107594.11, 2, 1, 1, 102416.84, 0], [762, \"Male\", 39, 2, 81273.13, 1, 1, 1, 18719.67, 0], [670, \"Male\", 25, 6, 0.0, 2, 1, 1, 78358.94, 0], [613, \"Female\", 45, 1, 187841.99, 2, 1, 1, 147224.27, 0], [850, \"Female\", 57, 8, 126776.3, 2, 1, 1, 132298.49, 0], [737, \"Male\", 41, 1, 101960.74, 1, 1, 1, 123547.28, 0], [520, \"Male\", 58, 3, 0.0, 2, 0, 1, 32790.02, 0], [706, \"Male\", 28, 3, 0.0, 2, 0, 1, 181543.67, 0], [643, \"Female\", 45, 2, 150842.93, 1, 0, 1, 2319.96, 1], [648, \"Female\", 50, 9, 102535.57, 1, 1, 1, 189543.19, 0], [640, \"Male\", 68, 9, 0.0, 2, 1, 1, 199493.38, 0], [628, \"Female\", 33, 3, 0.0, 1, 1, 1, 188193.25, 0], [460, \"Female\", 35, 8, 102742.91, 2, 1, 1, 189339.6, 0], [636, \"Male\", 34, 2, 40105.51, 2, 0, 1, 53512.16, 0], [801, \"Male\", 42, 4, 141947.67, 1, 1, 1, 10598.29, 0], [640, \"Female\", 75, 1, 106307.91, 2, 0, 1, 113428.77, 0], [611, \"Male\", 31, 0, 107884.81, 2, 1, 1, 183487.98, 0], [802, \"Male\", 31, 1, 125013.72, 1, 1, 1, 187658.09, 0], [717, \"Male\", 35, 7, 58469.37, 2, 1, 1, 172459.39, 0], [769, \"Female\", 39, 8, 0.0, 1, 0, 1, 21016.0, 0], [745, \"Male\", 45, 10, 117231.63, 3, 1, 1, 122381.02, 1], [483, \"Female\", 50, 9, 0.0, 2, 1, 1, 111020.24, 0], [492, \"Female\", 30, 10, 77168.87, 2, 0, 1, 146700.22, 0], [560, \"Female\", 66, 9, 0.0, 1, 1, 1, 15928.49, 0], [730, \"Male\", 62, 2, 0.0, 2, 1, 1, 186489.95, 0], [709, \"Female\", 45, 2, 0.0, 2, 0, 1, 162922.65, 0], [712, \"Female\", 29, 7, 147199.07, 1, 1, 1, 84932.4, 0], [752, \"Male\", 38, 3, 183102.29, 1, 1, 1, 71557.12, 0], [594, \"Female\", 24, 0, 97378.54, 1, 1, 1, 71405.17, 0], [645, \"Female\", 37, 2, 136925.09, 2, 0, 1, 153400.24, 0], [557, \"Male\", 33, 3, 54503.55, 1, 1, 1, 371.05, 0], [701, \"Female\", 39, 9, 0.0, 2, 0, 1, 145894.9, 0], [593, \"Female\", 38, 4, 129499.42, 1, 1, 1, 154071.27, 0], [751, \"Male\", 52, 8, 0.0, 2, 0, 1, 179291.85, 0], [443, \"Male\", 36, 6, 70438.01, 2, 0, 1, 56937.43, 0], [685, \"Male\", 23, 8, 0.0, 2, 1, 1, 112239.03, 0], [668, \"Male\", 37, 10, 152958.29, 2, 1, 1, 159585.61, 0], [850, \"Male\", 38, 1, 0.0, 2, 1, 1, 80006.65, 0], [745, \"Female\", 31, 3, 124328.84, 1, 1, 1, 140451.52, 0], [693, \"Female\", 41, 9, 181461.48, 3, 1, 1, 187929.43, 1], [556, \"Female\", 39, 9, 89588.35, 1, 1, 1, 94898.1, 0], [702, \"Male\", 45, 0, 80793.58, 1, 1, 1, 27474.81, 0], [619, \"Male\", 57, 3, 137946.39, 1, 1, 1, 72467.99, 1], [724, \"Male\", 41, 2, 127892.57, 2, 0, 1, 199645.45, 0], [762, \"Female\", 51, 3, 99286.98, 1, 0, 1, 85578.63, 0], [464, \"Female\", 42, 3, 85679.25, 1, 1, 1, 164104.74, 0], [534, \"Female\", 34, 7, 121551.58, 2, 1, 1, 70179.0, 0], [745, \"Male\", 46, 2, 122220.19, 1, 1, 1, 118024.1, 0], [748, \"Female\", 26, 1, 77780.29, 1, 0, 1, 183049.41, 0], [501, \"Male\", 40, 4, 125832.2, 1, 1, 1, 100433.83, 0], [850, \"Male\", 40, 9, 0.0, 2, 0, 1, 119232.33, 0], [758, \"Female\", 39, 6, 127357.76, 1, 0, 1, 56577.0, 0], [733, \"Male\", 33, 3, 0.0, 1, 1, 1, 7666.73, 0], [514, \"Male\", 43, 1, 95556.31, 1, 0, 1, 199273.98, 1], [637, \"Male\", 37, 8, 0.0, 1, 1, 1, 186062.36, 0], [468, \"Male\", 29, 1, 111681.98, 2, 1, 1, 195711.16, 0], [662, \"Female\", 32, 4, 133950.37, 1, 1, 1, 48725.68, 1], [818, \"Male\", 26, 4, 0.0, 2, 1, 1, 167036.94, 0], [850, \"Female\", 32, 9, 0.0, 2, 1, 1, 18924.92, 0], [753, \"Male\", 35, 3, 0.0, 2, 1, 1, 184843.77, 0], [631, \"Male\", 27, 10, 134169.62, 1, 1, 1, 176730.02, 0], [605, \"Female\", 31, 1, 117992.59, 1, 1, 1, 183598.77, 0], [569, \"Male\", 38, 7, 0.0, 1, 1, 1, 108469.2, 0], [658, \"Male\", 29, 4, 80262.6, 1, 1, 1, 20612.82, 0], [788, \"Male\", 34, 6, 156478.62, 1, 0, 1, 181196.76, 0], [730, \"Female\", 35, 0, 155470.55, 1, 1, 1, 53718.28, 0], [542, \"Male\", 39, 3, 135096.77, 1, 1, 1, 14353.43, 1], [692, \"Male\", 30, 2, 0.0, 2, 0, 1, 130486.57, 0], [714, \"Female\", 55, 9, 180075.22, 1, 1, 1, 100127.71, 0], [591, \"Male\", 29, 1, 97541.24, 1, 1, 1, 196356.17, 0], [710, \"Female\", 41, 2, 156067.05, 1, 1, 1, 9983.88, 0], [639, \"Female\", 38, 4, 81550.94, 2, 0, 1, 118974.77, 0], [765, \"Male\", 36, 8, 92310.54, 2, 1, 1, 72924.56, 0], [806, \"Male\", 40, 5, 80613.93, 1, 1, 1, 142838.64, 0], [757, \"Male\", 26, 8, 121581.56, 2, 1, 1, 127059.04, 0], [570, \"Female\", 58, 8, 0.0, 1, 0, 1, 116503.92, 1], [555, \"Male\", 32, 4, 0.0, 2, 1, 1, 54405.79, 0], [692, \"Male\", 54, 5, 0.0, 2, 1, 1, 88721.84, 0], [638, \"Male\", 44, 9, 77637.35, 2, 1, 1, 111346.22, 0], [733, \"Male\", 22, 5, 0.0, 2, 1, 1, 117202.19, 0], [599, \"Female\", 37, 2, 0.0, 2, 1, 1, 143739.29, 0], [524, \"Female\", 31, 10, 67238.98, 2, 1, 1, 161811.23, 0], [734, \"Male\", 34, 6, 133598.4, 1, 1, 1, 13107.24, 0], [605, \"Female\", 51, 3, 136188.78, 1, 1, 1, 67110.59, 1], [468, \"Female\", 56, 10, 0.0, 3, 0, 1, 62256.87, 1], [698, \"Male\", 48, 4, 101238.24, 2, 0, 1, 177815.87, 1], [707, \"Male\", 58, 6, 89685.92, 1, 0, 1, 126471.13, 0], [850, \"Male\", 56, 7, 131317.48, 1, 1, 1, 119175.45, 0], [527, \"Male\", 37, 5, 93722.73, 2, 1, 1, 139093.73, 0], [696, \"Male\", 32, 8, 101160.99, 1, 1, 1, 115916.55, 0], [776, \"Female\", 31, 2, 0.0, 2, 1, 1, 112349.51, 0], [701, \"Male\", 43, 2, 0.0, 2, 1, 1, 165303.79, 0], [673, \"Male\", 30, 1, 64097.75, 1, 1, 1, 77783.35, 0], [519, \"Female\", 57, 2, 119035.35, 2, 1, 1, 29871.79, 0], [702, \"Female\", 26, 4, 135219.57, 1, 0, 1, 59747.63, 0], [729, \"Male\", 32, 6, 93694.42, 1, 1, 1, 79919.13, 0], [564, \"Female\", 62, 5, 114931.35, 3, 0, 1, 18260.98, 1], [833, \"Male\", 37, 8, 151226.18, 2, 1, 1, 136129.49, 0], [622, \"Male\", 26, 9, 0.0, 2, 1, 1, 153237.59, 0], [597, \"Female\", 42, 4, 64740.12, 1, 1, 1, 106841.12, 0], [504, \"Female\", 49, 7, 0.0, 3, 0, 1, 87822.14, 1], [508, \"Male\", 49, 7, 122451.46, 2, 1, 1, 75808.1, 0], [749, \"Male\", 24, 1, 0.0, 3, 1, 1, 47911.03, 0], [674, \"Male\", 47, 6, 106901.94, 1, 1, 1, 2079.2, 1], [590, \"Female\", 51, 3, 154962.99, 3, 0, 1, 191932.27, 1], [741, \"Male\", 53, 3, 0.0, 2, 1, 1, 38913.68, 0], [850, \"Female\", 70, 5, 0.0, 1, 1, 1, 705.18, 0], [584, \"Female\", 29, 7, 105204.01, 1, 0, 1, 138490.03, 0], [650, \"Male\", 61, 1, 152968.73, 1, 0, 1, 82970.69, 0], [607, \"Male\", 36, 8, 158261.68, 1, 1, 1, 76744.72, 0], [689, \"Female\", 38, 6, 121021.05, 1, 1, 1, 12182.15, 0], [543, \"Male\", 36, 4, 0.0, 2, 1, 1, 141210.5, 0], [687, \"Female\", 63, 1, 137715.66, 1, 1, 1, 37938.74, 0], [737, \"Male\", 31, 5, 121192.22, 2, 1, 1, 74890.58, 0], [761, \"Male\", 31, 7, 0.0, 3, 1, 1, 166698.18, 0], [601, \"Male\", 44, 1, 100486.18, 2, 1, 1, 62678.53, 0], [648, \"Female\", 49, 10, 0.0, 2, 1, 1, 159835.78, 1], [848, \"Male\", 40, 3, 110929.96, 1, 1, 1, 30876.84, 0], [546, \"Female\", 27, 8, 0.0, 2, 1, 1, 14858.1, 0], [755, \"Male\", 30, 4, 123217.66, 2, 0, 1, 144183.1, 0], [701, \"Male\", 39, 2, 0.0, 2, 1, 1, 82526.92, 0], [607, \"Female\", 33, 2, 108431.87, 2, 0, 1, 109291.39, 1], [586, \"Female\", 57, 3, 0.0, 2, 0, 1, 6057.81, 0], [725, \"Male\", 44, 5, 0.0, 1, 1, 1, 117356.14, 0], [713, \"Female\", 38, 7, 144606.22, 1, 1, 1, 56594.36, 1], [666, \"Female\", 34, 9, 115897.12, 1, 1, 1, 25095.03, 0], [779, \"Female\", 26, 4, 174318.13, 2, 0, 1, 38296.21, 0], [646, \"Male\", 39, 9, 111574.41, 1, 1, 1, 30838.51, 0], [484, \"Female\", 34, 4, 148249.54, 1, 0, 1, 33738.27, 0], [601, \"Female\", 43, 8, 0.0, 3, 0, 1, 110916.15, 1], [762, \"Female\", 26, 7, 123709.46, 2, 1, 1, 169654.57, 0], [687, \"Female\", 72, 9, 0.0, 1, 0, 1, 69829.4, 0], [702, \"Male\", 37, 10, 150525.8, 1, 1, 1, 94728.49, 0], [601, \"Male\", 29, 9, 0.0, 1, 1, 1, 80393.27, 0], [699, \"Male\", 53, 4, 0.0, 2, 0, 1, 111307.98, 0], [699, \"Male\", 35, 5, 0.0, 2, 1, 1, 78397.24, 0], [605, \"Female\", 64, 2, 129555.7, 1, 1, 1, 13601.79, 0], [667, \"Male\", 38, 1, 87202.38, 1, 1, 1, 77866.91, 0], [688, \"Male\", 26, 8, 146133.39, 1, 1, 1, 175296.76, 0], [546, \"Male\", 42, 7, 139070.51, 1, 1, 1, 86945.0, 0], [673, \"Female\", 37, 8, 0.0, 2, 1, 1, 183318.79, 0], [656, \"Female\", 40, 10, 167878.5, 1, 0, 1, 151887.16, 0], [535, \"Female\", 53, 5, 141616.55, 2, 1, 1, 75888.65, 0], [678, \"Male\", 36, 3, 145747.67, 2, 0, 1, 89566.74, 0], [477, \"Female\", 48, 2, 129120.64, 1, 0, 1, 26475.79, 0], [427, \"Male\", 29, 1, 141325.56, 1, 1, 1, 93839.3, 0], [649, \"Male\", 47, 1, 0.0, 2, 1, 1, 145593.85, 0], [540, \"Male\", 44, 3, 164113.04, 2, 1, 1, 12120.79, 0], [682, \"Male\", 48, 1, 138778.15, 1, 0, 1, 168840.23, 0], [744, \"Female\", 43, 10, 147832.15, 1, 0, 1, 24234.11, 0], [583, \"Female\", 27, 1, 125406.58, 1, 1, 1, 110784.42, 0], [752, \"Female\", 30, 3, 0.0, 2, 1, 1, 104991.28, 0], [652, \"Male\", 38, 6, 0.0, 2, 1, 1, 145700.22, 0], [629, \"Female\", 49, 4, 0.0, 2, 1, 1, 196335.48, 0], [720, \"Male\", 52, 7, 0.0, 1, 1, 1, 14781.12, 0], [459, \"Male\", 48, 4, 133994.52, 1, 1, 1, 19287.06, 1], [729, \"Male\", 31, 8, 164870.81, 2, 1, 1, 9567.39, 0], [498, \"Male\", 25, 8, 121702.73, 1, 1, 1, 132210.49, 0], [549, \"Male\", 25, 6, 193858.2, 1, 0, 1, 21600.11, 0], [601, \"Female\", 54, 1, 131039.97, 2, 1, 1, 199661.5, 0], [544, \"Male\", 64, 9, 113829.45, 1, 1, 1, 124341.49, 0], [632, \"Female\", 41, 3, 81877.38, 1, 1, 1, 33642.21, 0], [694, \"Male\", 57, 8, 116326.07, 1, 1, 1, 117704.65, 0], [678, \"Male\", 31, 2, 0.0, 2, 1, 1, 58803.28, 0], [695, \"Male\", 46, 4, 0.0, 2, 1, 1, 137537.22, 0], [661, \"Female\", 41, 1, 0.0, 2, 0, 1, 131300.68, 0], [661, \"Male\", 33, 9, 0.0, 2, 1, 1, 84174.81, 0], [559, \"Female\", 31, 3, 127070.73, 1, 0, 1, 160941.78, 0], [503, \"Male\", 29, 3, 0.0, 2, 1, 1, 143954.99, 0], [695, \"Male\", 46, 3, 122549.64, 1, 1, 1, 56297.85, 0], [640, \"Female\", 42, 5, 176099.13, 1, 1, 1, 8404.73, 0], [667, \"Male\", 42, 9, 0.0, 2, 0, 1, 58137.42, 0], [640, \"Female\", 32, 6, 118879.35, 2, 1, 1, 19131.71, 0], [529, \"Male\", 35, 5, 0.0, 2, 1, 1, 187288.5, 0], [563, \"Female\", 39, 5, 0.0, 2, 1, 1, 17603.81, 0], [739, \"Male\", 45, 7, 102703.62, 1, 0, 1, 147802.94, 1], [788, \"Female\", 70, 1, 0.0, 2, 1, 1, 41610.62, 0], [482, \"Male\", 55, 5, 97318.25, 1, 0, 1, 78416.14, 0], [591, \"Male\", 58, 5, 128468.69, 1, 0, 1, 137254.55, 0], [651, \"Female\", 41, 4, 133432.59, 1, 0, 1, 151303.48, 0], [715, \"Female\", 31, 2, 112212.14, 2, 1, 1, 181600.72, 0], [589, \"Male\", 34, 6, 0.0, 2, 1, 1, 177896.92, 0], [796, \"Female\", 45, 2, 109730.22, 1, 1, 1, 123882.73, 0], [664, \"Male\", 57, 6, 0.0, 2, 1, 1, 15304.08, 0], [445, \"Male\", 62, 1, 64119.38, 1, 1, 1, 76569.64, 1], [543, \"Female\", 57, 1, 106138.33, 2, 1, 1, 120657.32, 1], [746, \"Male\", 36, 2, 0.0, 2, 1, 1, 16436.56, 0], [742, \"Male\", 33, 0, 181656.51, 1, 1, 1, 107667.91, 0], [594, \"Female\", 49, 2, 126615.94, 2, 0, 1, 123214.74, 0], [574, \"Male\", 36, 1, 0.0, 2, 0, 1, 71709.12, 0], [659, \"Male\", 36, 2, 76190.48, 2, 1, 1, 149066.14, 0], [626, \"Male\", 35, 4, 88109.81, 1, 1, 1, 32825.5, 0], [580, \"Female\", 35, 8, 0.0, 2, 0, 1, 10357.03, 0], [621, \"Female\", 43, 5, 0.0, 1, 1, 1, 47578.45, 0], [672, \"Female\", 56, 2, 209767.31, 2, 1, 1, 150694.42, 1], [459, \"Female\", 42, 6, 129634.25, 2, 1, 1, 177683.02, 1], [694, \"Male\", 36, 3, 97530.25, 1, 1, 1, 117140.41, 0], [787, \"Female\", 42, 10, 145988.65, 2, 1, 1, 79510.37, 0], [580, \"Male\", 37, 9, 0.0, 2, 0, 1, 77108.66, 0], [711, \"Female\", 25, 7, 0.0, 3, 1, 1, 9679.28, 0], [591, \"Male\", 24, 6, 147360.0, 1, 1, 1, 25310.82, 0], [545, \"Female\", 60, 7, 128981.07, 1, 0, 1, 176924.21, 1], [497, \"Male\", 47, 6, 0.0, 1, 1, 1, 90055.08, 0], [816, \"Male\", 67, 6, 151858.98, 1, 1, 1, 72814.31, 0], [525, \"Male\", 36, 2, 114628.4, 1, 0, 1, 168290.06, 0], [618, \"Female\", 24, 7, 128736.39, 1, 0, 1, 37147.61, 0], [546, \"Male\", 24, 8, 156325.38, 1, 1, 1, 125381.02, 0], [635, \"Male\", 29, 7, 105405.97, 1, 1, 1, 149853.89, 0], [650, \"Male\", 60, 8, 0.0, 2, 1, 1, 102925.76, 0], [606, \"Male\", 40, 5, 0.0, 2, 1, 1, 70899.27, 0], [727, \"Male\", 38, 2, 62276.99, 1, 1, 1, 59280.79, 0], [460, \"Male\", 46, 4, 127559.97, 2, 1, 1, 126952.5, 0], [649, \"Male\", 41, 0, 0.0, 2, 0, 1, 130567.02, 0], [490, \"Female\", 35, 7, 107749.03, 1, 1, 1, 3937.37, 0], [736, \"Female\", 28, 2, 0.0, 2, 1, 1, 117431.1, 0], [664, \"Male\", 58, 5, 98668.18, 1, 1, 1, 60887.58, 0], [710, \"Male\", 43, 2, 140080.32, 3, 1, 1, 157908.19, 1], [700, \"Female\", 82, 2, 0.0, 2, 0, 1, 182055.36, 0], [531, \"Female\", 63, 1, 114715.71, 1, 0, 1, 24506.95, 1], [589, \"Male\", 32, 2, 0.0, 2, 0, 1, 9468.64, 0], [648, \"Male\", 33, 7, 134944.0, 1, 1, 1, 117036.38, 0], [754, \"Male\", 28, 8, 0.0, 2, 1, 1, 52615.62, 0], [774, \"Female\", 28, 1, 71264.02, 2, 0, 1, 68759.57, 0], [517, \"Male\", 41, 2, 0.0, 2, 0, 1, 75937.47, 0], [747, \"Male\", 58, 7, 116313.57, 1, 1, 1, 190696.35, 1], [792, \"Male\", 36, 5, 92140.15, 1, 0, 1, 67468.67, 0], [688, \"Male\", 26, 1, 0.0, 2, 1, 1, 104435.94, 0], [714, \"Male\", 42, 2, 177640.09, 1, 0, 1, 47166.55, 0], [704, \"Male\", 48, 8, 167997.6, 1, 1, 1, 173498.45, 0], [698, \"Male\", 36, 2, 82275.35, 2, 1, 1, 93249.26, 0], [611, \"Male\", 49, 3, 0.0, 2, 1, 1, 142917.54, 0], [743, \"Female\", 34, 1, 131736.88, 1, 1, 1, 108543.21, 0], [702, \"Female\", 46, 9, 98444.19, 1, 0, 1, 109563.28, 0], [683, \"Female\", 35, 6, 187530.66, 2, 1, 1, 37976.36, 0], [601, \"Female\", 42, 9, 133636.16, 1, 0, 1, 103315.74, 0], [605, \"Male\", 52, 7, 0.0, 2, 1, 1, 173952.5, 0], [671, \"Female\", 44, 0, 84745.03, 2, 0, 1, 34673.98, 0], [614, \"Female\", 31, 7, 120599.38, 2, 1, 1, 46163.44, 0], [511, \"Female\", 29, 9, 0.0, 2, 0, 1, 140676.98, 0], [850, \"Male\", 39, 4, 127771.35, 2, 0, 1, 151738.54, 0], [628, \"Male\", 69, 5, 0.0, 2, 1, 1, 181964.6, 0], [598, \"Male\", 53, 10, 167772.96, 1, 1, 1, 136886.86, 0], [681, \"Male\", 65, 7, 134714.7, 2, 0, 1, 190419.81, 0], [516, \"Female\", 33, 3, 0.0, 2, 1, 1, 58685.59, 0], [421, \"Male\", 28, 8, 122384.22, 3, 1, 1, 89017.38, 1], [497, \"Male\", 27, 9, 75263.16, 1, 1, 1, 164825.04, 0], [732, \"Female\", 69, 9, 137453.43, 1, 0, 1, 110932.24, 1], [464, \"Male\", 33, 8, 164284.72, 2, 1, 1, 3710.34, 0], [680, \"Female\", 47, 5, 0.0, 2, 1, 1, 179843.33, 0], [758, \"Male\", 56, 1, 0.0, 2, 1, 1, 10643.38, 0], [630, \"Female\", 31, 2, 112373.49, 2, 1, 1, 131167.98, 0], [684, \"Female\", 34, 6, 0.0, 2, 1, 1, 130928.22, 0], [708, \"Female\", 41, 5, 0.0, 1, 0, 1, 157003.99, 0], [732, \"Female\", 29, 1, 154333.82, 1, 1, 1, 138527.56, 0], [634, \"Male\", 37, 3, 111432.77, 2, 1, 1, 167032.49, 0], [694, \"Female\", 37, 3, 0.0, 2, 1, 1, 147012.22, 0], [686, \"Female\", 56, 5, 111642.08, 1, 1, 1, 80553.87, 0], [553, \"Female\", 48, 3, 0.0, 1, 0, 1, 30730.95, 1], [660, \"Male\", 35, 8, 58641.43, 1, 0, 1, 198674.08, 0], [611, \"Male\", 51, 1, 122874.74, 1, 1, 1, 149648.45, 0], [705, \"Male\", 25, 0, 97544.29, 1, 0, 1, 59887.15, 0], [511, \"Female\", 41, 8, 153895.65, 1, 1, 1, 39087.42, 0], [653, \"Female\", 43, 6, 0.0, 2, 1, 1, 7330.59, 0], [675, \"Female\", 57, 8, 0.0, 2, 0, 1, 95463.29, 0], [741, \"Male\", 39, 7, 143637.58, 2, 0, 1, 174227.66, 0], [456, \"Male\", 32, 9, 147506.25, 1, 1, 1, 135399.21, 0], [725, \"Male\", 41, 7, 113980.21, 1, 1, 1, 116704.25, 0], [717, \"Male\", 53, 6, 0.0, 2, 0, 1, 97614.87, 0], [678, \"Female\", 25, 10, 76968.12, 2, 0, 1, 131501.72, 0], [545, \"Male\", 38, 1, 88293.13, 2, 1, 1, 24302.95, 0], [435, \"Male\", 36, 4, 0.0, 1, 1, 1, 197015.2, 0], [535, \"Female\", 40, 8, 0.0, 1, 1, 1, 27689.77, 0], [722, \"Female\", 35, 2, 163943.89, 2, 1, 1, 15068.18, 0], [645, \"Female\", 38, 5, 101430.3, 2, 0, 1, 4400.32, 0], [502, \"Female\", 32, 1, 173340.83, 1, 0, 1, 122763.95, 0], [652, \"Female\", 42, 4, 0.0, 2, 1, 1, 38152.01, 0], [518, \"Female\", 45, 9, 105525.65, 2, 1, 1, 73418.29, 0], [515, \"Male\", 65, 7, 92113.61, 1, 1, 1, 142548.33, 0], [521, \"Male\", 25, 7, 0.0, 2, 1, 1, 157878.67, 0], [585, \"Male\", 42, 2, 0.0, 2, 1, 1, 18657.77, 0], [733, \"Male\", 74, 3, 106545.53, 1, 1, 1, 134589.58, 0], [542, \"Female\", 43, 8, 145618.37, 1, 0, 1, 10350.74, 0], [435, \"Male\", 32, 2, 57017.06, 2, 1, 1, 5907.11, 0], [703, \"Female\", 51, 3, 0.0, 3, 1, 1, 77294.56, 1], [728, \"Male\", 32, 5, 61825.5, 1, 1, 1, 156124.93, 0], [643, \"Male\", 36, 7, 161064.64, 2, 0, 1, 84294.82, 0], [645, \"Female\", 48, 7, 90612.34, 1, 1, 1, 149139.13, 0], [672, \"Female\", 45, 9, 0.0, 1, 1, 1, 92027.69, 1], [685, \"Male\", 33, 6, 174912.72, 1, 1, 1, 43932.54, 0], [685, \"Male\", 31, 10, 135213.71, 1, 1, 1, 125777.28, 0], [604, \"Male\", 36, 6, 116229.85, 2, 1, 1, 79633.38, 0], [648, \"Female\", 53, 6, 111201.41, 1, 1, 1, 121542.29, 0], [569, \"Male\", 35, 10, 124525.52, 1, 1, 1, 193793.78, 0], [475, \"Male\", 39, 6, 0.0, 1, 1, 1, 56999.9, 1], [646, \"Female\", 45, 3, 47134.75, 1, 1, 1, 57236.44, 0], [729, \"Male\", 44, 5, 0.0, 2, 0, 1, 9200.54, 0], [572, \"Female\", 19, 1, 138657.08, 1, 1, 1, 16161.82, 0], [785, \"Female\", 34, 9, 70302.48, 1, 1, 1, 68600.36, 0], [714, \"Female\", 36, 1, 101609.01, 2, 1, 1, 447.73, 0], [738, \"Male\", 35, 3, 0.0, 1, 1, 1, 15650.73, 0], [639, \"Male\", 38, 5, 130170.82, 1, 1, 1, 149599.62, 0], [520, \"Male\", 61, 8, 133802.29, 2, 1, 1, 90304.01, 0], [564, \"Male\", 41, 9, 103522.75, 2, 1, 1, 34338.21, 0], [512, \"Male\", 36, 1, 0.0, 1, 0, 1, 135482.26, 1], [592, \"Male\", 37, 9, 0.0, 3, 1, 1, 10656.89, 0], [619, \"Female\", 38, 3, 0.0, 2, 0, 1, 116467.35, 0], [775, \"Male\", 52, 8, 109922.61, 1, 1, 1, 96823.32, 1], [850, \"Female\", 44, 5, 128605.32, 1, 0, 1, 171096.2, 0], [577, \"Female\", 37, 4, 0.0, 1, 1, 1, 79881.39, 0], [710, \"Male\", 35, 1, 106518.52, 1, 1, 1, 127951.81, 0], [697, \"Female\", 25, 5, 82931.85, 2, 1, 1, 128373.88, 0], [715, \"Female\", 38, 5, 118590.41, 1, 1, 1, 5684.17, 1], [659, \"Male\", 67, 4, 145981.87, 1, 1, 1, 131043.2, 0], [635, \"Female\", 48, 8, 130796.33, 2, 1, 1, 43250.3, 0], [571, \"Female\", 66, 9, 111577.01, 1, 0, 1, 189271.9, 0], [694, \"Male\", 39, 0, 107042.74, 1, 1, 1, 102284.2, 0], [665, \"Female\", 42, 2, 156371.61, 2, 0, 1, 156774.94, 1], [807, \"Female\", 43, 0, 0.0, 2, 0, 1, 85523.24, 0], [771, \"Female\", 67, 8, 0.0, 2, 1, 1, 51219.8, 0], [629, \"Female\", 37, 6, 129101.3, 1, 1, 1, 23971.33, 0], [850, \"Female\", 31, 1, 108822.4, 1, 1, 1, 132173.31, 0], [642, \"Male\", 32, 7, 100433.8, 1, 1, 1, 39768.59, 0], [683, \"Female\", 43, 4, 115888.04, 1, 1, 1, 117349.19, 1], [663, \"Female\", 42, 5, 124626.07, 1, 1, 1, 78004.5, 0], [563, \"Female\", 34, 6, 139810.34, 1, 1, 1, 152417.79, 0], [649, \"Male\", 70, 9, 116854.71, 2, 0, 1, 107125.79, 0], [638, \"Female\", 48, 10, 138333.03, 1, 1, 1, 47679.14, 0], [723, \"Male\", 25, 3, 0.0, 2, 1, 1, 134509.47, 0], [750, \"Female\", 38, 7, 97257.41, 2, 0, 1, 179883.04, 0], [750, \"Female\", 36, 8, 112940.07, 1, 0, 1, 9855.81, 0], [668, \"Male\", 32, 7, 0.0, 2, 1, 1, 777.37, 0], [773, \"Male\", 25, 1, 124532.78, 2, 0, 1, 11723.57, 0], [551, \"Male\", 31, 9, 82293.82, 2, 1, 1, 91565.25, 0], [659, \"Male\", 31, 7, 149620.88, 2, 1, 1, 104533.51, 0], [615, \"Female\", 35, 2, 97440.02, 2, 1, 1, 139816.1, 0], [752, \"Female\", 42, 3, 65046.08, 2, 0, 1, 140139.28, 0], [610, \"Male\", 29, 9, 0.0, 3, 0, 1, 83912.24, 0], [811, \"Male\", 44, 3, 0.0, 2, 0, 1, 78439.73, 0], [587, \"Male\", 62, 7, 121286.27, 1, 0, 1, 6776.92, 0], [811, \"Female\", 28, 4, 167738.82, 2, 1, 1, 9903.42, 0]], \"hovertemplate\": \"IsActive=%{customdata[7]}<br>Exit=%{customdata[9]}<br>Age=%{customdata[2]}<br>CreditScore=%{customdata[0]}<br>Gender=%{customdata[1]}<br>Tenure=%{customdata[3]}<br>Balance=%{customdata[4]}<br>NumOfProducts=%{customdata[5]}<br>HasCard=%{customdata[6]}<br>EstimatedSalary=%{customdata[8]}<extra></extra>\", \"legendgroup\": \"1\", \"marker\": {\"color\": \"#636efa\"}, \"name\": \"1\", \"offsetgroup\": \"1\", \"orientation\": \"v\", \"points\": \"all\", \"scalegroup\": \"True\", \"showlegend\": true, \"type\": \"violin\", \"x\": [1, 0, 0, 0, 0, 0, 0, 0, 0, 0, 0, 0, 0, 0, 0, 0, 0, 0, 0, 0, 0, 0, 0, 0, 0, 0, 0, 1, 1, 0, 0, 0, 0, 0, 0, 0, 0, 0, 0, 0, 0, 0, 0, 0, 0, 0, 1, 0, 0, 0, 0, 0, 0, 1, 1, 0, 0, 0, 0, 1, 0, 0, 1, 0, 0, 0, 0, 0, 0, 0, 0, 1, 0, 0, 0, 0, 0, 0, 0, 0, 0, 0, 0, 0, 0, 0, 0, 0, 0, 1, 0, 0, 0, 0, 0, 0, 0, 0, 1, 1, 0, 0, 0, 0, 0, 1, 1, 0, 0, 0, 1, 0, 1, 0, 0, 0, 0, 0, 0, 0, 1, 0, 0, 0, 0, 0, 0, 0, 0, 0, 0, 0, 0, 0, 0, 0, 0, 0, 1, 0, 0, 0, 1, 0, 0, 0, 0, 0, 0, 0, 0, 0, 0, 1, 0, 0, 0, 0, 0, 0, 0, 0, 0, 0, 1, 0, 0, 0, 0, 0, 0, 0, 0, 0, 0, 0, 0, 1, 0, 0, 0, 0, 0, 0, 0, 0, 0, 0, 0, 1, 0, 0, 0, 0, 0, 0, 0, 0, 0, 0, 0, 0, 0, 0, 0, 0, 0, 0, 1, 0, 0, 1, 0, 0, 0, 0, 0, 0, 0, 0, 0, 0, 1, 0, 0, 1, 0, 0, 0, 0, 0, 0, 0, 0, 0, 1, 0, 0, 0, 0, 0, 0, 0, 0, 1, 0, 0, 0, 0, 0, 0, 0, 1, 1, 1, 0, 0, 0, 0, 0, 0, 0, 0, 0, 0, 1, 0, 0, 0, 1, 0, 0, 1, 1, 0, 0, 0, 0, 0, 0, 0, 0, 0, 0, 0, 1, 0, 0, 0, 0, 1, 0, 0, 1, 0, 0, 0, 0, 1, 0, 0, 0, 0, 0, 0, 0, 0, 0, 0, 0, 0, 0, 0, 0, 0, 0, 0, 0, 0, 0, 0, 0, 0, 0, 1, 0, 0, 0, 0, 0, 0, 0, 0, 0, 0, 0, 0, 0, 0, 0, 0, 0, 0, 0, 1, 0, 0, 0, 0, 0, 0, 0, 0, 1, 1, 0, 0, 0, 0, 0, 0, 0, 0, 1, 1, 0, 0, 0, 0, 0, 1, 0, 0, 0, 0, 0, 0, 0, 0, 0, 0, 0, 0, 0, 0, 1, 0, 1, 0, 0, 0, 0, 0, 1, 0, 0, 0, 0, 0, 0, 0, 0, 0, 0, 0, 0, 0, 0, 0, 0, 0, 0, 0, 1, 0, 1, 0, 0, 0, 0, 0, 0, 0, 0, 0, 0, 1, 0, 0, 0, 0, 0, 0, 0, 0, 0, 0, 0, 0, 0, 0, 0, 0, 0, 0, 0, 0, 0, 0, 0, 0, 0, 1, 0, 0, 0, 1, 0, 0, 0, 0, 0, 1, 0, 0, 0, 0, 0, 0, 0, 0, 0, 1, 0, 0, 1, 0, 0, 0, 0, 1, 0, 0, 0, 0, 1, 0, 0, 0, 0, 0, 1, 0, 0, 0, 0, 0, 0, 0, 0, 0, 0, 0, 0, 0, 0, 0, 0, 0], \"x0\": \" \", \"xaxis\": \"x\", \"y\": [42, 41, 43, 50, 44, 27, 35, 45, 24, 24, 41, 46, 38, 25, 36, 43, 29, 36, 42, 29, 31, 33, 36, 41, 61, 61, 32, 27, 39, 38, 43, 51, 56, 26, 36, 43, 35, 37, 25, 36, 55, 32, 33, 34, 75, 28, 44, 29, 42, 35, 41, 29, 40, 65, 46, 32, 36, 30, 36, 28, 30, 48, 52, 34, 33, 38, 25, 39, 50, 34, 40, 35, 34, 43, 21, 32, 43, 28, 73, 22, 36, 31, 40, 35, 30, 40, 45, 65, 42, 50, 37, 30, 35, 32, 37, 57, 30, 42, 50, 38, 37, 34, 45, 31, 34, 47, 54, 31, 30, 42, 45, 30, 39, 72, 37, 20, 67, 29, 28, 37, 67, 26, 24, 34, 79, 37, 41, 34, 30, 38, 42, 26, 31, 34, 41, 34, 28, 37, 62, 35, 39, 29, 35, 42, 22, 26, 42, 38, 31, 58, 33, 33, 31, 43, 80, 36, 42, 57, 30, 35, 26, 50, 44, 32, 40, 47, 59, 32, 39, 32, 39, 25, 45, 57, 41, 58, 28, 45, 50, 68, 33, 35, 34, 42, 75, 31, 31, 35, 39, 45, 50, 30, 66, 62, 45, 29, 38, 24, 37, 33, 39, 38, 52, 36, 23, 37, 38, 31, 41, 39, 45, 57, 41, 51, 42, 34, 46, 26, 40, 40, 39, 33, 43, 37, 29, 32, 26, 32, 35, 27, 31, 38, 29, 34, 35, 39, 30, 55, 29, 41, 38, 36, 40, 26, 58, 32, 54, 44, 22, 37, 31, 34, 51, 56, 48, 58, 56, 37, 32, 31, 43, 30, 57, 26, 32, 62, 37, 26, 42, 49, 49, 24, 47, 51, 53, 70, 29, 61, 36, 38, 36, 63, 31, 31, 44, 49, 40, 27, 30, 39, 33, 57, 44, 38, 34, 26, 39, 34, 43, 26, 72, 37, 29, 53, 35, 64, 38, 26, 42, 37, 40, 53, 36, 48, 29, 47, 44, 48, 43, 27, 30, 38, 49, 52, 48, 31, 25, 25, 54, 64, 41, 57, 31, 46, 41, 33, 31, 29, 46, 42, 42, 32, 35, 39, 45, 70, 55, 58, 41, 31, 34, 45, 57, 62, 57, 36, 33, 49, 36, 36, 35, 35, 43, 56, 42, 36, 42, 37, 25, 24, 60, 47, 67, 36, 24, 24, 29, 60, 40, 38, 46, 41, 35, 28, 58, 43, 82, 63, 32, 33, 28, 28, 41, 58, 36, 26, 42, 48, 36, 49, 34, 46, 35, 42, 52, 44, 31, 29, 39, 69, 53, 65, 33, 28, 27, 69, 33, 47, 56, 31, 34, 41, 29, 37, 37, 56, 48, 35, 51, 25, 41, 43, 57, 39, 32, 41, 53, 25, 38, 36, 40, 35, 38, 32, 42, 45, 65, 25, 42, 74, 43, 32, 51, 32, 36, 48, 45, 33, 31, 36, 53, 35, 39, 45, 44, 19, 34, 36, 35, 38, 61, 41, 36, 37, 38, 52, 44, 37, 35, 25, 38, 67, 48, 66, 39, 42, 43, 67, 37, 31, 32, 43, 42, 34, 70, 48, 25, 38, 36, 32, 25, 31, 31, 35, 42, 29, 44, 62, 28], \"y0\": \" \", \"yaxis\": \"y\"}, {\"alignmentgroup\": \"True\", \"box\": {\"visible\": true}, \"customdata\": [[502, \"Female\", 42, 8, 159660.8, 3, 1, 0, 113931.57, 1], [699, \"Female\", 39, 1, 0.0, 2, 0, 0, 93826.63, 0], [645, \"Male\", 44, 8, 113755.78, 2, 1, 0, 149756.71, 1], [376, \"Female\", 29, 4, 115046.74, 4, 1, 0, 119346.88, 1], [528, \"Male\", 31, 6, 102016.72, 2, 0, 0, 80181.12, 0], [497, \"Male\", 24, 3, 0.0, 2, 1, 0, 76390.01, 0], [476, \"Female\", 34, 10, 0.0, 2, 1, 0, 26260.98, 0], [549, \"Female\", 25, 5, 0.0, 2, 0, 0, 190857.79, 0], [653, \"Male\", 58, 1, 132602.88, 1, 1, 0, 5097.67, 1], [587, \"Male\", 45, 6, 0.0, 1, 0, 0, 158684.81, 0], [636, \"Female\", 32, 8, 0.0, 2, 1, 0, 138555.46, 0], [510, \"Female\", 38, 4, 0.0, 1, 1, 0, 118913.53, 1], [571, \"Male\", 44, 9, 0.0, 2, 0, 0, 38433.35, 0], [591, \"Female\", 39, 3, 0.0, 3, 1, 0, 140469.38, 1], [553, \"Male\", 41, 9, 110112.54, 2, 0, 0, 81898.81, 0], [475, \"Female\", 45, 0, 134264.04, 1, 1, 0, 27822.99, 1], [472, \"Male\", 40, 4, 0.0, 1, 1, 0, 70154.22, 0], [465, \"Female\", 51, 8, 122522.32, 1, 0, 0, 181297.65, 1], [834, \"Female\", 49, 2, 131394.56, 1, 0, 0, 194365.76, 1], [776, \"Female\", 37, 2, 103769.22, 2, 1, 0, 194099.12, 0], [698, \"Male\", 44, 10, 116363.37, 2, 1, 0, 198059.16, 0], [585, \"Male\", 36, 5, 146050.97, 2, 0, 0, 86424.57, 0], [788, \"Female\", 33, 5, 0.0, 2, 0, 0, 116978.19, 0], [655, \"Male\", 41, 8, 125561.97, 1, 0, 0, 164040.94, 1], [601, \"Male\", 42, 1, 98495.72, 1, 1, 0, 40014.76, 1], [656, \"Male\", 45, 5, 127864.4, 1, 1, 0, 87107.57, 0], [725, \"Male\", 19, 0, 75888.2, 1, 0, 0, 45613.75, 0], [511, \"Female\", 66, 4, 0.0, 1, 1, 0, 1643.11, 1], [742, \"Male\", 35, 5, 136857.0, 1, 0, 0, 84509.57, 0], [687, \"Female\", 27, 9, 152328.88, 2, 0, 0, 126494.82, 0], [555, \"Male\", 33, 1, 56084.69, 2, 0, 0, 178798.13, 0], [581, \"Female\", 34, 1, 101633.04, 1, 1, 0, 110431.51, 0], [675, \"Female\", 21, 8, 98373.26, 1, 1, 0, 18203.0, 0], [738, \"Male\", 58, 2, 133745.44, 4, 1, 0, 28373.86, 1], [813, \"Male\", 29, 6, 0.0, 1, 1, 0, 33953.87, 0], [735, \"Female\", 21, 1, 178718.19, 2, 1, 0, 22388.0, 0], [416, \"Female\", 41, 10, 122189.66, 2, 1, 0, 98301.61, 0], [665, \"Female\", 34, 1, 96645.54, 2, 0, 0, 171413.66, 0], [777, \"Female\", 32, 2, 0.0, 1, 1, 0, 136458.19, 1], [543, \"Female\", 36, 3, 0.0, 2, 0, 0, 26019.59, 0], [493, \"Female\", 46, 4, 0.0, 2, 1, 0, 1907.66, 0], [750, \"Male\", 22, 3, 121681.82, 1, 1, 0, 128643.35, 1], [729, \"Male\", 30, 9, 0.0, 2, 1, 0, 151869.35, 0], [646, \"Female\", 46, 4, 0.0, 3, 1, 0, 93251.42, 1], [808, \"Male\", 45, 7, 118626.55, 2, 1, 0, 147132.46, 0], [524, \"Female\", 36, 10, 0.0, 2, 1, 0, 109614.57, 0], [710, \"Male\", 22, 8, 0.0, 2, 0, 0, 99645.04, 0], [413, \"Male\", 34, 9, 0.0, 2, 0, 0, 6534.18, 0], [623, \"Female\", 44, 6, 0.0, 2, 0, 0, 167162.43, 0], [738, \"Male\", 31, 9, 82674.15, 1, 1, 0, 41970.72, 0], [528, \"Male\", 36, 7, 0.0, 2, 1, 0, 60536.56, 0], [605, \"Male\", 33, 5, 150092.8, 1, 0, 0, 71862.79, 0], [479, \"Male\", 35, 9, 92833.89, 1, 1, 0, 99449.86, 1], [538, \"Male\", 39, 7, 108055.1, 2, 1, 0, 27231.26, 0], [562, \"Male\", 42, 2, 100238.35, 1, 0, 0, 86797.41, 0], [668, \"Female\", 37, 6, 167864.4, 1, 1, 0, 115638.29, 0], [506, \"Female\", 41, 1, 0.0, 2, 1, 0, 31766.3, 0], [524, \"Female\", 31, 8, 107818.63, 1, 1, 0, 199725.39, 1], [699, \"Male\", 34, 4, 185173.81, 2, 1, 0, 120834.48, 0], [828, \"Male\", 34, 8, 129433.34, 2, 0, 0, 38131.77, 0], [674, \"Male\", 39, 6, 120193.42, 1, 0, 0, 100130.95, 0], [656, \"Female\", 39, 6, 0.0, 2, 1, 0, 141069.88, 0], [625, \"Female\", 28, 3, 0.0, 1, 0, 0, 183646.41, 0], [432, \"Male\", 42, 9, 152603.45, 1, 1, 0, 110265.24, 1], [625, \"Male\", 56, 0, 148507.24, 1, 1, 0, 46824.08, 1], [828, \"Female\", 41, 7, 0.0, 2, 1, 0, 171378.77, 0], [770, \"Male\", 24, 9, 101827.07, 1, 1, 0, 167256.35, 0], [584, \"Female\", 48, 2, 213146.2, 1, 1, 0, 75161.25, 1], [756, \"Male\", 44, 10, 137452.09, 1, 1, 0, 189543.9, 0], [793, \"Male\", 52, 2, 0.0, 1, 1, 0, 159123.82, 1], [691, \"Female\", 31, 5, 40915.55, 1, 1, 0, 126213.84, 1], [635, \"Female\", 29, 8, 138296.94, 2, 1, 0, 141075.51, 0], [650, \"Male\", 37, 5, 106967.18, 1, 0, 0, 24495.03, 0], [735, \"Male\", 44, 9, 120681.63, 1, 1, 0, 74836.34, 0], [754, \"Female\", 32, 7, 0.0, 2, 1, 0, 89520.75, 0], [535, \"Female\", 48, 9, 0.0, 1, 1, 0, 149892.79, 1], [716, \"Male\", 42, 8, 0.0, 2, 1, 0, 180800.42, 0], [539, \"Male\", 37, 2, 127609.59, 1, 1, 0, 98646.22, 0], [706, \"Male\", 57, 7, 0.0, 1, 1, 0, 17941.16, 1], [758, \"Female\", 33, 7, 0.0, 2, 0, 0, 82996.47, 0], [631, \"Female\", 33, 4, 123246.7, 1, 0, 0, 112687.57, 0], [684, \"Male\", 30, 2, 0.0, 2, 1, 0, 83473.82, 0], [800, \"Female\", 49, 7, 108007.36, 1, 0, 0, 47125.11, 0], [683, \"Male\", 29, 0, 133702.89, 1, 1, 0, 55582.54, 1], [704, \"Female\", 24, 7, 113034.22, 1, 1, 0, 162503.48, 1], [615, \"Female\", 41, 9, 109013.23, 1, 1, 0, 196499.96, 0], [667, \"Female\", 39, 2, 0.0, 2, 1, 0, 40721.24, 1], [682, \"Male\", 24, 9, 57929.81, 2, 0, 0, 53134.3, 0], [484, \"Female\", 29, 4, 130114.39, 1, 1, 0, 164017.89, 0], [628, \"Male\", 27, 5, 95826.49, 2, 1, 0, 155996.96, 0], [480, \"Male\", 44, 10, 129608.57, 1, 1, 0, 5472.7, 1], [578, \"Male\", 30, 4, 169462.09, 1, 1, 0, 112187.11, 0], [606, \"Male\", 36, 5, 190479.48, 2, 0, 0, 179351.89, 0], [754, \"Female\", 55, 3, 161608.81, 1, 1, 0, 8080.85, 1], [778, \"Female\", 45, 1, 162150.42, 2, 1, 0, 174531.27, 0], [514, \"Male\", 32, 8, 0.0, 2, 1, 0, 95857.18, 0], [730, \"Female\", 39, 1, 99010.67, 1, 1, 0, 194945.8, 0], [687, \"Female\", 34, 7, 111388.18, 2, 1, 0, 148564.76, 0], [715, \"Female\", 41, 8, 56214.85, 2, 0, 0, 92982.61, 1], [512, \"Female\", 36, 3, 84327.77, 2, 1, 0, 17675.36, 0], [479, \"Male\", 40, 1, 0.0, 2, 0, 0, 114996.43, 0], [601, \"Male\", 32, 8, 93012.89, 1, 1, 0, 86957.42, 0], [580, \"Male\", 29, 9, 61710.44, 2, 1, 0, 128077.8, 0], [521, \"Male\", 35, 6, 96423.84, 1, 1, 0, 10488.44, 0], [512, \"Male\", 33, 3, 176666.62, 1, 1, 0, 94670.77, 0], [608, \"Female\", 41, 3, 89763.84, 1, 0, 0, 199304.74, 1], [643, \"Male\", 45, 5, 0.0, 1, 1, 0, 142513.5, 1], [689, \"Male\", 33, 2, 161814.64, 2, 1, 0, 169381.9, 0], [620, \"Female\", 41, 9, 0.0, 2, 0, 0, 88852.47, 0], [572, \"Male\", 26, 4, 118287.01, 2, 0, 0, 60427.3, 0], [695, \"Male\", 46, 7, 49512.55, 1, 1, 0, 133007.34, 0], [730, \"Female\", 33, 9, 0.0, 2, 0, 0, 176576.62, 0], [807, \"Male\", 43, 1, 105799.32, 2, 1, 0, 34888.04, 1], [850, \"Male\", 33, 10, 0.0, 1, 1, 0, 4861.72, 1], [670, \"Male\", 37, 4, 170557.91, 2, 1, 0, 198252.88, 0], [751, \"Male\", 50, 2, 96888.39, 1, 1, 0, 77206.25, 1], [594, \"Female\", 29, 3, 130830.22, 1, 1, 0, 61048.53, 0], [610, \"Male\", 40, 0, 0.0, 2, 1, 0, 62232.6, 0], [763, \"Male\", 42, 6, 100160.75, 1, 1, 0, 33462.94, 1], [539, \"Female\", 43, 3, 116220.5, 3, 1, 0, 55803.96, 1], [668, \"Female\", 46, 2, 0.0, 3, 1, 0, 89048.46, 1], [662, \"Male\", 38, 4, 0.0, 2, 1, 0, 136259.65, 0], [725, \"Female\", 39, 5, 116803.8, 1, 1, 0, 124052.97, 0], [523, \"Male\", 34, 7, 0.0, 2, 1, 0, 62030.06, 0], [635, \"Female\", 40, 10, 123497.58, 1, 1, 0, 131953.23, 1], [772, \"Male\", 26, 7, 152400.51, 2, 1, 0, 79414.0, 0], [739, \"Male\", 54, 8, 126418.14, 1, 1, 0, 134420.75, 1], [771, \"Female\", 36, 5, 77846.9, 1, 0, 0, 99805.99, 0], [696, \"Male\", 28, 8, 0.0, 1, 0, 0, 176713.47, 0], [671, \"Female\", 34, 6, 37266.67, 2, 0, 0, 156917.12, 0], [726, \"Female\", 48, 6, 99906.19, 1, 1, 0, 64323.24, 0], [557, \"Female\", 32, 6, 184686.41, 2, 1, 0, 14956.44, 0], [531, \"Female\", 36, 9, 99240.51, 1, 1, 0, 123137.01, 0], [651, \"Male\", 36, 7, 0.0, 2, 1, 0, 13898.31, 0], [549, \"Female\", 39, 7, 0.0, 1, 0, 0, 81259.25, 1], [791, \"Female\", 35, 7, 52436.2, 1, 1, 0, 161051.75, 0], [733, \"Male\", 34, 3, 100337.96, 3, 1, 0, 48559.19, 1], [707, \"Male\", 30, 8, 0.0, 2, 1, 0, 33159.37, 0], [777, \"Female\", 53, 10, 0.0, 2, 1, 0, 189992.97, 0], [714, \"Male\", 46, 1, 0.0, 1, 1, 0, 152167.79, 1], [675, \"Male\", 40, 7, 113208.86, 2, 1, 0, 34577.36, 0], [602, \"Male\", 29, 5, 103907.28, 1, 1, 0, 161229.84, 0], [475, \"Female\", 32, 8, 119023.28, 1, 1, 0, 100816.29, 0], [588, \"Male\", 34, 10, 0.0, 2, 1, 0, 79078.91, 0], [747, \"Female\", 41, 5, 94521.17, 2, 1, 0, 194926.86, 0], [583, \"Male\", 27, 7, 0.0, 2, 1, 0, 51285.49, 0], [750, \"Female\", 34, 9, 112822.26, 1, 0, 0, 150401.53, 1], [773, \"Male\", 25, 2, 135903.33, 1, 1, 0, 73656.38, 0], [687, \"Female\", 44, 7, 0.0, 3, 1, 0, 155853.52, 1], [694, \"Female\", 31, 10, 0.0, 2, 1, 0, 160990.27, 0], [616, \"Female\", 36, 6, 132311.71, 1, 0, 0, 15462.84, 0], [687, \"Male\", 35, 8, 0.0, 2, 1, 0, 10334.05, 0], [553, \"Male\", 33, 4, 118082.89, 1, 0, 0, 94440.45, 0], [629, \"Male\", 35, 7, 156847.29, 2, 1, 0, 31824.29, 0], [614, \"Male\", 50, 4, 137104.47, 1, 1, 0, 127166.49, 1], [438, \"Male\", 31, 8, 78398.69, 1, 1, 0, 44937.01, 0], [729, \"Male\", 30, 6, 63669.42, 1, 1, 0, 145111.37, 0], [642, \"Male\", 38, 3, 0.0, 2, 0, 0, 171463.83, 0], [806, \"Female\", 59, 0, 135296.33, 1, 1, 0, 182822.5, 0], [474, \"Male\", 37, 3, 0.0, 2, 0, 0, 57175.32, 0], [559, \"Male\", 49, 2, 147069.78, 1, 1, 0, 120540.83, 1], [628, \"Female\", 22, 3, 0.0, 1, 1, 0, 85426.28, 0], [429, \"Male\", 24, 4, 95741.75, 1, 1, 0, 46170.75, 0], [749, \"Male\", 40, 1, 139290.41, 1, 1, 0, 182855.42, 1], [763, \"Female\", 31, 4, 0.0, 2, 0, 0, 50404.72, 0], [734, \"Male\", 30, 3, 0.0, 2, 1, 0, 107640.25, 0], [716, \"Male\", 35, 4, 144428.87, 1, 1, 0, 134132.65, 0], [594, \"Male\", 35, 2, 0.0, 2, 1, 0, 103480.69, 0], [644, \"Female\", 46, 9, 95441.27, 1, 1, 0, 108761.05, 1], [667, \"Female\", 40, 1, 146502.07, 1, 1, 0, 19162.89, 0], [584, \"Female\", 30, 8, 112013.81, 1, 1, 0, 177772.03, 1], [626, \"Female\", 37, 6, 108269.37, 1, 1, 0, 5597.94, 0], [485, \"Male\", 29, 7, 182123.79, 1, 1, 0, 116828.51, 1], [649, \"Male\", 33, 2, 0.0, 2, 1, 0, 2010.98, 0], [805, \"Female\", 39, 5, 165272.13, 1, 1, 0, 14109.85, 1], [716, \"Female\", 39, 10, 115301.31, 1, 1, 0, 43527.4, 1], [659, \"Male\", 31, 4, 118342.26, 1, 0, 0, 161574.19, 0], [543, \"Male\", 22, 8, 0.0, 2, 0, 0, 127587.22, 0], [718, \"Female\", 25, 7, 0.0, 2, 1, 0, 30380.12, 0], [840, \"Female\", 43, 7, 0.0, 2, 1, 0, 90908.95, 0], [630, \"Female\", 34, 9, 106937.05, 2, 1, 0, 138275.01, 0], [568, \"Female\", 32, 7, 169399.6, 1, 1, 0, 61936.22, 0], [539, \"Male\", 30, 0, 0.0, 2, 1, 0, 160979.66, 0], [522, \"Male\", 34, 9, 126436.29, 1, 1, 0, 174248.52, 1], [443, \"Female\", 29, 9, 99027.61, 2, 1, 0, 10940.4, 0], [540, \"Female\", 42, 9, 87271.41, 2, 1, 0, 172572.64, 0], [593, \"Female\", 29, 2, 152265.43, 1, 1, 0, 34004.44, 0], [572, \"Male\", 35, 4, 152390.26, 1, 1, 0, 128123.66, 0], [629, \"Female\", 30, 2, 34013.63, 1, 1, 0, 19570.63, 0], [687, \"Female\", 39, 2, 0.0, 3, 0, 0, 188150.6, 1], [690, \"Male\", 36, 7, 101583.11, 2, 1, 0, 123775.15, 0], [709, \"Male\", 28, 8, 124695.72, 2, 1, 0, 145251.35, 0], [705, \"Male\", 44, 3, 105934.96, 1, 1, 0, 82463.69, 0], [611, \"Male\", 46, 6, 0.0, 2, 1, 0, 45886.33, 0], [544, \"Female\", 21, 10, 161525.96, 2, 1, 0, 9262.77, 0], [648, \"Male\", 46, 9, 127209.0, 2, 1, 0, 77405.95, 1], [556, \"Male\", 38, 8, 0.0, 2, 0, 0, 417.41, 1], [547, \"Male\", 32, 8, 155726.85, 1, 1, 0, 67789.99, 0], [616, \"Female\", 66, 1, 135842.41, 1, 1, 0, 183840.51, 1], [605, \"Male\", 52, 1, 63349.75, 1, 1, 0, 108887.44, 0], [718, \"Male\", 36, 9, 0.0, 1, 1, 0, 45909.87, 0], [538, \"Female\", 49, 9, 141434.04, 1, 0, 0, 173779.25, 1], [611, \"Female\", 37, 4, 0.0, 2, 1, 0, 125696.26, 0], [537, \"Female\", 41, 3, 138306.34, 1, 1, 0, 106761.47, 0], [709, \"Male\", 23, 10, 0.0, 2, 0, 0, 129590.18, 0], [795, \"Male\", 35, 8, 0.0, 2, 1, 0, 167155.36, 0], [626, \"Male\", 26, 8, 0.0, 2, 0, 0, 191420.71, 0], [487, \"Female\", 61, 5, 110368.03, 1, 0, 0, 11384.45, 1], [643, \"Female\", 46, 6, 0.0, 2, 0, 0, 106781.59, 0], [605, \"Female\", 28, 6, 0.0, 2, 0, 0, 159508.52, 0], [756, \"Female\", 60, 3, 115924.89, 1, 1, 0, 93524.19, 1], [586, \"Female\", 38, 2, 0.0, 2, 1, 0, 87168.46, 0], [535, \"Male\", 40, 7, 111756.5, 1, 1, 0, 8128.32, 1], [678, \"Female\", 35, 4, 0.0, 1, 1, 0, 125518.32, 0], [596, \"Male\", 39, 9, 0.0, 1, 1, 0, 48963.59, 0], [648, \"Male\", 26, 9, 162923.85, 1, 1, 0, 98368.24, 0], [492, \"Male\", 39, 10, 124576.65, 2, 1, 0, 148584.61, 0], [486, \"Female\", 40, 9, 71340.09, 1, 1, 0, 76192.21, 0], [568, \"Male\", 40, 1, 99282.63, 1, 0, 0, 134600.94, 1], [548, \"Female\", 33, 0, 101084.36, 1, 1, 0, 42749.85, 0], [545, \"Female\", 37, 8, 114754.08, 1, 1, 0, 136050.44, 1], [683, \"Male\", 33, 8, 0.0, 1, 0, 0, 73564.44, 0], [627, \"Female\", 30, 4, 79871.02, 2, 1, 0, 129826.89, 0], [516, \"Male\", 35, 10, 104088.59, 2, 0, 0, 119666.0, 0], [800, \"Female\", 38, 2, 168190.33, 2, 1, 0, 68052.08, 0], [626, \"Female\", 35, 3, 0.0, 1, 0, 0, 80190.36, 0], [790, \"Female\", 31, 9, 0.0, 2, 1, 0, 84126.75, 0], [553, \"Male\", 47, 3, 116528.15, 1, 0, 0, 145704.19, 1], [722, \"Male\", 37, 2, 0.0, 1, 0, 0, 120906.83, 0], [675, \"Female\", 38, 6, 68065.8, 1, 0, 0, 138777.0, 1], [778, \"Female\", 47, 6, 127299.34, 2, 1, 0, 124694.99, 0], [494, \"Female\", 38, 7, 174937.64, 1, 1, 0, 40084.32, 0], [592, \"Male\", 31, 7, 110071.1, 1, 0, 0, 43921.36, 0], [590, \"Female\", 44, 3, 139432.37, 1, 1, 0, 62222.81, 0], [506, \"Male\", 36, 5, 0.0, 2, 1, 0, 164253.35, 0], [711, \"Male\", 38, 3, 0.0, 2, 1, 0, 68487.51, 0], [539, \"Male\", 39, 3, 0.0, 2, 1, 0, 36692.17, 0], [509, \"Female\", 25, 3, 108738.71, 2, 1, 0, 106920.57, 0], [608, \"Male\", 33, 9, 89968.69, 1, 1, 0, 68777.26, 0], [816, \"Female\", 38, 5, 130878.75, 3, 1, 0, 71905.77, 1], [536, \"Male\", 35, 8, 0.0, 2, 1, 0, 64833.28, 0], [703, \"Male\", 37, 1, 149762.08, 1, 1, 0, 20629.4, 1], [774, \"Male\", 26, 2, 93844.69, 1, 1, 0, 28415.36, 0], [785, \"Male\", 28, 8, 0.0, 2, 1, 0, 77231.27, 0], [571, \"Female\", 33, 1, 0.0, 2, 1, 0, 102750.7, 0], [621, \"Male\", 46, 6, 141078.37, 1, 0, 0, 34580.8, 1], [611, \"Female\", 40, 8, 100812.33, 2, 1, 0, 147358.27, 0], [525, \"Female\", 23, 5, 0.0, 2, 1, 0, 160249.1, 0], [798, \"Male\", 37, 8, 0.0, 3, 0, 0, 110783.28, 0], [486, \"Male\", 37, 9, 115217.99, 2, 1, 0, 144995.33, 0], [615, \"Male\", 61, 9, 0.0, 2, 1, 0, 150227.85, 1], [641, \"Male\", 37, 7, 0.0, 2, 1, 0, 75248.3, 0], [531, \"Female\", 47, 6, 0.0, 1, 0, 0, 194998.34, 1], [673, \"Female\", 38, 2, 170061.92, 2, 0, 0, 134901.34, 1], [622, \"Female\", 32, 6, 169089.38, 2, 1, 0, 101057.95, 0], [774, \"Male\", 60, 5, 85891.55, 1, 1, 0, 74135.48, 1], [543, \"Female\", 41, 4, 0.0, 1, 0, 0, 194902.16, 0], [584, \"Male\", 31, 5, 0.0, 2, 1, 0, 31474.27, 0], [691, \"Male\", 30, 7, 116927.89, 1, 1, 0, 21198.39, 0], [684, \"Female\", 40, 6, 137326.65, 1, 1, 0, 186976.6, 0], [632, \"Female\", 38, 6, 86569.76, 2, 1, 0, 98090.91, 0], [735, \"Male\", 34, 5, 0.0, 2, 0, 0, 71095.41, 0], [793, \"Male\", 38, 9, 0.0, 2, 1, 0, 88225.02, 0], [779, \"Male\", 37, 7, 120092.52, 2, 1, 0, 135925.72, 0], [850, \"Female\", 35, 1, 211774.31, 1, 1, 0, 188574.12, 1], [661, \"Male\", 48, 3, 120320.54, 1, 0, 0, 96463.25, 0], [610, \"Male\", 26, 8, 0.0, 2, 1, 0, 166031.08, 0], [572, \"Female\", 48, 3, 152827.99, 1, 1, 0, 38411.79, 1], [543, \"Male\", 35, 10, 59408.63, 1, 1, 0, 76773.53, 0], [550, \"Female\", 40, 7, 114354.95, 1, 1, 0, 54018.93, 0], [608, \"Male\", 59, 1, 0.0, 1, 1, 0, 70649.64, 1], [639, \"Male\", 35, 10, 128173.9, 2, 1, 0, 59093.39, 0], [686, \"Male\", 34, 9, 0.0, 2, 1, 0, 127569.8, 0], [745, \"Female\", 28, 1, 111071.36, 1, 1, 0, 73275.96, 1], [721, \"Male\", 51, 0, 169312.13, 1, 1, 0, 109078.35, 1], [842, \"Female\", 44, 2, 112652.08, 2, 1, 0, 126644.98, 0], [587, \"Male\", 38, 0, 0.0, 2, 1, 0, 47414.15, 0], [479, \"Female\", 30, 7, 143964.36, 2, 1, 0, 41879.99, 0], [721, \"Female\", 36, 3, 65253.07, 2, 1, 0, 28737.78, 0], [685, \"Female\", 25, 10, 128509.63, 1, 1, 0, 121562.33, 0], [417, \"Male\", 34, 7, 0.0, 2, 1, 0, 55003.79, 0], [574, \"Male\", 33, 3, 129834.67, 1, 1, 0, 193131.42, 0], [587, \"Male\", 40, 5, 138241.9, 2, 1, 0, 159418.1, 0], [598, \"Male\", 41, 3, 91536.93, 1, 1, 0, 191468.78, 1], [509, \"Female\", 46, 1, 0.0, 1, 1, 0, 71244.59, 1], [438, \"Female\", 54, 2, 0.0, 1, 0, 0, 191763.07, 1], [651, \"Male\", 45, 1, 0.0, 1, 1, 0, 67740.08, 1], [745, \"Male\", 35, 9, 92566.53, 2, 1, 0, 161519.77, 0], [439, \"Female\", 32, 3, 138901.61, 1, 1, 0, 75685.97, 0], [593, \"Female\", 41, 6, 0.0, 1, 1, 0, 65170.66, 0], [701, \"Male\", 36, 8, 0.0, 2, 1, 0, 169161.46, 0], [547, \"Female\", 30, 9, 72392.41, 1, 1, 0, 77077.14, 0], [647, \"Female\", 51, 1, 119741.77, 2, 0, 0, 54954.51, 1], [760, \"Female\", 51, 2, 100946.71, 1, 0, 0, 179614.8, 1], [621, \"Male\", 53, 9, 170491.84, 1, 1, 0, 35588.07, 1], [526, \"Male\", 36, 1, 0.0, 1, 1, 0, 160696.72, 0], [519, \"Female\", 47, 6, 157296.02, 2, 0, 0, 147278.43, 1], [700, \"Male\", 38, 8, 134811.3, 1, 1, 0, 1299.75, 0], [630, \"Male\", 32, 4, 82034.0, 1, 0, 0, 146326.45, 0], [611, \"Female\", 41, 2, 114206.84, 1, 1, 0, 164061.6, 0], [685, \"Male\", 43, 9, 0.0, 2, 1, 0, 107811.28, 0], [683, \"Female\", 57, 5, 162448.69, 1, 0, 0, 9221.78, 1], [566, \"Male\", 30, 5, 0.0, 1, 1, 0, 54926.51, 1], [584, \"Male\", 28, 10, 0.0, 2, 1, 0, 19834.32, 0], [698, \"Female\", 51, 2, 111018.98, 1, 1, 0, 86410.28, 0], [495, \"Male\", 30, 10, 129755.99, 1, 0, 0, 172749.65, 0], [650, \"Female\", 27, 6, 0.0, 2, 1, 0, 1002.39, 0], [727, \"Female\", 31, 0, 0.0, 1, 1, 0, 121751.04, 1], [754, \"Male\", 39, 6, 170184.99, 2, 1, 0, 89593.26, 0], [612, \"Female\", 62, 8, 140745.33, 1, 1, 0, 193437.89, 1], [593, \"Male\", 35, 9, 114193.24, 1, 1, 0, 71154.1, 0], [850, \"Male\", 35, 7, 110349.82, 1, 0, 0, 126355.8, 0], [752, \"Male\", 49, 2, 78653.84, 1, 1, 0, 7698.6, 0], [799, \"Female\", 28, 3, 142253.65, 1, 1, 0, 45042.56, 0], [589, \"Female\", 61, 1, 0.0, 1, 1, 0, 61108.56, 1], [583, \"Female\", 54, 6, 115988.86, 1, 1, 0, 57553.98, 1], [839, \"Female\", 33, 10, 75592.43, 1, 1, 0, 62674.42, 0], [850, \"Male\", 31, 6, 67996.23, 2, 0, 0, 50129.87, 1], [696, \"Female\", 51, 5, 0.0, 2, 1, 0, 55022.43, 0], [660, \"Female\", 33, 1, 0.0, 2, 0, 0, 117834.91, 0], [785, \"Female\", 36, 4, 135438.4, 1, 0, 0, 190627.01, 0], [752, \"Male\", 48, 5, 116060.08, 1, 1, 0, 156618.38, 1], [706, \"Female\", 29, 5, 112564.62, 1, 1, 0, 42334.38, 0], [660, \"Female\", 39, 5, 135134.99, 1, 1, 0, 173683.0, 1], [819, \"Female\", 39, 9, 133102.92, 1, 1, 0, 27046.46, 1], [673, \"Female\", 34, 8, 42157.08, 1, 1, 0, 20598.59, 1], [578, \"Male\", 38, 7, 82259.29, 1, 1, 0, 8996.97, 0], [438, \"Female\", 36, 4, 0.0, 2, 1, 0, 64420.5, 0], [668, \"Male\", 42, 3, 150461.07, 1, 1, 0, 108139.23, 0], [751, \"Female\", 30, 6, 0.0, 2, 1, 0, 15766.1, 0], [624, \"Female\", 48, 3, 122388.38, 2, 0, 0, 30020.09, 0], [642, \"Male\", 26, 0, 0.0, 1, 0, 0, 47472.68, 0], [593, \"Female\", 38, 4, 88736.44, 2, 1, 0, 67020.03, 0], [684, \"Female\", 38, 3, 0.0, 2, 1, 0, 44255.65, 0], [749, \"Female\", 40, 8, 141782.57, 2, 0, 0, 86333.63, 0], [583, \"Male\", 24, 9, 135125.28, 1, 0, 0, 89801.9, 0], [661, \"Male\", 42, 2, 178820.91, 1, 0, 0, 29358.57, 1], [769, \"Female\", 45, 5, 126674.81, 1, 1, 0, 124118.71, 1], [625, \"Female\", 51, 7, 136294.97, 1, 1, 0, 38867.46, 1], [641, \"Female\", 36, 5, 66392.64, 1, 1, 0, 31106.67, 0], [716, \"Male\", 27, 1, 122552.34, 2, 1, 0, 67611.36, 0], [767, \"Male\", 43, 1, 76408.85, 2, 1, 0, 77837.63, 0], [745, \"Male\", 36, 8, 145071.24, 1, 0, 0, 6078.46, 0], [750, \"Female\", 32, 5, 0.0, 2, 1, 0, 95611.47, 0], [669, \"Male\", 30, 7, 95128.86, 1, 0, 0, 19799.26, 0], [750, \"Male\", 40, 5, 168286.81, 3, 1, 0, 20451.99, 1], [620, \"Male\", 42, 4, 0.0, 2, 1, 0, 6232.31, 0], [686, \"Female\", 34, 3, 123971.51, 2, 1, 0, 147794.63, 0], [540, \"Male\", 48, 0, 148116.48, 1, 0, 0, 116973.48, 0], [634, \"Male\", 35, 6, 116269.01, 1, 1, 0, 129964.94, 0], [632, \"Male\", 38, 1, 120599.21, 1, 1, 0, 92816.86, 0], [501, \"Female\", 41, 3, 144260.5, 1, 1, 0, 172114.67, 0], [650, \"Female\", 25, 3, 86605.5, 3, 1, 0, 16649.31, 1], [786, \"Male\", 34, 9, 0.0, 2, 1, 0, 144517.19, 0], [554, \"Female\", 37, 4, 58629.97, 1, 0, 0, 182038.6, 0], [701, \"Female\", 42, 5, 0.0, 2, 0, 0, 24210.56, 0], [474, \"Male\", 45, 10, 0.0, 2, 0, 0, 172175.9, 0], [669, \"Male\", 23, 1, 0.0, 2, 0, 0, 66088.83, 0], [776, \"Female\", 38, 2, 169824.46, 1, 1, 0, 169291.7, 0], [673, \"Female\", 40, 5, 137494.28, 1, 1, 0, 81753.92, 0], [499, \"Female\", 57, 1, 0.0, 1, 0, 0, 131372.38, 1], [769, \"Female\", 25, 10, 0.0, 2, 0, 0, 187925.75, 0], [657, \"Male\", 31, 3, 125167.02, 1, 0, 0, 98820.39, 0], [738, \"Male\", 43, 9, 121152.05, 2, 1, 0, 64166.7, 1], [725, \"Male\", 46, 6, 0.0, 2, 1, 0, 161767.38, 0], [692, \"Female\", 28, 8, 95059.02, 2, 1, 0, 44420.18, 0], [611, \"Female\", 49, 2, 88915.37, 3, 0, 0, 161435.02, 1], [844, \"Male\", 18, 2, 160980.03, 1, 0, 0, 145936.28, 0], [450, \"Female\", 46, 5, 177619.71, 1, 1, 0, 54227.06, 0], [758, \"Female\", 47, 9, 95523.16, 1, 1, 0, 73294.48, 0], [815, \"Male\", 37, 2, 110777.26, 2, 1, 0, 2383.59, 0], [838, \"Female\", 39, 5, 166733.92, 2, 1, 0, 14279.44, 0], [803, \"Male\", 31, 9, 157120.86, 2, 1, 0, 141300.53, 0], [664, \"Female\", 36, 2, 127160.78, 2, 1, 0, 78140.75, 0], [633, \"Female\", 37, 9, 156091.97, 1, 1, 0, 72008.61, 0], [600, \"Female\", 43, 5, 134022.06, 1, 1, 0, 194764.83, 0], [693, \"Female\", 35, 5, 124151.09, 1, 1, 0, 88705.14, 1], [663, \"Female\", 36, 6, 77253.5, 1, 0, 0, 35817.97, 1], [742, \"Female\", 21, 1, 114292.48, 1, 1, 0, 31520.4, 0], [710, \"Female\", 27, 2, 135277.96, 1, 1, 0, 142200.15, 0], [720, \"Male\", 60, 9, 115920.62, 2, 0, 0, 157552.08, 1], [684, \"Male\", 41, 2, 119782.72, 2, 0, 0, 120284.67, 0], [742, \"Female\", 36, 2, 129748.54, 2, 0, 0, 47271.61, 1], [717, \"Male\", 31, 4, 129722.57, 1, 0, 0, 41176.6, 0], [767, \"Male\", 36, 3, 139180.2, 1, 0, 0, 123880.19, 0], [636, \"Male\", 49, 6, 113599.74, 2, 1, 0, 158887.09, 1], [622, \"Female\", 58, 7, 116922.25, 1, 1, 0, 120415.61, 1], [692, \"Male\", 28, 9, 118945.09, 1, 0, 0, 16064.25, 1], [679, \"Female\", 35, 8, 119182.73, 1, 0, 0, 121210.09, 0], [639, \"Male\", 27, 8, 0.0, 2, 1, 0, 192247.35, 0], [571, \"Female\", 35, 8, 0.0, 2, 0, 0, 84569.13, 0], [562, \"Female\", 35, 0, 0.0, 2, 1, 0, 119899.52, 0], [850, \"Female\", 48, 6, 111962.99, 1, 1, 0, 111755.8, 0], [654, \"Male\", 29, 1, 0.0, 1, 1, 0, 180345.44, 0], [761, \"Male\", 36, 8, 108239.11, 2, 0, 0, 99444.02, 0], [488, \"Male\", 32, 3, 114540.38, 1, 1, 0, 92568.07, 0], [790, \"Female\", 46, 9, 0.0, 1, 0, 0, 14679.81, 1], [793, \"Female\", 33, 0, 0.0, 1, 0, 0, 175544.02, 0], [657, \"Female\", 37, 6, 95845.6, 1, 1, 0, 122218.23, 0], [618, \"Female\", 35, 10, 0.0, 2, 1, 0, 180439.75, 0], [700, \"Female\", 26, 2, 0.0, 2, 0, 0, 50051.42, 0], [745, \"Male\", 25, 5, 157993.15, 2, 1, 0, 146041.45, 0], [696, \"Male\", 29, 8, 0.0, 2, 1, 0, 191166.09, 0], [580, \"Female\", 42, 2, 123331.36, 1, 0, 0, 103516.08, 1], [720, \"Female\", 43, 6, 137824.03, 2, 1, 0, 172557.77, 0], [659, \"Male\", 36, 4, 132578.92, 2, 1, 0, 84320.94, 0], [841, \"Female\", 36, 5, 156021.31, 1, 0, 0, 122662.98, 0], [642, \"Male\", 34, 8, 0.0, 1, 1, 0, 72085.1, 0], [600, \"Male\", 36, 4, 0.0, 2, 1, 0, 143635.36, 0], [577, \"Female\", 39, 10, 0.0, 2, 1, 0, 10553.31, 0], [633, \"Female\", 30, 6, 0.0, 2, 0, 0, 41642.29, 0], [559, \"Male\", 34, 2, 137390.11, 2, 1, 0, 9677.0, 0], [507, \"Male\", 36, 4, 83543.37, 1, 0, 0, 140134.43, 0], [732, \"Male\", 50, 6, 145338.76, 1, 0, 0, 91936.1, 1], [818, \"Female\", 31, 1, 186796.37, 1, 0, 0, 178252.63, 0], [773, \"Female\", 41, 5, 0.0, 1, 1, 0, 28266.9, 1], [640, \"Male\", 44, 3, 137148.68, 1, 1, 0, 92381.01, 0], [505, \"Male\", 49, 7, 80001.23, 1, 0, 0, 135180.11, 0], [714, \"Male\", 21, 6, 86402.52, 2, 0, 0, 27330.59, 0], [468, \"Female\", 42, 5, 0.0, 2, 1, 0, 125305.34, 0], [646, \"Male\", 46, 1, 170826.55, 2, 1, 0, 45041.32, 0], [667, \"Female\", 48, 1, 97133.92, 2, 0, 0, 113316.77, 1], [523, \"Male\", 32, 4, 0.0, 2, 1, 0, 167848.02, 0], [567, \"Female\", 49, 5, 134956.02, 1, 1, 0, 93953.84, 1], [598, \"Male\", 64, 1, 0.0, 2, 1, 0, 195635.3, 1], [667, \"Male\", 43, 8, 190227.46, 1, 1, 0, 97508.04, 1], [548, \"Female\", 32, 2, 172448.77, 1, 1, 0, 188083.77, 1], [594, \"Male\", 38, 4, 0.0, 2, 0, 0, 186884.04, 0], [636, \"Female\", 48, 1, 170833.46, 1, 1, 0, 110510.28, 1], [603, \"Male\", 44, 6, 108122.39, 2, 1, 0, 108488.33, 1], [629, \"Female\", 45, 7, 129818.39, 3, 1, 0, 9217.55, 1], [561, \"Male\", 28, 7, 0.0, 2, 1, 0, 7797.01, 0], [501, \"Female\", 39, 9, 117301.66, 1, 0, 0, 182025.95, 0], [574, \"Female\", 33, 3, 134348.57, 1, 1, 0, 63163.99, 0], [749, \"Female\", 60, 6, 0.0, 1, 1, 0, 17978.68, 1], [679, \"Female\", 43, 4, 0.0, 3, 1, 0, 115136.51, 1], [565, \"Male\", 36, 6, 106192.1, 1, 1, 0, 149575.59, 0], [643, \"Female\", 45, 4, 45144.43, 1, 1, 0, 60917.24, 1], [739, \"Male\", 38, 0, 128366.44, 1, 1, 0, 12796.43, 0], [788, \"Male\", 37, 8, 141541.25, 1, 0, 0, 66013.27, 0], [577, \"Male\", 42, 9, 0.0, 1, 1, 0, 74077.91, 0], [728, \"Female\", 35, 8, 125884.95, 2, 1, 0, 54359.02, 1], [718, \"Male\", 35, 8, 0.0, 2, 1, 0, 94820.85, 0], [621, \"Female\", 40, 6, 0.0, 1, 1, 0, 155155.25, 0], [523, \"Female\", 40, 2, 102967.41, 1, 1, 0, 128702.1, 1], [657, \"Male\", 25, 2, 171770.55, 1, 1, 0, 22745.5, 0], [727, \"Male\", 40, 1, 93051.64, 2, 1, 0, 71865.31, 1], [568, \"Male\", 28, 5, 145105.64, 2, 1, 0, 185489.11, 0], [599, \"Male\", 58, 4, 0.0, 1, 0, 0, 176407.15, 1], [516, \"Female\", 46, 1, 104947.72, 1, 1, 0, 115789.25, 1], [806, \"Male\", 25, 7, 0.0, 2, 1, 0, 18461.9, 0], [545, \"Female\", 32, 4, 0.0, 1, 1, 0, 94739.2, 0], [756, \"Male\", 27, 1, 131899.0, 1, 1, 0, 93302.29, 0], [596, \"Male\", 47, 6, 0.0, 1, 1, 0, 74835.65, 0], [784, \"Male\", 35, 3, 0.0, 2, 0, 0, 81483.64, 0], [552, \"Male\", 45, 9, 0.0, 2, 1, 0, 26752.56, 0], [609, \"Male\", 61, 1, 0.0, 1, 1, 0, 22447.85, 1], [555, \"Male\", 51, 5, 0.0, 3, 1, 0, 189122.89, 1], [764, \"Female\", 24, 7, 106234.02, 1, 0, 0, 115676.38, 0], [661, \"Male\", 39, 6, 132628.98, 1, 0, 0, 38812.67, 0], [708, \"Female\", 42, 8, 192390.52, 2, 1, 0, 823.36, 0], [724, \"Female\", 37, 10, 68598.56, 1, 1, 0, 157862.82, 0], [696, \"Female\", 31, 8, 0.0, 2, 0, 0, 191074.11, 0], [376, \"Female\", 46, 6, 0.0, 1, 1, 0, 157333.69, 1], [675, \"Female\", 29, 8, 121326.42, 1, 1, 0, 133457.52, 0], [745, \"Male\", 36, 8, 67226.37, 1, 1, 0, 130789.6, 0], [599, \"Female\", 39, 4, 0.0, 1, 1, 0, 194273.2, 1], [684, \"Female\", 48, 3, 73309.38, 1, 0, 0, 21228.34, 1], [789, \"Male\", 33, 8, 151607.56, 1, 1, 0, 4389.4, 0], [706, \"Female\", 44, 4, 129605.99, 1, 0, 0, 69865.49, 0], [531, \"Male\", 27, 8, 132576.25, 1, 0, 0, 7222.92, 0], [685, \"Male\", 35, 4, 137948.51, 1, 1, 0, 113639.64, 0], [529, \"Male\", 63, 4, 96134.11, 3, 1, 0, 108732.96, 1], [637, \"Female\", 34, 9, 0.0, 2, 0, 0, 26057.08, 0], [544, \"Male\", 37, 3, 84496.71, 1, 0, 0, 79972.09, 0], [635, \"Male\", 43, 5, 78992.75, 2, 0, 0, 153265.31, 0], [730, \"Male\", 34, 5, 122453.37, 2, 1, 0, 138882.98, 0], [586, \"Female\", 43, 8, 132558.26, 1, 1, 0, 67046.83, 1], [520, \"Female\", 38, 4, 0.0, 2, 1, 0, 56388.63, 0], [652, \"Female\", 48, 8, 133297.24, 1, 1, 0, 77764.37, 0], [550, \"Female\", 46, 7, 0.0, 2, 1, 0, 130590.35, 0], [594, \"Male\", 27, 0, 197041.8, 1, 0, 0, 151912.49, 0], [749, \"Female\", 44, 0, 71497.79, 2, 0, 0, 151083.8, 0], [614, \"Female\", 35, 6, 128100.28, 1, 0, 0, 69454.24, 1], [566, \"Male\", 36, 1, 142120.91, 1, 1, 0, 79616.37, 0], [569, \"Male\", 34, 0, 151839.26, 1, 1, 0, 102299.81, 1], [722, \"Female\", 49, 3, 168197.66, 1, 1, 0, 140765.57, 1], [655, \"Male\", 37, 5, 93147.0, 2, 1, 0, 66214.13, 0], [661, \"Female\", 28, 7, 95357.49, 1, 0, 0, 102297.15, 0], [838, \"Male\", 43, 9, 123105.88, 2, 1, 0, 145765.83, 0], [759, \"Female\", 38, 1, 104091.29, 1, 0, 0, 91561.91, 0]], \"hovertemplate\": \"IsActive=%{customdata[7]}<br>Exit=%{customdata[9]}<br>Age=%{customdata[2]}<br>CreditScore=%{customdata[0]}<br>Gender=%{customdata[1]}<br>Tenure=%{customdata[3]}<br>Balance=%{customdata[4]}<br>NumOfProducts=%{customdata[5]}<br>HasCard=%{customdata[6]}<br>EstimatedSalary=%{customdata[8]}<extra></extra>\", \"legendgroup\": \"0\", \"marker\": {\"color\": \"#EF553B\"}, \"name\": \"0\", \"offsetgroup\": \"0\", \"orientation\": \"v\", \"points\": \"all\", \"scalegroup\": \"True\", \"showlegend\": true, \"type\": \"violin\", \"x\": [1, 0, 1, 1, 0, 0, 0, 0, 1, 0, 0, 1, 0, 1, 0, 1, 0, 1, 1, 0, 0, 0, 0, 1, 1, 0, 0, 1, 0, 0, 0, 0, 0, 1, 0, 0, 0, 0, 1, 0, 0, 1, 0, 1, 0, 0, 0, 0, 0, 0, 0, 0, 1, 0, 0, 0, 0, 1, 0, 0, 0, 0, 0, 1, 1, 0, 0, 1, 0, 1, 1, 0, 0, 0, 0, 1, 0, 0, 1, 0, 0, 0, 0, 1, 1, 0, 1, 0, 0, 0, 1, 0, 0, 1, 0, 0, 0, 0, 1, 0, 0, 0, 0, 0, 0, 1, 1, 0, 0, 0, 0, 0, 1, 1, 0, 1, 0, 0, 1, 1, 1, 0, 0, 0, 1, 0, 1, 0, 0, 0, 0, 0, 0, 0, 1, 0, 1, 0, 0, 1, 0, 0, 0, 0, 0, 0, 1, 0, 1, 0, 0, 0, 0, 0, 1, 0, 0, 0, 0, 0, 1, 0, 0, 1, 0, 0, 0, 0, 1, 0, 1, 0, 1, 0, 1, 1, 0, 0, 0, 0, 0, 0, 0, 1, 0, 0, 0, 0, 0, 1, 0, 0, 0, 0, 0, 1, 1, 0, 1, 0, 0, 1, 0, 0, 0, 0, 0, 1, 0, 0, 1, 0, 1, 0, 0, 0, 0, 0, 1, 0, 1, 0, 0, 0, 0, 0, 0, 1, 0, 1, 0, 0, 0, 0, 0, 0, 0, 0, 0, 1, 0, 1, 0, 0, 0, 1, 0, 0, 0, 0, 1, 0, 1, 1, 0, 1, 0, 0, 0, 0, 0, 0, 0, 0, 1, 0, 0, 1, 0, 0, 1, 0, 0, 1, 1, 0, 0, 0, 0, 0, 0, 0, 0, 1, 1, 1, 1, 0, 0, 0, 0, 0, 1, 1, 1, 0, 1, 0, 0, 0, 0, 1, 1, 0, 0, 0, 0, 1, 0, 1, 0, 0, 0, 0, 1, 1, 0, 1, 0, 0, 0, 1, 0, 1, 1, 1, 0, 0, 0, 0, 0, 0, 0, 0, 0, 0, 1, 1, 1, 0, 0, 0, 0, 0, 0, 1, 0, 0, 0, 0, 0, 0, 1, 0, 0, 0, 0, 0, 0, 0, 1, 0, 0, 1, 0, 0, 1, 0, 0, 0, 0, 0, 0, 0, 0, 0, 1, 1, 0, 0, 1, 0, 1, 0, 0, 1, 1, 1, 0, 0, 0, 0, 0, 0, 0, 0, 1, 0, 0, 0, 0, 0, 0, 1, 0, 0, 0, 0, 0, 0, 0, 0, 0, 1, 0, 1, 0, 0, 0, 0, 0, 1, 0, 1, 1, 1, 1, 0, 1, 1, 1, 0, 0, 0, 1, 1, 0, 1, 0, 0, 0, 1, 0, 0, 1, 0, 1, 0, 1, 1, 0, 0, 0, 0, 0, 0, 1, 1, 0, 0, 0, 0, 0, 1, 0, 0, 1, 1, 0, 0, 0, 0, 1, 0, 0, 0, 0, 1, 0, 0, 0, 0, 0, 1, 0, 1, 1, 0, 0, 0, 0], \"x0\": \" \", \"xaxis\": \"x\", \"y\": [42, 39, 44, 29, 31, 24, 34, 25, 58, 45, 32, 38, 44, 39, 41, 45, 40, 51, 49, 37, 44, 36, 33, 41, 42, 45, 19, 66, 35, 27, 33, 34, 21, 58, 29, 21, 41, 34, 32, 36, 46, 22, 30, 46, 45, 36, 22, 34, 44, 31, 36, 33, 35, 39, 42, 37, 41, 31, 34, 34, 39, 39, 28, 42, 56, 41, 24, 48, 44, 52, 31, 29, 37, 44, 32, 48, 42, 37, 57, 33, 33, 30, 49, 29, 24, 41, 39, 24, 29, 27, 44, 30, 36, 55, 45, 32, 39, 34, 41, 36, 40, 32, 29, 35, 33, 41, 45, 33, 41, 26, 46, 33, 43, 33, 37, 50, 29, 40, 42, 43, 46, 38, 39, 34, 40, 26, 54, 36, 28, 34, 48, 32, 36, 36, 39, 35, 34, 30, 53, 46, 40, 29, 32, 34, 41, 27, 34, 25, 44, 31, 36, 35, 33, 35, 50, 31, 30, 38, 59, 37, 49, 22, 24, 40, 31, 30, 35, 35, 46, 40, 30, 37, 29, 33, 39, 39, 31, 22, 25, 43, 34, 32, 30, 34, 29, 42, 29, 35, 30, 39, 36, 28, 44, 46, 21, 46, 38, 32, 66, 52, 36, 49, 37, 41, 23, 35, 26, 61, 46, 28, 60, 38, 40, 35, 39, 26, 39, 40, 40, 33, 37, 33, 30, 35, 38, 35, 31, 47, 37, 38, 47, 38, 31, 44, 36, 38, 39, 25, 33, 38, 35, 37, 26, 28, 33, 46, 40, 23, 37, 37, 61, 37, 47, 38, 32, 60, 41, 31, 30, 40, 38, 34, 38, 37, 35, 48, 26, 48, 35, 40, 59, 35, 34, 28, 51, 44, 38, 30, 36, 25, 34, 33, 40, 41, 46, 54, 45, 35, 32, 41, 36, 30, 51, 51, 53, 36, 47, 38, 32, 41, 43, 57, 30, 28, 51, 30, 27, 31, 39, 62, 35, 35, 49, 28, 61, 54, 33, 31, 51, 33, 36, 48, 29, 39, 39, 34, 38, 36, 42, 30, 48, 26, 38, 38, 40, 24, 42, 45, 51, 36, 27, 43, 36, 32, 30, 40, 42, 34, 48, 35, 38, 41, 25, 34, 37, 42, 45, 23, 38, 40, 57, 25, 31, 43, 46, 28, 49, 18, 46, 47, 37, 39, 31, 36, 37, 43, 35, 36, 21, 27, 60, 41, 36, 31, 36, 49, 58, 28, 35, 27, 35, 35, 48, 29, 36, 32, 46, 33, 37, 35, 26, 25, 29, 42, 43, 36, 36, 34, 36, 39, 30, 34, 36, 50, 31, 41, 44, 49, 21, 42, 46, 48, 32, 49, 64, 43, 32, 38, 48, 44, 45, 28, 39, 33, 60, 43, 36, 45, 38, 37, 42, 35, 35, 40, 40, 25, 40, 28, 58, 46, 25, 32, 27, 47, 35, 45, 61, 51, 24, 39, 42, 37, 31, 46, 29, 36, 39, 48, 33, 44, 27, 35, 63, 34, 37, 43, 34, 43, 38, 48, 46, 27, 44, 35, 36, 34, 49, 37, 28, 43, 38], \"y0\": \" \", \"yaxis\": \"y\"}],\n",
       "                        {\"legend\": {\"title\": {\"text\": \"IsActive\"}, \"tracegroupgap\": 0}, \"margin\": {\"t\": 60}, \"template\": {\"data\": {\"bar\": [{\"error_x\": {\"color\": \"#2a3f5f\"}, \"error_y\": {\"color\": \"#2a3f5f\"}, \"marker\": {\"line\": {\"color\": \"#E5ECF6\", \"width\": 0.5}}, \"type\": \"bar\"}], \"barpolar\": [{\"marker\": {\"line\": {\"color\": \"#E5ECF6\", \"width\": 0.5}}, \"type\": \"barpolar\"}], \"carpet\": [{\"aaxis\": {\"endlinecolor\": \"#2a3f5f\", \"gridcolor\": \"white\", \"linecolor\": \"white\", \"minorgridcolor\": \"white\", \"startlinecolor\": \"#2a3f5f\"}, \"baxis\": {\"endlinecolor\": \"#2a3f5f\", \"gridcolor\": \"white\", \"linecolor\": \"white\", \"minorgridcolor\": \"white\", \"startlinecolor\": \"#2a3f5f\"}, \"type\": \"carpet\"}], \"choropleth\": [{\"colorbar\": {\"outlinewidth\": 0, \"ticks\": \"\"}, \"type\": \"choropleth\"}], \"contour\": [{\"colorbar\": {\"outlinewidth\": 0, \"ticks\": \"\"}, \"colorscale\": [[0.0, \"#0d0887\"], [0.1111111111111111, \"#46039f\"], [0.2222222222222222, \"#7201a8\"], [0.3333333333333333, \"#9c179e\"], [0.4444444444444444, \"#bd3786\"], [0.5555555555555556, \"#d8576b\"], [0.6666666666666666, \"#ed7953\"], [0.7777777777777778, \"#fb9f3a\"], [0.8888888888888888, \"#fdca26\"], [1.0, \"#f0f921\"]], \"type\": \"contour\"}], \"contourcarpet\": [{\"colorbar\": {\"outlinewidth\": 0, \"ticks\": \"\"}, \"type\": \"contourcarpet\"}], \"heatmap\": [{\"colorbar\": {\"outlinewidth\": 0, \"ticks\": \"\"}, \"colorscale\": [[0.0, \"#0d0887\"], [0.1111111111111111, \"#46039f\"], [0.2222222222222222, \"#7201a8\"], [0.3333333333333333, \"#9c179e\"], [0.4444444444444444, \"#bd3786\"], [0.5555555555555556, \"#d8576b\"], [0.6666666666666666, \"#ed7953\"], [0.7777777777777778, \"#fb9f3a\"], [0.8888888888888888, \"#fdca26\"], [1.0, \"#f0f921\"]], \"type\": \"heatmap\"}], \"heatmapgl\": [{\"colorbar\": {\"outlinewidth\": 0, \"ticks\": \"\"}, \"colorscale\": [[0.0, \"#0d0887\"], [0.1111111111111111, \"#46039f\"], [0.2222222222222222, \"#7201a8\"], [0.3333333333333333, \"#9c179e\"], [0.4444444444444444, \"#bd3786\"], [0.5555555555555556, \"#d8576b\"], [0.6666666666666666, \"#ed7953\"], [0.7777777777777778, \"#fb9f3a\"], [0.8888888888888888, \"#fdca26\"], [1.0, \"#f0f921\"]], \"type\": \"heatmapgl\"}], \"histogram\": [{\"marker\": {\"colorbar\": {\"outlinewidth\": 0, \"ticks\": \"\"}}, \"type\": \"histogram\"}], \"histogram2d\": [{\"colorbar\": {\"outlinewidth\": 0, \"ticks\": \"\"}, \"colorscale\": [[0.0, \"#0d0887\"], [0.1111111111111111, \"#46039f\"], [0.2222222222222222, \"#7201a8\"], [0.3333333333333333, \"#9c179e\"], [0.4444444444444444, \"#bd3786\"], [0.5555555555555556, \"#d8576b\"], [0.6666666666666666, \"#ed7953\"], [0.7777777777777778, \"#fb9f3a\"], [0.8888888888888888, \"#fdca26\"], [1.0, \"#f0f921\"]], \"type\": \"histogram2d\"}], \"histogram2dcontour\": [{\"colorbar\": {\"outlinewidth\": 0, \"ticks\": \"\"}, \"colorscale\": [[0.0, \"#0d0887\"], [0.1111111111111111, \"#46039f\"], [0.2222222222222222, \"#7201a8\"], [0.3333333333333333, \"#9c179e\"], [0.4444444444444444, \"#bd3786\"], [0.5555555555555556, \"#d8576b\"], [0.6666666666666666, \"#ed7953\"], [0.7777777777777778, \"#fb9f3a\"], [0.8888888888888888, \"#fdca26\"], [1.0, \"#f0f921\"]], \"type\": \"histogram2dcontour\"}], \"mesh3d\": [{\"colorbar\": {\"outlinewidth\": 0, \"ticks\": \"\"}, \"type\": \"mesh3d\"}], \"parcoords\": [{\"line\": {\"colorbar\": {\"outlinewidth\": 0, \"ticks\": \"\"}}, \"type\": \"parcoords\"}], \"pie\": [{\"automargin\": true, \"type\": \"pie\"}], \"scatter\": [{\"marker\": {\"colorbar\": {\"outlinewidth\": 0, \"ticks\": \"\"}}, \"type\": \"scatter\"}], \"scatter3d\": [{\"line\": {\"colorbar\": {\"outlinewidth\": 0, \"ticks\": \"\"}}, \"marker\": {\"colorbar\": {\"outlinewidth\": 0, \"ticks\": \"\"}}, \"type\": \"scatter3d\"}], \"scattercarpet\": [{\"marker\": {\"colorbar\": {\"outlinewidth\": 0, \"ticks\": \"\"}}, \"type\": \"scattercarpet\"}], \"scattergeo\": [{\"marker\": {\"colorbar\": {\"outlinewidth\": 0, \"ticks\": \"\"}}, \"type\": \"scattergeo\"}], \"scattergl\": [{\"marker\": {\"colorbar\": {\"outlinewidth\": 0, \"ticks\": \"\"}}, \"type\": \"scattergl\"}], \"scattermapbox\": [{\"marker\": {\"colorbar\": {\"outlinewidth\": 0, \"ticks\": \"\"}}, \"type\": \"scattermapbox\"}], \"scatterpolar\": [{\"marker\": {\"colorbar\": {\"outlinewidth\": 0, \"ticks\": \"\"}}, \"type\": \"scatterpolar\"}], \"scatterpolargl\": [{\"marker\": {\"colorbar\": {\"outlinewidth\": 0, \"ticks\": \"\"}}, \"type\": \"scatterpolargl\"}], \"scatterternary\": [{\"marker\": {\"colorbar\": {\"outlinewidth\": 0, \"ticks\": \"\"}}, \"type\": \"scatterternary\"}], \"surface\": [{\"colorbar\": {\"outlinewidth\": 0, \"ticks\": \"\"}, \"colorscale\": [[0.0, \"#0d0887\"], [0.1111111111111111, \"#46039f\"], [0.2222222222222222, \"#7201a8\"], [0.3333333333333333, \"#9c179e\"], [0.4444444444444444, \"#bd3786\"], [0.5555555555555556, \"#d8576b\"], [0.6666666666666666, \"#ed7953\"], [0.7777777777777778, \"#fb9f3a\"], [0.8888888888888888, \"#fdca26\"], [1.0, \"#f0f921\"]], \"type\": \"surface\"}], \"table\": [{\"cells\": {\"fill\": {\"color\": \"#EBF0F8\"}, \"line\": {\"color\": \"white\"}}, \"header\": {\"fill\": {\"color\": \"#C8D4E3\"}, \"line\": {\"color\": \"white\"}}, \"type\": \"table\"}]}, \"layout\": {\"annotationdefaults\": {\"arrowcolor\": \"#2a3f5f\", \"arrowhead\": 0, \"arrowwidth\": 1}, \"coloraxis\": {\"colorbar\": {\"outlinewidth\": 0, \"ticks\": \"\"}}, \"colorscale\": {\"diverging\": [[0, \"#8e0152\"], [0.1, \"#c51b7d\"], [0.2, \"#de77ae\"], [0.3, \"#f1b6da\"], [0.4, \"#fde0ef\"], [0.5, \"#f7f7f7\"], [0.6, \"#e6f5d0\"], [0.7, \"#b8e186\"], [0.8, \"#7fbc41\"], [0.9, \"#4d9221\"], [1, \"#276419\"]], \"sequential\": [[0.0, \"#0d0887\"], [0.1111111111111111, \"#46039f\"], [0.2222222222222222, \"#7201a8\"], [0.3333333333333333, \"#9c179e\"], [0.4444444444444444, \"#bd3786\"], [0.5555555555555556, \"#d8576b\"], [0.6666666666666666, \"#ed7953\"], [0.7777777777777778, \"#fb9f3a\"], [0.8888888888888888, \"#fdca26\"], [1.0, \"#f0f921\"]], \"sequentialminus\": [[0.0, \"#0d0887\"], [0.1111111111111111, \"#46039f\"], [0.2222222222222222, \"#7201a8\"], [0.3333333333333333, \"#9c179e\"], [0.4444444444444444, \"#bd3786\"], [0.5555555555555556, \"#d8576b\"], [0.6666666666666666, \"#ed7953\"], [0.7777777777777778, \"#fb9f3a\"], [0.8888888888888888, \"#fdca26\"], [1.0, \"#f0f921\"]]}, \"colorway\": [\"#636efa\", \"#EF553B\", \"#00cc96\", \"#ab63fa\", \"#FFA15A\", \"#19d3f3\", \"#FF6692\", \"#B6E880\", \"#FF97FF\", \"#FECB52\"], \"font\": {\"color\": \"#2a3f5f\"}, \"geo\": {\"bgcolor\": \"white\", \"lakecolor\": \"white\", \"landcolor\": \"#E5ECF6\", \"showlakes\": true, \"showland\": true, \"subunitcolor\": \"white\"}, \"hoverlabel\": {\"align\": \"left\"}, \"hovermode\": \"closest\", \"mapbox\": {\"style\": \"light\"}, \"paper_bgcolor\": \"white\", \"plot_bgcolor\": \"#E5ECF6\", \"polar\": {\"angularaxis\": {\"gridcolor\": \"white\", \"linecolor\": \"white\", \"ticks\": \"\"}, \"bgcolor\": \"#E5ECF6\", \"radialaxis\": {\"gridcolor\": \"white\", \"linecolor\": \"white\", \"ticks\": \"\"}}, \"scene\": {\"xaxis\": {\"backgroundcolor\": \"#E5ECF6\", \"gridcolor\": \"white\", \"gridwidth\": 2, \"linecolor\": \"white\", \"showbackground\": true, \"ticks\": \"\", \"zerolinecolor\": \"white\"}, \"yaxis\": {\"backgroundcolor\": \"#E5ECF6\", \"gridcolor\": \"white\", \"gridwidth\": 2, \"linecolor\": \"white\", \"showbackground\": true, \"ticks\": \"\", \"zerolinecolor\": \"white\"}, \"zaxis\": {\"backgroundcolor\": \"#E5ECF6\", \"gridcolor\": \"white\", \"gridwidth\": 2, \"linecolor\": \"white\", \"showbackground\": true, \"ticks\": \"\", \"zerolinecolor\": \"white\"}}, \"shapedefaults\": {\"line\": {\"color\": \"#2a3f5f\"}}, \"ternary\": {\"aaxis\": {\"gridcolor\": \"white\", \"linecolor\": \"white\", \"ticks\": \"\"}, \"baxis\": {\"gridcolor\": \"white\", \"linecolor\": \"white\", \"ticks\": \"\"}, \"bgcolor\": \"#E5ECF6\", \"caxis\": {\"gridcolor\": \"white\", \"linecolor\": \"white\", \"ticks\": \"\"}}, \"title\": {\"x\": 0.05}, \"xaxis\": {\"automargin\": true, \"gridcolor\": \"white\", \"linecolor\": \"white\", \"ticks\": \"\", \"title\": {\"standoff\": 15}, \"zerolinecolor\": \"white\", \"zerolinewidth\": 2}, \"yaxis\": {\"automargin\": true, \"gridcolor\": \"white\", \"linecolor\": \"white\", \"ticks\": \"\", \"title\": {\"standoff\": 15}, \"zerolinecolor\": \"white\", \"zerolinewidth\": 2}}}, \"violinmode\": \"group\", \"xaxis\": {\"anchor\": \"y\", \"domain\": [0.0, 1.0], \"title\": {\"text\": \"Exit\"}}, \"yaxis\": {\"anchor\": \"x\", \"domain\": [0.0, 1.0], \"title\": {\"text\": \"Age\"}}},\n",
       "                        {\"responsive\": true}\n",
       "                    ).then(function(){\n",
       "                            \n",
       "var gd = document.getElementById('6ed99b13-d436-45aa-a5de-481b040901b5');\n",
       "var x = new MutationObserver(function (mutations, observer) {{\n",
       "        var display = window.getComputedStyle(gd).display;\n",
       "        if (!display || display === 'none') {{\n",
       "            console.log([gd, 'removed!']);\n",
       "            Plotly.purge(gd);\n",
       "            observer.disconnect();\n",
       "        }}\n",
       "}});\n",
       "\n",
       "// Listen for the removal of the full notebook cells\n",
       "var notebookContainer = gd.closest('#notebook-container');\n",
       "if (notebookContainer) {{\n",
       "    x.observe(notebookContainer, {childList: true});\n",
       "}}\n",
       "\n",
       "// Listen for the clearing of the current output cell\n",
       "var outputEl = gd.closest('.output');\n",
       "if (outputEl) {{\n",
       "    x.observe(outputEl, {childList: true});\n",
       "}}\n",
       "\n",
       "                        })\n",
       "                };\n",
       "                });\n",
       "            </script>\n",
       "        </div>"
      ]
     },
     "metadata": {},
     "output_type": "display_data"
    }
   ],
   "source": [
    "fig = px.violin(df, y=df[\"Age\"], x=\"Exit\",color='IsActive',box=True, points='all',\n",
    "          hover_data=df.columns)\n",
    "fig.show()\n"
   ]
  },
  {
   "cell_type": "code",
   "execution_count": 50,
   "metadata": {},
   "outputs": [
    {
     "name": "stdout",
     "output_type": "stream",
     "text": [
      "{'C': 25, 'gamma': 0.03}\n"
     ]
    },
    {
     "data": {
      "application/vnd.plotly.v1+json": {
       "config": {
        "plotlyServerURL": "https://plotly.com"
       },
       "data": [
        {
         "hovertemplate": "variable=wide_variable_0<br>x=%{x}<br>value=%{y}<extra></extra>",
         "legendgroup": "wide_variable_0",
         "line": {
          "color": "#636efa",
          "dash": "solid"
         },
         "mode": "lines",
         "name": "wide_variable_0",
         "orientation": "v",
         "showlegend": true,
         "type": "scatter",
         "x": [
          0.001,
          0.0021544346900318843,
          0.004641588833612777,
          0.01,
          0.021544346900318832,
          0.046415888336127774,
          0.1,
          0.21544346900318823,
          0.46415888336127775,
          1
         ],
         "xaxis": "x",
         "y": [
          0.8956666666666667,
          0.9166666666666666,
          0.9476666666666667,
          0.9713333333333333,
          0.9896666666666667,
          0.9976666666666667,
          1,
          1,
          1,
          1
         ],
         "yaxis": "y"
        },
        {
         "hovertemplate": "variable=wide_variable_1<br>x=%{x}<br>value=%{y}<extra></extra>",
         "legendgroup": "wide_variable_1",
         "line": {
          "color": "#EF553B",
          "dash": "solid"
         },
         "mode": "lines",
         "name": "wide_variable_1",
         "orientation": "v",
         "showlegend": true,
         "type": "scatter",
         "x": [
          0.001,
          0.0021544346900318843,
          0.004641588833612777,
          0.01,
          0.021544346900318832,
          0.046415888336127774,
          0.1,
          0.21544346900318823,
          0.46415888336127775,
          1
         ],
         "xaxis": "x",
         "y": [
          0.8946666666666667,
          0.9133333333333333,
          0.9346666666666668,
          0.9546666666666667,
          0.9640000000000001,
          0.9586666666666668,
          0.9626666666666667,
          0.9546666666666667,
          0.9253333333333333,
          0.9106666666666667
         ],
         "yaxis": "y"
        }
       ],
       "layout": {
        "legend": {
         "title": {
          "text": "variable"
         },
         "tracegroupgap": 0
        },
        "showlegend": false,
        "template": {
         "data": {
          "bar": [
           {
            "error_x": {
             "color": "#2a3f5f"
            },
            "error_y": {
             "color": "#2a3f5f"
            },
            "marker": {
             "line": {
              "color": "#E5ECF6",
              "width": 0.5
             }
            },
            "type": "bar"
           }
          ],
          "barpolar": [
           {
            "marker": {
             "line": {
              "color": "#E5ECF6",
              "width": 0.5
             }
            },
            "type": "barpolar"
           }
          ],
          "carpet": [
           {
            "aaxis": {
             "endlinecolor": "#2a3f5f",
             "gridcolor": "white",
             "linecolor": "white",
             "minorgridcolor": "white",
             "startlinecolor": "#2a3f5f"
            },
            "baxis": {
             "endlinecolor": "#2a3f5f",
             "gridcolor": "white",
             "linecolor": "white",
             "minorgridcolor": "white",
             "startlinecolor": "#2a3f5f"
            },
            "type": "carpet"
           }
          ],
          "choropleth": [
           {
            "colorbar": {
             "outlinewidth": 0,
             "ticks": ""
            },
            "type": "choropleth"
           }
          ],
          "contour": [
           {
            "colorbar": {
             "outlinewidth": 0,
             "ticks": ""
            },
            "colorscale": [
             [
              0,
              "#0d0887"
             ],
             [
              0.1111111111111111,
              "#46039f"
             ],
             [
              0.2222222222222222,
              "#7201a8"
             ],
             [
              0.3333333333333333,
              "#9c179e"
             ],
             [
              0.4444444444444444,
              "#bd3786"
             ],
             [
              0.5555555555555556,
              "#d8576b"
             ],
             [
              0.6666666666666666,
              "#ed7953"
             ],
             [
              0.7777777777777778,
              "#fb9f3a"
             ],
             [
              0.8888888888888888,
              "#fdca26"
             ],
             [
              1,
              "#f0f921"
             ]
            ],
            "type": "contour"
           }
          ],
          "contourcarpet": [
           {
            "colorbar": {
             "outlinewidth": 0,
             "ticks": ""
            },
            "type": "contourcarpet"
           }
          ],
          "heatmap": [
           {
            "colorbar": {
             "outlinewidth": 0,
             "ticks": ""
            },
            "colorscale": [
             [
              0,
              "#0d0887"
             ],
             [
              0.1111111111111111,
              "#46039f"
             ],
             [
              0.2222222222222222,
              "#7201a8"
             ],
             [
              0.3333333333333333,
              "#9c179e"
             ],
             [
              0.4444444444444444,
              "#bd3786"
             ],
             [
              0.5555555555555556,
              "#d8576b"
             ],
             [
              0.6666666666666666,
              "#ed7953"
             ],
             [
              0.7777777777777778,
              "#fb9f3a"
             ],
             [
              0.8888888888888888,
              "#fdca26"
             ],
             [
              1,
              "#f0f921"
             ]
            ],
            "type": "heatmap"
           }
          ],
          "heatmapgl": [
           {
            "colorbar": {
             "outlinewidth": 0,
             "ticks": ""
            },
            "colorscale": [
             [
              0,
              "#0d0887"
             ],
             [
              0.1111111111111111,
              "#46039f"
             ],
             [
              0.2222222222222222,
              "#7201a8"
             ],
             [
              0.3333333333333333,
              "#9c179e"
             ],
             [
              0.4444444444444444,
              "#bd3786"
             ],
             [
              0.5555555555555556,
              "#d8576b"
             ],
             [
              0.6666666666666666,
              "#ed7953"
             ],
             [
              0.7777777777777778,
              "#fb9f3a"
             ],
             [
              0.8888888888888888,
              "#fdca26"
             ],
             [
              1,
              "#f0f921"
             ]
            ],
            "type": "heatmapgl"
           }
          ],
          "histogram": [
           {
            "marker": {
             "colorbar": {
              "outlinewidth": 0,
              "ticks": ""
             }
            },
            "type": "histogram"
           }
          ],
          "histogram2d": [
           {
            "colorbar": {
             "outlinewidth": 0,
             "ticks": ""
            },
            "colorscale": [
             [
              0,
              "#0d0887"
             ],
             [
              0.1111111111111111,
              "#46039f"
             ],
             [
              0.2222222222222222,
              "#7201a8"
             ],
             [
              0.3333333333333333,
              "#9c179e"
             ],
             [
              0.4444444444444444,
              "#bd3786"
             ],
             [
              0.5555555555555556,
              "#d8576b"
             ],
             [
              0.6666666666666666,
              "#ed7953"
             ],
             [
              0.7777777777777778,
              "#fb9f3a"
             ],
             [
              0.8888888888888888,
              "#fdca26"
             ],
             [
              1,
              "#f0f921"
             ]
            ],
            "type": "histogram2d"
           }
          ],
          "histogram2dcontour": [
           {
            "colorbar": {
             "outlinewidth": 0,
             "ticks": ""
            },
            "colorscale": [
             [
              0,
              "#0d0887"
             ],
             [
              0.1111111111111111,
              "#46039f"
             ],
             [
              0.2222222222222222,
              "#7201a8"
             ],
             [
              0.3333333333333333,
              "#9c179e"
             ],
             [
              0.4444444444444444,
              "#bd3786"
             ],
             [
              0.5555555555555556,
              "#d8576b"
             ],
             [
              0.6666666666666666,
              "#ed7953"
             ],
             [
              0.7777777777777778,
              "#fb9f3a"
             ],
             [
              0.8888888888888888,
              "#fdca26"
             ],
             [
              1,
              "#f0f921"
             ]
            ],
            "type": "histogram2dcontour"
           }
          ],
          "mesh3d": [
           {
            "colorbar": {
             "outlinewidth": 0,
             "ticks": ""
            },
            "type": "mesh3d"
           }
          ],
          "parcoords": [
           {
            "line": {
             "colorbar": {
              "outlinewidth": 0,
              "ticks": ""
             }
            },
            "type": "parcoords"
           }
          ],
          "pie": [
           {
            "automargin": true,
            "type": "pie"
           }
          ],
          "scatter": [
           {
            "marker": {
             "colorbar": {
              "outlinewidth": 0,
              "ticks": ""
             }
            },
            "type": "scatter"
           }
          ],
          "scatter3d": [
           {
            "line": {
             "colorbar": {
              "outlinewidth": 0,
              "ticks": ""
             }
            },
            "marker": {
             "colorbar": {
              "outlinewidth": 0,
              "ticks": ""
             }
            },
            "type": "scatter3d"
           }
          ],
          "scattercarpet": [
           {
            "marker": {
             "colorbar": {
              "outlinewidth": 0,
              "ticks": ""
             }
            },
            "type": "scattercarpet"
           }
          ],
          "scattergeo": [
           {
            "marker": {
             "colorbar": {
              "outlinewidth": 0,
              "ticks": ""
             }
            },
            "type": "scattergeo"
           }
          ],
          "scattergl": [
           {
            "marker": {
             "colorbar": {
              "outlinewidth": 0,
              "ticks": ""
             }
            },
            "type": "scattergl"
           }
          ],
          "scattermapbox": [
           {
            "marker": {
             "colorbar": {
              "outlinewidth": 0,
              "ticks": ""
             }
            },
            "type": "scattermapbox"
           }
          ],
          "scatterpolar": [
           {
            "marker": {
             "colorbar": {
              "outlinewidth": 0,
              "ticks": ""
             }
            },
            "type": "scatterpolar"
           }
          ],
          "scatterpolargl": [
           {
            "marker": {
             "colorbar": {
              "outlinewidth": 0,
              "ticks": ""
             }
            },
            "type": "scatterpolargl"
           }
          ],
          "scatterternary": [
           {
            "marker": {
             "colorbar": {
              "outlinewidth": 0,
              "ticks": ""
             }
            },
            "type": "scatterternary"
           }
          ],
          "surface": [
           {
            "colorbar": {
             "outlinewidth": 0,
             "ticks": ""
            },
            "colorscale": [
             [
              0,
              "#0d0887"
             ],
             [
              0.1111111111111111,
              "#46039f"
             ],
             [
              0.2222222222222222,
              "#7201a8"
             ],
             [
              0.3333333333333333,
              "#9c179e"
             ],
             [
              0.4444444444444444,
              "#bd3786"
             ],
             [
              0.5555555555555556,
              "#d8576b"
             ],
             [
              0.6666666666666666,
              "#ed7953"
             ],
             [
              0.7777777777777778,
              "#fb9f3a"
             ],
             [
              0.8888888888888888,
              "#fdca26"
             ],
             [
              1,
              "#f0f921"
             ]
            ],
            "type": "surface"
           }
          ],
          "table": [
           {
            "cells": {
             "fill": {
              "color": "#EBF0F8"
             },
             "line": {
              "color": "white"
             }
            },
            "header": {
             "fill": {
              "color": "#C8D4E3"
             },
             "line": {
              "color": "white"
             }
            },
            "type": "table"
           }
          ]
         },
         "layout": {
          "annotationdefaults": {
           "arrowcolor": "#2a3f5f",
           "arrowhead": 0,
           "arrowwidth": 1
          },
          "coloraxis": {
           "colorbar": {
            "outlinewidth": 0,
            "ticks": ""
           }
          },
          "colorscale": {
           "diverging": [
            [
             0,
             "#8e0152"
            ],
            [
             0.1,
             "#c51b7d"
            ],
            [
             0.2,
             "#de77ae"
            ],
            [
             0.3,
             "#f1b6da"
            ],
            [
             0.4,
             "#fde0ef"
            ],
            [
             0.5,
             "#f7f7f7"
            ],
            [
             0.6,
             "#e6f5d0"
            ],
            [
             0.7,
             "#b8e186"
            ],
            [
             0.8,
             "#7fbc41"
            ],
            [
             0.9,
             "#4d9221"
            ],
            [
             1,
             "#276419"
            ]
           ],
           "sequential": [
            [
             0,
             "#0d0887"
            ],
            [
             0.1111111111111111,
             "#46039f"
            ],
            [
             0.2222222222222222,
             "#7201a8"
            ],
            [
             0.3333333333333333,
             "#9c179e"
            ],
            [
             0.4444444444444444,
             "#bd3786"
            ],
            [
             0.5555555555555556,
             "#d8576b"
            ],
            [
             0.6666666666666666,
             "#ed7953"
            ],
            [
             0.7777777777777778,
             "#fb9f3a"
            ],
            [
             0.8888888888888888,
             "#fdca26"
            ],
            [
             1,
             "#f0f921"
            ]
           ],
           "sequentialminus": [
            [
             0,
             "#0d0887"
            ],
            [
             0.1111111111111111,
             "#46039f"
            ],
            [
             0.2222222222222222,
             "#7201a8"
            ],
            [
             0.3333333333333333,
             "#9c179e"
            ],
            [
             0.4444444444444444,
             "#bd3786"
            ],
            [
             0.5555555555555556,
             "#d8576b"
            ],
            [
             0.6666666666666666,
             "#ed7953"
            ],
            [
             0.7777777777777778,
             "#fb9f3a"
            ],
            [
             0.8888888888888888,
             "#fdca26"
            ],
            [
             1,
             "#f0f921"
            ]
           ]
          },
          "colorway": [
           "#636efa",
           "#EF553B",
           "#00cc96",
           "#ab63fa",
           "#FFA15A",
           "#19d3f3",
           "#FF6692",
           "#B6E880",
           "#FF97FF",
           "#FECB52"
          ],
          "font": {
           "color": "#2a3f5f"
          },
          "geo": {
           "bgcolor": "white",
           "lakecolor": "white",
           "landcolor": "#E5ECF6",
           "showlakes": true,
           "showland": true,
           "subunitcolor": "white"
          },
          "hoverlabel": {
           "align": "left"
          },
          "hovermode": "closest",
          "mapbox": {
           "style": "light"
          },
          "paper_bgcolor": "white",
          "plot_bgcolor": "#E5ECF6",
          "polar": {
           "angularaxis": {
            "gridcolor": "white",
            "linecolor": "white",
            "ticks": ""
           },
           "bgcolor": "#E5ECF6",
           "radialaxis": {
            "gridcolor": "white",
            "linecolor": "white",
            "ticks": ""
           }
          },
          "scene": {
           "xaxis": {
            "backgroundcolor": "#E5ECF6",
            "gridcolor": "white",
            "gridwidth": 2,
            "linecolor": "white",
            "showbackground": true,
            "ticks": "",
            "zerolinecolor": "white"
           },
           "yaxis": {
            "backgroundcolor": "#E5ECF6",
            "gridcolor": "white",
            "gridwidth": 2,
            "linecolor": "white",
            "showbackground": true,
            "ticks": "",
            "zerolinecolor": "white"
           },
           "zaxis": {
            "backgroundcolor": "#E5ECF6",
            "gridcolor": "white",
            "gridwidth": 2,
            "linecolor": "white",
            "showbackground": true,
            "ticks": "",
            "zerolinecolor": "white"
           }
          },
          "shapedefaults": {
           "line": {
            "color": "#2a3f5f"
           }
          },
          "ternary": {
           "aaxis": {
            "gridcolor": "white",
            "linecolor": "white",
            "ticks": ""
           },
           "baxis": {
            "gridcolor": "white",
            "linecolor": "white",
            "ticks": ""
           },
           "bgcolor": "#E5ECF6",
           "caxis": {
            "gridcolor": "white",
            "linecolor": "white",
            "ticks": ""
           }
          },
          "title": {
           "x": 0.05
          },
          "xaxis": {
           "automargin": true,
           "gridcolor": "white",
           "linecolor": "white",
           "ticks": "",
           "title": {
            "standoff": 15
           },
           "zerolinecolor": "white",
           "zerolinewidth": 2
          },
          "yaxis": {
           "automargin": true,
           "gridcolor": "white",
           "linecolor": "white",
           "ticks": "",
           "title": {
            "standoff": 15
           },
           "zerolinecolor": "white",
           "zerolinewidth": 2
          }
         }
        },
        "title": {
         "text": "Cross validation curve"
        },
        "xaxis": {
         "anchor": "y",
         "domain": [
          0,
          1
         ],
         "title": {
          "text": "Gamma"
         },
         "type": "log"
        },
        "yaxis": {
         "anchor": "x",
         "domain": [
          0,
          1
         ],
         "title": {
          "text": "Micro Precision  "
         }
        }
       }
      },
      "text/html": [
       "<div>\n",
       "        \n",
       "        \n",
       "            <div id=\"2f8cf86d-333b-4e9d-bb3a-2522cee94d42\" class=\"plotly-graph-div\" style=\"height:525px; width:100%;\"></div>\n",
       "            <script type=\"text/javascript\">\n",
       "                require([\"plotly\"], function(Plotly) {\n",
       "                    window.PLOTLYENV=window.PLOTLYENV || {};\n",
       "                    \n",
       "                if (document.getElementById(\"2f8cf86d-333b-4e9d-bb3a-2522cee94d42\")) {\n",
       "                    Plotly.newPlot(\n",
       "                        '2f8cf86d-333b-4e9d-bb3a-2522cee94d42',\n",
       "                        [{\"hovertemplate\": \"variable=wide_variable_0<br>x=%{x}<br>value=%{y}<extra></extra>\", \"legendgroup\": \"wide_variable_0\", \"line\": {\"color\": \"#636efa\", \"dash\": \"solid\"}, \"mode\": \"lines\", \"name\": \"wide_variable_0\", \"orientation\": \"v\", \"showlegend\": true, \"type\": \"scatter\", \"x\": [0.001, 0.0021544346900318843, 0.004641588833612777, 0.01, 0.021544346900318832, 0.046415888336127774, 0.1, 0.21544346900318823, 0.46415888336127775, 1.0], \"xaxis\": \"x\", \"y\": [0.8956666666666667, 0.9166666666666666, 0.9476666666666667, 0.9713333333333333, 0.9896666666666667, 0.9976666666666667, 1.0, 1.0, 1.0, 1.0], \"yaxis\": \"y\"}, {\"hovertemplate\": \"variable=wide_variable_1<br>x=%{x}<br>value=%{y}<extra></extra>\", \"legendgroup\": \"wide_variable_1\", \"line\": {\"color\": \"#EF553B\", \"dash\": \"solid\"}, \"mode\": \"lines\", \"name\": \"wide_variable_1\", \"orientation\": \"v\", \"showlegend\": true, \"type\": \"scatter\", \"x\": [0.001, 0.0021544346900318843, 0.004641588833612777, 0.01, 0.021544346900318832, 0.046415888336127774, 0.1, 0.21544346900318823, 0.46415888336127775, 1.0], \"xaxis\": \"x\", \"y\": [0.8946666666666667, 0.9133333333333333, 0.9346666666666668, 0.9546666666666667, 0.9640000000000001, 0.9586666666666668, 0.9626666666666667, 0.9546666666666667, 0.9253333333333333, 0.9106666666666667], \"yaxis\": \"y\"}],\n",
       "                        {\"legend\": {\"title\": {\"text\": \"variable\"}, \"tracegroupgap\": 0}, \"showlegend\": false, \"template\": {\"data\": {\"bar\": [{\"error_x\": {\"color\": \"#2a3f5f\"}, \"error_y\": {\"color\": \"#2a3f5f\"}, \"marker\": {\"line\": {\"color\": \"#E5ECF6\", \"width\": 0.5}}, \"type\": \"bar\"}], \"barpolar\": [{\"marker\": {\"line\": {\"color\": \"#E5ECF6\", \"width\": 0.5}}, \"type\": \"barpolar\"}], \"carpet\": [{\"aaxis\": {\"endlinecolor\": \"#2a3f5f\", \"gridcolor\": \"white\", \"linecolor\": \"white\", \"minorgridcolor\": \"white\", \"startlinecolor\": \"#2a3f5f\"}, \"baxis\": {\"endlinecolor\": \"#2a3f5f\", \"gridcolor\": \"white\", \"linecolor\": \"white\", \"minorgridcolor\": \"white\", \"startlinecolor\": \"#2a3f5f\"}, \"type\": \"carpet\"}], \"choropleth\": [{\"colorbar\": {\"outlinewidth\": 0, \"ticks\": \"\"}, \"type\": \"choropleth\"}], \"contour\": [{\"colorbar\": {\"outlinewidth\": 0, \"ticks\": \"\"}, \"colorscale\": [[0.0, \"#0d0887\"], [0.1111111111111111, \"#46039f\"], [0.2222222222222222, \"#7201a8\"], [0.3333333333333333, \"#9c179e\"], [0.4444444444444444, \"#bd3786\"], [0.5555555555555556, \"#d8576b\"], [0.6666666666666666, \"#ed7953\"], [0.7777777777777778, \"#fb9f3a\"], [0.8888888888888888, \"#fdca26\"], [1.0, \"#f0f921\"]], \"type\": \"contour\"}], \"contourcarpet\": [{\"colorbar\": {\"outlinewidth\": 0, \"ticks\": \"\"}, \"type\": \"contourcarpet\"}], \"heatmap\": [{\"colorbar\": {\"outlinewidth\": 0, \"ticks\": \"\"}, \"colorscale\": [[0.0, \"#0d0887\"], [0.1111111111111111, \"#46039f\"], [0.2222222222222222, \"#7201a8\"], [0.3333333333333333, \"#9c179e\"], [0.4444444444444444, \"#bd3786\"], [0.5555555555555556, \"#d8576b\"], [0.6666666666666666, \"#ed7953\"], [0.7777777777777778, \"#fb9f3a\"], [0.8888888888888888, \"#fdca26\"], [1.0, \"#f0f921\"]], \"type\": \"heatmap\"}], \"heatmapgl\": [{\"colorbar\": {\"outlinewidth\": 0, \"ticks\": \"\"}, \"colorscale\": [[0.0, \"#0d0887\"], [0.1111111111111111, \"#46039f\"], [0.2222222222222222, \"#7201a8\"], [0.3333333333333333, \"#9c179e\"], [0.4444444444444444, \"#bd3786\"], [0.5555555555555556, \"#d8576b\"], [0.6666666666666666, \"#ed7953\"], [0.7777777777777778, \"#fb9f3a\"], [0.8888888888888888, \"#fdca26\"], [1.0, \"#f0f921\"]], \"type\": \"heatmapgl\"}], \"histogram\": [{\"marker\": {\"colorbar\": {\"outlinewidth\": 0, \"ticks\": \"\"}}, \"type\": \"histogram\"}], \"histogram2d\": [{\"colorbar\": {\"outlinewidth\": 0, \"ticks\": \"\"}, \"colorscale\": [[0.0, \"#0d0887\"], [0.1111111111111111, \"#46039f\"], [0.2222222222222222, \"#7201a8\"], [0.3333333333333333, \"#9c179e\"], [0.4444444444444444, \"#bd3786\"], [0.5555555555555556, \"#d8576b\"], [0.6666666666666666, \"#ed7953\"], [0.7777777777777778, \"#fb9f3a\"], [0.8888888888888888, \"#fdca26\"], [1.0, \"#f0f921\"]], \"type\": \"histogram2d\"}], \"histogram2dcontour\": [{\"colorbar\": {\"outlinewidth\": 0, \"ticks\": \"\"}, \"colorscale\": [[0.0, \"#0d0887\"], [0.1111111111111111, \"#46039f\"], [0.2222222222222222, \"#7201a8\"], [0.3333333333333333, \"#9c179e\"], [0.4444444444444444, \"#bd3786\"], [0.5555555555555556, \"#d8576b\"], [0.6666666666666666, \"#ed7953\"], [0.7777777777777778, \"#fb9f3a\"], [0.8888888888888888, \"#fdca26\"], [1.0, \"#f0f921\"]], \"type\": \"histogram2dcontour\"}], \"mesh3d\": [{\"colorbar\": {\"outlinewidth\": 0, \"ticks\": \"\"}, \"type\": \"mesh3d\"}], \"parcoords\": [{\"line\": {\"colorbar\": {\"outlinewidth\": 0, \"ticks\": \"\"}}, \"type\": \"parcoords\"}], \"pie\": [{\"automargin\": true, \"type\": \"pie\"}], \"scatter\": [{\"marker\": {\"colorbar\": {\"outlinewidth\": 0, \"ticks\": \"\"}}, \"type\": \"scatter\"}], \"scatter3d\": [{\"line\": {\"colorbar\": {\"outlinewidth\": 0, \"ticks\": \"\"}}, \"marker\": {\"colorbar\": {\"outlinewidth\": 0, \"ticks\": \"\"}}, \"type\": \"scatter3d\"}], \"scattercarpet\": [{\"marker\": {\"colorbar\": {\"outlinewidth\": 0, \"ticks\": \"\"}}, \"type\": \"scattercarpet\"}], \"scattergeo\": [{\"marker\": {\"colorbar\": {\"outlinewidth\": 0, \"ticks\": \"\"}}, \"type\": \"scattergeo\"}], \"scattergl\": [{\"marker\": {\"colorbar\": {\"outlinewidth\": 0, \"ticks\": \"\"}}, \"type\": \"scattergl\"}], \"scattermapbox\": [{\"marker\": {\"colorbar\": {\"outlinewidth\": 0, \"ticks\": \"\"}}, \"type\": \"scattermapbox\"}], \"scatterpolar\": [{\"marker\": {\"colorbar\": {\"outlinewidth\": 0, \"ticks\": \"\"}}, \"type\": \"scatterpolar\"}], \"scatterpolargl\": [{\"marker\": {\"colorbar\": {\"outlinewidth\": 0, \"ticks\": \"\"}}, \"type\": \"scatterpolargl\"}], \"scatterternary\": [{\"marker\": {\"colorbar\": {\"outlinewidth\": 0, \"ticks\": \"\"}}, \"type\": \"scatterternary\"}], \"surface\": [{\"colorbar\": {\"outlinewidth\": 0, \"ticks\": \"\"}, \"colorscale\": [[0.0, \"#0d0887\"], [0.1111111111111111, \"#46039f\"], [0.2222222222222222, \"#7201a8\"], [0.3333333333333333, \"#9c179e\"], [0.4444444444444444, \"#bd3786\"], [0.5555555555555556, \"#d8576b\"], [0.6666666666666666, \"#ed7953\"], [0.7777777777777778, \"#fb9f3a\"], [0.8888888888888888, \"#fdca26\"], [1.0, \"#f0f921\"]], \"type\": \"surface\"}], \"table\": [{\"cells\": {\"fill\": {\"color\": \"#EBF0F8\"}, \"line\": {\"color\": \"white\"}}, \"header\": {\"fill\": {\"color\": \"#C8D4E3\"}, \"line\": {\"color\": \"white\"}}, \"type\": \"table\"}]}, \"layout\": {\"annotationdefaults\": {\"arrowcolor\": \"#2a3f5f\", \"arrowhead\": 0, \"arrowwidth\": 1}, \"coloraxis\": {\"colorbar\": {\"outlinewidth\": 0, \"ticks\": \"\"}}, \"colorscale\": {\"diverging\": [[0, \"#8e0152\"], [0.1, \"#c51b7d\"], [0.2, \"#de77ae\"], [0.3, \"#f1b6da\"], [0.4, \"#fde0ef\"], [0.5, \"#f7f7f7\"], [0.6, \"#e6f5d0\"], [0.7, \"#b8e186\"], [0.8, \"#7fbc41\"], [0.9, \"#4d9221\"], [1, \"#276419\"]], \"sequential\": [[0.0, \"#0d0887\"], [0.1111111111111111, \"#46039f\"], [0.2222222222222222, \"#7201a8\"], [0.3333333333333333, \"#9c179e\"], [0.4444444444444444, \"#bd3786\"], [0.5555555555555556, \"#d8576b\"], [0.6666666666666666, \"#ed7953\"], [0.7777777777777778, \"#fb9f3a\"], [0.8888888888888888, \"#fdca26\"], [1.0, \"#f0f921\"]], \"sequentialminus\": [[0.0, \"#0d0887\"], [0.1111111111111111, \"#46039f\"], [0.2222222222222222, \"#7201a8\"], [0.3333333333333333, \"#9c179e\"], [0.4444444444444444, \"#bd3786\"], [0.5555555555555556, \"#d8576b\"], [0.6666666666666666, \"#ed7953\"], [0.7777777777777778, \"#fb9f3a\"], [0.8888888888888888, \"#fdca26\"], [1.0, \"#f0f921\"]]}, \"colorway\": [\"#636efa\", \"#EF553B\", \"#00cc96\", \"#ab63fa\", \"#FFA15A\", \"#19d3f3\", \"#FF6692\", \"#B6E880\", \"#FF97FF\", \"#FECB52\"], \"font\": {\"color\": \"#2a3f5f\"}, \"geo\": {\"bgcolor\": \"white\", \"lakecolor\": \"white\", \"landcolor\": \"#E5ECF6\", \"showlakes\": true, \"showland\": true, \"subunitcolor\": \"white\"}, \"hoverlabel\": {\"align\": \"left\"}, \"hovermode\": \"closest\", \"mapbox\": {\"style\": \"light\"}, \"paper_bgcolor\": \"white\", \"plot_bgcolor\": \"#E5ECF6\", \"polar\": {\"angularaxis\": {\"gridcolor\": \"white\", \"linecolor\": \"white\", \"ticks\": \"\"}, \"bgcolor\": \"#E5ECF6\", \"radialaxis\": {\"gridcolor\": \"white\", \"linecolor\": \"white\", \"ticks\": \"\"}}, \"scene\": {\"xaxis\": {\"backgroundcolor\": \"#E5ECF6\", \"gridcolor\": \"white\", \"gridwidth\": 2, \"linecolor\": \"white\", \"showbackground\": true, \"ticks\": \"\", \"zerolinecolor\": \"white\"}, \"yaxis\": {\"backgroundcolor\": \"#E5ECF6\", \"gridcolor\": \"white\", \"gridwidth\": 2, \"linecolor\": \"white\", \"showbackground\": true, \"ticks\": \"\", \"zerolinecolor\": \"white\"}, \"zaxis\": {\"backgroundcolor\": \"#E5ECF6\", \"gridcolor\": \"white\", \"gridwidth\": 2, \"linecolor\": \"white\", \"showbackground\": true, \"ticks\": \"\", \"zerolinecolor\": \"white\"}}, \"shapedefaults\": {\"line\": {\"color\": \"#2a3f5f\"}}, \"ternary\": {\"aaxis\": {\"gridcolor\": \"white\", \"linecolor\": \"white\", \"ticks\": \"\"}, \"baxis\": {\"gridcolor\": \"white\", \"linecolor\": \"white\", \"ticks\": \"\"}, \"bgcolor\": \"#E5ECF6\", \"caxis\": {\"gridcolor\": \"white\", \"linecolor\": \"white\", \"ticks\": \"\"}}, \"title\": {\"x\": 0.05}, \"xaxis\": {\"automargin\": true, \"gridcolor\": \"white\", \"linecolor\": \"white\", \"ticks\": \"\", \"title\": {\"standoff\": 15}, \"zerolinecolor\": \"white\", \"zerolinewidth\": 2}, \"yaxis\": {\"automargin\": true, \"gridcolor\": \"white\", \"linecolor\": \"white\", \"ticks\": \"\", \"title\": {\"standoff\": 15}, \"zerolinecolor\": \"white\", \"zerolinewidth\": 2}}}, \"title\": {\"text\": \"Cross validation curve\"}, \"xaxis\": {\"anchor\": \"y\", \"domain\": [0.0, 1.0], \"title\": {\"text\": \"Gamma\"}, \"type\": \"log\"}, \"yaxis\": {\"anchor\": \"x\", \"domain\": [0.0, 1.0], \"title\": {\"text\": \"Micro Precision  \"}}},\n",
       "                        {\"responsive\": true}\n",
       "                    ).then(function(){\n",
       "                            \n",
       "var gd = document.getElementById('2f8cf86d-333b-4e9d-bb3a-2522cee94d42');\n",
       "var x = new MutationObserver(function (mutations, observer) {{\n",
       "        var display = window.getComputedStyle(gd).display;\n",
       "        if (!display || display === 'none') {{\n",
       "            console.log([gd, 'removed!']);\n",
       "            Plotly.purge(gd);\n",
       "            observer.disconnect();\n",
       "        }}\n",
       "}});\n",
       "\n",
       "// Listen for the removal of the full notebook cells\n",
       "var notebookContainer = gd.closest('#notebook-container');\n",
       "if (notebookContainer) {{\n",
       "    x.observe(notebookContainer, {childList: true});\n",
       "}}\n",
       "\n",
       "// Listen for the clearing of the current output cell\n",
       "var outputEl = gd.closest('.output');\n",
       "if (outputEl) {{\n",
       "    x.observe(outputEl, {childList: true});\n",
       "}}\n",
       "\n",
       "                        })\n",
       "                };\n",
       "                });\n",
       "            </script>\n",
       "        </div>"
      ]
     },
     "metadata": {},
     "output_type": "display_data"
    }
   ],
   "source": [
    "df=df.replace({'Male':1,'Female':0}) #turn Gender str  values to numeric\n",
    "X=df.drop(['Exit'],axis=1) #Assign feature space to X\n",
    "Y=df['Exit']               #Assign target values to Y\n",
    "\n",
    "#Train_test split, perform feature scaling using standardization\n",
    "x_train,x_test,y_train,y_test=train_test_split(X,Y,test_size=0.25,random_state=17,shuffle=True)\n",
    "scaler=StandardScaler().fit(x_train)\n",
    "x_train_normalized=scaler.transform(x_train)\n",
    "x_test_normalized=scaler.transform(x_test)\n",
    "\n",
    "#Create an svc object, assign basic parameters\n",
    "scv=StratifiedKFold(n_splits=5)\n",
    "svc=svm.SVC(kernel='rbf',random_state=17).fit(x_train_normalized,y_train)\n",
    "\n",
    "#Using a GridsearchCV, search SVC parameters for the best \"f1\" score,\n",
    "params={'C':[17,15,16,10,20,25,23],'gamma':[0.02,0.03,0.1,0.2]} \n",
    "search=GridSearchCV(svc,param_grid= params,cv=scv,scoring='f1')\n",
    "search.fit(x_train_normalized,y_train)\n",
    "\n",
    "#Get the estimator from gridsearchCV                                                                                               ghest precision_micro scoring  \n",
    "print(search.best_params_)\n",
    "svc=search.best_estimator_\n",
    "\n",
    "#plot the cross validation curve \n",
    "p_range=np.logspace(-3,0,10)\n",
    "train_curve,cross_val_curv=validation_curve(svc,x_train_normalized,\n",
    "                                            svc.predict(x_train_normalized),\n",
    "                                            param_name='gamma',\n",
    "                                            param_range=p_range,\n",
    "                                            cv=scv,scoring='precision_micro')\n",
    "train_curve=[x.mean() for x in train_curve]\n",
    "cross_val_curv=[x.mean() for x in cross_val_curv]\n",
    "\n",
    "fig = px.line(x=p_range, y=[train_curve,cross_val_curv],log_x=True,title='Cross validation curve')\n",
    "fig.update_xaxes(title_text='Gamma')\n",
    "fig.update_yaxes(title_text='Micro Precision  ')\n",
    "\n",
    "fig.update_layout(showlegend=False)\n",
    "\n",
    "\n",
    "\n"
   ]
  },
  {
   "cell_type": "code",
   "execution_count": 56,
   "metadata": {},
   "outputs": [
    {
     "data": {
      "application/vnd.plotly.v1+json": {
       "config": {
        "plotlyServerURL": "https://plotly.com"
       },
       "data": [
        {
         "hovertemplate": "x=%{x}<br>y=%{y}<extra></extra>",
         "legendgroup": "",
         "line": {
          "color": "#636efa",
          "dash": "solid"
         },
         "mode": "lines",
         "name": "",
         "orientation": "v",
         "showlegend": false,
         "type": "scatter",
         "x": [
          0,
          0,
          0,
          0.01,
          0.01,
          0.015,
          0.015,
          0.025,
          0.025,
          0.035,
          0.035,
          0.04,
          0.04,
          0.05,
          0.05,
          0.06,
          0.06,
          0.085,
          0.085,
          0.115,
          0.115,
          0.15,
          0.15,
          0.215,
          0.215,
          0.22,
          0.22,
          0.255,
          0.255,
          0.265,
          0.265,
          0.425,
          0.425,
          0.435,
          0.435,
          0.535,
          0.535,
          0.565,
          0.565,
          0.59,
          0.59,
          0.635,
          0.635,
          0.905,
          0.905,
          0.935,
          0.935,
          1
         ],
         "xaxis": "x",
         "y": [
          0,
          0.02,
          0.42,
          0.42,
          0.44,
          0.44,
          0.46,
          0.46,
          0.48,
          0.48,
          0.5,
          0.5,
          0.54,
          0.54,
          0.58,
          0.58,
          0.64,
          0.64,
          0.68,
          0.68,
          0.7,
          0.7,
          0.74,
          0.74,
          0.76,
          0.76,
          0.78,
          0.78,
          0.82,
          0.82,
          0.84,
          0.84,
          0.86,
          0.86,
          0.88,
          0.88,
          0.9,
          0.9,
          0.92,
          0.92,
          0.94,
          0.94,
          0.96,
          0.96,
          0.98,
          0.98,
          1,
          1
         ],
         "yaxis": "y"
        }
       ],
       "layout": {
        "legend": {
         "tracegroupgap": 0
        },
        "margin": {
         "t": 60
        },
        "template": {
         "data": {
          "bar": [
           {
            "error_x": {
             "color": "#2a3f5f"
            },
            "error_y": {
             "color": "#2a3f5f"
            },
            "marker": {
             "line": {
              "color": "#E5ECF6",
              "width": 0.5
             }
            },
            "type": "bar"
           }
          ],
          "barpolar": [
           {
            "marker": {
             "line": {
              "color": "#E5ECF6",
              "width": 0.5
             }
            },
            "type": "barpolar"
           }
          ],
          "carpet": [
           {
            "aaxis": {
             "endlinecolor": "#2a3f5f",
             "gridcolor": "white",
             "linecolor": "white",
             "minorgridcolor": "white",
             "startlinecolor": "#2a3f5f"
            },
            "baxis": {
             "endlinecolor": "#2a3f5f",
             "gridcolor": "white",
             "linecolor": "white",
             "minorgridcolor": "white",
             "startlinecolor": "#2a3f5f"
            },
            "type": "carpet"
           }
          ],
          "choropleth": [
           {
            "colorbar": {
             "outlinewidth": 0,
             "ticks": ""
            },
            "type": "choropleth"
           }
          ],
          "contour": [
           {
            "colorbar": {
             "outlinewidth": 0,
             "ticks": ""
            },
            "colorscale": [
             [
              0,
              "#0d0887"
             ],
             [
              0.1111111111111111,
              "#46039f"
             ],
             [
              0.2222222222222222,
              "#7201a8"
             ],
             [
              0.3333333333333333,
              "#9c179e"
             ],
             [
              0.4444444444444444,
              "#bd3786"
             ],
             [
              0.5555555555555556,
              "#d8576b"
             ],
             [
              0.6666666666666666,
              "#ed7953"
             ],
             [
              0.7777777777777778,
              "#fb9f3a"
             ],
             [
              0.8888888888888888,
              "#fdca26"
             ],
             [
              1,
              "#f0f921"
             ]
            ],
            "type": "contour"
           }
          ],
          "contourcarpet": [
           {
            "colorbar": {
             "outlinewidth": 0,
             "ticks": ""
            },
            "type": "contourcarpet"
           }
          ],
          "heatmap": [
           {
            "colorbar": {
             "outlinewidth": 0,
             "ticks": ""
            },
            "colorscale": [
             [
              0,
              "#0d0887"
             ],
             [
              0.1111111111111111,
              "#46039f"
             ],
             [
              0.2222222222222222,
              "#7201a8"
             ],
             [
              0.3333333333333333,
              "#9c179e"
             ],
             [
              0.4444444444444444,
              "#bd3786"
             ],
             [
              0.5555555555555556,
              "#d8576b"
             ],
             [
              0.6666666666666666,
              "#ed7953"
             ],
             [
              0.7777777777777778,
              "#fb9f3a"
             ],
             [
              0.8888888888888888,
              "#fdca26"
             ],
             [
              1,
              "#f0f921"
             ]
            ],
            "type": "heatmap"
           }
          ],
          "heatmapgl": [
           {
            "colorbar": {
             "outlinewidth": 0,
             "ticks": ""
            },
            "colorscale": [
             [
              0,
              "#0d0887"
             ],
             [
              0.1111111111111111,
              "#46039f"
             ],
             [
              0.2222222222222222,
              "#7201a8"
             ],
             [
              0.3333333333333333,
              "#9c179e"
             ],
             [
              0.4444444444444444,
              "#bd3786"
             ],
             [
              0.5555555555555556,
              "#d8576b"
             ],
             [
              0.6666666666666666,
              "#ed7953"
             ],
             [
              0.7777777777777778,
              "#fb9f3a"
             ],
             [
              0.8888888888888888,
              "#fdca26"
             ],
             [
              1,
              "#f0f921"
             ]
            ],
            "type": "heatmapgl"
           }
          ],
          "histogram": [
           {
            "marker": {
             "colorbar": {
              "outlinewidth": 0,
              "ticks": ""
             }
            },
            "type": "histogram"
           }
          ],
          "histogram2d": [
           {
            "colorbar": {
             "outlinewidth": 0,
             "ticks": ""
            },
            "colorscale": [
             [
              0,
              "#0d0887"
             ],
             [
              0.1111111111111111,
              "#46039f"
             ],
             [
              0.2222222222222222,
              "#7201a8"
             ],
             [
              0.3333333333333333,
              "#9c179e"
             ],
             [
              0.4444444444444444,
              "#bd3786"
             ],
             [
              0.5555555555555556,
              "#d8576b"
             ],
             [
              0.6666666666666666,
              "#ed7953"
             ],
             [
              0.7777777777777778,
              "#fb9f3a"
             ],
             [
              0.8888888888888888,
              "#fdca26"
             ],
             [
              1,
              "#f0f921"
             ]
            ],
            "type": "histogram2d"
           }
          ],
          "histogram2dcontour": [
           {
            "colorbar": {
             "outlinewidth": 0,
             "ticks": ""
            },
            "colorscale": [
             [
              0,
              "#0d0887"
             ],
             [
              0.1111111111111111,
              "#46039f"
             ],
             [
              0.2222222222222222,
              "#7201a8"
             ],
             [
              0.3333333333333333,
              "#9c179e"
             ],
             [
              0.4444444444444444,
              "#bd3786"
             ],
             [
              0.5555555555555556,
              "#d8576b"
             ],
             [
              0.6666666666666666,
              "#ed7953"
             ],
             [
              0.7777777777777778,
              "#fb9f3a"
             ],
             [
              0.8888888888888888,
              "#fdca26"
             ],
             [
              1,
              "#f0f921"
             ]
            ],
            "type": "histogram2dcontour"
           }
          ],
          "mesh3d": [
           {
            "colorbar": {
             "outlinewidth": 0,
             "ticks": ""
            },
            "type": "mesh3d"
           }
          ],
          "parcoords": [
           {
            "line": {
             "colorbar": {
              "outlinewidth": 0,
              "ticks": ""
             }
            },
            "type": "parcoords"
           }
          ],
          "pie": [
           {
            "automargin": true,
            "type": "pie"
           }
          ],
          "scatter": [
           {
            "marker": {
             "colorbar": {
              "outlinewidth": 0,
              "ticks": ""
             }
            },
            "type": "scatter"
           }
          ],
          "scatter3d": [
           {
            "line": {
             "colorbar": {
              "outlinewidth": 0,
              "ticks": ""
             }
            },
            "marker": {
             "colorbar": {
              "outlinewidth": 0,
              "ticks": ""
             }
            },
            "type": "scatter3d"
           }
          ],
          "scattercarpet": [
           {
            "marker": {
             "colorbar": {
              "outlinewidth": 0,
              "ticks": ""
             }
            },
            "type": "scattercarpet"
           }
          ],
          "scattergeo": [
           {
            "marker": {
             "colorbar": {
              "outlinewidth": 0,
              "ticks": ""
             }
            },
            "type": "scattergeo"
           }
          ],
          "scattergl": [
           {
            "marker": {
             "colorbar": {
              "outlinewidth": 0,
              "ticks": ""
             }
            },
            "type": "scattergl"
           }
          ],
          "scattermapbox": [
           {
            "marker": {
             "colorbar": {
              "outlinewidth": 0,
              "ticks": ""
             }
            },
            "type": "scattermapbox"
           }
          ],
          "scatterpolar": [
           {
            "marker": {
             "colorbar": {
              "outlinewidth": 0,
              "ticks": ""
             }
            },
            "type": "scatterpolar"
           }
          ],
          "scatterpolargl": [
           {
            "marker": {
             "colorbar": {
              "outlinewidth": 0,
              "ticks": ""
             }
            },
            "type": "scatterpolargl"
           }
          ],
          "scatterternary": [
           {
            "marker": {
             "colorbar": {
              "outlinewidth": 0,
              "ticks": ""
             }
            },
            "type": "scatterternary"
           }
          ],
          "surface": [
           {
            "colorbar": {
             "outlinewidth": 0,
             "ticks": ""
            },
            "colorscale": [
             [
              0,
              "#0d0887"
             ],
             [
              0.1111111111111111,
              "#46039f"
             ],
             [
              0.2222222222222222,
              "#7201a8"
             ],
             [
              0.3333333333333333,
              "#9c179e"
             ],
             [
              0.4444444444444444,
              "#bd3786"
             ],
             [
              0.5555555555555556,
              "#d8576b"
             ],
             [
              0.6666666666666666,
              "#ed7953"
             ],
             [
              0.7777777777777778,
              "#fb9f3a"
             ],
             [
              0.8888888888888888,
              "#fdca26"
             ],
             [
              1,
              "#f0f921"
             ]
            ],
            "type": "surface"
           }
          ],
          "table": [
           {
            "cells": {
             "fill": {
              "color": "#EBF0F8"
             },
             "line": {
              "color": "white"
             }
            },
            "header": {
             "fill": {
              "color": "#C8D4E3"
             },
             "line": {
              "color": "white"
             }
            },
            "type": "table"
           }
          ]
         },
         "layout": {
          "annotationdefaults": {
           "arrowcolor": "#2a3f5f",
           "arrowhead": 0,
           "arrowwidth": 1
          },
          "coloraxis": {
           "colorbar": {
            "outlinewidth": 0,
            "ticks": ""
           }
          },
          "colorscale": {
           "diverging": [
            [
             0,
             "#8e0152"
            ],
            [
             0.1,
             "#c51b7d"
            ],
            [
             0.2,
             "#de77ae"
            ],
            [
             0.3,
             "#f1b6da"
            ],
            [
             0.4,
             "#fde0ef"
            ],
            [
             0.5,
             "#f7f7f7"
            ],
            [
             0.6,
             "#e6f5d0"
            ],
            [
             0.7,
             "#b8e186"
            ],
            [
             0.8,
             "#7fbc41"
            ],
            [
             0.9,
             "#4d9221"
            ],
            [
             1,
             "#276419"
            ]
           ],
           "sequential": [
            [
             0,
             "#0d0887"
            ],
            [
             0.1111111111111111,
             "#46039f"
            ],
            [
             0.2222222222222222,
             "#7201a8"
            ],
            [
             0.3333333333333333,
             "#9c179e"
            ],
            [
             0.4444444444444444,
             "#bd3786"
            ],
            [
             0.5555555555555556,
             "#d8576b"
            ],
            [
             0.6666666666666666,
             "#ed7953"
            ],
            [
             0.7777777777777778,
             "#fb9f3a"
            ],
            [
             0.8888888888888888,
             "#fdca26"
            ],
            [
             1,
             "#f0f921"
            ]
           ],
           "sequentialminus": [
            [
             0,
             "#0d0887"
            ],
            [
             0.1111111111111111,
             "#46039f"
            ],
            [
             0.2222222222222222,
             "#7201a8"
            ],
            [
             0.3333333333333333,
             "#9c179e"
            ],
            [
             0.4444444444444444,
             "#bd3786"
            ],
            [
             0.5555555555555556,
             "#d8576b"
            ],
            [
             0.6666666666666666,
             "#ed7953"
            ],
            [
             0.7777777777777778,
             "#fb9f3a"
            ],
            [
             0.8888888888888888,
             "#fdca26"
            ],
            [
             1,
             "#f0f921"
            ]
           ]
          },
          "colorway": [
           "#636efa",
           "#EF553B",
           "#00cc96",
           "#ab63fa",
           "#FFA15A",
           "#19d3f3",
           "#FF6692",
           "#B6E880",
           "#FF97FF",
           "#FECB52"
          ],
          "font": {
           "color": "#2a3f5f"
          },
          "geo": {
           "bgcolor": "white",
           "lakecolor": "white",
           "landcolor": "#E5ECF6",
           "showlakes": true,
           "showland": true,
           "subunitcolor": "white"
          },
          "hoverlabel": {
           "align": "left"
          },
          "hovermode": "closest",
          "mapbox": {
           "style": "light"
          },
          "paper_bgcolor": "white",
          "plot_bgcolor": "#E5ECF6",
          "polar": {
           "angularaxis": {
            "gridcolor": "white",
            "linecolor": "white",
            "ticks": ""
           },
           "bgcolor": "#E5ECF6",
           "radialaxis": {
            "gridcolor": "white",
            "linecolor": "white",
            "ticks": ""
           }
          },
          "scene": {
           "xaxis": {
            "backgroundcolor": "#E5ECF6",
            "gridcolor": "white",
            "gridwidth": 2,
            "linecolor": "white",
            "showbackground": true,
            "ticks": "",
            "zerolinecolor": "white"
           },
           "yaxis": {
            "backgroundcolor": "#E5ECF6",
            "gridcolor": "white",
            "gridwidth": 2,
            "linecolor": "white",
            "showbackground": true,
            "ticks": "",
            "zerolinecolor": "white"
           },
           "zaxis": {
            "backgroundcolor": "#E5ECF6",
            "gridcolor": "white",
            "gridwidth": 2,
            "linecolor": "white",
            "showbackground": true,
            "ticks": "",
            "zerolinecolor": "white"
           }
          },
          "shapedefaults": {
           "line": {
            "color": "#2a3f5f"
           }
          },
          "ternary": {
           "aaxis": {
            "gridcolor": "white",
            "linecolor": "white",
            "ticks": ""
           },
           "baxis": {
            "gridcolor": "white",
            "linecolor": "white",
            "ticks": ""
           },
           "bgcolor": "#E5ECF6",
           "caxis": {
            "gridcolor": "white",
            "linecolor": "white",
            "ticks": ""
           }
          },
          "title": {
           "x": 0.05
          },
          "xaxis": {
           "automargin": true,
           "gridcolor": "white",
           "linecolor": "white",
           "ticks": "",
           "title": {
            "standoff": 15
           },
           "zerolinecolor": "white",
           "zerolinewidth": 2
          },
          "yaxis": {
           "automargin": true,
           "gridcolor": "white",
           "linecolor": "white",
           "ticks": "",
           "title": {
            "standoff": 15
           },
           "zerolinecolor": "white",
           "zerolinewidth": 2
          }
         }
        },
        "xaxis": {
         "anchor": "y",
         "domain": [
          0,
          1
         ],
         "title": {
          "text": "False positives"
         }
        },
        "yaxis": {
         "anchor": "x",
         "domain": [
          0,
          1
         ],
         "title": {
          "text": "True positives"
         }
        }
       }
      },
      "text/html": [
       "<div>\n",
       "        \n",
       "        \n",
       "            <div id=\"6ef157c0-cc66-4939-aa56-e141c8662375\" class=\"plotly-graph-div\" style=\"height:525px; width:100%;\"></div>\n",
       "            <script type=\"text/javascript\">\n",
       "                require([\"plotly\"], function(Plotly) {\n",
       "                    window.PLOTLYENV=window.PLOTLYENV || {};\n",
       "                    \n",
       "                if (document.getElementById(\"6ef157c0-cc66-4939-aa56-e141c8662375\")) {\n",
       "                    Plotly.newPlot(\n",
       "                        '6ef157c0-cc66-4939-aa56-e141c8662375',\n",
       "                        [{\"hovertemplate\": \"x=%{x}<br>y=%{y}<extra></extra>\", \"legendgroup\": \"\", \"line\": {\"color\": \"#636efa\", \"dash\": \"solid\"}, \"mode\": \"lines\", \"name\": \"\", \"orientation\": \"v\", \"showlegend\": false, \"type\": \"scatter\", \"x\": [0.0, 0.0, 0.0, 0.01, 0.01, 0.015, 0.015, 0.025, 0.025, 0.035, 0.035, 0.04, 0.04, 0.05, 0.05, 0.06, 0.06, 0.085, 0.085, 0.115, 0.115, 0.15, 0.15, 0.215, 0.215, 0.22, 0.22, 0.255, 0.255, 0.265, 0.265, 0.425, 0.425, 0.435, 0.435, 0.535, 0.535, 0.565, 0.565, 0.59, 0.59, 0.635, 0.635, 0.905, 0.905, 0.935, 0.935, 1.0], \"xaxis\": \"x\", \"y\": [0.0, 0.02, 0.42, 0.42, 0.44, 0.44, 0.46, 0.46, 0.48, 0.48, 0.5, 0.5, 0.54, 0.54, 0.58, 0.58, 0.64, 0.64, 0.68, 0.68, 0.7, 0.7, 0.74, 0.74, 0.76, 0.76, 0.78, 0.78, 0.82, 0.82, 0.84, 0.84, 0.86, 0.86, 0.88, 0.88, 0.9, 0.9, 0.92, 0.92, 0.94, 0.94, 0.96, 0.96, 0.98, 0.98, 1.0, 1.0], \"yaxis\": \"y\"}],\n",
       "                        {\"legend\": {\"tracegroupgap\": 0}, \"margin\": {\"t\": 60}, \"template\": {\"data\": {\"bar\": [{\"error_x\": {\"color\": \"#2a3f5f\"}, \"error_y\": {\"color\": \"#2a3f5f\"}, \"marker\": {\"line\": {\"color\": \"#E5ECF6\", \"width\": 0.5}}, \"type\": \"bar\"}], \"barpolar\": [{\"marker\": {\"line\": {\"color\": \"#E5ECF6\", \"width\": 0.5}}, \"type\": \"barpolar\"}], \"carpet\": [{\"aaxis\": {\"endlinecolor\": \"#2a3f5f\", \"gridcolor\": \"white\", \"linecolor\": \"white\", \"minorgridcolor\": \"white\", \"startlinecolor\": \"#2a3f5f\"}, \"baxis\": {\"endlinecolor\": \"#2a3f5f\", \"gridcolor\": \"white\", \"linecolor\": \"white\", \"minorgridcolor\": \"white\", \"startlinecolor\": \"#2a3f5f\"}, \"type\": \"carpet\"}], \"choropleth\": [{\"colorbar\": {\"outlinewidth\": 0, \"ticks\": \"\"}, \"type\": \"choropleth\"}], \"contour\": [{\"colorbar\": {\"outlinewidth\": 0, \"ticks\": \"\"}, \"colorscale\": [[0.0, \"#0d0887\"], [0.1111111111111111, \"#46039f\"], [0.2222222222222222, \"#7201a8\"], [0.3333333333333333, \"#9c179e\"], [0.4444444444444444, \"#bd3786\"], [0.5555555555555556, \"#d8576b\"], [0.6666666666666666, \"#ed7953\"], [0.7777777777777778, \"#fb9f3a\"], [0.8888888888888888, \"#fdca26\"], [1.0, \"#f0f921\"]], \"type\": \"contour\"}], \"contourcarpet\": [{\"colorbar\": {\"outlinewidth\": 0, \"ticks\": \"\"}, \"type\": \"contourcarpet\"}], \"heatmap\": [{\"colorbar\": {\"outlinewidth\": 0, \"ticks\": \"\"}, \"colorscale\": [[0.0, \"#0d0887\"], [0.1111111111111111, \"#46039f\"], [0.2222222222222222, \"#7201a8\"], [0.3333333333333333, \"#9c179e\"], [0.4444444444444444, \"#bd3786\"], [0.5555555555555556, \"#d8576b\"], [0.6666666666666666, \"#ed7953\"], [0.7777777777777778, \"#fb9f3a\"], [0.8888888888888888, \"#fdca26\"], [1.0, \"#f0f921\"]], \"type\": \"heatmap\"}], \"heatmapgl\": [{\"colorbar\": {\"outlinewidth\": 0, \"ticks\": \"\"}, \"colorscale\": [[0.0, \"#0d0887\"], [0.1111111111111111, \"#46039f\"], [0.2222222222222222, \"#7201a8\"], [0.3333333333333333, \"#9c179e\"], [0.4444444444444444, \"#bd3786\"], [0.5555555555555556, \"#d8576b\"], [0.6666666666666666, \"#ed7953\"], [0.7777777777777778, \"#fb9f3a\"], [0.8888888888888888, \"#fdca26\"], [1.0, \"#f0f921\"]], \"type\": \"heatmapgl\"}], \"histogram\": [{\"marker\": {\"colorbar\": {\"outlinewidth\": 0, \"ticks\": \"\"}}, \"type\": \"histogram\"}], \"histogram2d\": [{\"colorbar\": {\"outlinewidth\": 0, \"ticks\": \"\"}, \"colorscale\": [[0.0, \"#0d0887\"], [0.1111111111111111, \"#46039f\"], [0.2222222222222222, \"#7201a8\"], [0.3333333333333333, \"#9c179e\"], [0.4444444444444444, \"#bd3786\"], [0.5555555555555556, \"#d8576b\"], [0.6666666666666666, \"#ed7953\"], [0.7777777777777778, \"#fb9f3a\"], [0.8888888888888888, \"#fdca26\"], [1.0, \"#f0f921\"]], \"type\": \"histogram2d\"}], \"histogram2dcontour\": [{\"colorbar\": {\"outlinewidth\": 0, \"ticks\": \"\"}, \"colorscale\": [[0.0, \"#0d0887\"], [0.1111111111111111, \"#46039f\"], [0.2222222222222222, \"#7201a8\"], [0.3333333333333333, \"#9c179e\"], [0.4444444444444444, \"#bd3786\"], [0.5555555555555556, \"#d8576b\"], [0.6666666666666666, \"#ed7953\"], [0.7777777777777778, \"#fb9f3a\"], [0.8888888888888888, \"#fdca26\"], [1.0, \"#f0f921\"]], \"type\": \"histogram2dcontour\"}], \"mesh3d\": [{\"colorbar\": {\"outlinewidth\": 0, \"ticks\": \"\"}, \"type\": \"mesh3d\"}], \"parcoords\": [{\"line\": {\"colorbar\": {\"outlinewidth\": 0, \"ticks\": \"\"}}, \"type\": \"parcoords\"}], \"pie\": [{\"automargin\": true, \"type\": \"pie\"}], \"scatter\": [{\"marker\": {\"colorbar\": {\"outlinewidth\": 0, \"ticks\": \"\"}}, \"type\": \"scatter\"}], \"scatter3d\": [{\"line\": {\"colorbar\": {\"outlinewidth\": 0, \"ticks\": \"\"}}, \"marker\": {\"colorbar\": {\"outlinewidth\": 0, \"ticks\": \"\"}}, \"type\": \"scatter3d\"}], \"scattercarpet\": [{\"marker\": {\"colorbar\": {\"outlinewidth\": 0, \"ticks\": \"\"}}, \"type\": \"scattercarpet\"}], \"scattergeo\": [{\"marker\": {\"colorbar\": {\"outlinewidth\": 0, \"ticks\": \"\"}}, \"type\": \"scattergeo\"}], \"scattergl\": [{\"marker\": {\"colorbar\": {\"outlinewidth\": 0, \"ticks\": \"\"}}, \"type\": \"scattergl\"}], \"scattermapbox\": [{\"marker\": {\"colorbar\": {\"outlinewidth\": 0, \"ticks\": \"\"}}, \"type\": \"scattermapbox\"}], \"scatterpolar\": [{\"marker\": {\"colorbar\": {\"outlinewidth\": 0, \"ticks\": \"\"}}, \"type\": \"scatterpolar\"}], \"scatterpolargl\": [{\"marker\": {\"colorbar\": {\"outlinewidth\": 0, \"ticks\": \"\"}}, \"type\": \"scatterpolargl\"}], \"scatterternary\": [{\"marker\": {\"colorbar\": {\"outlinewidth\": 0, \"ticks\": \"\"}}, \"type\": \"scatterternary\"}], \"surface\": [{\"colorbar\": {\"outlinewidth\": 0, \"ticks\": \"\"}, \"colorscale\": [[0.0, \"#0d0887\"], [0.1111111111111111, \"#46039f\"], [0.2222222222222222, \"#7201a8\"], [0.3333333333333333, \"#9c179e\"], [0.4444444444444444, \"#bd3786\"], [0.5555555555555556, \"#d8576b\"], [0.6666666666666666, \"#ed7953\"], [0.7777777777777778, \"#fb9f3a\"], [0.8888888888888888, \"#fdca26\"], [1.0, \"#f0f921\"]], \"type\": \"surface\"}], \"table\": [{\"cells\": {\"fill\": {\"color\": \"#EBF0F8\"}, \"line\": {\"color\": \"white\"}}, \"header\": {\"fill\": {\"color\": \"#C8D4E3\"}, \"line\": {\"color\": \"white\"}}, \"type\": \"table\"}]}, \"layout\": {\"annotationdefaults\": {\"arrowcolor\": \"#2a3f5f\", \"arrowhead\": 0, \"arrowwidth\": 1}, \"coloraxis\": {\"colorbar\": {\"outlinewidth\": 0, \"ticks\": \"\"}}, \"colorscale\": {\"diverging\": [[0, \"#8e0152\"], [0.1, \"#c51b7d\"], [0.2, \"#de77ae\"], [0.3, \"#f1b6da\"], [0.4, \"#fde0ef\"], [0.5, \"#f7f7f7\"], [0.6, \"#e6f5d0\"], [0.7, \"#b8e186\"], [0.8, \"#7fbc41\"], [0.9, \"#4d9221\"], [1, \"#276419\"]], \"sequential\": [[0.0, \"#0d0887\"], [0.1111111111111111, \"#46039f\"], [0.2222222222222222, \"#7201a8\"], [0.3333333333333333, \"#9c179e\"], [0.4444444444444444, \"#bd3786\"], [0.5555555555555556, \"#d8576b\"], [0.6666666666666666, \"#ed7953\"], [0.7777777777777778, \"#fb9f3a\"], [0.8888888888888888, \"#fdca26\"], [1.0, \"#f0f921\"]], \"sequentialminus\": [[0.0, \"#0d0887\"], [0.1111111111111111, \"#46039f\"], [0.2222222222222222, \"#7201a8\"], [0.3333333333333333, \"#9c179e\"], [0.4444444444444444, \"#bd3786\"], [0.5555555555555556, \"#d8576b\"], [0.6666666666666666, \"#ed7953\"], [0.7777777777777778, \"#fb9f3a\"], [0.8888888888888888, \"#fdca26\"], [1.0, \"#f0f921\"]]}, \"colorway\": [\"#636efa\", \"#EF553B\", \"#00cc96\", \"#ab63fa\", \"#FFA15A\", \"#19d3f3\", \"#FF6692\", \"#B6E880\", \"#FF97FF\", \"#FECB52\"], \"font\": {\"color\": \"#2a3f5f\"}, \"geo\": {\"bgcolor\": \"white\", \"lakecolor\": \"white\", \"landcolor\": \"#E5ECF6\", \"showlakes\": true, \"showland\": true, \"subunitcolor\": \"white\"}, \"hoverlabel\": {\"align\": \"left\"}, \"hovermode\": \"closest\", \"mapbox\": {\"style\": \"light\"}, \"paper_bgcolor\": \"white\", \"plot_bgcolor\": \"#E5ECF6\", \"polar\": {\"angularaxis\": {\"gridcolor\": \"white\", \"linecolor\": \"white\", \"ticks\": \"\"}, \"bgcolor\": \"#E5ECF6\", \"radialaxis\": {\"gridcolor\": \"white\", \"linecolor\": \"white\", \"ticks\": \"\"}}, \"scene\": {\"xaxis\": {\"backgroundcolor\": \"#E5ECF6\", \"gridcolor\": \"white\", \"gridwidth\": 2, \"linecolor\": \"white\", \"showbackground\": true, \"ticks\": \"\", \"zerolinecolor\": \"white\"}, \"yaxis\": {\"backgroundcolor\": \"#E5ECF6\", \"gridcolor\": \"white\", \"gridwidth\": 2, \"linecolor\": \"white\", \"showbackground\": true, \"ticks\": \"\", \"zerolinecolor\": \"white\"}, \"zaxis\": {\"backgroundcolor\": \"#E5ECF6\", \"gridcolor\": \"white\", \"gridwidth\": 2, \"linecolor\": \"white\", \"showbackground\": true, \"ticks\": \"\", \"zerolinecolor\": \"white\"}}, \"shapedefaults\": {\"line\": {\"color\": \"#2a3f5f\"}}, \"ternary\": {\"aaxis\": {\"gridcolor\": \"white\", \"linecolor\": \"white\", \"ticks\": \"\"}, \"baxis\": {\"gridcolor\": \"white\", \"linecolor\": \"white\", \"ticks\": \"\"}, \"bgcolor\": \"#E5ECF6\", \"caxis\": {\"gridcolor\": \"white\", \"linecolor\": \"white\", \"ticks\": \"\"}}, \"title\": {\"x\": 0.05}, \"xaxis\": {\"automargin\": true, \"gridcolor\": \"white\", \"linecolor\": \"white\", \"ticks\": \"\", \"title\": {\"standoff\": 15}, \"zerolinecolor\": \"white\", \"zerolinewidth\": 2}, \"yaxis\": {\"automargin\": true, \"gridcolor\": \"white\", \"linecolor\": \"white\", \"ticks\": \"\", \"title\": {\"standoff\": 15}, \"zerolinecolor\": \"white\", \"zerolinewidth\": 2}}}, \"xaxis\": {\"anchor\": \"y\", \"domain\": [0.0, 1.0], \"title\": {\"text\": \"False positives\"}}, \"yaxis\": {\"anchor\": \"x\", \"domain\": [0.0, 1.0], \"title\": {\"text\": \"True positives\"}}},\n",
       "                        {\"responsive\": true}\n",
       "                    ).then(function(){\n",
       "                            \n",
       "var gd = document.getElementById('6ef157c0-cc66-4939-aa56-e141c8662375');\n",
       "var x = new MutationObserver(function (mutations, observer) {{\n",
       "        var display = window.getComputedStyle(gd).display;\n",
       "        if (!display || display === 'none') {{\n",
       "            console.log([gd, 'removed!']);\n",
       "            Plotly.purge(gd);\n",
       "            observer.disconnect();\n",
       "        }}\n",
       "}});\n",
       "\n",
       "// Listen for the removal of the full notebook cells\n",
       "var notebookContainer = gd.closest('#notebook-container');\n",
       "if (notebookContainer) {{\n",
       "    x.observe(notebookContainer, {childList: true});\n",
       "}}\n",
       "\n",
       "// Listen for the clearing of the current output cell\n",
       "var outputEl = gd.closest('.output');\n",
       "if (outputEl) {{\n",
       "    x.observe(outputEl, {childList: true});\n",
       "}}\n",
       "\n",
       "                        })\n",
       "                };\n",
       "                });\n",
       "            </script>\n",
       "        </div>"
      ]
     },
     "metadata": {},
     "output_type": "display_data"
    }
   ],
   "source": [
    "\n",
    "#plot the ROC_curve and precision recall curve\n",
    "y_pred=svc.decision_function(x_test_normalized)\n",
    "fp,tp,_=roc_curve(y_test,y_pred)\n",
    "\n",
    "fig = px.line(x=fp,y=tp)\n",
    "fig.update_xaxes(title_text='False positives')\n",
    "fig.update_yaxes(title_text='True positives')\n",
    "fig.show()\n"
   ]
  },
  {
   "cell_type": "code",
   "execution_count": 58,
   "metadata": {},
   "outputs": [
    {
     "data": {
      "application/vnd.plotly.v1+json": {
       "config": {
        "plotlyServerURL": "https://plotly.com"
       },
       "data": [
        {
         "hovertemplate": "x=%{x}<br>y=%{y}<extra></extra>",
         "legendgroup": "",
         "line": {
          "color": "#636efa",
          "dash": "solid"
         },
         "mode": "lines",
         "name": "",
         "orientation": "v",
         "showlegend": false,
         "type": "scatter",
         "x": [
          1,
          0.98,
          0.98,
          0.98,
          0.98,
          0.98,
          0.98,
          0.98,
          0.96,
          0.96,
          0.96,
          0.96,
          0.96,
          0.96,
          0.96,
          0.96,
          0.96,
          0.96,
          0.96,
          0.96,
          0.96,
          0.96,
          0.96,
          0.96,
          0.96,
          0.96,
          0.96,
          0.96,
          0.96,
          0.96,
          0.96,
          0.96,
          0.96,
          0.96,
          0.96,
          0.96,
          0.96,
          0.96,
          0.96,
          0.96,
          0.96,
          0.96,
          0.96,
          0.96,
          0.96,
          0.96,
          0.96,
          0.96,
          0.96,
          0.96,
          0.96,
          0.96,
          0.96,
          0.96,
          0.96,
          0.96,
          0.96,
          0.96,
          0.96,
          0.96,
          0.96,
          0.96,
          0.96,
          0.94,
          0.94,
          0.94,
          0.94,
          0.94,
          0.94,
          0.94,
          0.94,
          0.94,
          0.94,
          0.92,
          0.92,
          0.92,
          0.92,
          0.92,
          0.92,
          0.9,
          0.9,
          0.9,
          0.9,
          0.9,
          0.9,
          0.9,
          0.88,
          0.88,
          0.88,
          0.88,
          0.88,
          0.88,
          0.88,
          0.88,
          0.88,
          0.88,
          0.88,
          0.88,
          0.88,
          0.88,
          0.88,
          0.88,
          0.88,
          0.88,
          0.88,
          0.88,
          0.88,
          0.86,
          0.86,
          0.86,
          0.84,
          0.84,
          0.84,
          0.84,
          0.84,
          0.84,
          0.84,
          0.84,
          0.84,
          0.84,
          0.84,
          0.84,
          0.84,
          0.84,
          0.84,
          0.84,
          0.84,
          0.84,
          0.84,
          0.84,
          0.84,
          0.84,
          0.84,
          0.84,
          0.84,
          0.84,
          0.84,
          0.84,
          0.84,
          0.84,
          0.84,
          0.84,
          0.84,
          0.82,
          0.82,
          0.82,
          0.8,
          0.78,
          0.78,
          0.78,
          0.78,
          0.78,
          0.78,
          0.78,
          0.78,
          0.76,
          0.76,
          0.74,
          0.74,
          0.74,
          0.74,
          0.74,
          0.74,
          0.74,
          0.74,
          0.74,
          0.74,
          0.74,
          0.74,
          0.74,
          0.74,
          0.72,
          0.7,
          0.7,
          0.7,
          0.7,
          0.7,
          0.7,
          0.7,
          0.7,
          0.68,
          0.68,
          0.68,
          0.68,
          0.68,
          0.68,
          0.68,
          0.66,
          0.64,
          0.64,
          0.64,
          0.64,
          0.64,
          0.64,
          0.62,
          0.6,
          0.58,
          0.58,
          0.58,
          0.56,
          0.54,
          0.54,
          0.54,
          0.52,
          0.5,
          0.5,
          0.48,
          0.48,
          0.48,
          0.46,
          0.46,
          0.46,
          0.44,
          0.44,
          0.42,
          0.42,
          0.42,
          0.4,
          0.38,
          0.36,
          0.34,
          0.32,
          0.3,
          0.28,
          0.26,
          0.24,
          0.22,
          0.2,
          0.18,
          0.16,
          0.14,
          0.12,
          0.1,
          0.08,
          0.06,
          0.04,
          0.02,
          0
         ],
         "xaxis": "x",
         "y": [
          0.2109704641350211,
          0.2076271186440678,
          0.20851063829787234,
          0.2094017094017094,
          0.21030042918454936,
          0.21120689655172414,
          0.21212121212121213,
          0.21304347826086956,
          0.2096069868995633,
          0.21052631578947367,
          0.21145374449339208,
          0.21238938053097345,
          0.21333333333333335,
          0.21428571428571427,
          0.21524663677130046,
          0.21621621621621623,
          0.2171945701357466,
          0.21818181818181817,
          0.2191780821917808,
          0.22018348623853212,
          0.22119815668202766,
          0.2222222222222222,
          0.22325581395348837,
          0.22429906542056074,
          0.22535211267605634,
          0.22641509433962265,
          0.22748815165876776,
          0.22857142857142856,
          0.22966507177033493,
          0.23076923076923078,
          0.2318840579710145,
          0.23300970873786409,
          0.23414634146341465,
          0.23529411764705882,
          0.23645320197044334,
          0.2376237623762376,
          0.23880597014925373,
          0.24,
          0.24120603015075376,
          0.24242424242424243,
          0.2436548223350254,
          0.24489795918367346,
          0.24615384615384617,
          0.24742268041237114,
          0.24870466321243523,
          0.25,
          0.2513089005235602,
          0.25263157894736843,
          0.25396825396825395,
          0.2553191489361702,
          0.25668449197860965,
          0.25806451612903225,
          0.2594594594594595,
          0.2608695652173913,
          0.26229508196721313,
          0.26373626373626374,
          0.26519337016574585,
          0.26666666666666666,
          0.2681564245810056,
          0.2696629213483146,
          0.2711864406779661,
          0.2727272727272727,
          0.2742857142857143,
          0.27011494252873564,
          0.27167630057803466,
          0.27325581395348836,
          0.27485380116959063,
          0.27647058823529413,
          0.2781065088757396,
          0.27976190476190477,
          0.281437125748503,
          0.28313253012048195,
          0.28484848484848485,
          0.2804878048780488,
          0.2822085889570552,
          0.2839506172839506,
          0.2857142857142857,
          0.2875,
          0.2893081761006289,
          0.2848101265822785,
          0.28662420382165604,
          0.28846153846153844,
          0.2903225806451613,
          0.2922077922077922,
          0.29411764705882354,
          0.29605263157894735,
          0.2913907284768212,
          0.29333333333333333,
          0.2953020134228188,
          0.2972972972972973,
          0.29931972789115646,
          0.3013698630136986,
          0.30344827586206896,
          0.3055555555555556,
          0.3076923076923077,
          0.30985915492957744,
          0.3120567375886525,
          0.3142857142857143,
          0.31654676258992803,
          0.3188405797101449,
          0.32116788321167883,
          0.3235294117647059,
          0.32592592592592595,
          0.3283582089552239,
          0.3308270676691729,
          0.3333333333333333,
          0.33587786259541985,
          0.33076923076923076,
          0.3333333333333333,
          0.3359375,
          0.33070866141732286,
          0.3333333333333333,
          0.336,
          0.3387096774193548,
          0.34146341463414637,
          0.3442622950819672,
          0.34710743801652894,
          0.35,
          0.35294117647058826,
          0.3559322033898305,
          0.358974358974359,
          0.3620689655172414,
          0.3652173913043478,
          0.3684210526315789,
          0.37168141592920356,
          0.375,
          0.3783783783783784,
          0.38181818181818183,
          0.3853211009174312,
          0.3888888888888889,
          0.3925233644859813,
          0.39622641509433965,
          0.4,
          0.40384615384615385,
          0.4077669902912621,
          0.4117647058823529,
          0.4158415841584158,
          0.42,
          0.42424242424242425,
          0.42857142857142855,
          0.4329896907216495,
          0.4375,
          0.4421052631578947,
          0.43617021276595747,
          0.44086021505376344,
          0.44565217391304346,
          0.43956043956043955,
          0.43333333333333335,
          0.43820224719101125,
          0.4431818181818182,
          0.4482758620689655,
          0.45348837209302323,
          0.4588235294117647,
          0.4642857142857143,
          0.46987951807228917,
          0.4634146341463415,
          0.4691358024691358,
          0.4625,
          0.46835443037974683,
          0.47435897435897434,
          0.4805194805194805,
          0.4868421052631579,
          0.49333333333333335,
          0.5,
          0.5068493150684932,
          0.5138888888888888,
          0.5211267605633803,
          0.5285714285714286,
          0.5362318840579711,
          0.5441176470588235,
          0.5522388059701493,
          0.5454545454545454,
          0.5384615384615384,
          0.546875,
          0.5555555555555556,
          0.5645161290322581,
          0.5737704918032787,
          0.5833333333333334,
          0.5932203389830508,
          0.603448275862069,
          0.5964912280701754,
          0.6071428571428571,
          0.6181818181818182,
          0.6296296296296297,
          0.6415094339622641,
          0.6538461538461539,
          0.6666666666666666,
          0.66,
          0.6530612244897959,
          0.6666666666666666,
          0.6808510638297872,
          0.6956521739130435,
          0.7111111111111111,
          0.7272727272727273,
          0.7209302325581395,
          0.7142857142857143,
          0.7073170731707317,
          0.725,
          0.7435897435897436,
          0.7368421052631579,
          0.7297297297297297,
          0.75,
          0.7714285714285715,
          0.7647058823529411,
          0.7575757575757576,
          0.78125,
          0.7741935483870968,
          0.8,
          0.8275862068965517,
          0.8214285714285714,
          0.8518518518518519,
          0.8846153846153846,
          0.88,
          0.9166666666666666,
          0.9130434782608695,
          0.9545454545454546,
          1,
          1,
          1,
          1,
          1,
          1,
          1,
          1,
          1,
          1,
          1,
          1,
          1,
          1,
          1,
          1,
          1,
          1,
          1,
          1,
          1,
          1
         ],
         "yaxis": "y"
        }
       ],
       "layout": {
        "legend": {
         "tracegroupgap": 0
        },
        "margin": {
         "t": 60
        },
        "template": {
         "data": {
          "bar": [
           {
            "error_x": {
             "color": "#2a3f5f"
            },
            "error_y": {
             "color": "#2a3f5f"
            },
            "marker": {
             "line": {
              "color": "#E5ECF6",
              "width": 0.5
             }
            },
            "type": "bar"
           }
          ],
          "barpolar": [
           {
            "marker": {
             "line": {
              "color": "#E5ECF6",
              "width": 0.5
             }
            },
            "type": "barpolar"
           }
          ],
          "carpet": [
           {
            "aaxis": {
             "endlinecolor": "#2a3f5f",
             "gridcolor": "white",
             "linecolor": "white",
             "minorgridcolor": "white",
             "startlinecolor": "#2a3f5f"
            },
            "baxis": {
             "endlinecolor": "#2a3f5f",
             "gridcolor": "white",
             "linecolor": "white",
             "minorgridcolor": "white",
             "startlinecolor": "#2a3f5f"
            },
            "type": "carpet"
           }
          ],
          "choropleth": [
           {
            "colorbar": {
             "outlinewidth": 0,
             "ticks": ""
            },
            "type": "choropleth"
           }
          ],
          "contour": [
           {
            "colorbar": {
             "outlinewidth": 0,
             "ticks": ""
            },
            "colorscale": [
             [
              0,
              "#0d0887"
             ],
             [
              0.1111111111111111,
              "#46039f"
             ],
             [
              0.2222222222222222,
              "#7201a8"
             ],
             [
              0.3333333333333333,
              "#9c179e"
             ],
             [
              0.4444444444444444,
              "#bd3786"
             ],
             [
              0.5555555555555556,
              "#d8576b"
             ],
             [
              0.6666666666666666,
              "#ed7953"
             ],
             [
              0.7777777777777778,
              "#fb9f3a"
             ],
             [
              0.8888888888888888,
              "#fdca26"
             ],
             [
              1,
              "#f0f921"
             ]
            ],
            "type": "contour"
           }
          ],
          "contourcarpet": [
           {
            "colorbar": {
             "outlinewidth": 0,
             "ticks": ""
            },
            "type": "contourcarpet"
           }
          ],
          "heatmap": [
           {
            "colorbar": {
             "outlinewidth": 0,
             "ticks": ""
            },
            "colorscale": [
             [
              0,
              "#0d0887"
             ],
             [
              0.1111111111111111,
              "#46039f"
             ],
             [
              0.2222222222222222,
              "#7201a8"
             ],
             [
              0.3333333333333333,
              "#9c179e"
             ],
             [
              0.4444444444444444,
              "#bd3786"
             ],
             [
              0.5555555555555556,
              "#d8576b"
             ],
             [
              0.6666666666666666,
              "#ed7953"
             ],
             [
              0.7777777777777778,
              "#fb9f3a"
             ],
             [
              0.8888888888888888,
              "#fdca26"
             ],
             [
              1,
              "#f0f921"
             ]
            ],
            "type": "heatmap"
           }
          ],
          "heatmapgl": [
           {
            "colorbar": {
             "outlinewidth": 0,
             "ticks": ""
            },
            "colorscale": [
             [
              0,
              "#0d0887"
             ],
             [
              0.1111111111111111,
              "#46039f"
             ],
             [
              0.2222222222222222,
              "#7201a8"
             ],
             [
              0.3333333333333333,
              "#9c179e"
             ],
             [
              0.4444444444444444,
              "#bd3786"
             ],
             [
              0.5555555555555556,
              "#d8576b"
             ],
             [
              0.6666666666666666,
              "#ed7953"
             ],
             [
              0.7777777777777778,
              "#fb9f3a"
             ],
             [
              0.8888888888888888,
              "#fdca26"
             ],
             [
              1,
              "#f0f921"
             ]
            ],
            "type": "heatmapgl"
           }
          ],
          "histogram": [
           {
            "marker": {
             "colorbar": {
              "outlinewidth": 0,
              "ticks": ""
             }
            },
            "type": "histogram"
           }
          ],
          "histogram2d": [
           {
            "colorbar": {
             "outlinewidth": 0,
             "ticks": ""
            },
            "colorscale": [
             [
              0,
              "#0d0887"
             ],
             [
              0.1111111111111111,
              "#46039f"
             ],
             [
              0.2222222222222222,
              "#7201a8"
             ],
             [
              0.3333333333333333,
              "#9c179e"
             ],
             [
              0.4444444444444444,
              "#bd3786"
             ],
             [
              0.5555555555555556,
              "#d8576b"
             ],
             [
              0.6666666666666666,
              "#ed7953"
             ],
             [
              0.7777777777777778,
              "#fb9f3a"
             ],
             [
              0.8888888888888888,
              "#fdca26"
             ],
             [
              1,
              "#f0f921"
             ]
            ],
            "type": "histogram2d"
           }
          ],
          "histogram2dcontour": [
           {
            "colorbar": {
             "outlinewidth": 0,
             "ticks": ""
            },
            "colorscale": [
             [
              0,
              "#0d0887"
             ],
             [
              0.1111111111111111,
              "#46039f"
             ],
             [
              0.2222222222222222,
              "#7201a8"
             ],
             [
              0.3333333333333333,
              "#9c179e"
             ],
             [
              0.4444444444444444,
              "#bd3786"
             ],
             [
              0.5555555555555556,
              "#d8576b"
             ],
             [
              0.6666666666666666,
              "#ed7953"
             ],
             [
              0.7777777777777778,
              "#fb9f3a"
             ],
             [
              0.8888888888888888,
              "#fdca26"
             ],
             [
              1,
              "#f0f921"
             ]
            ],
            "type": "histogram2dcontour"
           }
          ],
          "mesh3d": [
           {
            "colorbar": {
             "outlinewidth": 0,
             "ticks": ""
            },
            "type": "mesh3d"
           }
          ],
          "parcoords": [
           {
            "line": {
             "colorbar": {
              "outlinewidth": 0,
              "ticks": ""
             }
            },
            "type": "parcoords"
           }
          ],
          "pie": [
           {
            "automargin": true,
            "type": "pie"
           }
          ],
          "scatter": [
           {
            "marker": {
             "colorbar": {
              "outlinewidth": 0,
              "ticks": ""
             }
            },
            "type": "scatter"
           }
          ],
          "scatter3d": [
           {
            "line": {
             "colorbar": {
              "outlinewidth": 0,
              "ticks": ""
             }
            },
            "marker": {
             "colorbar": {
              "outlinewidth": 0,
              "ticks": ""
             }
            },
            "type": "scatter3d"
           }
          ],
          "scattercarpet": [
           {
            "marker": {
             "colorbar": {
              "outlinewidth": 0,
              "ticks": ""
             }
            },
            "type": "scattercarpet"
           }
          ],
          "scattergeo": [
           {
            "marker": {
             "colorbar": {
              "outlinewidth": 0,
              "ticks": ""
             }
            },
            "type": "scattergeo"
           }
          ],
          "scattergl": [
           {
            "marker": {
             "colorbar": {
              "outlinewidth": 0,
              "ticks": ""
             }
            },
            "type": "scattergl"
           }
          ],
          "scattermapbox": [
           {
            "marker": {
             "colorbar": {
              "outlinewidth": 0,
              "ticks": ""
             }
            },
            "type": "scattermapbox"
           }
          ],
          "scatterpolar": [
           {
            "marker": {
             "colorbar": {
              "outlinewidth": 0,
              "ticks": ""
             }
            },
            "type": "scatterpolar"
           }
          ],
          "scatterpolargl": [
           {
            "marker": {
             "colorbar": {
              "outlinewidth": 0,
              "ticks": ""
             }
            },
            "type": "scatterpolargl"
           }
          ],
          "scatterternary": [
           {
            "marker": {
             "colorbar": {
              "outlinewidth": 0,
              "ticks": ""
             }
            },
            "type": "scatterternary"
           }
          ],
          "surface": [
           {
            "colorbar": {
             "outlinewidth": 0,
             "ticks": ""
            },
            "colorscale": [
             [
              0,
              "#0d0887"
             ],
             [
              0.1111111111111111,
              "#46039f"
             ],
             [
              0.2222222222222222,
              "#7201a8"
             ],
             [
              0.3333333333333333,
              "#9c179e"
             ],
             [
              0.4444444444444444,
              "#bd3786"
             ],
             [
              0.5555555555555556,
              "#d8576b"
             ],
             [
              0.6666666666666666,
              "#ed7953"
             ],
             [
              0.7777777777777778,
              "#fb9f3a"
             ],
             [
              0.8888888888888888,
              "#fdca26"
             ],
             [
              1,
              "#f0f921"
             ]
            ],
            "type": "surface"
           }
          ],
          "table": [
           {
            "cells": {
             "fill": {
              "color": "#EBF0F8"
             },
             "line": {
              "color": "white"
             }
            },
            "header": {
             "fill": {
              "color": "#C8D4E3"
             },
             "line": {
              "color": "white"
             }
            },
            "type": "table"
           }
          ]
         },
         "layout": {
          "annotationdefaults": {
           "arrowcolor": "#2a3f5f",
           "arrowhead": 0,
           "arrowwidth": 1
          },
          "coloraxis": {
           "colorbar": {
            "outlinewidth": 0,
            "ticks": ""
           }
          },
          "colorscale": {
           "diverging": [
            [
             0,
             "#8e0152"
            ],
            [
             0.1,
             "#c51b7d"
            ],
            [
             0.2,
             "#de77ae"
            ],
            [
             0.3,
             "#f1b6da"
            ],
            [
             0.4,
             "#fde0ef"
            ],
            [
             0.5,
             "#f7f7f7"
            ],
            [
             0.6,
             "#e6f5d0"
            ],
            [
             0.7,
             "#b8e186"
            ],
            [
             0.8,
             "#7fbc41"
            ],
            [
             0.9,
             "#4d9221"
            ],
            [
             1,
             "#276419"
            ]
           ],
           "sequential": [
            [
             0,
             "#0d0887"
            ],
            [
             0.1111111111111111,
             "#46039f"
            ],
            [
             0.2222222222222222,
             "#7201a8"
            ],
            [
             0.3333333333333333,
             "#9c179e"
            ],
            [
             0.4444444444444444,
             "#bd3786"
            ],
            [
             0.5555555555555556,
             "#d8576b"
            ],
            [
             0.6666666666666666,
             "#ed7953"
            ],
            [
             0.7777777777777778,
             "#fb9f3a"
            ],
            [
             0.8888888888888888,
             "#fdca26"
            ],
            [
             1,
             "#f0f921"
            ]
           ],
           "sequentialminus": [
            [
             0,
             "#0d0887"
            ],
            [
             0.1111111111111111,
             "#46039f"
            ],
            [
             0.2222222222222222,
             "#7201a8"
            ],
            [
             0.3333333333333333,
             "#9c179e"
            ],
            [
             0.4444444444444444,
             "#bd3786"
            ],
            [
             0.5555555555555556,
             "#d8576b"
            ],
            [
             0.6666666666666666,
             "#ed7953"
            ],
            [
             0.7777777777777778,
             "#fb9f3a"
            ],
            [
             0.8888888888888888,
             "#fdca26"
            ],
            [
             1,
             "#f0f921"
            ]
           ]
          },
          "colorway": [
           "#636efa",
           "#EF553B",
           "#00cc96",
           "#ab63fa",
           "#FFA15A",
           "#19d3f3",
           "#FF6692",
           "#B6E880",
           "#FF97FF",
           "#FECB52"
          ],
          "font": {
           "color": "#2a3f5f"
          },
          "geo": {
           "bgcolor": "white",
           "lakecolor": "white",
           "landcolor": "#E5ECF6",
           "showlakes": true,
           "showland": true,
           "subunitcolor": "white"
          },
          "hoverlabel": {
           "align": "left"
          },
          "hovermode": "closest",
          "mapbox": {
           "style": "light"
          },
          "paper_bgcolor": "white",
          "plot_bgcolor": "#E5ECF6",
          "polar": {
           "angularaxis": {
            "gridcolor": "white",
            "linecolor": "white",
            "ticks": ""
           },
           "bgcolor": "#E5ECF6",
           "radialaxis": {
            "gridcolor": "white",
            "linecolor": "white",
            "ticks": ""
           }
          },
          "scene": {
           "xaxis": {
            "backgroundcolor": "#E5ECF6",
            "gridcolor": "white",
            "gridwidth": 2,
            "linecolor": "white",
            "showbackground": true,
            "ticks": "",
            "zerolinecolor": "white"
           },
           "yaxis": {
            "backgroundcolor": "#E5ECF6",
            "gridcolor": "white",
            "gridwidth": 2,
            "linecolor": "white",
            "showbackground": true,
            "ticks": "",
            "zerolinecolor": "white"
           },
           "zaxis": {
            "backgroundcolor": "#E5ECF6",
            "gridcolor": "white",
            "gridwidth": 2,
            "linecolor": "white",
            "showbackground": true,
            "ticks": "",
            "zerolinecolor": "white"
           }
          },
          "shapedefaults": {
           "line": {
            "color": "#2a3f5f"
           }
          },
          "ternary": {
           "aaxis": {
            "gridcolor": "white",
            "linecolor": "white",
            "ticks": ""
           },
           "baxis": {
            "gridcolor": "white",
            "linecolor": "white",
            "ticks": ""
           },
           "bgcolor": "#E5ECF6",
           "caxis": {
            "gridcolor": "white",
            "linecolor": "white",
            "ticks": ""
           }
          },
          "title": {
           "x": 0.05
          },
          "xaxis": {
           "automargin": true,
           "gridcolor": "white",
           "linecolor": "white",
           "ticks": "",
           "title": {
            "standoff": 15
           },
           "zerolinecolor": "white",
           "zerolinewidth": 2
          },
          "yaxis": {
           "automargin": true,
           "gridcolor": "white",
           "linecolor": "white",
           "ticks": "",
           "title": {
            "standoff": 15
           },
           "zerolinecolor": "white",
           "zerolinewidth": 2
          }
         }
        },
        "xaxis": {
         "anchor": "y",
         "domain": [
          0,
          1
         ],
         "title": {
          "text": "Recall"
         }
        },
        "yaxis": {
         "anchor": "x",
         "domain": [
          0,
          1
         ],
         "title": {
          "text": "Precision "
         }
        }
       }
      },
      "text/html": [
       "<div>\n",
       "        \n",
       "        \n",
       "            <div id=\"25183b7c-7522-483d-ae56-502fd8c535d3\" class=\"plotly-graph-div\" style=\"height:525px; width:100%;\"></div>\n",
       "            <script type=\"text/javascript\">\n",
       "                require([\"plotly\"], function(Plotly) {\n",
       "                    window.PLOTLYENV=window.PLOTLYENV || {};\n",
       "                    \n",
       "                if (document.getElementById(\"25183b7c-7522-483d-ae56-502fd8c535d3\")) {\n",
       "                    Plotly.newPlot(\n",
       "                        '25183b7c-7522-483d-ae56-502fd8c535d3',\n",
       "                        [{\"hovertemplate\": \"x=%{x}<br>y=%{y}<extra></extra>\", \"legendgroup\": \"\", \"line\": {\"color\": \"#636efa\", \"dash\": \"solid\"}, \"mode\": \"lines\", \"name\": \"\", \"orientation\": \"v\", \"showlegend\": false, \"type\": \"scatter\", \"x\": [1.0, 0.98, 0.98, 0.98, 0.98, 0.98, 0.98, 0.98, 0.96, 0.96, 0.96, 0.96, 0.96, 0.96, 0.96, 0.96, 0.96, 0.96, 0.96, 0.96, 0.96, 0.96, 0.96, 0.96, 0.96, 0.96, 0.96, 0.96, 0.96, 0.96, 0.96, 0.96, 0.96, 0.96, 0.96, 0.96, 0.96, 0.96, 0.96, 0.96, 0.96, 0.96, 0.96, 0.96, 0.96, 0.96, 0.96, 0.96, 0.96, 0.96, 0.96, 0.96, 0.96, 0.96, 0.96, 0.96, 0.96, 0.96, 0.96, 0.96, 0.96, 0.96, 0.96, 0.94, 0.94, 0.94, 0.94, 0.94, 0.94, 0.94, 0.94, 0.94, 0.94, 0.92, 0.92, 0.92, 0.92, 0.92, 0.92, 0.9, 0.9, 0.9, 0.9, 0.9, 0.9, 0.9, 0.88, 0.88, 0.88, 0.88, 0.88, 0.88, 0.88, 0.88, 0.88, 0.88, 0.88, 0.88, 0.88, 0.88, 0.88, 0.88, 0.88, 0.88, 0.88, 0.88, 0.88, 0.86, 0.86, 0.86, 0.84, 0.84, 0.84, 0.84, 0.84, 0.84, 0.84, 0.84, 0.84, 0.84, 0.84, 0.84, 0.84, 0.84, 0.84, 0.84, 0.84, 0.84, 0.84, 0.84, 0.84, 0.84, 0.84, 0.84, 0.84, 0.84, 0.84, 0.84, 0.84, 0.84, 0.84, 0.84, 0.84, 0.82, 0.82, 0.82, 0.8, 0.78, 0.78, 0.78, 0.78, 0.78, 0.78, 0.78, 0.78, 0.76, 0.76, 0.74, 0.74, 0.74, 0.74, 0.74, 0.74, 0.74, 0.74, 0.74, 0.74, 0.74, 0.74, 0.74, 0.74, 0.72, 0.7, 0.7, 0.7, 0.7, 0.7, 0.7, 0.7, 0.7, 0.68, 0.68, 0.68, 0.68, 0.68, 0.68, 0.68, 0.66, 0.64, 0.64, 0.64, 0.64, 0.64, 0.64, 0.62, 0.6, 0.58, 0.58, 0.58, 0.56, 0.54, 0.54, 0.54, 0.52, 0.5, 0.5, 0.48, 0.48, 0.48, 0.46, 0.46, 0.46, 0.44, 0.44, 0.42, 0.42, 0.42, 0.4, 0.38, 0.36, 0.34, 0.32, 0.3, 0.28, 0.26, 0.24, 0.22, 0.2, 0.18, 0.16, 0.14, 0.12, 0.1, 0.08, 0.06, 0.04, 0.02, 0.0], \"xaxis\": \"x\", \"y\": [0.2109704641350211, 0.2076271186440678, 0.20851063829787234, 0.2094017094017094, 0.21030042918454936, 0.21120689655172414, 0.21212121212121213, 0.21304347826086956, 0.2096069868995633, 0.21052631578947367, 0.21145374449339208, 0.21238938053097345, 0.21333333333333335, 0.21428571428571427, 0.21524663677130046, 0.21621621621621623, 0.2171945701357466, 0.21818181818181817, 0.2191780821917808, 0.22018348623853212, 0.22119815668202766, 0.2222222222222222, 0.22325581395348837, 0.22429906542056074, 0.22535211267605634, 0.22641509433962265, 0.22748815165876776, 0.22857142857142856, 0.22966507177033493, 0.23076923076923078, 0.2318840579710145, 0.23300970873786409, 0.23414634146341465, 0.23529411764705882, 0.23645320197044334, 0.2376237623762376, 0.23880597014925373, 0.24, 0.24120603015075376, 0.24242424242424243, 0.2436548223350254, 0.24489795918367346, 0.24615384615384617, 0.24742268041237114, 0.24870466321243523, 0.25, 0.2513089005235602, 0.25263157894736843, 0.25396825396825395, 0.2553191489361702, 0.25668449197860965, 0.25806451612903225, 0.2594594594594595, 0.2608695652173913, 0.26229508196721313, 0.26373626373626374, 0.26519337016574585, 0.26666666666666666, 0.2681564245810056, 0.2696629213483146, 0.2711864406779661, 0.2727272727272727, 0.2742857142857143, 0.27011494252873564, 0.27167630057803466, 0.27325581395348836, 0.27485380116959063, 0.27647058823529413, 0.2781065088757396, 0.27976190476190477, 0.281437125748503, 0.28313253012048195, 0.28484848484848485, 0.2804878048780488, 0.2822085889570552, 0.2839506172839506, 0.2857142857142857, 0.2875, 0.2893081761006289, 0.2848101265822785, 0.28662420382165604, 0.28846153846153844, 0.2903225806451613, 0.2922077922077922, 0.29411764705882354, 0.29605263157894735, 0.2913907284768212, 0.29333333333333333, 0.2953020134228188, 0.2972972972972973, 0.29931972789115646, 0.3013698630136986, 0.30344827586206896, 0.3055555555555556, 0.3076923076923077, 0.30985915492957744, 0.3120567375886525, 0.3142857142857143, 0.31654676258992803, 0.3188405797101449, 0.32116788321167883, 0.3235294117647059, 0.32592592592592595, 0.3283582089552239, 0.3308270676691729, 0.3333333333333333, 0.33587786259541985, 0.33076923076923076, 0.3333333333333333, 0.3359375, 0.33070866141732286, 0.3333333333333333, 0.336, 0.3387096774193548, 0.34146341463414637, 0.3442622950819672, 0.34710743801652894, 0.35, 0.35294117647058826, 0.3559322033898305, 0.358974358974359, 0.3620689655172414, 0.3652173913043478, 0.3684210526315789, 0.37168141592920356, 0.375, 0.3783783783783784, 0.38181818181818183, 0.3853211009174312, 0.3888888888888889, 0.3925233644859813, 0.39622641509433965, 0.4, 0.40384615384615385, 0.4077669902912621, 0.4117647058823529, 0.4158415841584158, 0.42, 0.42424242424242425, 0.42857142857142855, 0.4329896907216495, 0.4375, 0.4421052631578947, 0.43617021276595747, 0.44086021505376344, 0.44565217391304346, 0.43956043956043955, 0.43333333333333335, 0.43820224719101125, 0.4431818181818182, 0.4482758620689655, 0.45348837209302323, 0.4588235294117647, 0.4642857142857143, 0.46987951807228917, 0.4634146341463415, 0.4691358024691358, 0.4625, 0.46835443037974683, 0.47435897435897434, 0.4805194805194805, 0.4868421052631579, 0.49333333333333335, 0.5, 0.5068493150684932, 0.5138888888888888, 0.5211267605633803, 0.5285714285714286, 0.5362318840579711, 0.5441176470588235, 0.5522388059701493, 0.5454545454545454, 0.5384615384615384, 0.546875, 0.5555555555555556, 0.5645161290322581, 0.5737704918032787, 0.5833333333333334, 0.5932203389830508, 0.603448275862069, 0.5964912280701754, 0.6071428571428571, 0.6181818181818182, 0.6296296296296297, 0.6415094339622641, 0.6538461538461539, 0.6666666666666666, 0.66, 0.6530612244897959, 0.6666666666666666, 0.6808510638297872, 0.6956521739130435, 0.7111111111111111, 0.7272727272727273, 0.7209302325581395, 0.7142857142857143, 0.7073170731707317, 0.725, 0.7435897435897436, 0.7368421052631579, 0.7297297297297297, 0.75, 0.7714285714285715, 0.7647058823529411, 0.7575757575757576, 0.78125, 0.7741935483870968, 0.8, 0.8275862068965517, 0.8214285714285714, 0.8518518518518519, 0.8846153846153846, 0.88, 0.9166666666666666, 0.9130434782608695, 0.9545454545454546, 1.0, 1.0, 1.0, 1.0, 1.0, 1.0, 1.0, 1.0, 1.0, 1.0, 1.0, 1.0, 1.0, 1.0, 1.0, 1.0, 1.0, 1.0, 1.0, 1.0, 1.0, 1.0], \"yaxis\": \"y\"}],\n",
       "                        {\"legend\": {\"tracegroupgap\": 0}, \"margin\": {\"t\": 60}, \"template\": {\"data\": {\"bar\": [{\"error_x\": {\"color\": \"#2a3f5f\"}, \"error_y\": {\"color\": \"#2a3f5f\"}, \"marker\": {\"line\": {\"color\": \"#E5ECF6\", \"width\": 0.5}}, \"type\": \"bar\"}], \"barpolar\": [{\"marker\": {\"line\": {\"color\": \"#E5ECF6\", \"width\": 0.5}}, \"type\": \"barpolar\"}], \"carpet\": [{\"aaxis\": {\"endlinecolor\": \"#2a3f5f\", \"gridcolor\": \"white\", \"linecolor\": \"white\", \"minorgridcolor\": \"white\", \"startlinecolor\": \"#2a3f5f\"}, \"baxis\": {\"endlinecolor\": \"#2a3f5f\", \"gridcolor\": \"white\", \"linecolor\": \"white\", \"minorgridcolor\": \"white\", \"startlinecolor\": \"#2a3f5f\"}, \"type\": \"carpet\"}], \"choropleth\": [{\"colorbar\": {\"outlinewidth\": 0, \"ticks\": \"\"}, \"type\": \"choropleth\"}], \"contour\": [{\"colorbar\": {\"outlinewidth\": 0, \"ticks\": \"\"}, \"colorscale\": [[0.0, \"#0d0887\"], [0.1111111111111111, \"#46039f\"], [0.2222222222222222, \"#7201a8\"], [0.3333333333333333, \"#9c179e\"], [0.4444444444444444, \"#bd3786\"], [0.5555555555555556, \"#d8576b\"], [0.6666666666666666, \"#ed7953\"], [0.7777777777777778, \"#fb9f3a\"], [0.8888888888888888, \"#fdca26\"], [1.0, \"#f0f921\"]], \"type\": \"contour\"}], \"contourcarpet\": [{\"colorbar\": {\"outlinewidth\": 0, \"ticks\": \"\"}, \"type\": \"contourcarpet\"}], \"heatmap\": [{\"colorbar\": {\"outlinewidth\": 0, \"ticks\": \"\"}, \"colorscale\": [[0.0, \"#0d0887\"], [0.1111111111111111, \"#46039f\"], [0.2222222222222222, \"#7201a8\"], [0.3333333333333333, \"#9c179e\"], [0.4444444444444444, \"#bd3786\"], [0.5555555555555556, \"#d8576b\"], [0.6666666666666666, \"#ed7953\"], [0.7777777777777778, \"#fb9f3a\"], [0.8888888888888888, \"#fdca26\"], [1.0, \"#f0f921\"]], \"type\": \"heatmap\"}], \"heatmapgl\": [{\"colorbar\": {\"outlinewidth\": 0, \"ticks\": \"\"}, \"colorscale\": [[0.0, \"#0d0887\"], [0.1111111111111111, \"#46039f\"], [0.2222222222222222, \"#7201a8\"], [0.3333333333333333, \"#9c179e\"], [0.4444444444444444, \"#bd3786\"], [0.5555555555555556, \"#d8576b\"], [0.6666666666666666, \"#ed7953\"], [0.7777777777777778, \"#fb9f3a\"], [0.8888888888888888, \"#fdca26\"], [1.0, \"#f0f921\"]], \"type\": \"heatmapgl\"}], \"histogram\": [{\"marker\": {\"colorbar\": {\"outlinewidth\": 0, \"ticks\": \"\"}}, \"type\": \"histogram\"}], \"histogram2d\": [{\"colorbar\": {\"outlinewidth\": 0, \"ticks\": \"\"}, \"colorscale\": [[0.0, \"#0d0887\"], [0.1111111111111111, \"#46039f\"], [0.2222222222222222, \"#7201a8\"], [0.3333333333333333, \"#9c179e\"], [0.4444444444444444, \"#bd3786\"], [0.5555555555555556, \"#d8576b\"], [0.6666666666666666, \"#ed7953\"], [0.7777777777777778, \"#fb9f3a\"], [0.8888888888888888, \"#fdca26\"], [1.0, \"#f0f921\"]], \"type\": \"histogram2d\"}], \"histogram2dcontour\": [{\"colorbar\": {\"outlinewidth\": 0, \"ticks\": \"\"}, \"colorscale\": [[0.0, \"#0d0887\"], [0.1111111111111111, \"#46039f\"], [0.2222222222222222, \"#7201a8\"], [0.3333333333333333, \"#9c179e\"], [0.4444444444444444, \"#bd3786\"], [0.5555555555555556, \"#d8576b\"], [0.6666666666666666, \"#ed7953\"], [0.7777777777777778, \"#fb9f3a\"], [0.8888888888888888, \"#fdca26\"], [1.0, \"#f0f921\"]], \"type\": \"histogram2dcontour\"}], \"mesh3d\": [{\"colorbar\": {\"outlinewidth\": 0, \"ticks\": \"\"}, \"type\": \"mesh3d\"}], \"parcoords\": [{\"line\": {\"colorbar\": {\"outlinewidth\": 0, \"ticks\": \"\"}}, \"type\": \"parcoords\"}], \"pie\": [{\"automargin\": true, \"type\": \"pie\"}], \"scatter\": [{\"marker\": {\"colorbar\": {\"outlinewidth\": 0, \"ticks\": \"\"}}, \"type\": \"scatter\"}], \"scatter3d\": [{\"line\": {\"colorbar\": {\"outlinewidth\": 0, \"ticks\": \"\"}}, \"marker\": {\"colorbar\": {\"outlinewidth\": 0, \"ticks\": \"\"}}, \"type\": \"scatter3d\"}], \"scattercarpet\": [{\"marker\": {\"colorbar\": {\"outlinewidth\": 0, \"ticks\": \"\"}}, \"type\": \"scattercarpet\"}], \"scattergeo\": [{\"marker\": {\"colorbar\": {\"outlinewidth\": 0, \"ticks\": \"\"}}, \"type\": \"scattergeo\"}], \"scattergl\": [{\"marker\": {\"colorbar\": {\"outlinewidth\": 0, \"ticks\": \"\"}}, \"type\": \"scattergl\"}], \"scattermapbox\": [{\"marker\": {\"colorbar\": {\"outlinewidth\": 0, \"ticks\": \"\"}}, \"type\": \"scattermapbox\"}], \"scatterpolar\": [{\"marker\": {\"colorbar\": {\"outlinewidth\": 0, \"ticks\": \"\"}}, \"type\": \"scatterpolar\"}], \"scatterpolargl\": [{\"marker\": {\"colorbar\": {\"outlinewidth\": 0, \"ticks\": \"\"}}, \"type\": \"scatterpolargl\"}], \"scatterternary\": [{\"marker\": {\"colorbar\": {\"outlinewidth\": 0, \"ticks\": \"\"}}, \"type\": \"scatterternary\"}], \"surface\": [{\"colorbar\": {\"outlinewidth\": 0, \"ticks\": \"\"}, \"colorscale\": [[0.0, \"#0d0887\"], [0.1111111111111111, \"#46039f\"], [0.2222222222222222, \"#7201a8\"], [0.3333333333333333, \"#9c179e\"], [0.4444444444444444, \"#bd3786\"], [0.5555555555555556, \"#d8576b\"], [0.6666666666666666, \"#ed7953\"], [0.7777777777777778, \"#fb9f3a\"], [0.8888888888888888, \"#fdca26\"], [1.0, \"#f0f921\"]], \"type\": \"surface\"}], \"table\": [{\"cells\": {\"fill\": {\"color\": \"#EBF0F8\"}, \"line\": {\"color\": \"white\"}}, \"header\": {\"fill\": {\"color\": \"#C8D4E3\"}, \"line\": {\"color\": \"white\"}}, \"type\": \"table\"}]}, \"layout\": {\"annotationdefaults\": {\"arrowcolor\": \"#2a3f5f\", \"arrowhead\": 0, \"arrowwidth\": 1}, \"coloraxis\": {\"colorbar\": {\"outlinewidth\": 0, \"ticks\": \"\"}}, \"colorscale\": {\"diverging\": [[0, \"#8e0152\"], [0.1, \"#c51b7d\"], [0.2, \"#de77ae\"], [0.3, \"#f1b6da\"], [0.4, \"#fde0ef\"], [0.5, \"#f7f7f7\"], [0.6, \"#e6f5d0\"], [0.7, \"#b8e186\"], [0.8, \"#7fbc41\"], [0.9, \"#4d9221\"], [1, \"#276419\"]], \"sequential\": [[0.0, \"#0d0887\"], [0.1111111111111111, \"#46039f\"], [0.2222222222222222, \"#7201a8\"], [0.3333333333333333, \"#9c179e\"], [0.4444444444444444, \"#bd3786\"], [0.5555555555555556, \"#d8576b\"], [0.6666666666666666, \"#ed7953\"], [0.7777777777777778, \"#fb9f3a\"], [0.8888888888888888, \"#fdca26\"], [1.0, \"#f0f921\"]], \"sequentialminus\": [[0.0, \"#0d0887\"], [0.1111111111111111, \"#46039f\"], [0.2222222222222222, \"#7201a8\"], [0.3333333333333333, \"#9c179e\"], [0.4444444444444444, \"#bd3786\"], [0.5555555555555556, \"#d8576b\"], [0.6666666666666666, \"#ed7953\"], [0.7777777777777778, \"#fb9f3a\"], [0.8888888888888888, \"#fdca26\"], [1.0, \"#f0f921\"]]}, \"colorway\": [\"#636efa\", \"#EF553B\", \"#00cc96\", \"#ab63fa\", \"#FFA15A\", \"#19d3f3\", \"#FF6692\", \"#B6E880\", \"#FF97FF\", \"#FECB52\"], \"font\": {\"color\": \"#2a3f5f\"}, \"geo\": {\"bgcolor\": \"white\", \"lakecolor\": \"white\", \"landcolor\": \"#E5ECF6\", \"showlakes\": true, \"showland\": true, \"subunitcolor\": \"white\"}, \"hoverlabel\": {\"align\": \"left\"}, \"hovermode\": \"closest\", \"mapbox\": {\"style\": \"light\"}, \"paper_bgcolor\": \"white\", \"plot_bgcolor\": \"#E5ECF6\", \"polar\": {\"angularaxis\": {\"gridcolor\": \"white\", \"linecolor\": \"white\", \"ticks\": \"\"}, \"bgcolor\": \"#E5ECF6\", \"radialaxis\": {\"gridcolor\": \"white\", \"linecolor\": \"white\", \"ticks\": \"\"}}, \"scene\": {\"xaxis\": {\"backgroundcolor\": \"#E5ECF6\", \"gridcolor\": \"white\", \"gridwidth\": 2, \"linecolor\": \"white\", \"showbackground\": true, \"ticks\": \"\", \"zerolinecolor\": \"white\"}, \"yaxis\": {\"backgroundcolor\": \"#E5ECF6\", \"gridcolor\": \"white\", \"gridwidth\": 2, \"linecolor\": \"white\", \"showbackground\": true, \"ticks\": \"\", \"zerolinecolor\": \"white\"}, \"zaxis\": {\"backgroundcolor\": \"#E5ECF6\", \"gridcolor\": \"white\", \"gridwidth\": 2, \"linecolor\": \"white\", \"showbackground\": true, \"ticks\": \"\", \"zerolinecolor\": \"white\"}}, \"shapedefaults\": {\"line\": {\"color\": \"#2a3f5f\"}}, \"ternary\": {\"aaxis\": {\"gridcolor\": \"white\", \"linecolor\": \"white\", \"ticks\": \"\"}, \"baxis\": {\"gridcolor\": \"white\", \"linecolor\": \"white\", \"ticks\": \"\"}, \"bgcolor\": \"#E5ECF6\", \"caxis\": {\"gridcolor\": \"white\", \"linecolor\": \"white\", \"ticks\": \"\"}}, \"title\": {\"x\": 0.05}, \"xaxis\": {\"automargin\": true, \"gridcolor\": \"white\", \"linecolor\": \"white\", \"ticks\": \"\", \"title\": {\"standoff\": 15}, \"zerolinecolor\": \"white\", \"zerolinewidth\": 2}, \"yaxis\": {\"automargin\": true, \"gridcolor\": \"white\", \"linecolor\": \"white\", \"ticks\": \"\", \"title\": {\"standoff\": 15}, \"zerolinecolor\": \"white\", \"zerolinewidth\": 2}}}, \"xaxis\": {\"anchor\": \"y\", \"domain\": [0.0, 1.0], \"title\": {\"text\": \"Recall\"}}, \"yaxis\": {\"anchor\": \"x\", \"domain\": [0.0, 1.0], \"title\": {\"text\": \"Precision \"}}},\n",
       "                        {\"responsive\": true}\n",
       "                    ).then(function(){\n",
       "                            \n",
       "var gd = document.getElementById('25183b7c-7522-483d-ae56-502fd8c535d3');\n",
       "var x = new MutationObserver(function (mutations, observer) {{\n",
       "        var display = window.getComputedStyle(gd).display;\n",
       "        if (!display || display === 'none') {{\n",
       "            console.log([gd, 'removed!']);\n",
       "            Plotly.purge(gd);\n",
       "            observer.disconnect();\n",
       "        }}\n",
       "}});\n",
       "\n",
       "// Listen for the removal of the full notebook cells\n",
       "var notebookContainer = gd.closest('#notebook-container');\n",
       "if (notebookContainer) {{\n",
       "    x.observe(notebookContainer, {childList: true});\n",
       "}}\n",
       "\n",
       "// Listen for the clearing of the current output cell\n",
       "var outputEl = gd.closest('.output');\n",
       "if (outputEl) {{\n",
       "    x.observe(outputEl, {childList: true});\n",
       "}}\n",
       "\n",
       "                        })\n",
       "                };\n",
       "                });\n",
       "            </script>\n",
       "        </div>"
      ]
     },
     "metadata": {},
     "output_type": "display_data"
    }
   ],
   "source": [
    "precision,recall,thresholds=precision_recall_curve(y_test,y_pred)\n",
    "\n",
    "fig = px.line(x=recall,y=precision)\n",
    "fig.update_xaxes(title_text='Recall')\n",
    "fig.update_yaxes(title_text='Precision ')\n",
    "fig.show()\n",
    "\n"
   ]
  },
  {
   "cell_type": "code",
   "execution_count": 59,
   "metadata": {},
   "outputs": [
    {
     "data": {
      "text/html": [
       "<div>\n",
       "<style scoped>\n",
       "    .dataframe tbody tr th:only-of-type {\n",
       "        vertical-align: middle;\n",
       "    }\n",
       "\n",
       "    .dataframe tbody tr th {\n",
       "        vertical-align: top;\n",
       "    }\n",
       "\n",
       "    .dataframe thead th {\n",
       "        text-align: right;\n",
       "    }\n",
       "</style>\n",
       "<table border=\"1\" class=\"dataframe\">\n",
       "  <thead>\n",
       "    <tr style=\"text-align: right;\">\n",
       "      <th></th>\n",
       "      <th>0</th>\n",
       "      <th>1</th>\n",
       "    </tr>\n",
       "  </thead>\n",
       "  <tbody>\n",
       "    <tr>\n",
       "      <th>0</th>\n",
       "      <td>199</td>\n",
       "      <td>1</td>\n",
       "    </tr>\n",
       "    <tr>\n",
       "      <th>1</th>\n",
       "      <td>29</td>\n",
       "      <td>21</td>\n",
       "    </tr>\n",
       "  </tbody>\n",
       "</table>\n",
       "</div>"
      ],
      "text/plain": [
       "     0   1\n",
       "0  199   1\n",
       "1   29  21"
      ]
     },
     "execution_count": 59,
     "metadata": {},
     "output_type": "execute_result"
    }
   ],
   "source": [
    "#Visualize the confusion matrix\n",
    "matrix=p.DataFrame(confusion_matrix(y_test,svc.predict(x_test_normalized)))\n",
    "matrix"
   ]
  },
  {
   "cell_type": "code",
   "execution_count": 60,
   "metadata": {},
   "outputs": [
    {
     "data": {
      "text/plain": [
       "0.9545454545454546"
      ]
     },
     "execution_count": 60,
     "metadata": {},
     "output_type": "execute_result"
    }
   ],
   "source": [
    "precision_score(y_test,svc.predict(x_test_normalized))"
   ]
  },
  {
   "cell_type": "code",
   "execution_count": 62,
   "metadata": {},
   "outputs": [
    {
     "data": {
      "text/plain": [
       "0.88"
      ]
     },
     "execution_count": 62,
     "metadata": {},
     "output_type": "execute_result"
    }
   ],
   "source": [
    "(21+199)/(199+21+29+1)#ACCURACY"
   ]
  },
  {
   "cell_type": "code",
   "execution_count": null,
   "metadata": {},
   "outputs": [],
   "source": []
  },
  {
   "cell_type": "code",
   "execution_count": null,
   "metadata": {},
   "outputs": [],
   "source": []
  }
 ],
 "metadata": {
  "kernelspec": {
   "display_name": "Python 3",
   "language": "python",
   "name": "python3"
  },
  "language_info": {
   "codemirror_mode": {
    "name": "ipython",
    "version": 3
   },
   "file_extension": ".py",
   "mimetype": "text/x-python",
   "name": "python",
   "nbconvert_exporter": "python",
   "pygments_lexer": "ipython3",
   "version": "3.6.9"
  }
 },
 "nbformat": 4,
 "nbformat_minor": 4
}
